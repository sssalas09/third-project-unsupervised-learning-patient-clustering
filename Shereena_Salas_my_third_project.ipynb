{
 "cells": [
  {
   "cell_type": "markdown",
   "metadata": {},
   "source": [
    "# Project: Unsupervised learning"
   ]
  },
  {
   "cell_type": "markdown",
   "metadata": {},
   "source": [
    "## Programming project: patient clustering"
   ]
  },
  {
   "cell_type": "markdown",
   "metadata": {
    "id": "LKJSIpE7-8iw"
   },
   "source": [
    "In this project, you have to cluster patients that enter an ICU (Intensive Care Unit) by the features that are known on the very first day. At the end, we will check if these groups of patients have similar outcome results, in terms of length of stay or probability of death.\n",
    "\n",
    "The dataset comes from MIMIC project (https://mimic.physionet.org/). MIMIC-III (Medical Information Mart for Intensive Care III) is a large, freely-available database comprising deidentified health-related data associated with over forty thousand patients who stayed in critical care units of the Beth Israel Deaconess Medical Center between 2001 and 2012.\n",
    "\n",
    "Each row of mimic_unsupervised_features.csv correponds to one ICU stay (hadm_id+icustay_id) of one patient (subject_id). Most columns correspond to vitals of each patient (when entering the ICU), plus some general characteristics (age, gender, etc.), and their explanation can be found at mimic_patient_metadata.csv.\n",
    "\n",
    "Note that the main cause/disease of patient contidition is embedded as a code at ICD9_diagnosis column. The meaning of this code can be found at MIMIC_metadata_diagnose.csv. But this is only the main one; a patient can have co-occurrent diseases (comorbidities). These secondary codes can be found at extra_data/MIMIC_diagnoses.csv.\n",
    "\n",
    "Additionally, the file mimic_unsupervised_response.csv contains the outcome of the patients visit to the ICU, did they die and how many days were they in the ICU for. We will use this to evaluate the clusters we produce.\n",
    "\n",
    "Main tasks are:\n",
    "\n",
    "+ Using mimic_unsupervised_features.csv file to cluster patient stays .\n",
    "+ Using mimic_unsupervised_response.csv, check if resulting clusters are related to outcomes of patients, such as length of stay, mortality or assigned ICU."
   ]
  },
  {
   "cell_type": "markdown",
   "metadata": {
    "id": "xx5tdxc1_GBm"
   },
   "source": [
    "You can follow these steps for your implementation:\n",
    "\n",
    "1. Explore and understand the dataset.\n",
    "\n",
    "2. For your first implmentation\n",
    "    \n",
    "    i). Remove all non numeric columns (e.g ID's, dates and categories)\n",
    "\n",
    "    ii). Standardise the data to have 0 column means and variance 1\n",
    "\n",
    "    iii). Cluster the data using either K-means or spectral clustering. Show how you decided how many clusters to use\n",
    "\n",
    "3. Then use the single valued decomposition (SVD) to reduce the dimensionality of the numerical feature space. Show how you decided how many dimensions to use. See how this affects your clustering\n",
    "\n",
    "4. Manage the date variables e.g. try to create an Age variable, and manage categorial features e.g. create dummy variables for relevant categorical features. See how this affects your clustering\n",
    "\n",
    "5. Consider how to incorporate the comorbidity information.\n",
    "\n",
    "6. Explore relationship between clusters and outcomes of patients\n",
    "\n",
    "Feel free to reduce the dataset if you experience computational constraints. As a bonus, explore if adding as an input feature the cluster label would improve a prediction model of mortality (e.g. try with LogisticRegression, or any non-linear model of your choice).\n",
    "\n",
    "\n",
    "## Main criteria for grading – In Class\n",
    "With weights for In-Class:\n",
    "+ Code runs - 20%\n",
    "+ Data preparation - 20%\n",
    "+ Clustering algorithm used - 25%\n",
    "+ Reasonable selection of number of clusters demonstrated - 25% \n",
    "+ SVD used - 5%\n",
    "+ Reasonable selection of number of dimensions - 5%\n",
    "+ Good exploration of relation between clusters and patient outcomes - 0%\n",
    "+ Neat and understandable code, with some titles and comments - 0%\n",
    "+ Improved methods from what we discussed in class (properly explained/justified) - 0%"
   ]
  },
  {
   "cell_type": "markdown",
   "metadata": {},
   "source": [
    "# General Set-up and Data Preparation"
   ]
  },
  {
   "cell_type": "code",
   "execution_count": 1,
   "metadata": {
    "id": "NPOrmfEluNVb"
   },
   "outputs": [],
   "source": [
    "#we import all at the beginning so it's easier to see which packages are used by this notebook\n",
    "\n",
    "#importing relevant packages\n",
    "import pandas as pd\n",
    "%matplotlib inline\n",
    "# This is a Python module that contains plotting commands\n",
    "import matplotlib.pyplot as plt\n",
    "# the following provides further tools for plotting with dfs\n",
    "import seaborn as sns \n",
    "from scipy.stats import skew \n",
    "from sklearn.metrics import confusion_matrix\n",
    "import numpy as np\n",
    "\n",
    "#import auxiliar functions\n",
    "import os,sys,inspect\n",
    "currentdir = os.path.dirname(os.path.abspath(inspect.getfile(inspect.currentframe())))\n",
    "parentdir = os.path.dirname(os.path.dirname(currentdir))\n",
    "sys.path.insert(1, parentdir)\n",
    "from utils.helper_functions import plot_confusion_matrix, get_auc\n",
    "\n",
    "#import packages related to model fitting\n",
    "from sklearn.linear_model import LinearRegression, LogisticRegression\n",
    "\n",
    "#import package to save models\n",
    "import joblib\n",
    "\n",
    "#import packages related to evaluating our models' accuracy/performance\n",
    "from sklearn.model_selection import cross_val_predict as cvp\n",
    "from sklearn.metrics import accuracy_score\n",
    "from sklearn.metrics import classification_report\n",
    "from sklearn.model_selection import cross_val_score as cvs\n",
    "\n",
    "#importing packages that we will use in our randomized grid search\n",
    "from scipy.stats import loguniform\n",
    "from sklearn.model_selection import RepeatedStratifiedKFold\n",
    "from sklearn.model_selection import RandomizedSearchCV\n",
    "\n",
    "#import packages relevant to preprocessing\n",
    "from sklearn import preprocessing\n",
    "\n",
    "#import packages relevant to feature transformations\n",
    "from sklearn.preprocessing import PolynomialFeatures as plf\n",
    "\n",
    "#import packages relevant to plotting\n",
    "from project2_functions.my_plot import my_count_plot, my_dist_plot, my_coef_plot, my_plot_size_default, my_coef_plot_multi\n",
    "\n",
    "#importing packages related to reweighting of probabilities\n",
    "from project2_functions.my_reweight import reweight\n",
    "\n",
    "#hyperparameter optimization\n",
    "from sklearn.model_selection import GridSearchCV, RandomizedSearchCV"
   ]
  },
  {
   "cell_type": "code",
   "execution_count": 2,
   "metadata": {
    "colab": {
     "base_uri": "https://localhost:8080/",
     "height": 458
    },
    "id": "voNSSkMDzVor",
    "outputId": "7dbdbad2-d702-4d46-8135-64563639a74c"
   },
   "outputs": [],
   "source": [
    "# reading the main data\n",
    "df = pd.read_csv(\"C:/Users/sssalas/OneDrive - Philippine Competition Commission/Desktop/project3/data/mimic_unsupervised/mimic_unsupervised_features\")\n",
    "\n",
    "# reading the response datasaet\n",
    "response = pd.read_csv(\"C:/Users/sssalas/OneDrive - Philippine Competition Commission/Desktop/project3/data/mimic_unsupervised//mimic_unsupervised_response\")\n",
    "\n",
    "#reading the comorbidity dataset\n",
    "comorbidity = pd.read_csv(\"C:/Users/sssalas/OneDrive - Philippine Competition Commission/Desktop/project3/data/mimic_unsupervised/extra_data/MIMIC_diagnoses.csv\")"
   ]
  },
  {
   "cell_type": "code",
   "execution_count": 3,
   "metadata": {},
   "outputs": [],
   "source": [
    "# storing originals\n",
    "\n",
    "df_orig = df.copy()\n",
    "response_orig = response.copy()\n",
    "comorbidity_orig = comorbidity.copy()"
   ]
  },
  {
   "cell_type": "code",
   "execution_count": 4,
   "metadata": {
    "id": "WCnRa2cWgzli"
   },
   "outputs": [
    {
     "data": {
      "text/html": [
       "<div>\n",
       "<style scoped>\n",
       "    .dataframe tbody tr th:only-of-type {\n",
       "        vertical-align: middle;\n",
       "    }\n",
       "\n",
       "    .dataframe tbody tr th {\n",
       "        vertical-align: top;\n",
       "    }\n",
       "\n",
       "    .dataframe thead th {\n",
       "        text-align: right;\n",
       "    }\n",
       "</style>\n",
       "<table border=\"1\" class=\"dataframe\">\n",
       "  <thead>\n",
       "    <tr style=\"text-align: right;\">\n",
       "      <th></th>\n",
       "      <th>Unnamed: 0</th>\n",
       "      <th>subject_id</th>\n",
       "      <th>hadm_id</th>\n",
       "      <th>icustay_id</th>\n",
       "      <th>HeartRate_Min</th>\n",
       "      <th>HeartRate_Max</th>\n",
       "      <th>HeartRate_Mean</th>\n",
       "      <th>SysBP_Min</th>\n",
       "      <th>SysBP_Max</th>\n",
       "      <th>SysBP_Mean</th>\n",
       "      <th>...</th>\n",
       "      <th>ADMITTIME</th>\n",
       "      <th>Diff</th>\n",
       "      <th>ADMISSION_TYPE</th>\n",
       "      <th>INSURANCE</th>\n",
       "      <th>RELIGION</th>\n",
       "      <th>MARITAL_STATUS</th>\n",
       "      <th>ETHNICITY</th>\n",
       "      <th>DIAGNOSIS</th>\n",
       "      <th>ICD9_diagnosis</th>\n",
       "      <th>FIRST_CAREUNIT</th>\n",
       "    </tr>\n",
       "  </thead>\n",
       "  <tbody>\n",
       "    <tr>\n",
       "      <th>0</th>\n",
       "      <td>0</td>\n",
       "      <td>55440</td>\n",
       "      <td>195768</td>\n",
       "      <td>228357</td>\n",
       "      <td>89.0</td>\n",
       "      <td>145.0</td>\n",
       "      <td>121.043478</td>\n",
       "      <td>74.0</td>\n",
       "      <td>127.0</td>\n",
       "      <td>106.586957</td>\n",
       "      <td>...</td>\n",
       "      <td>2178-02-06 10:35:00</td>\n",
       "      <td>-61961.78470</td>\n",
       "      <td>EMERGENCY</td>\n",
       "      <td>Medicare</td>\n",
       "      <td>PROTESTANT QUAKER</td>\n",
       "      <td>SINGLE</td>\n",
       "      <td>WHITE</td>\n",
       "      <td>GASTROINTESTINAL BLEED</td>\n",
       "      <td>5789</td>\n",
       "      <td>MICU</td>\n",
       "    </tr>\n",
       "    <tr>\n",
       "      <th>1</th>\n",
       "      <td>1</td>\n",
       "      <td>76908</td>\n",
       "      <td>126136</td>\n",
       "      <td>221004</td>\n",
       "      <td>63.0</td>\n",
       "      <td>110.0</td>\n",
       "      <td>79.117647</td>\n",
       "      <td>89.0</td>\n",
       "      <td>121.0</td>\n",
       "      <td>106.733333</td>\n",
       "      <td>...</td>\n",
       "      <td>2129-02-12 22:34:00</td>\n",
       "      <td>-43146.18378</td>\n",
       "      <td>EMERGENCY</td>\n",
       "      <td>Private</td>\n",
       "      <td>UNOBTAINABLE</td>\n",
       "      <td>MARRIED</td>\n",
       "      <td>WHITE</td>\n",
       "      <td>ESOPHAGEAL FOOD IMPACTION</td>\n",
       "      <td>53013</td>\n",
       "      <td>MICU</td>\n",
       "    </tr>\n",
       "    <tr>\n",
       "      <th>2</th>\n",
       "      <td>2</td>\n",
       "      <td>95798</td>\n",
       "      <td>136645</td>\n",
       "      <td>296315</td>\n",
       "      <td>81.0</td>\n",
       "      <td>98.0</td>\n",
       "      <td>91.689655</td>\n",
       "      <td>88.0</td>\n",
       "      <td>138.0</td>\n",
       "      <td>112.785714</td>\n",
       "      <td>...</td>\n",
       "      <td>2125-11-17 23:04:00</td>\n",
       "      <td>-42009.96157</td>\n",
       "      <td>EMERGENCY</td>\n",
       "      <td>Medicare</td>\n",
       "      <td>PROTESTANT QUAKER</td>\n",
       "      <td>SEPARATED</td>\n",
       "      <td>BLACK/AFRICAN AMERICAN</td>\n",
       "      <td>UPPER GI BLEED</td>\n",
       "      <td>56983</td>\n",
       "      <td>MICU</td>\n",
       "    </tr>\n",
       "    <tr>\n",
       "      <th>3</th>\n",
       "      <td>3</td>\n",
       "      <td>40708</td>\n",
       "      <td>102505</td>\n",
       "      <td>245557</td>\n",
       "      <td>76.0</td>\n",
       "      <td>128.0</td>\n",
       "      <td>98.857143</td>\n",
       "      <td>84.0</td>\n",
       "      <td>135.0</td>\n",
       "      <td>106.972973</td>\n",
       "      <td>...</td>\n",
       "      <td>2131-01-26 08:00:00</td>\n",
       "      <td>-43585.37922</td>\n",
       "      <td>ELECTIVE</td>\n",
       "      <td>Medicare</td>\n",
       "      <td>NOT SPECIFIED</td>\n",
       "      <td>WIDOWED</td>\n",
       "      <td>WHITE</td>\n",
       "      <td>HIATAL HERNIA/SDA</td>\n",
       "      <td>5533</td>\n",
       "      <td>SICU</td>\n",
       "    </tr>\n",
       "    <tr>\n",
       "      <th>4</th>\n",
       "      <td>5</td>\n",
       "      <td>63311</td>\n",
       "      <td>180102</td>\n",
       "      <td>287519</td>\n",
       "      <td>70.0</td>\n",
       "      <td>130.0</td>\n",
       "      <td>97.951220</td>\n",
       "      <td>107.0</td>\n",
       "      <td>155.0</td>\n",
       "      <td>128.414634</td>\n",
       "      <td>...</td>\n",
       "      <td>2151-08-06 19:11:00</td>\n",
       "      <td>-51044.77754</td>\n",
       "      <td>EMERGENCY</td>\n",
       "      <td>Private</td>\n",
       "      <td>CATHOLIC</td>\n",
       "      <td>SINGLE</td>\n",
       "      <td>WHITE</td>\n",
       "      <td>LARGE GASTOINTESTINAL BLEED</td>\n",
       "      <td>5550</td>\n",
       "      <td>MICU</td>\n",
       "    </tr>\n",
       "  </tbody>\n",
       "</table>\n",
       "<p>5 rows × 40 columns</p>\n",
       "</div>"
      ],
      "text/plain": [
       "   Unnamed: 0  subject_id  hadm_id  icustay_id  HeartRate_Min  HeartRate_Max  \\\n",
       "0           0       55440   195768      228357           89.0          145.0   \n",
       "1           1       76908   126136      221004           63.0          110.0   \n",
       "2           2       95798   136645      296315           81.0           98.0   \n",
       "3           3       40708   102505      245557           76.0          128.0   \n",
       "4           5       63311   180102      287519           70.0          130.0   \n",
       "\n",
       "   HeartRate_Mean  SysBP_Min  SysBP_Max  SysBP_Mean  ...            ADMITTIME  \\\n",
       "0      121.043478       74.0      127.0  106.586957  ...  2178-02-06 10:35:00   \n",
       "1       79.117647       89.0      121.0  106.733333  ...  2129-02-12 22:34:00   \n",
       "2       91.689655       88.0      138.0  112.785714  ...  2125-11-17 23:04:00   \n",
       "3       98.857143       84.0      135.0  106.972973  ...  2131-01-26 08:00:00   \n",
       "4       97.951220      107.0      155.0  128.414634  ...  2151-08-06 19:11:00   \n",
       "\n",
       "          Diff  ADMISSION_TYPE  INSURANCE           RELIGION  MARITAL_STATUS  \\\n",
       "0 -61961.78470       EMERGENCY   Medicare  PROTESTANT QUAKER          SINGLE   \n",
       "1 -43146.18378       EMERGENCY    Private       UNOBTAINABLE         MARRIED   \n",
       "2 -42009.96157       EMERGENCY   Medicare  PROTESTANT QUAKER       SEPARATED   \n",
       "3 -43585.37922        ELECTIVE   Medicare      NOT SPECIFIED         WIDOWED   \n",
       "4 -51044.77754       EMERGENCY    Private           CATHOLIC          SINGLE   \n",
       "\n",
       "                ETHNICITY                    DIAGNOSIS  ICD9_diagnosis  \\\n",
       "0                   WHITE       GASTROINTESTINAL BLEED            5789   \n",
       "1                   WHITE    ESOPHAGEAL FOOD IMPACTION           53013   \n",
       "2  BLACK/AFRICAN AMERICAN               UPPER GI BLEED           56983   \n",
       "3                   WHITE            HIATAL HERNIA/SDA            5533   \n",
       "4                   WHITE  LARGE GASTOINTESTINAL BLEED            5550   \n",
       "\n",
       "   FIRST_CAREUNIT  \n",
       "0            MICU  \n",
       "1            MICU  \n",
       "2            MICU  \n",
       "3            SICU  \n",
       "4            MICU  \n",
       "\n",
       "[5 rows x 40 columns]"
      ]
     },
     "execution_count": 4,
     "metadata": {},
     "output_type": "execute_result"
    }
   ],
   "source": [
    "df.head()"
   ]
  },
  {
   "cell_type": "code",
   "execution_count": 5,
   "metadata": {},
   "outputs": [
    {
     "data": {
      "text/plain": [
       "Unnamed: 0          int64\n",
       "subject_id          int64\n",
       "hadm_id             int64\n",
       "icustay_id          int64\n",
       "HeartRate_Min     float64\n",
       "HeartRate_Max     float64\n",
       "HeartRate_Mean    float64\n",
       "SysBP_Min         float64\n",
       "SysBP_Max         float64\n",
       "SysBP_Mean        float64\n",
       "DiasBP_Min        float64\n",
       "DiasBP_Max        float64\n",
       "DiasBP_Mean       float64\n",
       "MeanBP_Min        float64\n",
       "MeanBP_Max        float64\n",
       "MeanBP_Mean       float64\n",
       "RespRate_Min      float64\n",
       "RespRate_Max      float64\n",
       "RespRate_Mean     float64\n",
       "TempC_Min         float64\n",
       "TempC_Max         float64\n",
       "TempC_Mean        float64\n",
       "SpO2_Min          float64\n",
       "SpO2_Max          float64\n",
       "SpO2_Mean         float64\n",
       "Glucose_Min       float64\n",
       "Glucose_Max       float64\n",
       "Glucose_Mean      float64\n",
       "GENDER             object\n",
       "DOB                object\n",
       "ADMITTIME          object\n",
       "Diff              float64\n",
       "ADMISSION_TYPE     object\n",
       "INSURANCE          object\n",
       "RELIGION           object\n",
       "MARITAL_STATUS     object\n",
       "ETHNICITY          object\n",
       "DIAGNOSIS          object\n",
       "ICD9_diagnosis     object\n",
       "FIRST_CAREUNIT     object\n",
       "dtype: object"
      ]
     },
     "execution_count": 5,
     "metadata": {},
     "output_type": "execute_result"
    }
   ],
   "source": [
    "#checking data types\n",
    "df.dtypes\n",
    "\n",
    "#we observe that some are strings hence we will need to convert them to categories"
   ]
  },
  {
   "cell_type": "code",
   "execution_count": 6,
   "metadata": {
    "id": "GQOTq_F-JlNh"
   },
   "outputs": [
    {
     "data": {
      "text/html": [
       "<div>\n",
       "<style scoped>\n",
       "    .dataframe tbody tr th:only-of-type {\n",
       "        vertical-align: middle;\n",
       "    }\n",
       "\n",
       "    .dataframe tbody tr th {\n",
       "        vertical-align: top;\n",
       "    }\n",
       "\n",
       "    .dataframe thead th {\n",
       "        text-align: right;\n",
       "    }\n",
       "</style>\n",
       "<table border=\"1\" class=\"dataframe\">\n",
       "  <thead>\n",
       "    <tr style=\"text-align: right;\">\n",
       "      <th></th>\n",
       "      <th>Unnamed: 0</th>\n",
       "      <th>subject_id</th>\n",
       "      <th>hadm_id</th>\n",
       "      <th>icustay_id</th>\n",
       "      <th>HOSPITAL_EXPIRE_FLAG</th>\n",
       "      <th>LOS</th>\n",
       "    </tr>\n",
       "  </thead>\n",
       "  <tbody>\n",
       "    <tr>\n",
       "      <th>0</th>\n",
       "      <td>0</td>\n",
       "      <td>55440</td>\n",
       "      <td>195768</td>\n",
       "      <td>228357</td>\n",
       "      <td>0</td>\n",
       "      <td>4.5761</td>\n",
       "    </tr>\n",
       "    <tr>\n",
       "      <th>1</th>\n",
       "      <td>1</td>\n",
       "      <td>76908</td>\n",
       "      <td>126136</td>\n",
       "      <td>221004</td>\n",
       "      <td>0</td>\n",
       "      <td>0.7582</td>\n",
       "    </tr>\n",
       "    <tr>\n",
       "      <th>2</th>\n",
       "      <td>2</td>\n",
       "      <td>95798</td>\n",
       "      <td>136645</td>\n",
       "      <td>296315</td>\n",
       "      <td>0</td>\n",
       "      <td>3.7626</td>\n",
       "    </tr>\n",
       "    <tr>\n",
       "      <th>3</th>\n",
       "      <td>3</td>\n",
       "      <td>40708</td>\n",
       "      <td>102505</td>\n",
       "      <td>245557</td>\n",
       "      <td>0</td>\n",
       "      <td>3.8734</td>\n",
       "    </tr>\n",
       "    <tr>\n",
       "      <th>4</th>\n",
       "      <td>5</td>\n",
       "      <td>63311</td>\n",
       "      <td>180102</td>\n",
       "      <td>287519</td>\n",
       "      <td>0</td>\n",
       "      <td>1.8490</td>\n",
       "    </tr>\n",
       "  </tbody>\n",
       "</table>\n",
       "</div>"
      ],
      "text/plain": [
       "   Unnamed: 0  subject_id  hadm_id  icustay_id  HOSPITAL_EXPIRE_FLAG     LOS\n",
       "0           0       55440   195768      228357                     0  4.5761\n",
       "1           1       76908   126136      221004                     0  0.7582\n",
       "2           2       95798   136645      296315                     0  3.7626\n",
       "3           3       40708   102505      245557                     0  3.8734\n",
       "4           5       63311   180102      287519                     0  1.8490"
      ]
     },
     "execution_count": 6,
     "metadata": {},
     "output_type": "execute_result"
    }
   ],
   "source": [
    "#checking response df\n",
    "response.head()"
   ]
  },
  {
   "cell_type": "code",
   "execution_count": 7,
   "metadata": {
    "scrolled": true
   },
   "outputs": [
    {
     "data": {
      "text/plain": [
       "Unnamed: 0                int64\n",
       "subject_id                int64\n",
       "hadm_id                   int64\n",
       "icustay_id                int64\n",
       "HOSPITAL_EXPIRE_FLAG      int64\n",
       "LOS                     float64\n",
       "dtype: object"
      ]
     },
     "execution_count": 7,
     "metadata": {},
     "output_type": "execute_result"
    }
   ],
   "source": [
    "#checking response df dtypes\n",
    "response.dtypes"
   ]
  },
  {
   "cell_type": "code",
   "execution_count": 8,
   "metadata": {},
   "outputs": [
    {
     "data": {
      "text/html": [
       "<div>\n",
       "<style scoped>\n",
       "    .dataframe tbody tr th:only-of-type {\n",
       "        vertical-align: middle;\n",
       "    }\n",
       "\n",
       "    .dataframe tbody tr th {\n",
       "        vertical-align: top;\n",
       "    }\n",
       "\n",
       "    .dataframe thead th {\n",
       "        text-align: right;\n",
       "    }\n",
       "</style>\n",
       "<table border=\"1\" class=\"dataframe\">\n",
       "  <thead>\n",
       "    <tr style=\"text-align: right;\">\n",
       "      <th></th>\n",
       "      <th>SUBJECT_ID</th>\n",
       "      <th>HADM_ID</th>\n",
       "      <th>SEQ_NUM</th>\n",
       "      <th>ICD9_CODE</th>\n",
       "    </tr>\n",
       "  </thead>\n",
       "  <tbody>\n",
       "    <tr>\n",
       "      <th>0</th>\n",
       "      <td>256</td>\n",
       "      <td>108811</td>\n",
       "      <td>1.0</td>\n",
       "      <td>53240</td>\n",
       "    </tr>\n",
       "    <tr>\n",
       "      <th>1</th>\n",
       "      <td>256</td>\n",
       "      <td>108811</td>\n",
       "      <td>2.0</td>\n",
       "      <td>41071</td>\n",
       "    </tr>\n",
       "    <tr>\n",
       "      <th>2</th>\n",
       "      <td>256</td>\n",
       "      <td>108811</td>\n",
       "      <td>3.0</td>\n",
       "      <td>53560</td>\n",
       "    </tr>\n",
       "    <tr>\n",
       "      <th>3</th>\n",
       "      <td>256</td>\n",
       "      <td>108811</td>\n",
       "      <td>4.0</td>\n",
       "      <td>40390</td>\n",
       "    </tr>\n",
       "    <tr>\n",
       "      <th>4</th>\n",
       "      <td>256</td>\n",
       "      <td>108811</td>\n",
       "      <td>5.0</td>\n",
       "      <td>5859</td>\n",
       "    </tr>\n",
       "  </tbody>\n",
       "</table>\n",
       "</div>"
      ],
      "text/plain": [
       "   SUBJECT_ID  HADM_ID  SEQ_NUM ICD9_CODE\n",
       "0         256   108811      1.0     53240\n",
       "1         256   108811      2.0     41071\n",
       "2         256   108811      3.0     53560\n",
       "3         256   108811      4.0     40390\n",
       "4         256   108811      5.0      5859"
      ]
     },
     "execution_count": 8,
     "metadata": {},
     "output_type": "execute_result"
    }
   ],
   "source": [
    "#checking comoribidity df\n",
    "comorbidity.head()\n",
    "\n",
    "#we observe that comorbidities of one patient are encoded in different columns\n",
    "# hence we will need to make this fit to our main df later"
   ]
  },
  {
   "cell_type": "code",
   "execution_count": 9,
   "metadata": {},
   "outputs": [
    {
     "data": {
      "text/plain": [
       "SUBJECT_ID      int64\n",
       "HADM_ID         int64\n",
       "SEQ_NUM       float64\n",
       "ICD9_CODE      object\n",
       "dtype: object"
      ]
     },
     "execution_count": 9,
     "metadata": {},
     "output_type": "execute_result"
    }
   ],
   "source": [
    "#checking response df dtypes\n",
    "comorbidity.dtypes"
   ]
  },
  {
   "cell_type": "markdown",
   "metadata": {},
   "source": [
    "## Data Wrangling on Comorbidity Dataset"
   ]
  },
  {
   "cell_type": "code",
   "execution_count": 10,
   "metadata": {},
   "outputs": [
    {
     "data": {
      "text/plain": [
       "(651047, 4)"
      ]
     },
     "execution_count": 10,
     "metadata": {},
     "output_type": "execute_result"
    }
   ],
   "source": [
    "comorbidity.shape\n",
    "#we see that one the data is entered in a different format \n",
    "#multiple rows corresponding to one patient"
   ]
  },
  {
   "cell_type": "code",
   "execution_count": 11,
   "metadata": {},
   "outputs": [],
   "source": [
    "#grouping multiple rows of comorbidities by subject id\n",
    "df_comorbidity =comorbidity.groupby('SUBJECT_ID').agg(lambda x: x.tolist())"
   ]
  },
  {
   "cell_type": "code",
   "execution_count": 12,
   "metadata": {},
   "outputs": [
    {
     "data": {
      "text/html": [
       "<div>\n",
       "<style scoped>\n",
       "    .dataframe tbody tr th:only-of-type {\n",
       "        vertical-align: middle;\n",
       "    }\n",
       "\n",
       "    .dataframe tbody tr th {\n",
       "        vertical-align: top;\n",
       "    }\n",
       "\n",
       "    .dataframe thead th {\n",
       "        text-align: right;\n",
       "    }\n",
       "</style>\n",
       "<table border=\"1\" class=\"dataframe\">\n",
       "  <thead>\n",
       "    <tr style=\"text-align: right;\">\n",
       "      <th></th>\n",
       "      <th>HADM_ID</th>\n",
       "      <th>SEQ_NUM</th>\n",
       "      <th>ICD9_CODE</th>\n",
       "    </tr>\n",
       "    <tr>\n",
       "      <th>SUBJECT_ID</th>\n",
       "      <th></th>\n",
       "      <th></th>\n",
       "      <th></th>\n",
       "    </tr>\n",
       "  </thead>\n",
       "  <tbody>\n",
       "    <tr>\n",
       "      <th>2</th>\n",
       "      <td>[163353, 163353, 163353]</td>\n",
       "      <td>[1.0, 2.0, 3.0]</td>\n",
       "      <td>[V3001, V053, V290]</td>\n",
       "    </tr>\n",
       "    <tr>\n",
       "      <th>3</th>\n",
       "      <td>[145834, 145834, 145834, 145834, 145834, 14583...</td>\n",
       "      <td>[1.0, 2.0, 3.0, 4.0, 5.0, 6.0, 7.0, 8.0, 9.0]</td>\n",
       "      <td>[0389, 78559, 5849, 4275, 41071, 4280, 6826, 4...</td>\n",
       "    </tr>\n",
       "    <tr>\n",
       "      <th>4</th>\n",
       "      <td>[185777, 185777, 185777, 185777, 185777, 18577...</td>\n",
       "      <td>[1.0, 2.0, 3.0, 4.0, 5.0, 6.0, 7.0, 8.0, 9.0]</td>\n",
       "      <td>[042, 1363, 7994, 2763, 7907, 5715, 04111, V09...</td>\n",
       "    </tr>\n",
       "    <tr>\n",
       "      <th>5</th>\n",
       "      <td>[178980, 178980, 178980]</td>\n",
       "      <td>[1.0, 2.0, 3.0]</td>\n",
       "      <td>[V3000, V053, V290]</td>\n",
       "    </tr>\n",
       "    <tr>\n",
       "      <th>6</th>\n",
       "      <td>[107064, 107064, 107064, 107064, 107064, 10706...</td>\n",
       "      <td>[1.0, 2.0, 3.0, 4.0, 5.0, 6.0, 7.0, 8.0]</td>\n",
       "      <td>[40391, 4440, 9972, 2766, 2767, 2859, 2753, V1...</td>\n",
       "    </tr>\n",
       "  </tbody>\n",
       "</table>\n",
       "</div>"
      ],
      "text/plain": [
       "                                                      HADM_ID  \\\n",
       "SUBJECT_ID                                                      \n",
       "2                                    [163353, 163353, 163353]   \n",
       "3           [145834, 145834, 145834, 145834, 145834, 14583...   \n",
       "4           [185777, 185777, 185777, 185777, 185777, 18577...   \n",
       "5                                    [178980, 178980, 178980]   \n",
       "6           [107064, 107064, 107064, 107064, 107064, 10706...   \n",
       "\n",
       "                                                  SEQ_NUM  \\\n",
       "SUBJECT_ID                                                  \n",
       "2                                         [1.0, 2.0, 3.0]   \n",
       "3           [1.0, 2.0, 3.0, 4.0, 5.0, 6.0, 7.0, 8.0, 9.0]   \n",
       "4           [1.0, 2.0, 3.0, 4.0, 5.0, 6.0, 7.0, 8.0, 9.0]   \n",
       "5                                         [1.0, 2.0, 3.0]   \n",
       "6                [1.0, 2.0, 3.0, 4.0, 5.0, 6.0, 7.0, 8.0]   \n",
       "\n",
       "                                                    ICD9_CODE  \n",
       "SUBJECT_ID                                                     \n",
       "2                                         [V3001, V053, V290]  \n",
       "3           [0389, 78559, 5849, 4275, 41071, 4280, 6826, 4...  \n",
       "4           [042, 1363, 7994, 2763, 7907, 5715, 04111, V09...  \n",
       "5                                         [V3000, V053, V290]  \n",
       "6           [40391, 4440, 9972, 2766, 2767, 2859, 2753, V1...  "
      ]
     },
     "execution_count": 12,
     "metadata": {},
     "output_type": "execute_result"
    }
   ],
   "source": [
    "df_comorbidity.head()"
   ]
  },
  {
   "cell_type": "code",
   "execution_count": 13,
   "metadata": {},
   "outputs": [],
   "source": [
    "df_comorbidity['SUBJECT_ID'] = df_comorbidity.index"
   ]
  },
  {
   "cell_type": "code",
   "execution_count": 14,
   "metadata": {},
   "outputs": [
    {
     "data": {
      "text/plain": [
       "(46520, 4)"
      ]
     },
     "execution_count": 14,
     "metadata": {},
     "output_type": "execute_result"
    }
   ],
   "source": [
    "df_comorbidity.shape"
   ]
  },
  {
   "cell_type": "code",
   "execution_count": 15,
   "metadata": {
    "scrolled": false
   },
   "outputs": [
    {
     "name": "stdout",
     "output_type": "stream",
     "text": [
      "0        55440\n",
      "1        76908\n",
      "2        95798\n",
      "3        40708\n",
      "4        63311\n",
      "         ...  \n",
      "17471    28043\n",
      "17472    87605\n",
      "17473    47492\n",
      "17474    62946\n",
      "17475    82638\n",
      "Name: subject_id, Length: 17476, dtype: int64\n"
     ]
    }
   ],
   "source": [
    "# we need to retain only subject IDs /observations that is in our main df\n",
    "\n",
    "#storing the subject_ids of those in the main df\n",
    "subjects = df[\"subject_id\"]\n",
    "print(subjects)\n",
    "\n",
    "df_comorbidity = df_comorbidity[df_comorbidity['SUBJECT_ID'].isin(subjects)]\n",
    "\n",
    "# only 17,476 our of 46,520 in the comorbidity dataset are in our main df"
   ]
  },
  {
   "cell_type": "code",
   "execution_count": 16,
   "metadata": {},
   "outputs": [],
   "source": [
    "#we drop he columns we won't need so it's easier to see the extra data (comorbidity)\n",
    "df_comorbidity = df_comorbidity.drop([\"HADM_ID\", \"SEQ_NUM\"], axis=1)"
   ]
  },
  {
   "cell_type": "code",
   "execution_count": 17,
   "metadata": {},
   "outputs": [],
   "source": [
    "#creating a new column that contains the subject_id\n",
    "df_comorbidity.rename(columns={'SUBJECT_ID':'subject_id_1'}, inplace=True)"
   ]
  },
  {
   "cell_type": "code",
   "execution_count": 18,
   "metadata": {},
   "outputs": [
    {
     "data": {
      "text/html": [
       "<div>\n",
       "<style scoped>\n",
       "    .dataframe tbody tr th:only-of-type {\n",
       "        vertical-align: middle;\n",
       "    }\n",
       "\n",
       "    .dataframe tbody tr th {\n",
       "        vertical-align: top;\n",
       "    }\n",
       "\n",
       "    .dataframe thead th {\n",
       "        text-align: right;\n",
       "    }\n",
       "</style>\n",
       "<table border=\"1\" class=\"dataframe\">\n",
       "  <thead>\n",
       "    <tr style=\"text-align: right;\">\n",
       "      <th></th>\n",
       "      <th>ICD9_CODE</th>\n",
       "      <th>subject_id_1</th>\n",
       "    </tr>\n",
       "    <tr>\n",
       "      <th>SUBJECT_ID</th>\n",
       "      <th></th>\n",
       "      <th></th>\n",
       "    </tr>\n",
       "  </thead>\n",
       "  <tbody>\n",
       "    <tr>\n",
       "      <th>23</th>\n",
       "      <td>[2252, 3485, 78039, 4241, 4019, 2720, 2724, V4...</td>\n",
       "      <td>23</td>\n",
       "    </tr>\n",
       "    <tr>\n",
       "      <th>34</th>\n",
       "      <td>[41071, 4280, 4254, 42731, 9971, 4260, 41401, ...</td>\n",
       "      <td>34</td>\n",
       "    </tr>\n",
       "    <tr>\n",
       "      <th>36</th>\n",
       "      <td>[99831, 99811, 41511, 4538, 99672, 496, 41401,...</td>\n",
       "      <td>36</td>\n",
       "    </tr>\n",
       "    <tr>\n",
       "      <th>85</th>\n",
       "      <td>[0389, 486, V4281, 23875, 42731, 41400, 3004, ...</td>\n",
       "      <td>85</td>\n",
       "    </tr>\n",
       "    <tr>\n",
       "      <th>109</th>\n",
       "      <td>[40301, 486, 58281, 5855, 4254, 2762, 7100, 27...</td>\n",
       "      <td>109</td>\n",
       "    </tr>\n",
       "  </tbody>\n",
       "</table>\n",
       "</div>"
      ],
      "text/plain": [
       "                                                    ICD9_CODE  subject_id_1\n",
       "SUBJECT_ID                                                                 \n",
       "23          [2252, 3485, 78039, 4241, 4019, 2720, 2724, V4...            23\n",
       "34          [41071, 4280, 4254, 42731, 9971, 4260, 41401, ...            34\n",
       "36          [99831, 99811, 41511, 4538, 99672, 496, 41401,...            36\n",
       "85          [0389, 486, V4281, 23875, 42731, 41400, 3004, ...            85\n",
       "109         [40301, 486, 58281, 5855, 4254, 2762, 7100, 27...           109"
      ]
     },
     "execution_count": 18,
     "metadata": {},
     "output_type": "execute_result"
    }
   ],
   "source": [
    "df_comorbidity.head()"
   ]
  },
  {
   "cell_type": "code",
   "execution_count": 19,
   "metadata": {},
   "outputs": [
    {
     "data": {
      "text/plain": [
       "(13680, 2)"
      ]
     },
     "execution_count": 19,
     "metadata": {},
     "output_type": "execute_result"
    }
   ],
   "source": [
    "#checking shape\n",
    "df_comorbidity.shape"
   ]
  },
  {
   "cell_type": "code",
   "execution_count": 20,
   "metadata": {},
   "outputs": [
    {
     "data": {
      "text/plain": [
       "ICD9_CODE       object\n",
       "subject_id_1     int64\n",
       "dtype: object"
      ]
     },
     "execution_count": 20,
     "metadata": {},
     "output_type": "execute_result"
    }
   ],
   "source": [
    "#checking data types\n",
    "df_comorbidity.dtypes"
   ]
  },
  {
   "cell_type": "markdown",
   "metadata": {},
   "source": [
    "Concatenating main df and comorbidity df based on subject ID's"
   ]
  },
  {
   "cell_type": "code",
   "execution_count": 21,
   "metadata": {},
   "outputs": [],
   "source": [
    "df = pd.merge(df, df_comorbidity, left_on='subject_id', right_on='subject_id_1', how='left').drop('subject_id_1', axis=1)"
   ]
  },
  {
   "cell_type": "code",
   "execution_count": 22,
   "metadata": {},
   "outputs": [
    {
     "data": {
      "text/html": [
       "<div>\n",
       "<style scoped>\n",
       "    .dataframe tbody tr th:only-of-type {\n",
       "        vertical-align: middle;\n",
       "    }\n",
       "\n",
       "    .dataframe tbody tr th {\n",
       "        vertical-align: top;\n",
       "    }\n",
       "\n",
       "    .dataframe thead th {\n",
       "        text-align: right;\n",
       "    }\n",
       "</style>\n",
       "<table border=\"1\" class=\"dataframe\">\n",
       "  <thead>\n",
       "    <tr style=\"text-align: right;\">\n",
       "      <th></th>\n",
       "      <th>Unnamed: 0</th>\n",
       "      <th>subject_id</th>\n",
       "      <th>hadm_id</th>\n",
       "      <th>icustay_id</th>\n",
       "      <th>HeartRate_Min</th>\n",
       "      <th>HeartRate_Max</th>\n",
       "      <th>HeartRate_Mean</th>\n",
       "      <th>SysBP_Min</th>\n",
       "      <th>SysBP_Max</th>\n",
       "      <th>SysBP_Mean</th>\n",
       "      <th>...</th>\n",
       "      <th>Diff</th>\n",
       "      <th>ADMISSION_TYPE</th>\n",
       "      <th>INSURANCE</th>\n",
       "      <th>RELIGION</th>\n",
       "      <th>MARITAL_STATUS</th>\n",
       "      <th>ETHNICITY</th>\n",
       "      <th>DIAGNOSIS</th>\n",
       "      <th>ICD9_diagnosis</th>\n",
       "      <th>FIRST_CAREUNIT</th>\n",
       "      <th>ICD9_CODE</th>\n",
       "    </tr>\n",
       "  </thead>\n",
       "  <tbody>\n",
       "    <tr>\n",
       "      <th>0</th>\n",
       "      <td>0</td>\n",
       "      <td>55440</td>\n",
       "      <td>195768</td>\n",
       "      <td>228357</td>\n",
       "      <td>89.0</td>\n",
       "      <td>145.0</td>\n",
       "      <td>121.043478</td>\n",
       "      <td>74.0</td>\n",
       "      <td>127.0</td>\n",
       "      <td>106.586957</td>\n",
       "      <td>...</td>\n",
       "      <td>-61961.78470</td>\n",
       "      <td>EMERGENCY</td>\n",
       "      <td>Medicare</td>\n",
       "      <td>PROTESTANT QUAKER</td>\n",
       "      <td>SINGLE</td>\n",
       "      <td>WHITE</td>\n",
       "      <td>GASTROINTESTINAL BLEED</td>\n",
       "      <td>5789</td>\n",
       "      <td>MICU</td>\n",
       "      <td>[5789, 51881, 41071, 42831, 42732, 2851, 53550...</td>\n",
       "    </tr>\n",
       "    <tr>\n",
       "      <th>1</th>\n",
       "      <td>1</td>\n",
       "      <td>76908</td>\n",
       "      <td>126136</td>\n",
       "      <td>221004</td>\n",
       "      <td>63.0</td>\n",
       "      <td>110.0</td>\n",
       "      <td>79.117647</td>\n",
       "      <td>89.0</td>\n",
       "      <td>121.0</td>\n",
       "      <td>106.733333</td>\n",
       "      <td>...</td>\n",
       "      <td>-43146.18378</td>\n",
       "      <td>EMERGENCY</td>\n",
       "      <td>Private</td>\n",
       "      <td>UNOBTAINABLE</td>\n",
       "      <td>MARRIED</td>\n",
       "      <td>WHITE</td>\n",
       "      <td>ESOPHAGEAL FOOD IMPACTION</td>\n",
       "      <td>53013</td>\n",
       "      <td>MICU</td>\n",
       "      <td>[53013, 9351, E915]</td>\n",
       "    </tr>\n",
       "    <tr>\n",
       "      <th>2</th>\n",
       "      <td>2</td>\n",
       "      <td>95798</td>\n",
       "      <td>136645</td>\n",
       "      <td>296315</td>\n",
       "      <td>81.0</td>\n",
       "      <td>98.0</td>\n",
       "      <td>91.689655</td>\n",
       "      <td>88.0</td>\n",
       "      <td>138.0</td>\n",
       "      <td>112.785714</td>\n",
       "      <td>...</td>\n",
       "      <td>-42009.96157</td>\n",
       "      <td>EMERGENCY</td>\n",
       "      <td>Medicare</td>\n",
       "      <td>PROTESTANT QUAKER</td>\n",
       "      <td>SEPARATED</td>\n",
       "      <td>BLACK/AFRICAN AMERICAN</td>\n",
       "      <td>UPPER GI BLEED</td>\n",
       "      <td>56983</td>\n",
       "      <td>MICU</td>\n",
       "      <td>[56983, 56729, 5845, 5789, 5121, 5119, 56889, ...</td>\n",
       "    </tr>\n",
       "    <tr>\n",
       "      <th>3</th>\n",
       "      <td>3</td>\n",
       "      <td>40708</td>\n",
       "      <td>102505</td>\n",
       "      <td>245557</td>\n",
       "      <td>76.0</td>\n",
       "      <td>128.0</td>\n",
       "      <td>98.857143</td>\n",
       "      <td>84.0</td>\n",
       "      <td>135.0</td>\n",
       "      <td>106.972973</td>\n",
       "      <td>...</td>\n",
       "      <td>-43585.37922</td>\n",
       "      <td>ELECTIVE</td>\n",
       "      <td>Medicare</td>\n",
       "      <td>NOT SPECIFIED</td>\n",
       "      <td>WIDOWED</td>\n",
       "      <td>WHITE</td>\n",
       "      <td>HIATAL HERNIA/SDA</td>\n",
       "      <td>5533</td>\n",
       "      <td>SICU</td>\n",
       "      <td>[5533, 48242, 5163, 4280, 53081, 73300, 2720, ...</td>\n",
       "    </tr>\n",
       "    <tr>\n",
       "      <th>4</th>\n",
       "      <td>5</td>\n",
       "      <td>63311</td>\n",
       "      <td>180102</td>\n",
       "      <td>287519</td>\n",
       "      <td>70.0</td>\n",
       "      <td>130.0</td>\n",
       "      <td>97.951220</td>\n",
       "      <td>107.0</td>\n",
       "      <td>155.0</td>\n",
       "      <td>128.414634</td>\n",
       "      <td>...</td>\n",
       "      <td>-51044.77754</td>\n",
       "      <td>EMERGENCY</td>\n",
       "      <td>Private</td>\n",
       "      <td>CATHOLIC</td>\n",
       "      <td>SINGLE</td>\n",
       "      <td>WHITE</td>\n",
       "      <td>LARGE GASTOINTESTINAL BLEED</td>\n",
       "      <td>5550</td>\n",
       "      <td>MICU</td>\n",
       "      <td>[5550, V442, 4019, 73309, E9320, E8490, 30000,...</td>\n",
       "    </tr>\n",
       "  </tbody>\n",
       "</table>\n",
       "<p>5 rows × 41 columns</p>\n",
       "</div>"
      ],
      "text/plain": [
       "   Unnamed: 0  subject_id  hadm_id  icustay_id  HeartRate_Min  HeartRate_Max  \\\n",
       "0           0       55440   195768      228357           89.0          145.0   \n",
       "1           1       76908   126136      221004           63.0          110.0   \n",
       "2           2       95798   136645      296315           81.0           98.0   \n",
       "3           3       40708   102505      245557           76.0          128.0   \n",
       "4           5       63311   180102      287519           70.0          130.0   \n",
       "\n",
       "   HeartRate_Mean  SysBP_Min  SysBP_Max  SysBP_Mean  ...         Diff  \\\n",
       "0      121.043478       74.0      127.0  106.586957  ... -61961.78470   \n",
       "1       79.117647       89.0      121.0  106.733333  ... -43146.18378   \n",
       "2       91.689655       88.0      138.0  112.785714  ... -42009.96157   \n",
       "3       98.857143       84.0      135.0  106.972973  ... -43585.37922   \n",
       "4       97.951220      107.0      155.0  128.414634  ... -51044.77754   \n",
       "\n",
       "   ADMISSION_TYPE  INSURANCE           RELIGION  MARITAL_STATUS  \\\n",
       "0       EMERGENCY   Medicare  PROTESTANT QUAKER          SINGLE   \n",
       "1       EMERGENCY    Private       UNOBTAINABLE         MARRIED   \n",
       "2       EMERGENCY   Medicare  PROTESTANT QUAKER       SEPARATED   \n",
       "3        ELECTIVE   Medicare      NOT SPECIFIED         WIDOWED   \n",
       "4       EMERGENCY    Private           CATHOLIC          SINGLE   \n",
       "\n",
       "                ETHNICITY                    DIAGNOSIS  ICD9_diagnosis  \\\n",
       "0                   WHITE       GASTROINTESTINAL BLEED            5789   \n",
       "1                   WHITE    ESOPHAGEAL FOOD IMPACTION           53013   \n",
       "2  BLACK/AFRICAN AMERICAN               UPPER GI BLEED           56983   \n",
       "3                   WHITE            HIATAL HERNIA/SDA            5533   \n",
       "4                   WHITE  LARGE GASTOINTESTINAL BLEED            5550   \n",
       "\n",
       "   FIRST_CAREUNIT                                          ICD9_CODE  \n",
       "0            MICU  [5789, 51881, 41071, 42831, 42732, 2851, 53550...  \n",
       "1            MICU                                [53013, 9351, E915]  \n",
       "2            MICU  [56983, 56729, 5845, 5789, 5121, 5119, 56889, ...  \n",
       "3            SICU  [5533, 48242, 5163, 4280, 53081, 73300, 2720, ...  \n",
       "4            MICU  [5550, V442, 4019, 73309, E9320, E8490, 30000,...  \n",
       "\n",
       "[5 rows x 41 columns]"
      ]
     },
     "execution_count": 22,
     "metadata": {},
     "output_type": "execute_result"
    }
   ],
   "source": [
    "df.head()"
   ]
  },
  {
   "cell_type": "code",
   "execution_count": 23,
   "metadata": {},
   "outputs": [
    {
     "data": {
      "text/plain": [
       "(17476, 41)"
      ]
     },
     "execution_count": 23,
     "metadata": {},
     "output_type": "execute_result"
    }
   ],
   "source": [
    "df.shape #one column has been added, the comorbidity column\n",
    "#but note we have to split the data in tha column"
   ]
  },
  {
   "cell_type": "code",
   "execution_count": 24,
   "metadata": {
    "scrolled": true
   },
   "outputs": [
    {
     "data": {
      "text/plain": [
       "Unnamed: 0        0\n",
       "subject_id        0\n",
       "hadm_id           0\n",
       "icustay_id        0\n",
       "HeartRate_Min     0\n",
       "HeartRate_Max     0\n",
       "HeartRate_Mean    0\n",
       "SysBP_Min         0\n",
       "SysBP_Max         0\n",
       "SysBP_Mean        0\n",
       "DiasBP_Min        0\n",
       "DiasBP_Max        0\n",
       "DiasBP_Mean       0\n",
       "MeanBP_Min        0\n",
       "MeanBP_Max        0\n",
       "MeanBP_Mean       0\n",
       "RespRate_Min      0\n",
       "RespRate_Max      0\n",
       "RespRate_Mean     0\n",
       "TempC_Min         0\n",
       "TempC_Max         0\n",
       "TempC_Mean        0\n",
       "SpO2_Min          0\n",
       "SpO2_Max          0\n",
       "SpO2_Mean         0\n",
       "Glucose_Min       0\n",
       "Glucose_Max       0\n",
       "Glucose_Mean      0\n",
       "GENDER            0\n",
       "DOB               0\n",
       "ADMITTIME         0\n",
       "Diff              0\n",
       "ADMISSION_TYPE    0\n",
       "INSURANCE         0\n",
       "RELIGION          0\n",
       "MARITAL_STATUS    0\n",
       "ETHNICITY         0\n",
       "DIAGNOSIS         0\n",
       "ICD9_diagnosis    0\n",
       "FIRST_CAREUNIT    0\n",
       "ICD9_CODE         0\n",
       "dtype: int64"
      ]
     },
     "execution_count": 24,
     "metadata": {},
     "output_type": "execute_result"
    }
   ],
   "source": [
    "#checking if there are null values\n",
    "df.isna().sum()\n",
    "\n",
    "#there are no null values"
   ]
  },
  {
   "cell_type": "markdown",
   "metadata": {},
   "source": [
    "Splitting the last column (comorbidities) to multiple columns"
   ]
  },
  {
   "cell_type": "code",
   "execution_count": 25,
   "metadata": {},
   "outputs": [],
   "source": [
    "#transforming the data type to string so we can split it to multiple columns\n",
    "df['ICD9_CODE'] = df['ICD9_CODE'].astype('str')"
   ]
  },
  {
   "cell_type": "code",
   "execution_count": 26,
   "metadata": {},
   "outputs": [
    {
     "data": {
      "text/plain": [
       "dtype('O')"
      ]
     },
     "execution_count": 26,
     "metadata": {},
     "output_type": "execute_result"
    }
   ],
   "source": [
    "df['ICD9_CODE'].dtypes"
   ]
  },
  {
   "cell_type": "code",
   "execution_count": 27,
   "metadata": {},
   "outputs": [],
   "source": [
    "#splitting the the comoribidity column to multiple columns\n",
    "# I will retain only the first 10 comorbidities, assuming that the most crucial comorbidity are encoded\n",
    "# first in the dataset\n",
    "new = df['ICD9_CODE'].str.split(\", \", n = 10, expand = True)\n",
    "#my_split = df_comorbidity['ICD9_CODE'].str.split(', ', -1, expand=True)"
   ]
  },
  {
   "cell_type": "code",
   "execution_count": 28,
   "metadata": {
    "scrolled": true
   },
   "outputs": [
    {
     "data": {
      "text/html": [
       "<div>\n",
       "<style scoped>\n",
       "    .dataframe tbody tr th:only-of-type {\n",
       "        vertical-align: middle;\n",
       "    }\n",
       "\n",
       "    .dataframe tbody tr th {\n",
       "        vertical-align: top;\n",
       "    }\n",
       "\n",
       "    .dataframe thead th {\n",
       "        text-align: right;\n",
       "    }\n",
       "</style>\n",
       "<table border=\"1\" class=\"dataframe\">\n",
       "  <thead>\n",
       "    <tr style=\"text-align: right;\">\n",
       "      <th></th>\n",
       "      <th>0</th>\n",
       "      <th>1</th>\n",
       "      <th>2</th>\n",
       "      <th>3</th>\n",
       "      <th>4</th>\n",
       "      <th>5</th>\n",
       "      <th>6</th>\n",
       "      <th>7</th>\n",
       "      <th>8</th>\n",
       "      <th>9</th>\n",
       "      <th>10</th>\n",
       "    </tr>\n",
       "  </thead>\n",
       "  <tbody>\n",
       "    <tr>\n",
       "      <th>0</th>\n",
       "      <td>['5789'</td>\n",
       "      <td>'51881'</td>\n",
       "      <td>'41071'</td>\n",
       "      <td>'42831'</td>\n",
       "      <td>'42732'</td>\n",
       "      <td>'2851'</td>\n",
       "      <td>'53550'</td>\n",
       "      <td>'79092'</td>\n",
       "      <td>'4280'</td>\n",
       "      <td>'42731'</td>\n",
       "      <td>'42789', '49320', '40390', '5852', '43811', '4...</td>\n",
       "    </tr>\n",
       "    <tr>\n",
       "      <th>1</th>\n",
       "      <td>['53013'</td>\n",
       "      <td>'9351'</td>\n",
       "      <td>'E915']</td>\n",
       "      <td>None</td>\n",
       "      <td>None</td>\n",
       "      <td>None</td>\n",
       "      <td>None</td>\n",
       "      <td>None</td>\n",
       "      <td>None</td>\n",
       "      <td>None</td>\n",
       "      <td>None</td>\n",
       "    </tr>\n",
       "    <tr>\n",
       "      <th>2</th>\n",
       "      <td>['56983'</td>\n",
       "      <td>'56729'</td>\n",
       "      <td>'5845'</td>\n",
       "      <td>'5789'</td>\n",
       "      <td>'5121'</td>\n",
       "      <td>'5119'</td>\n",
       "      <td>'56889'</td>\n",
       "      <td>'E8788'</td>\n",
       "      <td>'3310'</td>\n",
       "      <td>'29410'</td>\n",
       "      <td>'40390', '25002', '5859', '4465']</td>\n",
       "    </tr>\n",
       "    <tr>\n",
       "      <th>3</th>\n",
       "      <td>['5533'</td>\n",
       "      <td>'48242'</td>\n",
       "      <td>'5163'</td>\n",
       "      <td>'4280'</td>\n",
       "      <td>'53081'</td>\n",
       "      <td>'73300'</td>\n",
       "      <td>'2720'</td>\n",
       "      <td>'4019'</td>\n",
       "      <td>'2440'</td>\n",
       "      <td>'30000'</td>\n",
       "      <td>'311', 'V1082', 'V1351', 'V4364', 'V4365', '41...</td>\n",
       "    </tr>\n",
       "    <tr>\n",
       "      <th>4</th>\n",
       "      <td>['5550'</td>\n",
       "      <td>'V442'</td>\n",
       "      <td>'4019'</td>\n",
       "      <td>'73309'</td>\n",
       "      <td>'E9320'</td>\n",
       "      <td>'E8490'</td>\n",
       "      <td>'30000'</td>\n",
       "      <td>'V1251'</td>\n",
       "      <td>'42789'</td>\n",
       "      <td>'V160'</td>\n",
       "      <td>'V5865']</td>\n",
       "    </tr>\n",
       "    <tr>\n",
       "      <th>...</th>\n",
       "      <td>...</td>\n",
       "      <td>...</td>\n",
       "      <td>...</td>\n",
       "      <td>...</td>\n",
       "      <td>...</td>\n",
       "      <td>...</td>\n",
       "      <td>...</td>\n",
       "      <td>...</td>\n",
       "      <td>...</td>\n",
       "      <td>...</td>\n",
       "      <td>...</td>\n",
       "    </tr>\n",
       "    <tr>\n",
       "      <th>17471</th>\n",
       "      <td>['59971'</td>\n",
       "      <td>'3453'</td>\n",
       "      <td>'00845'</td>\n",
       "      <td>'2762'</td>\n",
       "      <td>'5650'</td>\n",
       "      <td>'5849'</td>\n",
       "      <td>'70703'</td>\n",
       "      <td>'70725'</td>\n",
       "      <td>'25000'</td>\n",
       "      <td>'28529'</td>\n",
       "      <td>'4019', '9092', '42731', '3530', '3559', 'V441...</td>\n",
       "    </tr>\n",
       "    <tr>\n",
       "      <th>17472</th>\n",
       "      <td>['1918'</td>\n",
       "      <td>'3485'</td>\n",
       "      <td>'3484'</td>\n",
       "      <td>'7843'</td>\n",
       "      <td>'25000'</td>\n",
       "      <td>'36846']</td>\n",
       "      <td>None</td>\n",
       "      <td>None</td>\n",
       "      <td>None</td>\n",
       "      <td>None</td>\n",
       "      <td>None</td>\n",
       "    </tr>\n",
       "    <tr>\n",
       "      <th>17473</th>\n",
       "      <td>['24980'</td>\n",
       "      <td>'5990'</td>\n",
       "      <td>'E9323'</td>\n",
       "      <td>'4019'</td>\n",
       "      <td>'7140'</td>\n",
       "      <td>'53081'</td>\n",
       "      <td>'4373'</td>\n",
       "      <td>'78039'</td>\n",
       "      <td>'7140'</td>\n",
       "      <td>'25000'</td>\n",
       "      <td>'4019']</td>\n",
       "    </tr>\n",
       "    <tr>\n",
       "      <th>17474</th>\n",
       "      <td>['41401'</td>\n",
       "      <td>'42823'</td>\n",
       "      <td>'9972'</td>\n",
       "      <td>'2930'</td>\n",
       "      <td>'99811'</td>\n",
       "      <td>'4111'</td>\n",
       "      <td>'2851'</td>\n",
       "      <td>'4423'</td>\n",
       "      <td>'E8790'</td>\n",
       "      <td>'71596'</td>\n",
       "      <td>'4019', '2449', '2724']</td>\n",
       "    </tr>\n",
       "    <tr>\n",
       "      <th>17475</th>\n",
       "      <td>['2115'</td>\n",
       "      <td>'5770'</td>\n",
       "      <td>'2851'</td>\n",
       "      <td>'9974'</td>\n",
       "      <td>'75160'</td>\n",
       "      <td>'5768'</td>\n",
       "      <td>'E8786'</td>\n",
       "      <td>'49390'</td>\n",
       "      <td>'V1301'</td>\n",
       "      <td>'45829']</td>\n",
       "      <td>None</td>\n",
       "    </tr>\n",
       "  </tbody>\n",
       "</table>\n",
       "<p>17476 rows × 11 columns</p>\n",
       "</div>"
      ],
      "text/plain": [
       "             0        1        2        3        4         5        6   \\\n",
       "0       ['5789'  '51881'  '41071'  '42831'  '42732'    '2851'  '53550'   \n",
       "1      ['53013'   '9351'  'E915']     None     None      None     None   \n",
       "2      ['56983'  '56729'   '5845'   '5789'   '5121'    '5119'  '56889'   \n",
       "3       ['5533'  '48242'   '5163'   '4280'  '53081'   '73300'   '2720'   \n",
       "4       ['5550'   'V442'   '4019'  '73309'  'E9320'   'E8490'  '30000'   \n",
       "...         ...      ...      ...      ...      ...       ...      ...   \n",
       "17471  ['59971'   '3453'  '00845'   '2762'   '5650'    '5849'  '70703'   \n",
       "17472   ['1918'   '3485'   '3484'   '7843'  '25000'  '36846']     None   \n",
       "17473  ['24980'   '5990'  'E9323'   '4019'   '7140'   '53081'   '4373'   \n",
       "17474  ['41401'  '42823'   '9972'   '2930'  '99811'    '4111'   '2851'   \n",
       "17475   ['2115'   '5770'   '2851'   '9974'  '75160'    '5768'  'E8786'   \n",
       "\n",
       "            7        8         9   \\\n",
       "0      '79092'   '4280'   '42731'   \n",
       "1         None     None      None   \n",
       "2      'E8788'   '3310'   '29410'   \n",
       "3       '4019'   '2440'   '30000'   \n",
       "4      'V1251'  '42789'    'V160'   \n",
       "...        ...      ...       ...   \n",
       "17471  '70725'  '25000'   '28529'   \n",
       "17472     None     None      None   \n",
       "17473  '78039'   '7140'   '25000'   \n",
       "17474   '4423'  'E8790'   '71596'   \n",
       "17475  '49390'  'V1301'  '45829']   \n",
       "\n",
       "                                                      10  \n",
       "0      '42789', '49320', '40390', '5852', '43811', '4...  \n",
       "1                                                   None  \n",
       "2                      '40390', '25002', '5859', '4465']  \n",
       "3      '311', 'V1082', 'V1351', 'V4364', 'V4365', '41...  \n",
       "4                                               'V5865']  \n",
       "...                                                  ...  \n",
       "17471  '4019', '9092', '42731', '3530', '3559', 'V441...  \n",
       "17472                                               None  \n",
       "17473                                            '4019']  \n",
       "17474                            '4019', '2449', '2724']  \n",
       "17475                                               None  \n",
       "\n",
       "[17476 rows x 11 columns]"
      ]
     },
     "execution_count": 28,
     "metadata": {},
     "output_type": "execute_result"
    }
   ],
   "source": [
    "new"
   ]
  },
  {
   "cell_type": "code",
   "execution_count": 29,
   "metadata": {},
   "outputs": [
    {
     "name": "stderr",
     "output_type": "stream",
     "text": [
      "<ipython-input-29-93307a2263e2>:3: FutureWarning: The default value of regex will change from True to False in a future version.\n",
      "  new[0] = new[0].str.replace(\"[\\[\\]\\\"']\", \"\")\n",
      "<ipython-input-29-93307a2263e2>:4: FutureWarning: The default value of regex will change from True to False in a future version.\n",
      "  new[1] = new[1].str.replace(\"[\\[\\]\\\"']\", \"\")\n",
      "<ipython-input-29-93307a2263e2>:5: FutureWarning: The default value of regex will change from True to False in a future version.\n",
      "  new[2] = new[2].str.replace(\"[\\[\\]\\\"']\", \"\")\n",
      "<ipython-input-29-93307a2263e2>:6: FutureWarning: The default value of regex will change from True to False in a future version.\n",
      "  new[3] = new[3].str.replace(\"[\\[\\]\\\"']\", \"\")\n",
      "<ipython-input-29-93307a2263e2>:7: FutureWarning: The default value of regex will change from True to False in a future version.\n",
      "  new[4] = new[4].str.replace(\"[\\[\\]\\\"']\", \"\")\n",
      "<ipython-input-29-93307a2263e2>:8: FutureWarning: The default value of regex will change from True to False in a future version.\n",
      "  new[5] = new[5].str.replace(\"[\\[\\]\\\"']\", \"\")\n",
      "<ipython-input-29-93307a2263e2>:9: FutureWarning: The default value of regex will change from True to False in a future version.\n",
      "  new[6] = new[6].str.replace(\"[\\[\\]\\\"']\", \"\")\n",
      "<ipython-input-29-93307a2263e2>:10: FutureWarning: The default value of regex will change from True to False in a future version.\n",
      "  new[7] = new[7].str.replace(\"[\\[\\]\\\"']\", \"\")\n",
      "<ipython-input-29-93307a2263e2>:11: FutureWarning: The default value of regex will change from True to False in a future version.\n",
      "  new[8] = new[8].str.replace(\"[\\[\\]\\\"']\", \"\")\n",
      "<ipython-input-29-93307a2263e2>:12: FutureWarning: The default value of regex will change from True to False in a future version.\n",
      "  new[9] = new[9].str.replace(\"[\\[\\]\\\"']\", \"\")\n",
      "<ipython-input-29-93307a2263e2>:13: FutureWarning: The default value of regex will change from True to False in a future version.\n",
      "  new[10] = new[10].str.replace(\"[\\[\\]\\\"']\", \"\")\n"
     ]
    }
   ],
   "source": [
    "#removing unwanted characters\n",
    "\n",
    "new[0] = new[0].str.replace(\"[\\[\\]\\\"']\", \"\")\n",
    "new[1] = new[1].str.replace(\"[\\[\\]\\\"']\", \"\")\n",
    "new[2] = new[2].str.replace(\"[\\[\\]\\\"']\", \"\")\n",
    "new[3] = new[3].str.replace(\"[\\[\\]\\\"']\", \"\")\n",
    "new[4] = new[4].str.replace(\"[\\[\\]\\\"']\", \"\")\n",
    "new[5] = new[5].str.replace(\"[\\[\\]\\\"']\", \"\")\n",
    "new[6] = new[6].str.replace(\"[\\[\\]\\\"']\", \"\")\n",
    "new[7] = new[7].str.replace(\"[\\[\\]\\\"']\", \"\")\n",
    "new[8] = new[8].str.replace(\"[\\[\\]\\\"']\", \"\")\n",
    "new[9] = new[9].str.replace(\"[\\[\\]\\\"']\", \"\")\n",
    "new[10] = new[10].str.replace(\"[\\[\\]\\\"']\", \"\")"
   ]
  },
  {
   "cell_type": "code",
   "execution_count": 30,
   "metadata": {},
   "outputs": [
    {
     "data": {
      "text/html": [
       "<div>\n",
       "<style scoped>\n",
       "    .dataframe tbody tr th:only-of-type {\n",
       "        vertical-align: middle;\n",
       "    }\n",
       "\n",
       "    .dataframe tbody tr th {\n",
       "        vertical-align: top;\n",
       "    }\n",
       "\n",
       "    .dataframe thead th {\n",
       "        text-align: right;\n",
       "    }\n",
       "</style>\n",
       "<table border=\"1\" class=\"dataframe\">\n",
       "  <thead>\n",
       "    <tr style=\"text-align: right;\">\n",
       "      <th></th>\n",
       "      <th>0</th>\n",
       "      <th>1</th>\n",
       "      <th>2</th>\n",
       "      <th>3</th>\n",
       "      <th>4</th>\n",
       "      <th>5</th>\n",
       "      <th>6</th>\n",
       "      <th>7</th>\n",
       "      <th>8</th>\n",
       "      <th>9</th>\n",
       "      <th>10</th>\n",
       "    </tr>\n",
       "  </thead>\n",
       "  <tbody>\n",
       "    <tr>\n",
       "      <th>0</th>\n",
       "      <td>5789</td>\n",
       "      <td>51881</td>\n",
       "      <td>41071</td>\n",
       "      <td>42831</td>\n",
       "      <td>42732</td>\n",
       "      <td>2851</td>\n",
       "      <td>53550</td>\n",
       "      <td>79092</td>\n",
       "      <td>4280</td>\n",
       "      <td>42731</td>\n",
       "      <td>42789, 49320, 40390, 5852, 43811, 43889, 78079</td>\n",
       "    </tr>\n",
       "    <tr>\n",
       "      <th>1</th>\n",
       "      <td>53013</td>\n",
       "      <td>9351</td>\n",
       "      <td>E915</td>\n",
       "      <td>None</td>\n",
       "      <td>None</td>\n",
       "      <td>None</td>\n",
       "      <td>None</td>\n",
       "      <td>None</td>\n",
       "      <td>None</td>\n",
       "      <td>None</td>\n",
       "      <td>None</td>\n",
       "    </tr>\n",
       "    <tr>\n",
       "      <th>2</th>\n",
       "      <td>56983</td>\n",
       "      <td>56729</td>\n",
       "      <td>5845</td>\n",
       "      <td>5789</td>\n",
       "      <td>5121</td>\n",
       "      <td>5119</td>\n",
       "      <td>56889</td>\n",
       "      <td>E8788</td>\n",
       "      <td>3310</td>\n",
       "      <td>29410</td>\n",
       "      <td>40390, 25002, 5859, 4465</td>\n",
       "    </tr>\n",
       "    <tr>\n",
       "      <th>3</th>\n",
       "      <td>5533</td>\n",
       "      <td>48242</td>\n",
       "      <td>5163</td>\n",
       "      <td>4280</td>\n",
       "      <td>53081</td>\n",
       "      <td>73300</td>\n",
       "      <td>2720</td>\n",
       "      <td>4019</td>\n",
       "      <td>2440</td>\n",
       "      <td>30000</td>\n",
       "      <td>311, V1082, V1351, V4364, V4365, 41071, 2939, ...</td>\n",
       "    </tr>\n",
       "    <tr>\n",
       "      <th>4</th>\n",
       "      <td>5550</td>\n",
       "      <td>V442</td>\n",
       "      <td>4019</td>\n",
       "      <td>73309</td>\n",
       "      <td>E9320</td>\n",
       "      <td>E8490</td>\n",
       "      <td>30000</td>\n",
       "      <td>V1251</td>\n",
       "      <td>42789</td>\n",
       "      <td>V160</td>\n",
       "      <td>V5865</td>\n",
       "    </tr>\n",
       "    <tr>\n",
       "      <th>...</th>\n",
       "      <td>...</td>\n",
       "      <td>...</td>\n",
       "      <td>...</td>\n",
       "      <td>...</td>\n",
       "      <td>...</td>\n",
       "      <td>...</td>\n",
       "      <td>...</td>\n",
       "      <td>...</td>\n",
       "      <td>...</td>\n",
       "      <td>...</td>\n",
       "      <td>...</td>\n",
       "    </tr>\n",
       "    <tr>\n",
       "      <th>17471</th>\n",
       "      <td>59971</td>\n",
       "      <td>3453</td>\n",
       "      <td>00845</td>\n",
       "      <td>2762</td>\n",
       "      <td>5650</td>\n",
       "      <td>5849</td>\n",
       "      <td>70703</td>\n",
       "      <td>70725</td>\n",
       "      <td>25000</td>\n",
       "      <td>28529</td>\n",
       "      <td>4019, 9092, 42731, 3530, 3559, V441, V1046, V5...</td>\n",
       "    </tr>\n",
       "    <tr>\n",
       "      <th>17472</th>\n",
       "      <td>1918</td>\n",
       "      <td>3485</td>\n",
       "      <td>3484</td>\n",
       "      <td>7843</td>\n",
       "      <td>25000</td>\n",
       "      <td>36846</td>\n",
       "      <td>None</td>\n",
       "      <td>None</td>\n",
       "      <td>None</td>\n",
       "      <td>None</td>\n",
       "      <td>None</td>\n",
       "    </tr>\n",
       "    <tr>\n",
       "      <th>17473</th>\n",
       "      <td>24980</td>\n",
       "      <td>5990</td>\n",
       "      <td>E9323</td>\n",
       "      <td>4019</td>\n",
       "      <td>7140</td>\n",
       "      <td>53081</td>\n",
       "      <td>4373</td>\n",
       "      <td>78039</td>\n",
       "      <td>7140</td>\n",
       "      <td>25000</td>\n",
       "      <td>4019</td>\n",
       "    </tr>\n",
       "    <tr>\n",
       "      <th>17474</th>\n",
       "      <td>41401</td>\n",
       "      <td>42823</td>\n",
       "      <td>9972</td>\n",
       "      <td>2930</td>\n",
       "      <td>99811</td>\n",
       "      <td>4111</td>\n",
       "      <td>2851</td>\n",
       "      <td>4423</td>\n",
       "      <td>E8790</td>\n",
       "      <td>71596</td>\n",
       "      <td>4019, 2449, 2724</td>\n",
       "    </tr>\n",
       "    <tr>\n",
       "      <th>17475</th>\n",
       "      <td>2115</td>\n",
       "      <td>5770</td>\n",
       "      <td>2851</td>\n",
       "      <td>9974</td>\n",
       "      <td>75160</td>\n",
       "      <td>5768</td>\n",
       "      <td>E8786</td>\n",
       "      <td>49390</td>\n",
       "      <td>V1301</td>\n",
       "      <td>45829</td>\n",
       "      <td>None</td>\n",
       "    </tr>\n",
       "  </tbody>\n",
       "</table>\n",
       "<p>17476 rows × 11 columns</p>\n",
       "</div>"
      ],
      "text/plain": [
       "          0      1      2      3      4      5      6      7      8      9   \\\n",
       "0       5789  51881  41071  42831  42732   2851  53550  79092   4280  42731   \n",
       "1      53013   9351   E915   None   None   None   None   None   None   None   \n",
       "2      56983  56729   5845   5789   5121   5119  56889  E8788   3310  29410   \n",
       "3       5533  48242   5163   4280  53081  73300   2720   4019   2440  30000   \n",
       "4       5550   V442   4019  73309  E9320  E8490  30000  V1251  42789   V160   \n",
       "...      ...    ...    ...    ...    ...    ...    ...    ...    ...    ...   \n",
       "17471  59971   3453  00845   2762   5650   5849  70703  70725  25000  28529   \n",
       "17472   1918   3485   3484   7843  25000  36846   None   None   None   None   \n",
       "17473  24980   5990  E9323   4019   7140  53081   4373  78039   7140  25000   \n",
       "17474  41401  42823   9972   2930  99811   4111   2851   4423  E8790  71596   \n",
       "17475   2115   5770   2851   9974  75160   5768  E8786  49390  V1301  45829   \n",
       "\n",
       "                                                      10  \n",
       "0         42789, 49320, 40390, 5852, 43811, 43889, 78079  \n",
       "1                                                   None  \n",
       "2                               40390, 25002, 5859, 4465  \n",
       "3      311, V1082, V1351, V4364, V4365, 41071, 2939, ...  \n",
       "4                                                  V5865  \n",
       "...                                                  ...  \n",
       "17471  4019, 9092, 42731, 3530, 3559, V441, V1046, V5...  \n",
       "17472                                               None  \n",
       "17473                                               4019  \n",
       "17474                                   4019, 2449, 2724  \n",
       "17475                                               None  \n",
       "\n",
       "[17476 rows x 11 columns]"
      ]
     },
     "execution_count": 30,
     "metadata": {},
     "output_type": "execute_result"
    }
   ],
   "source": [
    "new #now, we see that the brackets and quotations marks are gone"
   ]
  },
  {
   "cell_type": "code",
   "execution_count": 31,
   "metadata": {},
   "outputs": [],
   "source": [
    "#dropping the 11th onwards comorbidities\n",
    "new = new.drop(10, axis=1)"
   ]
  },
  {
   "cell_type": "code",
   "execution_count": 32,
   "metadata": {},
   "outputs": [],
   "source": [
    "#concatenating the main df and comorbidity df\n",
    "df = pd.concat([df, new], axis=1)"
   ]
  },
  {
   "cell_type": "code",
   "execution_count": 33,
   "metadata": {},
   "outputs": [
    {
     "data": {
      "text/html": [
       "<div>\n",
       "<style scoped>\n",
       "    .dataframe tbody tr th:only-of-type {\n",
       "        vertical-align: middle;\n",
       "    }\n",
       "\n",
       "    .dataframe tbody tr th {\n",
       "        vertical-align: top;\n",
       "    }\n",
       "\n",
       "    .dataframe thead th {\n",
       "        text-align: right;\n",
       "    }\n",
       "</style>\n",
       "<table border=\"1\" class=\"dataframe\">\n",
       "  <thead>\n",
       "    <tr style=\"text-align: right;\">\n",
       "      <th></th>\n",
       "      <th>Unnamed: 0</th>\n",
       "      <th>subject_id</th>\n",
       "      <th>hadm_id</th>\n",
       "      <th>icustay_id</th>\n",
       "      <th>HeartRate_Min</th>\n",
       "      <th>HeartRate_Max</th>\n",
       "      <th>HeartRate_Mean</th>\n",
       "      <th>SysBP_Min</th>\n",
       "      <th>SysBP_Max</th>\n",
       "      <th>SysBP_Mean</th>\n",
       "      <th>...</th>\n",
       "      <th>0</th>\n",
       "      <th>1</th>\n",
       "      <th>2</th>\n",
       "      <th>3</th>\n",
       "      <th>4</th>\n",
       "      <th>5</th>\n",
       "      <th>6</th>\n",
       "      <th>7</th>\n",
       "      <th>8</th>\n",
       "      <th>9</th>\n",
       "    </tr>\n",
       "  </thead>\n",
       "  <tbody>\n",
       "    <tr>\n",
       "      <th>0</th>\n",
       "      <td>0</td>\n",
       "      <td>55440</td>\n",
       "      <td>195768</td>\n",
       "      <td>228357</td>\n",
       "      <td>89.0</td>\n",
       "      <td>145.0</td>\n",
       "      <td>121.043478</td>\n",
       "      <td>74.0</td>\n",
       "      <td>127.0</td>\n",
       "      <td>106.586957</td>\n",
       "      <td>...</td>\n",
       "      <td>5789</td>\n",
       "      <td>51881</td>\n",
       "      <td>41071</td>\n",
       "      <td>42831</td>\n",
       "      <td>42732</td>\n",
       "      <td>2851</td>\n",
       "      <td>53550</td>\n",
       "      <td>79092</td>\n",
       "      <td>4280</td>\n",
       "      <td>42731</td>\n",
       "    </tr>\n",
       "    <tr>\n",
       "      <th>1</th>\n",
       "      <td>1</td>\n",
       "      <td>76908</td>\n",
       "      <td>126136</td>\n",
       "      <td>221004</td>\n",
       "      <td>63.0</td>\n",
       "      <td>110.0</td>\n",
       "      <td>79.117647</td>\n",
       "      <td>89.0</td>\n",
       "      <td>121.0</td>\n",
       "      <td>106.733333</td>\n",
       "      <td>...</td>\n",
       "      <td>53013</td>\n",
       "      <td>9351</td>\n",
       "      <td>E915</td>\n",
       "      <td>None</td>\n",
       "      <td>None</td>\n",
       "      <td>None</td>\n",
       "      <td>None</td>\n",
       "      <td>None</td>\n",
       "      <td>None</td>\n",
       "      <td>None</td>\n",
       "    </tr>\n",
       "    <tr>\n",
       "      <th>2</th>\n",
       "      <td>2</td>\n",
       "      <td>95798</td>\n",
       "      <td>136645</td>\n",
       "      <td>296315</td>\n",
       "      <td>81.0</td>\n",
       "      <td>98.0</td>\n",
       "      <td>91.689655</td>\n",
       "      <td>88.0</td>\n",
       "      <td>138.0</td>\n",
       "      <td>112.785714</td>\n",
       "      <td>...</td>\n",
       "      <td>56983</td>\n",
       "      <td>56729</td>\n",
       "      <td>5845</td>\n",
       "      <td>5789</td>\n",
       "      <td>5121</td>\n",
       "      <td>5119</td>\n",
       "      <td>56889</td>\n",
       "      <td>E8788</td>\n",
       "      <td>3310</td>\n",
       "      <td>29410</td>\n",
       "    </tr>\n",
       "    <tr>\n",
       "      <th>3</th>\n",
       "      <td>3</td>\n",
       "      <td>40708</td>\n",
       "      <td>102505</td>\n",
       "      <td>245557</td>\n",
       "      <td>76.0</td>\n",
       "      <td>128.0</td>\n",
       "      <td>98.857143</td>\n",
       "      <td>84.0</td>\n",
       "      <td>135.0</td>\n",
       "      <td>106.972973</td>\n",
       "      <td>...</td>\n",
       "      <td>5533</td>\n",
       "      <td>48242</td>\n",
       "      <td>5163</td>\n",
       "      <td>4280</td>\n",
       "      <td>53081</td>\n",
       "      <td>73300</td>\n",
       "      <td>2720</td>\n",
       "      <td>4019</td>\n",
       "      <td>2440</td>\n",
       "      <td>30000</td>\n",
       "    </tr>\n",
       "    <tr>\n",
       "      <th>4</th>\n",
       "      <td>5</td>\n",
       "      <td>63311</td>\n",
       "      <td>180102</td>\n",
       "      <td>287519</td>\n",
       "      <td>70.0</td>\n",
       "      <td>130.0</td>\n",
       "      <td>97.951220</td>\n",
       "      <td>107.0</td>\n",
       "      <td>155.0</td>\n",
       "      <td>128.414634</td>\n",
       "      <td>...</td>\n",
       "      <td>5550</td>\n",
       "      <td>V442</td>\n",
       "      <td>4019</td>\n",
       "      <td>73309</td>\n",
       "      <td>E9320</td>\n",
       "      <td>E8490</td>\n",
       "      <td>30000</td>\n",
       "      <td>V1251</td>\n",
       "      <td>42789</td>\n",
       "      <td>V160</td>\n",
       "    </tr>\n",
       "  </tbody>\n",
       "</table>\n",
       "<p>5 rows × 51 columns</p>\n",
       "</div>"
      ],
      "text/plain": [
       "   Unnamed: 0  subject_id  hadm_id  icustay_id  HeartRate_Min  HeartRate_Max  \\\n",
       "0           0       55440   195768      228357           89.0          145.0   \n",
       "1           1       76908   126136      221004           63.0          110.0   \n",
       "2           2       95798   136645      296315           81.0           98.0   \n",
       "3           3       40708   102505      245557           76.0          128.0   \n",
       "4           5       63311   180102      287519           70.0          130.0   \n",
       "\n",
       "   HeartRate_Mean  SysBP_Min  SysBP_Max  SysBP_Mean  ...      0      1      2  \\\n",
       "0      121.043478       74.0      127.0  106.586957  ...   5789  51881  41071   \n",
       "1       79.117647       89.0      121.0  106.733333  ...  53013   9351   E915   \n",
       "2       91.689655       88.0      138.0  112.785714  ...  56983  56729   5845   \n",
       "3       98.857143       84.0      135.0  106.972973  ...   5533  48242   5163   \n",
       "4       97.951220      107.0      155.0  128.414634  ...   5550   V442   4019   \n",
       "\n",
       "       3      4      5      6      7      8      9  \n",
       "0  42831  42732   2851  53550  79092   4280  42731  \n",
       "1   None   None   None   None   None   None   None  \n",
       "2   5789   5121   5119  56889  E8788   3310  29410  \n",
       "3   4280  53081  73300   2720   4019   2440  30000  \n",
       "4  73309  E9320  E8490  30000  V1251  42789   V160  \n",
       "\n",
       "[5 rows x 51 columns]"
      ]
     },
     "execution_count": 33,
     "metadata": {},
     "output_type": "execute_result"
    }
   ],
   "source": [
    "df.head()"
   ]
  },
  {
   "cell_type": "code",
   "execution_count": 34,
   "metadata": {},
   "outputs": [],
   "source": [
    "#renaming the columns so that the comorbidity column names are letters, not numbers\n",
    "\n",
    "df.columns = [    'Unnamed: 0',     'subject_id',        'hadm_id',     'icustay_id',\n",
    "        'HeartRate_Min',  'HeartRate_Max', 'HeartRate_Mean',      'SysBP_Min',\n",
    "            'SysBP_Max',     'SysBP_Mean',     'DiasBP_Min',     'DiasBP_Max',\n",
    "          'DiasBP_Mean',     'MeanBP_Min',     'MeanBP_Max',    'MeanBP_Mean',\n",
    "         'RespRate_Min',   'RespRate_Max',  'RespRate_Mean',      'TempC_Min',\n",
    "            'TempC_Max',     'TempC_Mean',       'SpO2_Min',       'SpO2_Max',\n",
    "            'SpO2_Mean',    'Glucose_Min',    'Glucose_Max',   'Glucose_Mean',\n",
    "               'GENDER',            'DOB',      'ADMITTIME',           'Diff',\n",
    "       'ADMISSION_TYPE',      'INSURANCE',       'RELIGION', 'MARITAL_STATUS',\n",
    "            'ETHNICITY',      'DIAGNOSIS', 'ICD9_diagnosis', 'FIRST_CAREUNIT',\n",
    "            'ICD9_CODE',                'A',                'B',                'C',\n",
    "                      'D',                'E',                'F',                'G',\n",
    "                      'H',                'I',                'J']"
   ]
  },
  {
   "cell_type": "code",
   "execution_count": 35,
   "metadata": {},
   "outputs": [
    {
     "data": {
      "text/plain": [
       "Index(['Unnamed: 0', 'subject_id', 'hadm_id', 'icustay_id', 'HeartRate_Min',\n",
       "       'HeartRate_Max', 'HeartRate_Mean', 'SysBP_Min', 'SysBP_Max',\n",
       "       'SysBP_Mean', 'DiasBP_Min', 'DiasBP_Max', 'DiasBP_Mean', 'MeanBP_Min',\n",
       "       'MeanBP_Max', 'MeanBP_Mean', 'RespRate_Min', 'RespRate_Max',\n",
       "       'RespRate_Mean', 'TempC_Min', 'TempC_Max', 'TempC_Mean', 'SpO2_Min',\n",
       "       'SpO2_Max', 'SpO2_Mean', 'Glucose_Min', 'Glucose_Max', 'Glucose_Mean',\n",
       "       'GENDER', 'DOB', 'ADMITTIME', 'Diff', 'ADMISSION_TYPE', 'INSURANCE',\n",
       "       'RELIGION', 'MARITAL_STATUS', 'ETHNICITY', 'DIAGNOSIS',\n",
       "       'ICD9_diagnosis', 'FIRST_CAREUNIT', 'ICD9_CODE', 'A', 'B', 'C', 'D',\n",
       "       'E', 'F', 'G', 'H', 'I', 'J'],\n",
       "      dtype='object')"
      ]
     },
     "execution_count": 35,
     "metadata": {},
     "output_type": "execute_result"
    }
   ],
   "source": [
    "df.columns"
   ]
  },
  {
   "cell_type": "code",
   "execution_count": 36,
   "metadata": {},
   "outputs": [],
   "source": [
    "#converting the comorbidities to categorical variable\n",
    "df['A'] = pd.Categorical(df.A)\n",
    "df['A_code'] = df.A.cat.codes\n",
    "\n",
    "df = df.drop(columns='A')"
   ]
  },
  {
   "cell_type": "code",
   "execution_count": 37,
   "metadata": {},
   "outputs": [],
   "source": [
    "#doing the same for the rest\n",
    "df['B'] = pd.Categorical(df.B)\n",
    "df['B_code'] = df.B.cat.codes\n",
    "\n",
    "df['C'] = pd.Categorical(df.C)\n",
    "df['C_code'] = df.C.cat.codes\n",
    "\n",
    "df['D'] = pd.Categorical(df.D)\n",
    "df['D_code'] = df.D.cat.codes\n",
    "\n",
    "df['E'] = pd.Categorical(df.E)\n",
    "df['E_code'] = df.E.cat.codes\n",
    "\n",
    "df['F'] = pd.Categorical(df.F)\n",
    "df['F_code'] = df.F.cat.codes\n",
    "\n",
    "df['G'] = pd.Categorical(df.G)\n",
    "df['G_code'] = df.G.cat.codes\n",
    "\n",
    "df['H'] = pd.Categorical(df.H)\n",
    "df['H_code'] = df.H.cat.codes\n",
    "\n",
    "df['I'] = pd.Categorical(df.I)\n",
    "df['I_code'] = df.I.cat.codes\n",
    "\n",
    "df['J'] = pd.Categorical(df.J)\n",
    "df['J_code'] = df.J.cat.codes\n",
    "\n",
    "#dropping the string version of the comorbidities\n",
    "df = df.drop(columns=['B','C', 'D',\n",
    "       'E', 'F', 'G', 'H', 'I', 'J'], axis=1)"
   ]
  },
  {
   "cell_type": "code",
   "execution_count": 38,
   "metadata": {},
   "outputs": [
    {
     "data": {
      "text/html": [
       "<div>\n",
       "<style scoped>\n",
       "    .dataframe tbody tr th:only-of-type {\n",
       "        vertical-align: middle;\n",
       "    }\n",
       "\n",
       "    .dataframe tbody tr th {\n",
       "        vertical-align: top;\n",
       "    }\n",
       "\n",
       "    .dataframe thead th {\n",
       "        text-align: right;\n",
       "    }\n",
       "</style>\n",
       "<table border=\"1\" class=\"dataframe\">\n",
       "  <thead>\n",
       "    <tr style=\"text-align: right;\">\n",
       "      <th></th>\n",
       "      <th>Unnamed: 0</th>\n",
       "      <th>subject_id</th>\n",
       "      <th>hadm_id</th>\n",
       "      <th>icustay_id</th>\n",
       "      <th>HeartRate_Min</th>\n",
       "      <th>HeartRate_Max</th>\n",
       "      <th>HeartRate_Mean</th>\n",
       "      <th>SysBP_Min</th>\n",
       "      <th>SysBP_Max</th>\n",
       "      <th>SysBP_Mean</th>\n",
       "      <th>...</th>\n",
       "      <th>A_code</th>\n",
       "      <th>B_code</th>\n",
       "      <th>C_code</th>\n",
       "      <th>D_code</th>\n",
       "      <th>E_code</th>\n",
       "      <th>F_code</th>\n",
       "      <th>G_code</th>\n",
       "      <th>H_code</th>\n",
       "      <th>I_code</th>\n",
       "      <th>J_code</th>\n",
       "    </tr>\n",
       "  </thead>\n",
       "  <tbody>\n",
       "    <tr>\n",
       "      <th>0</th>\n",
       "      <td>0</td>\n",
       "      <td>55440</td>\n",
       "      <td>195768</td>\n",
       "      <td>228357</td>\n",
       "      <td>89.0</td>\n",
       "      <td>145.0</td>\n",
       "      <td>121.043478</td>\n",
       "      <td>74.0</td>\n",
       "      <td>127.0</td>\n",
       "      <td>106.586957</td>\n",
       "      <td>...</td>\n",
       "      <td>961</td>\n",
       "      <td>705</td>\n",
       "      <td>538</td>\n",
       "      <td>639</td>\n",
       "      <td>621</td>\n",
       "      <td>281</td>\n",
       "      <td>853</td>\n",
       "      <td>1229</td>\n",
       "      <td>555</td>\n",
       "      <td>536</td>\n",
       "    </tr>\n",
       "    <tr>\n",
       "      <th>1</th>\n",
       "      <td>1</td>\n",
       "      <td>76908</td>\n",
       "      <td>126136</td>\n",
       "      <td>221004</td>\n",
       "      <td>63.0</td>\n",
       "      <td>110.0</td>\n",
       "      <td>79.117647</td>\n",
       "      <td>89.0</td>\n",
       "      <td>121.0</td>\n",
       "      <td>106.733333</td>\n",
       "      <td>...</td>\n",
       "      <td>795</td>\n",
       "      <td>1227</td>\n",
       "      <td>1597</td>\n",
       "      <td>-1</td>\n",
       "      <td>-1</td>\n",
       "      <td>-1</td>\n",
       "      <td>-1</td>\n",
       "      <td>-1</td>\n",
       "      <td>-1</td>\n",
       "      <td>-1</td>\n",
       "    </tr>\n",
       "    <tr>\n",
       "      <th>2</th>\n",
       "      <td>2</td>\n",
       "      <td>95798</td>\n",
       "      <td>136645</td>\n",
       "      <td>296315</td>\n",
       "      <td>81.0</td>\n",
       "      <td>98.0</td>\n",
       "      <td>91.689655</td>\n",
       "      <td>88.0</td>\n",
       "      <td>138.0</td>\n",
       "      <td>112.785714</td>\n",
       "      <td>...</td>\n",
       "      <td>916</td>\n",
       "      <td>792</td>\n",
       "      <td>970</td>\n",
       "      <td>986</td>\n",
       "      <td>818</td>\n",
       "      <td>780</td>\n",
       "      <td>899</td>\n",
       "      <td>1521</td>\n",
       "      <td>374</td>\n",
       "      <td>286</td>\n",
       "    </tr>\n",
       "    <tr>\n",
       "      <th>3</th>\n",
       "      <td>3</td>\n",
       "      <td>40708</td>\n",
       "      <td>102505</td>\n",
       "      <td>245557</td>\n",
       "      <td>76.0</td>\n",
       "      <td>128.0</td>\n",
       "      <td>98.857143</td>\n",
       "      <td>84.0</td>\n",
       "      <td>135.0</td>\n",
       "      <td>106.972973</td>\n",
       "      <td>...</td>\n",
       "      <td>868</td>\n",
       "      <td>649</td>\n",
       "      <td>791</td>\n",
       "      <td>633</td>\n",
       "      <td>856</td>\n",
       "      <td>1143</td>\n",
       "      <td>230</td>\n",
       "      <td>512</td>\n",
       "      <td>156</td>\n",
       "      <td>303</td>\n",
       "    </tr>\n",
       "    <tr>\n",
       "      <th>4</th>\n",
       "      <td>5</td>\n",
       "      <td>63311</td>\n",
       "      <td>180102</td>\n",
       "      <td>287519</td>\n",
       "      <td>70.0</td>\n",
       "      <td>130.0</td>\n",
       "      <td>97.951220</td>\n",
       "      <td>107.0</td>\n",
       "      <td>155.0</td>\n",
       "      <td>128.414634</td>\n",
       "      <td>...</td>\n",
       "      <td>869</td>\n",
       "      <td>1417</td>\n",
       "      <td>523</td>\n",
       "      <td>1158</td>\n",
       "      <td>1675</td>\n",
       "      <td>1575</td>\n",
       "      <td>353</td>\n",
       "      <td>1634</td>\n",
       "      <td>554</td>\n",
       "      <td>1554</td>\n",
       "    </tr>\n",
       "  </tbody>\n",
       "</table>\n",
       "<p>5 rows × 51 columns</p>\n",
       "</div>"
      ],
      "text/plain": [
       "   Unnamed: 0  subject_id  hadm_id  icustay_id  HeartRate_Min  HeartRate_Max  \\\n",
       "0           0       55440   195768      228357           89.0          145.0   \n",
       "1           1       76908   126136      221004           63.0          110.0   \n",
       "2           2       95798   136645      296315           81.0           98.0   \n",
       "3           3       40708   102505      245557           76.0          128.0   \n",
       "4           5       63311   180102      287519           70.0          130.0   \n",
       "\n",
       "   HeartRate_Mean  SysBP_Min  SysBP_Max  SysBP_Mean  ...  A_code  B_code  \\\n",
       "0      121.043478       74.0      127.0  106.586957  ...     961     705   \n",
       "1       79.117647       89.0      121.0  106.733333  ...     795    1227   \n",
       "2       91.689655       88.0      138.0  112.785714  ...     916     792   \n",
       "3       98.857143       84.0      135.0  106.972973  ...     868     649   \n",
       "4       97.951220      107.0      155.0  128.414634  ...     869    1417   \n",
       "\n",
       "   C_code  D_code  E_code  F_code  G_code  H_code  I_code  J_code  \n",
       "0     538     639     621     281     853    1229     555     536  \n",
       "1    1597      -1      -1      -1      -1      -1      -1      -1  \n",
       "2     970     986     818     780     899    1521     374     286  \n",
       "3     791     633     856    1143     230     512     156     303  \n",
       "4     523    1158    1675    1575     353    1634     554    1554  \n",
       "\n",
       "[5 rows x 51 columns]"
      ]
     },
     "execution_count": 38,
     "metadata": {},
     "output_type": "execute_result"
    }
   ],
   "source": [
    "df.head()"
   ]
  },
  {
   "cell_type": "code",
   "execution_count": 39,
   "metadata": {},
   "outputs": [
    {
     "name": "stdout",
     "output_type": "stream",
     "text": [
      "1740\n"
     ]
    }
   ],
   "source": [
    "print(len(df.A_code.unique()))\n",
    "\n",
    "df = df.drop(columns=['D_code',\n",
    "       'E_code', 'F_code', 'G_code', 'H_code', 'I_code', 'J_code'], axis=1)\n",
    "\n",
    "#because of there are a lot of unique values of comorobidities, I will only retain the first three commorbidity columns\n",
    "# and only create dummies for values the occurs frequently"
   ]
  },
  {
   "cell_type": "code",
   "execution_count": 40,
   "metadata": {},
   "outputs": [
    {
     "name": "stdout",
     "output_type": "stream",
     "text": [
      "1447\n",
      "1734\n"
     ]
    }
   ],
   "source": [
    "print(len(df.B_code.unique()))\n",
    "print(len(df.C_code.unique()))"
   ]
  },
  {
   "cell_type": "markdown",
   "metadata": {},
   "source": [
    "Before transforming the comorbidity categories to dummies, let first handling the dates to create an age variable"
   ]
  },
  {
   "cell_type": "markdown",
   "metadata": {},
   "source": [
    "## Creating the Age Column"
   ]
  },
  {
   "cell_type": "markdown",
   "metadata": {},
   "source": [
    "We create the cage column based on 'DOB' (date of birth) and 'ADMITTIME' (admit time). It is safe to just take the difference of these two values since as we have observed before, tha maximum lenght  of stay at thr hospital is around 102 days. So the patient's age is likely to have not changed much since he/she was admitted."
   ]
  },
  {
   "cell_type": "code",
   "execution_count": 41,
   "metadata": {},
   "outputs": [
    {
     "data": {
      "text/html": [
       "<div>\n",
       "<style scoped>\n",
       "    .dataframe tbody tr th:only-of-type {\n",
       "        vertical-align: middle;\n",
       "    }\n",
       "\n",
       "    .dataframe tbody tr th {\n",
       "        vertical-align: top;\n",
       "    }\n",
       "\n",
       "    .dataframe thead th {\n",
       "        text-align: right;\n",
       "    }\n",
       "</style>\n",
       "<table border=\"1\" class=\"dataframe\">\n",
       "  <thead>\n",
       "    <tr style=\"text-align: right;\">\n",
       "      <th></th>\n",
       "      <th>DOB</th>\n",
       "      <th>ADMITTIME</th>\n",
       "    </tr>\n",
       "  </thead>\n",
       "  <tbody>\n",
       "    <tr>\n",
       "      <th>0</th>\n",
       "      <td>2108-07-16 00:00:00</td>\n",
       "      <td>2178-02-06 10:35:00</td>\n",
       "    </tr>\n",
       "    <tr>\n",
       "      <th>1</th>\n",
       "      <td>2087-01-16 00:00:00</td>\n",
       "      <td>2129-02-12 22:34:00</td>\n",
       "    </tr>\n",
       "    <tr>\n",
       "      <th>2</th>\n",
       "      <td>2057-09-17 00:00:00</td>\n",
       "      <td>2125-11-17 23:04:00</td>\n",
       "    </tr>\n",
       "    <tr>\n",
       "      <th>3</th>\n",
       "      <td>2056-02-27 00:00:00</td>\n",
       "      <td>2131-01-26 08:00:00</td>\n",
       "    </tr>\n",
       "    <tr>\n",
       "      <th>4</th>\n",
       "      <td>2102-06-04 00:00:00</td>\n",
       "      <td>2151-08-06 19:11:00</td>\n",
       "    </tr>\n",
       "    <tr>\n",
       "      <th>...</th>\n",
       "      <td>...</td>\n",
       "      <td>...</td>\n",
       "    </tr>\n",
       "    <tr>\n",
       "      <th>17471</th>\n",
       "      <td>2088-12-15 00:00:00</td>\n",
       "      <td>2176-06-17 06:36:00</td>\n",
       "    </tr>\n",
       "    <tr>\n",
       "      <th>17472</th>\n",
       "      <td>2071-11-18 00:00:00</td>\n",
       "      <td>2137-09-27 23:14:00</td>\n",
       "    </tr>\n",
       "    <tr>\n",
       "      <th>17473</th>\n",
       "      <td>2055-11-27 00:00:00</td>\n",
       "      <td>2118-10-18 17:54:00</td>\n",
       "    </tr>\n",
       "    <tr>\n",
       "      <th>17474</th>\n",
       "      <td>1871-07-17 00:00:00</td>\n",
       "      <td>2171-07-17 21:24:00</td>\n",
       "    </tr>\n",
       "    <tr>\n",
       "      <th>17475</th>\n",
       "      <td>2143-05-24 00:00:00</td>\n",
       "      <td>2189-02-19 07:15:00</td>\n",
       "    </tr>\n",
       "  </tbody>\n",
       "</table>\n",
       "<p>17476 rows × 2 columns</p>\n",
       "</div>"
      ],
      "text/plain": [
       "                       DOB            ADMITTIME\n",
       "0      2108-07-16 00:00:00  2178-02-06 10:35:00\n",
       "1      2087-01-16 00:00:00  2129-02-12 22:34:00\n",
       "2      2057-09-17 00:00:00  2125-11-17 23:04:00\n",
       "3      2056-02-27 00:00:00  2131-01-26 08:00:00\n",
       "4      2102-06-04 00:00:00  2151-08-06 19:11:00\n",
       "...                    ...                  ...\n",
       "17471  2088-12-15 00:00:00  2176-06-17 06:36:00\n",
       "17472  2071-11-18 00:00:00  2137-09-27 23:14:00\n",
       "17473  2055-11-27 00:00:00  2118-10-18 17:54:00\n",
       "17474  1871-07-17 00:00:00  2171-07-17 21:24:00\n",
       "17475  2143-05-24 00:00:00  2189-02-19 07:15:00\n",
       "\n",
       "[17476 rows x 2 columns]"
      ]
     },
     "execution_count": 41,
     "metadata": {},
     "output_type": "execute_result"
    }
   ],
   "source": [
    "#going back to the main df, we observe that we have date columns\n",
    "\n",
    "df[['DOB', 'ADMITTIME']]\n",
    "\n",
    "# as we can observe the years have been adjusted to protect the identity of the patients"
   ]
  },
  {
   "cell_type": "code",
   "execution_count": 42,
   "metadata": {},
   "outputs": [],
   "source": [
    "#we covert the data type of these columns to datetime\n",
    "df['ADMITTIME'] = pd.to_datetime(df['ADMITTIME'])\n",
    "df['DOB'] = pd.to_datetime(df['DOB'])"
   ]
  },
  {
   "cell_type": "code",
   "execution_count": 43,
   "metadata": {},
   "outputs": [
    {
     "data": {
      "text/plain": [
       "Unnamed: 0                 int64\n",
       "subject_id                 int64\n",
       "hadm_id                    int64\n",
       "icustay_id                 int64\n",
       "HeartRate_Min            float64\n",
       "HeartRate_Max            float64\n",
       "HeartRate_Mean           float64\n",
       "SysBP_Min                float64\n",
       "SysBP_Max                float64\n",
       "SysBP_Mean               float64\n",
       "DiasBP_Min               float64\n",
       "DiasBP_Max               float64\n",
       "DiasBP_Mean              float64\n",
       "MeanBP_Min               float64\n",
       "MeanBP_Max               float64\n",
       "MeanBP_Mean              float64\n",
       "RespRate_Min             float64\n",
       "RespRate_Max             float64\n",
       "RespRate_Mean            float64\n",
       "TempC_Min                float64\n",
       "TempC_Max                float64\n",
       "TempC_Mean               float64\n",
       "SpO2_Min                 float64\n",
       "SpO2_Max                 float64\n",
       "SpO2_Mean                float64\n",
       "Glucose_Min              float64\n",
       "Glucose_Max              float64\n",
       "Glucose_Mean             float64\n",
       "GENDER                    object\n",
       "DOB               datetime64[ns]\n",
       "ADMITTIME         datetime64[ns]\n",
       "Diff                     float64\n",
       "ADMISSION_TYPE            object\n",
       "INSURANCE                 object\n",
       "RELIGION                  object\n",
       "MARITAL_STATUS            object\n",
       "ETHNICITY                 object\n",
       "DIAGNOSIS                 object\n",
       "ICD9_diagnosis            object\n",
       "FIRST_CAREUNIT            object\n",
       "ICD9_CODE                 object\n",
       "A_code                     int16\n",
       "B_code                     int16\n",
       "C_code                     int16\n",
       "dtype: object"
      ]
     },
     "execution_count": 43,
     "metadata": {},
     "output_type": "execute_result"
    }
   ],
   "source": [
    "df.dtypes\n",
    "\n",
    "#now the two columns that we are concerned with are now in date format"
   ]
  },
  {
   "cell_type": "code",
   "execution_count": 44,
   "metadata": {},
   "outputs": [],
   "source": [
    "#we get the years. it is okay to ignore the months and days since it wouldn't make much of a difference on age.\n",
    "\n",
    "df['year_admit']= df['ADMITTIME'].dt.year\n",
    "\n",
    "df['year_birth']= df['DOB'].dt.year"
   ]
  },
  {
   "cell_type": "code",
   "execution_count": 45,
   "metadata": {},
   "outputs": [
    {
     "data": {
      "text/html": [
       "<div>\n",
       "<style scoped>\n",
       "    .dataframe tbody tr th:only-of-type {\n",
       "        vertical-align: middle;\n",
       "    }\n",
       "\n",
       "    .dataframe tbody tr th {\n",
       "        vertical-align: top;\n",
       "    }\n",
       "\n",
       "    .dataframe thead th {\n",
       "        text-align: right;\n",
       "    }\n",
       "</style>\n",
       "<table border=\"1\" class=\"dataframe\">\n",
       "  <thead>\n",
       "    <tr style=\"text-align: right;\">\n",
       "      <th></th>\n",
       "      <th>year_admit</th>\n",
       "      <th>year_birth</th>\n",
       "    </tr>\n",
       "  </thead>\n",
       "  <tbody>\n",
       "    <tr>\n",
       "      <th>0</th>\n",
       "      <td>2178</td>\n",
       "      <td>2108</td>\n",
       "    </tr>\n",
       "    <tr>\n",
       "      <th>1</th>\n",
       "      <td>2129</td>\n",
       "      <td>2087</td>\n",
       "    </tr>\n",
       "    <tr>\n",
       "      <th>2</th>\n",
       "      <td>2125</td>\n",
       "      <td>2057</td>\n",
       "    </tr>\n",
       "    <tr>\n",
       "      <th>3</th>\n",
       "      <td>2131</td>\n",
       "      <td>2056</td>\n",
       "    </tr>\n",
       "    <tr>\n",
       "      <th>4</th>\n",
       "      <td>2151</td>\n",
       "      <td>2102</td>\n",
       "    </tr>\n",
       "    <tr>\n",
       "      <th>...</th>\n",
       "      <td>...</td>\n",
       "      <td>...</td>\n",
       "    </tr>\n",
       "    <tr>\n",
       "      <th>17471</th>\n",
       "      <td>2176</td>\n",
       "      <td>2088</td>\n",
       "    </tr>\n",
       "    <tr>\n",
       "      <th>17472</th>\n",
       "      <td>2137</td>\n",
       "      <td>2071</td>\n",
       "    </tr>\n",
       "    <tr>\n",
       "      <th>17473</th>\n",
       "      <td>2118</td>\n",
       "      <td>2055</td>\n",
       "    </tr>\n",
       "    <tr>\n",
       "      <th>17474</th>\n",
       "      <td>2171</td>\n",
       "      <td>1871</td>\n",
       "    </tr>\n",
       "    <tr>\n",
       "      <th>17475</th>\n",
       "      <td>2189</td>\n",
       "      <td>2143</td>\n",
       "    </tr>\n",
       "  </tbody>\n",
       "</table>\n",
       "<p>17476 rows × 2 columns</p>\n",
       "</div>"
      ],
      "text/plain": [
       "       year_admit  year_birth\n",
       "0            2178        2108\n",
       "1            2129        2087\n",
       "2            2125        2057\n",
       "3            2131        2056\n",
       "4            2151        2102\n",
       "...           ...         ...\n",
       "17471        2176        2088\n",
       "17472        2137        2071\n",
       "17473        2118        2055\n",
       "17474        2171        1871\n",
       "17475        2189        2143\n",
       "\n",
       "[17476 rows x 2 columns]"
      ]
     },
     "execution_count": 45,
     "metadata": {},
     "output_type": "execute_result"
    }
   ],
   "source": [
    "df[['year_admit', 'year_birth']]"
   ]
  },
  {
   "cell_type": "code",
   "execution_count": 46,
   "metadata": {},
   "outputs": [],
   "source": [
    "df['age']= df['year_admit'] - df['year_birth']"
   ]
  },
  {
   "cell_type": "code",
   "execution_count": 47,
   "metadata": {},
   "outputs": [
    {
     "data": {
      "text/html": [
       "<div>\n",
       "<style scoped>\n",
       "    .dataframe tbody tr th:only-of-type {\n",
       "        vertical-align: middle;\n",
       "    }\n",
       "\n",
       "    .dataframe tbody tr th {\n",
       "        vertical-align: top;\n",
       "    }\n",
       "\n",
       "    .dataframe thead th {\n",
       "        text-align: right;\n",
       "    }\n",
       "</style>\n",
       "<table border=\"1\" class=\"dataframe\">\n",
       "  <thead>\n",
       "    <tr style=\"text-align: right;\">\n",
       "      <th></th>\n",
       "      <th>age</th>\n",
       "    </tr>\n",
       "  </thead>\n",
       "  <tbody>\n",
       "    <tr>\n",
       "      <th>0</th>\n",
       "      <td>70</td>\n",
       "    </tr>\n",
       "    <tr>\n",
       "      <th>1</th>\n",
       "      <td>42</td>\n",
       "    </tr>\n",
       "    <tr>\n",
       "      <th>2</th>\n",
       "      <td>68</td>\n",
       "    </tr>\n",
       "    <tr>\n",
       "      <th>3</th>\n",
       "      <td>75</td>\n",
       "    </tr>\n",
       "    <tr>\n",
       "      <th>4</th>\n",
       "      <td>49</td>\n",
       "    </tr>\n",
       "    <tr>\n",
       "      <th>...</th>\n",
       "      <td>...</td>\n",
       "    </tr>\n",
       "    <tr>\n",
       "      <th>17471</th>\n",
       "      <td>88</td>\n",
       "    </tr>\n",
       "    <tr>\n",
       "      <th>17472</th>\n",
       "      <td>66</td>\n",
       "    </tr>\n",
       "    <tr>\n",
       "      <th>17473</th>\n",
       "      <td>63</td>\n",
       "    </tr>\n",
       "    <tr>\n",
       "      <th>17474</th>\n",
       "      <td>300</td>\n",
       "    </tr>\n",
       "    <tr>\n",
       "      <th>17475</th>\n",
       "      <td>46</td>\n",
       "    </tr>\n",
       "  </tbody>\n",
       "</table>\n",
       "<p>17476 rows × 1 columns</p>\n",
       "</div>"
      ],
      "text/plain": [
       "       age\n",
       "0       70\n",
       "1       42\n",
       "2       68\n",
       "3       75\n",
       "4       49\n",
       "...    ...\n",
       "17471   88\n",
       "17472   66\n",
       "17473   63\n",
       "17474  300\n",
       "17475   46\n",
       "\n",
       "[17476 rows x 1 columns]"
      ]
     },
     "execution_count": 47,
     "metadata": {},
     "output_type": "execute_result"
    }
   ],
   "source": [
    "df[['age']]"
   ]
  },
  {
   "cell_type": "code",
   "execution_count": 48,
   "metadata": {},
   "outputs": [
    {
     "name": "stdout",
     "output_type": "stream",
     "text": [
      "311\n"
     ]
    }
   ],
   "source": [
    "column = df['age']\n",
    "max_value = column.max()\n",
    "print(max_value)\n",
    "\n",
    "# it is weird that there are some patients that are 300+ years of age"
   ]
  },
  {
   "cell_type": "code",
   "execution_count": 49,
   "metadata": {},
   "outputs": [
    {
     "data": {
      "text/plain": [
       "300    705\n",
       "67     429\n",
       "66     424\n",
       "62     418\n",
       "64     414\n",
       "63     397\n",
       "69     397\n",
       "60     387\n",
       "65     385\n",
       "68     378\n",
       "61     377\n",
       "82     363\n",
       "76     357\n",
       "72     354\n",
       "80     351\n",
       "81     350\n",
       "75     346\n",
       "79     342\n",
       "77     341\n",
       "57     339\n",
       "84     332\n",
       "83     330\n",
       "54     329\n",
       "58     328\n",
       "70     328\n",
       "56     327\n",
       "73     324\n",
       "55     320\n",
       "85     315\n",
       "59     314\n",
       "52     313\n",
       "78     311\n",
       "74     310\n",
       "71     289\n",
       "51     284\n",
       "53     282\n",
       "86     277\n",
       "87     268\n",
       "50     241\n",
       "88     217\n",
       "48     207\n",
       "47     201\n",
       "49     198\n",
       "45     197\n",
       "46     180\n",
       "44     152\n",
       "43     142\n",
       "42     137\n",
       "40     135\n",
       "41     132\n",
       "39     116\n",
       "89     115\n",
       "38     110\n",
       "35      89\n",
       "37      86\n",
       "25      86\n",
       "34      84\n",
       "31      79\n",
       "33      78\n",
       "30      77\n",
       "26      77\n",
       "28      72\n",
       "27      71\n",
       "36      68\n",
       "32      67\n",
       "21      64\n",
       "22      63\n",
       "24      62\n",
       "23      62\n",
       "29      60\n",
       "301     48\n",
       "302     46\n",
       "20      40\n",
       "19      37\n",
       "18      26\n",
       "307     20\n",
       "303     18\n",
       "304     18\n",
       "305     16\n",
       "308     14\n",
       "17      12\n",
       "306     11\n",
       "310      3\n",
       "309      3\n",
       "16       2\n",
       "311      1\n",
       "15       1\n",
       "Name: age, dtype: int64"
      ]
     },
     "execution_count": 49,
     "metadata": {},
     "output_type": "execute_result"
    }
   ],
   "source": [
    "pd.set_option('display.max_rows', None)\n",
    "df['age'].value_counts(ascending=False) "
   ]
  },
  {
   "cell_type": "code",
   "execution_count": 50,
   "metadata": {},
   "outputs": [
    {
     "data": {
      "text/plain": [
       "(17476, 47)"
      ]
     },
     "execution_count": 50,
     "metadata": {},
     "output_type": "execute_result"
    }
   ],
   "source": [
    "df.shape"
   ]
  },
  {
   "cell_type": "code",
   "execution_count": 51,
   "metadata": {},
   "outputs": [],
   "source": [
    "#lets drop observations with more than age>100\n",
    "#this is likely to wrong encoding of ADMITTIME and DOB \n",
    "# but it says in the metadata that we could add the 'Diff' column to the datetime variables to make it realistic\n",
    "# however, i think that it's okay if we just drop the observation with absurd ages\n",
    "# as they are only a few and I want to somehow make my dataset smaller to lessen computational time"
   ]
  },
  {
   "cell_type": "code",
   "execution_count": 52,
   "metadata": {},
   "outputs": [],
   "source": [
    "response['age'] = df[\"age\"]\n",
    "\n",
    "df = df[df.age < 100] # we only retain observations with age < 100\n",
    "response = response[response.age < 100]"
   ]
  },
  {
   "cell_type": "code",
   "execution_count": 53,
   "metadata": {},
   "outputs": [
    {
     "name": "stdout",
     "output_type": "stream",
     "text": [
      "(16573, 47)\n",
      "(16573, 7)\n"
     ]
    }
   ],
   "source": [
    "print(df.shape) # 17476 - 16573 = 903 observations have been dropped\n",
    "print(response.shape)"
   ]
  },
  {
   "cell_type": "code",
   "execution_count": 54,
   "metadata": {},
   "outputs": [
    {
     "data": {
      "text/html": [
       "<div>\n",
       "<style scoped>\n",
       "    .dataframe tbody tr th:only-of-type {\n",
       "        vertical-align: middle;\n",
       "    }\n",
       "\n",
       "    .dataframe tbody tr th {\n",
       "        vertical-align: top;\n",
       "    }\n",
       "\n",
       "    .dataframe thead th {\n",
       "        text-align: right;\n",
       "    }\n",
       "</style>\n",
       "<table border=\"1\" class=\"dataframe\">\n",
       "  <thead>\n",
       "    <tr style=\"text-align: right;\">\n",
       "      <th></th>\n",
       "      <th>Unnamed: 0</th>\n",
       "      <th>subject_id</th>\n",
       "      <th>hadm_id</th>\n",
       "      <th>icustay_id</th>\n",
       "      <th>HeartRate_Min</th>\n",
       "      <th>HeartRate_Max</th>\n",
       "      <th>HeartRate_Mean</th>\n",
       "      <th>SysBP_Min</th>\n",
       "      <th>SysBP_Max</th>\n",
       "      <th>SysBP_Mean</th>\n",
       "      <th>...</th>\n",
       "      <th>DIAGNOSIS</th>\n",
       "      <th>ICD9_diagnosis</th>\n",
       "      <th>FIRST_CAREUNIT</th>\n",
       "      <th>ICD9_CODE</th>\n",
       "      <th>A_code</th>\n",
       "      <th>B_code</th>\n",
       "      <th>C_code</th>\n",
       "      <th>year_admit</th>\n",
       "      <th>year_birth</th>\n",
       "      <th>age</th>\n",
       "    </tr>\n",
       "  </thead>\n",
       "  <tbody>\n",
       "    <tr>\n",
       "      <th>0</th>\n",
       "      <td>0</td>\n",
       "      <td>55440</td>\n",
       "      <td>195768</td>\n",
       "      <td>228357</td>\n",
       "      <td>89.0</td>\n",
       "      <td>145.0</td>\n",
       "      <td>121.043478</td>\n",
       "      <td>74.0</td>\n",
       "      <td>127.0</td>\n",
       "      <td>106.586957</td>\n",
       "      <td>...</td>\n",
       "      <td>GASTROINTESTINAL BLEED</td>\n",
       "      <td>5789</td>\n",
       "      <td>MICU</td>\n",
       "      <td>['5789', '51881', '41071', '42831', '42732', '...</td>\n",
       "      <td>961</td>\n",
       "      <td>705</td>\n",
       "      <td>538</td>\n",
       "      <td>2178</td>\n",
       "      <td>2108</td>\n",
       "      <td>70</td>\n",
       "    </tr>\n",
       "    <tr>\n",
       "      <th>1</th>\n",
       "      <td>1</td>\n",
       "      <td>76908</td>\n",
       "      <td>126136</td>\n",
       "      <td>221004</td>\n",
       "      <td>63.0</td>\n",
       "      <td>110.0</td>\n",
       "      <td>79.117647</td>\n",
       "      <td>89.0</td>\n",
       "      <td>121.0</td>\n",
       "      <td>106.733333</td>\n",
       "      <td>...</td>\n",
       "      <td>ESOPHAGEAL FOOD IMPACTION</td>\n",
       "      <td>53013</td>\n",
       "      <td>MICU</td>\n",
       "      <td>['53013', '9351', 'E915']</td>\n",
       "      <td>795</td>\n",
       "      <td>1227</td>\n",
       "      <td>1597</td>\n",
       "      <td>2129</td>\n",
       "      <td>2087</td>\n",
       "      <td>42</td>\n",
       "    </tr>\n",
       "    <tr>\n",
       "      <th>2</th>\n",
       "      <td>2</td>\n",
       "      <td>95798</td>\n",
       "      <td>136645</td>\n",
       "      <td>296315</td>\n",
       "      <td>81.0</td>\n",
       "      <td>98.0</td>\n",
       "      <td>91.689655</td>\n",
       "      <td>88.0</td>\n",
       "      <td>138.0</td>\n",
       "      <td>112.785714</td>\n",
       "      <td>...</td>\n",
       "      <td>UPPER GI BLEED</td>\n",
       "      <td>56983</td>\n",
       "      <td>MICU</td>\n",
       "      <td>['56983', '56729', '5845', '5789', '5121', '51...</td>\n",
       "      <td>916</td>\n",
       "      <td>792</td>\n",
       "      <td>970</td>\n",
       "      <td>2125</td>\n",
       "      <td>2057</td>\n",
       "      <td>68</td>\n",
       "    </tr>\n",
       "    <tr>\n",
       "      <th>3</th>\n",
       "      <td>3</td>\n",
       "      <td>40708</td>\n",
       "      <td>102505</td>\n",
       "      <td>245557</td>\n",
       "      <td>76.0</td>\n",
       "      <td>128.0</td>\n",
       "      <td>98.857143</td>\n",
       "      <td>84.0</td>\n",
       "      <td>135.0</td>\n",
       "      <td>106.972973</td>\n",
       "      <td>...</td>\n",
       "      <td>HIATAL HERNIA/SDA</td>\n",
       "      <td>5533</td>\n",
       "      <td>SICU</td>\n",
       "      <td>['5533', '48242', '5163', '4280', '53081', '73...</td>\n",
       "      <td>868</td>\n",
       "      <td>649</td>\n",
       "      <td>791</td>\n",
       "      <td>2131</td>\n",
       "      <td>2056</td>\n",
       "      <td>75</td>\n",
       "    </tr>\n",
       "    <tr>\n",
       "      <th>4</th>\n",
       "      <td>5</td>\n",
       "      <td>63311</td>\n",
       "      <td>180102</td>\n",
       "      <td>287519</td>\n",
       "      <td>70.0</td>\n",
       "      <td>130.0</td>\n",
       "      <td>97.951220</td>\n",
       "      <td>107.0</td>\n",
       "      <td>155.0</td>\n",
       "      <td>128.414634</td>\n",
       "      <td>...</td>\n",
       "      <td>LARGE GASTOINTESTINAL BLEED</td>\n",
       "      <td>5550</td>\n",
       "      <td>MICU</td>\n",
       "      <td>['5550', 'V442', '4019', '73309', 'E9320', 'E8...</td>\n",
       "      <td>869</td>\n",
       "      <td>1417</td>\n",
       "      <td>523</td>\n",
       "      <td>2151</td>\n",
       "      <td>2102</td>\n",
       "      <td>49</td>\n",
       "    </tr>\n",
       "  </tbody>\n",
       "</table>\n",
       "<p>5 rows × 47 columns</p>\n",
       "</div>"
      ],
      "text/plain": [
       "   Unnamed: 0  subject_id  hadm_id  icustay_id  HeartRate_Min  HeartRate_Max  \\\n",
       "0           0       55440   195768      228357           89.0          145.0   \n",
       "1           1       76908   126136      221004           63.0          110.0   \n",
       "2           2       95798   136645      296315           81.0           98.0   \n",
       "3           3       40708   102505      245557           76.0          128.0   \n",
       "4           5       63311   180102      287519           70.0          130.0   \n",
       "\n",
       "   HeartRate_Mean  SysBP_Min  SysBP_Max  SysBP_Mean  ...  \\\n",
       "0      121.043478       74.0      127.0  106.586957  ...   \n",
       "1       79.117647       89.0      121.0  106.733333  ...   \n",
       "2       91.689655       88.0      138.0  112.785714  ...   \n",
       "3       98.857143       84.0      135.0  106.972973  ...   \n",
       "4       97.951220      107.0      155.0  128.414634  ...   \n",
       "\n",
       "                     DIAGNOSIS  ICD9_diagnosis  FIRST_CAREUNIT  \\\n",
       "0       GASTROINTESTINAL BLEED            5789            MICU   \n",
       "1    ESOPHAGEAL FOOD IMPACTION           53013            MICU   \n",
       "2               UPPER GI BLEED           56983            MICU   \n",
       "3            HIATAL HERNIA/SDA            5533            SICU   \n",
       "4  LARGE GASTOINTESTINAL BLEED            5550            MICU   \n",
       "\n",
       "                                           ICD9_CODE  A_code  B_code  C_code  \\\n",
       "0  ['5789', '51881', '41071', '42831', '42732', '...     961     705     538   \n",
       "1                          ['53013', '9351', 'E915']     795    1227    1597   \n",
       "2  ['56983', '56729', '5845', '5789', '5121', '51...     916     792     970   \n",
       "3  ['5533', '48242', '5163', '4280', '53081', '73...     868     649     791   \n",
       "4  ['5550', 'V442', '4019', '73309', 'E9320', 'E8...     869    1417     523   \n",
       "\n",
       "   year_admit  year_birth  age  \n",
       "0        2178        2108   70  \n",
       "1        2129        2087   42  \n",
       "2        2125        2057   68  \n",
       "3        2131        2056   75  \n",
       "4        2151        2102   49  \n",
       "\n",
       "[5 rows x 47 columns]"
      ]
     },
     "execution_count": 54,
     "metadata": {},
     "output_type": "execute_result"
    }
   ],
   "source": [
    "df.head()"
   ]
  },
  {
   "cell_type": "code",
   "execution_count": 55,
   "metadata": {},
   "outputs": [
    {
     "data": {
      "text/plain": [
       "67    429\n",
       "66    424\n",
       "62    418\n",
       "64    414\n",
       "63    397\n",
       "69    397\n",
       "60    387\n",
       "65    385\n",
       "68    378\n",
       "61    377\n",
       "82    363\n",
       "76    357\n",
       "72    354\n",
       "80    351\n",
       "81    350\n",
       "75    346\n",
       "79    342\n",
       "77    341\n",
       "57    339\n",
       "84    332\n",
       "83    330\n",
       "54    329\n",
       "58    328\n",
       "70    328\n",
       "56    327\n",
       "73    324\n",
       "55    320\n",
       "85    315\n",
       "59    314\n",
       "52    313\n",
       "78    311\n",
       "74    310\n",
       "71    289\n",
       "51    284\n",
       "53    282\n",
       "86    277\n",
       "87    268\n",
       "50    241\n",
       "88    217\n",
       "48    207\n",
       "47    201\n",
       "49    198\n",
       "45    197\n",
       "46    180\n",
       "44    152\n",
       "43    142\n",
       "42    137\n",
       "40    135\n",
       "41    132\n",
       "39    116\n",
       "89    115\n",
       "38    110\n",
       "35     89\n",
       "37     86\n",
       "25     86\n",
       "34     84\n",
       "31     79\n",
       "33     78\n",
       "26     77\n",
       "30     77\n",
       "28     72\n",
       "27     71\n",
       "36     68\n",
       "32     67\n",
       "21     64\n",
       "22     63\n",
       "23     62\n",
       "24     62\n",
       "29     60\n",
       "20     40\n",
       "19     37\n",
       "18     26\n",
       "17     12\n",
       "16      2\n",
       "15      1\n",
       "Name: age, dtype: int64"
      ]
     },
     "execution_count": 55,
     "metadata": {},
     "output_type": "execute_result"
    }
   ],
   "source": [
    "df['age'].value_counts(ascending=False) \n",
    "# we observe that there are no more weird values in age column"
   ]
  },
  {
   "cell_type": "code",
   "execution_count": 56,
   "metadata": {
    "id": "TOMhqW1p3a1n"
   },
   "outputs": [],
   "source": [
    "#more data cleaning\n",
    "\n",
    "#drop columns which are not yet to be used\n",
    "#df = df.drop([\"Unnamed: 0\", \"subject_id\", \"hadm_id\", \"icustay_id\", \"DOB\", \"ADMITTIME\", \"INSURANCE\", \"RELIGION\",\t\"MARITAL_STATUS\",\t\"ETHNICITY\", \"FIRST_CAREUNIT\", \"ADMISSION_TYPE\"], axis = 1)\n",
    "df = df.drop([\"Unnamed: 0\", \"subject_id\", \"hadm_id\", \"icustay_id\", \"DOB\", \"ADMITTIME\",  'Diff', 'year_admit', 'year_birth', ], axis = 1)"
   ]
  },
  {
   "cell_type": "code",
   "execution_count": 57,
   "metadata": {
    "id": "PyE6NBWz45um"
   },
   "outputs": [],
   "source": [
    "#data conversion from string to categorical\n",
    "\n",
    "df['GENDER'] = pd.Categorical(df.GENDER)\n",
    "df['GENDER_code'] = df.GENDER.cat.codes\n",
    "df = df.drop(columns='GENDER')\n",
    "# 0 - female, 1 - male"
   ]
  },
  {
   "cell_type": "code",
   "execution_count": 58,
   "metadata": {
    "id": "0At1sTLrB_31"
   },
   "outputs": [],
   "source": [
    "#data conversion from string to cateogrical\n",
    "\n",
    "df['ICD9_diagnosis'] = pd.Categorical(df.ICD9_diagnosis)\n",
    "df['ICD9_diagnosis_code'] = df.ICD9_diagnosis.cat.codes\n",
    "df = df.drop(columns='ICD9_diagnosis')\n",
    "#df = df.drop([\"DIAGNOSIS\"], axis = 1)\n",
    "\n",
    "df['DIAGNOSIS'] = pd.Categorical(df.DIAGNOSIS)\n",
    "df['DIAGNOSIS_code'] = df.DIAGNOSIS.cat.codes\n",
    "df = df.drop(columns='DIAGNOSIS')"
   ]
  },
  {
   "cell_type": "code",
   "execution_count": 59,
   "metadata": {},
   "outputs": [
    {
     "name": "stdout",
     "output_type": "stream",
     "text": [
      "0.036780403916067766\n"
     ]
    }
   ],
   "source": [
    "#check correlation of ICD9_diagnosis and DIAGNOSIS... Are they the same?\\\\\n",
    "corr_diagnosis = df['ICD9_diagnosis_code'].corr(df['DIAGNOSIS_code'])\n",
    "print(corr_diagnosis)\n",
    "\n",
    "#they are not the same"
   ]
  },
  {
   "cell_type": "code",
   "execution_count": 60,
   "metadata": {},
   "outputs": [],
   "source": [
    "#data conversion from string to categorical\n",
    "\n",
    "df[\"INSURANCE\"] = pd.Categorical(df.INSURANCE)\n",
    "df[\"INSURANCE_code\"] = df.INSURANCE.cat.codes\n",
    "df = df.drop(columns=\"INSURANCE\")\n",
    "\n",
    "df[\"RELIGION\"] = pd.Categorical(df.RELIGION)\n",
    "df[\"RELIGION_code\"] = df.RELIGION.cat.codes\n",
    "df = df.drop(columns=\"RELIGION\")\n",
    "\n",
    "df[\"MARITAL_STATUS\"] = pd.Categorical(df.MARITAL_STATUS)\n",
    "df[\"MARITAL_STATUS_code\"] = df.MARITAL_STATUS.cat.codes\n",
    "df = df.drop(columns=\"MARITAL_STATUS\")\n",
    "\n",
    "df[\"ETHNICITY\"] = pd.Categorical(df.ETHNICITY)\n",
    "df[\"ETHNICITY_code\"] = df.ETHNICITY.cat.codes\n",
    "df = df.drop(columns=\"ETHNICITY\")\n",
    "\n",
    "df[\"FIRST_CAREUNIT\"] = pd.Categorical(df.FIRST_CAREUNIT)\n",
    "df[\"FIRST_CAREUNIT_code\"] = df.FIRST_CAREUNIT.cat.codes\n",
    "df = df.drop(columns=\"FIRST_CAREUNIT\")\n",
    "\n",
    "df[\"ADMISSION_TYPE\"] = pd.Categorical(df.ADMISSION_TYPE)\n",
    "df[\"ADMISSION_TYPE_code\"] = df.ADMISSION_TYPE.cat.codes\n",
    "df = df.drop(columns=\"ADMISSION_TYPE\")"
   ]
  },
  {
   "cell_type": "code",
   "execution_count": 61,
   "metadata": {
    "id": "xpEnyM0BCxCm"
   },
   "outputs": [
    {
     "data": {
      "text/html": [
       "<div>\n",
       "<style scoped>\n",
       "    .dataframe tbody tr th:only-of-type {\n",
       "        vertical-align: middle;\n",
       "    }\n",
       "\n",
       "    .dataframe tbody tr th {\n",
       "        vertical-align: top;\n",
       "    }\n",
       "\n",
       "    .dataframe thead th {\n",
       "        text-align: right;\n",
       "    }\n",
       "</style>\n",
       "<table border=\"1\" class=\"dataframe\">\n",
       "  <thead>\n",
       "    <tr style=\"text-align: right;\">\n",
       "      <th></th>\n",
       "      <th>HeartRate_Min</th>\n",
       "      <th>HeartRate_Max</th>\n",
       "      <th>HeartRate_Mean</th>\n",
       "      <th>SysBP_Min</th>\n",
       "      <th>SysBP_Max</th>\n",
       "      <th>SysBP_Mean</th>\n",
       "      <th>DiasBP_Min</th>\n",
       "      <th>DiasBP_Max</th>\n",
       "      <th>DiasBP_Mean</th>\n",
       "      <th>MeanBP_Min</th>\n",
       "      <th>...</th>\n",
       "      <th>age</th>\n",
       "      <th>GENDER_code</th>\n",
       "      <th>ICD9_diagnosis_code</th>\n",
       "      <th>DIAGNOSIS_code</th>\n",
       "      <th>INSURANCE_code</th>\n",
       "      <th>RELIGION_code</th>\n",
       "      <th>MARITAL_STATUS_code</th>\n",
       "      <th>ETHNICITY_code</th>\n",
       "      <th>FIRST_CAREUNIT_code</th>\n",
       "      <th>ADMISSION_TYPE_code</th>\n",
       "    </tr>\n",
       "  </thead>\n",
       "  <tbody>\n",
       "    <tr>\n",
       "      <th>0</th>\n",
       "      <td>89.0</td>\n",
       "      <td>145.0</td>\n",
       "      <td>121.043478</td>\n",
       "      <td>74.0</td>\n",
       "      <td>127.0</td>\n",
       "      <td>106.586957</td>\n",
       "      <td>42.0</td>\n",
       "      <td>90.0</td>\n",
       "      <td>61.173913</td>\n",
       "      <td>59.0</td>\n",
       "      <td>...</td>\n",
       "      <td>70</td>\n",
       "      <td>0</td>\n",
       "      <td>994</td>\n",
       "      <td>2156</td>\n",
       "      <td>2</td>\n",
       "      <td>13</td>\n",
       "      <td>4</td>\n",
       "      <td>36</td>\n",
       "      <td>2</td>\n",
       "      <td>1</td>\n",
       "    </tr>\n",
       "    <tr>\n",
       "      <th>1</th>\n",
       "      <td>63.0</td>\n",
       "      <td>110.0</td>\n",
       "      <td>79.117647</td>\n",
       "      <td>89.0</td>\n",
       "      <td>121.0</td>\n",
       "      <td>106.733333</td>\n",
       "      <td>49.0</td>\n",
       "      <td>74.0</td>\n",
       "      <td>64.733333</td>\n",
       "      <td>58.0</td>\n",
       "      <td>...</td>\n",
       "      <td>42</td>\n",
       "      <td>0</td>\n",
       "      <td>817</td>\n",
       "      <td>1900</td>\n",
       "      <td>3</td>\n",
       "      <td>16</td>\n",
       "      <td>2</td>\n",
       "      <td>36</td>\n",
       "      <td>2</td>\n",
       "      <td>1</td>\n",
       "    </tr>\n",
       "    <tr>\n",
       "      <th>2</th>\n",
       "      <td>81.0</td>\n",
       "      <td>98.0</td>\n",
       "      <td>91.689655</td>\n",
       "      <td>88.0</td>\n",
       "      <td>138.0</td>\n",
       "      <td>112.785714</td>\n",
       "      <td>45.0</td>\n",
       "      <td>67.0</td>\n",
       "      <td>56.821429</td>\n",
       "      <td>64.0</td>\n",
       "      <td>...</td>\n",
       "      <td>68</td>\n",
       "      <td>0</td>\n",
       "      <td>946</td>\n",
       "      <td>4984</td>\n",
       "      <td>2</td>\n",
       "      <td>13</td>\n",
       "      <td>3</td>\n",
       "      <td>13</td>\n",
       "      <td>2</td>\n",
       "      <td>1</td>\n",
       "    </tr>\n",
       "    <tr>\n",
       "      <th>3</th>\n",
       "      <td>76.0</td>\n",
       "      <td>128.0</td>\n",
       "      <td>98.857143</td>\n",
       "      <td>84.0</td>\n",
       "      <td>135.0</td>\n",
       "      <td>106.972973</td>\n",
       "      <td>30.0</td>\n",
       "      <td>89.0</td>\n",
       "      <td>41.864865</td>\n",
       "      <td>48.0</td>\n",
       "      <td>...</td>\n",
       "      <td>75</td>\n",
       "      <td>0</td>\n",
       "      <td>898</td>\n",
       "      <td>2315</td>\n",
       "      <td>2</td>\n",
       "      <td>11</td>\n",
       "      <td>6</td>\n",
       "      <td>36</td>\n",
       "      <td>3</td>\n",
       "      <td>0</td>\n",
       "    </tr>\n",
       "    <tr>\n",
       "      <th>4</th>\n",
       "      <td>70.0</td>\n",
       "      <td>130.0</td>\n",
       "      <td>97.951220</td>\n",
       "      <td>107.0</td>\n",
       "      <td>155.0</td>\n",
       "      <td>128.414634</td>\n",
       "      <td>60.0</td>\n",
       "      <td>88.0</td>\n",
       "      <td>74.780488</td>\n",
       "      <td>72.0</td>\n",
       "      <td>...</td>\n",
       "      <td>49</td>\n",
       "      <td>1</td>\n",
       "      <td>899</td>\n",
       "      <td>2711</td>\n",
       "      <td>3</td>\n",
       "      <td>2</td>\n",
       "      <td>4</td>\n",
       "      <td>36</td>\n",
       "      <td>2</td>\n",
       "      <td>1</td>\n",
       "    </tr>\n",
       "  </tbody>\n",
       "</table>\n",
       "<p>5 rows × 38 columns</p>\n",
       "</div>"
      ],
      "text/plain": [
       "   HeartRate_Min  HeartRate_Max  HeartRate_Mean  SysBP_Min  SysBP_Max  \\\n",
       "0           89.0          145.0      121.043478       74.0      127.0   \n",
       "1           63.0          110.0       79.117647       89.0      121.0   \n",
       "2           81.0           98.0       91.689655       88.0      138.0   \n",
       "3           76.0          128.0       98.857143       84.0      135.0   \n",
       "4           70.0          130.0       97.951220      107.0      155.0   \n",
       "\n",
       "   SysBP_Mean  DiasBP_Min  DiasBP_Max  DiasBP_Mean  MeanBP_Min  ...  age  \\\n",
       "0  106.586957        42.0        90.0    61.173913        59.0  ...   70   \n",
       "1  106.733333        49.0        74.0    64.733333        58.0  ...   42   \n",
       "2  112.785714        45.0        67.0    56.821429        64.0  ...   68   \n",
       "3  106.972973        30.0        89.0    41.864865        48.0  ...   75   \n",
       "4  128.414634        60.0        88.0    74.780488        72.0  ...   49   \n",
       "\n",
       "   GENDER_code  ICD9_diagnosis_code  DIAGNOSIS_code  INSURANCE_code  \\\n",
       "0            0                  994            2156               2   \n",
       "1            0                  817            1900               3   \n",
       "2            0                  946            4984               2   \n",
       "3            0                  898            2315               2   \n",
       "4            1                  899            2711               3   \n",
       "\n",
       "   RELIGION_code  MARITAL_STATUS_code  ETHNICITY_code  FIRST_CAREUNIT_code  \\\n",
       "0             13                    4              36                    2   \n",
       "1             16                    2              36                    2   \n",
       "2             13                    3              13                    2   \n",
       "3             11                    6              36                    3   \n",
       "4              2                    4              36                    2   \n",
       "\n",
       "   ADMISSION_TYPE_code  \n",
       "0                    1  \n",
       "1                    1  \n",
       "2                    1  \n",
       "3                    0  \n",
       "4                    1  \n",
       "\n",
       "[5 rows x 38 columns]"
      ]
     },
     "execution_count": 61,
     "metadata": {},
     "output_type": "execute_result"
    }
   ],
   "source": [
    "df.head()"
   ]
  },
  {
   "cell_type": "code",
   "execution_count": 62,
   "metadata": {
    "id": "BzrCP1KpEfQh"
   },
   "outputs": [
    {
     "name": "stdout",
     "output_type": "stream",
     "text": [
      "Index(['HeartRate_Min', 'HeartRate_Max', 'HeartRate_Mean', 'SysBP_Min',\n",
      "       'SysBP_Max', 'SysBP_Mean', 'DiasBP_Min', 'DiasBP_Max', 'DiasBP_Mean',\n",
      "       'MeanBP_Min', 'MeanBP_Max', 'MeanBP_Mean', 'RespRate_Min',\n",
      "       'RespRate_Max', 'RespRate_Mean', 'TempC_Min', 'TempC_Max', 'TempC_Mean',\n",
      "       'SpO2_Min', 'SpO2_Max', 'SpO2_Mean', 'Glucose_Min', 'Glucose_Max',\n",
      "       'Glucose_Mean', 'ICD9_CODE', 'A_code', 'B_code', 'C_code', 'age',\n",
      "       'GENDER_code', 'ICD9_diagnosis_code', 'DIAGNOSIS_code',\n",
      "       'INSURANCE_code', 'RELIGION_code', 'MARITAL_STATUS_code',\n",
      "       'ETHNICITY_code', 'FIRST_CAREUNIT_code', 'ADMISSION_TYPE_code'],\n",
      "      dtype='object')\n"
     ]
    }
   ],
   "source": [
    "col_names = df.columns\n",
    "print(col_names)"
   ]
  },
  {
   "cell_type": "code",
   "execution_count": 63,
   "metadata": {},
   "outputs": [
    {
     "data": {
      "text/plain": [
       "HeartRate_Min          float64\n",
       "HeartRate_Max          float64\n",
       "HeartRate_Mean         float64\n",
       "SysBP_Min              float64\n",
       "SysBP_Max              float64\n",
       "SysBP_Mean             float64\n",
       "DiasBP_Min             float64\n",
       "DiasBP_Max             float64\n",
       "DiasBP_Mean            float64\n",
       "MeanBP_Min             float64\n",
       "MeanBP_Max             float64\n",
       "MeanBP_Mean            float64\n",
       "RespRate_Min           float64\n",
       "RespRate_Max           float64\n",
       "RespRate_Mean          float64\n",
       "TempC_Min              float64\n",
       "TempC_Max              float64\n",
       "TempC_Mean             float64\n",
       "SpO2_Min               float64\n",
       "SpO2_Max               float64\n",
       "SpO2_Mean              float64\n",
       "Glucose_Min            float64\n",
       "Glucose_Max            float64\n",
       "Glucose_Mean           float64\n",
       "ICD9_CODE               object\n",
       "A_code                   int16\n",
       "B_code                   int16\n",
       "C_code                   int16\n",
       "age                      int64\n",
       "GENDER_code               int8\n",
       "ICD9_diagnosis_code      int16\n",
       "DIAGNOSIS_code           int16\n",
       "INSURANCE_code            int8\n",
       "RELIGION_code             int8\n",
       "MARITAL_STATUS_code       int8\n",
       "ETHNICITY_code            int8\n",
       "FIRST_CAREUNIT_code       int8\n",
       "ADMISSION_TYPE_code       int8\n",
       "dtype: object"
      ]
     },
     "execution_count": 63,
     "metadata": {},
     "output_type": "execute_result"
    }
   ],
   "source": [
    "df.dtypes"
   ]
  },
  {
   "cell_type": "code",
   "execution_count": 64,
   "metadata": {},
   "outputs": [],
   "source": [
    "#dropping this as the comorbidities has been stored as categorical in 'A_code', 'B_code', and 'C_code' already\n",
    "df = df.drop([\"ICD9_CODE\"], axis = 1)"
   ]
  },
  {
   "cell_type": "markdown",
   "metadata": {},
   "source": [
    "## Creating dummy variables"
   ]
  },
  {
   "cell_type": "markdown",
   "metadata": {},
   "source": [
    "Getting the most frequent observations to create dummies on.\n",
    "\n",
    "First we do it for the 'ICD9_diagnosis' column, and then the 'DIAGNOSIS' column. We also do it for the comorbidity columns, 'A_code', 'B_code' and 'C_code'."
   ]
  },
  {
   "cell_type": "code",
   "execution_count": 65,
   "metadata": {},
   "outputs": [],
   "source": [
    "ICD9_diagnosis_code_stats = df['ICD9_diagnosis_code'].value_counts(ascending=False) #we count the number of unique values, sort them from highest to lowest, store the results to soil_stats"
   ]
  },
  {
   "cell_type": "code",
   "execution_count": 66,
   "metadata": {
    "scrolled": true
   },
   "outputs": [
    {
     "data": {
      "text/plain": [
       "15"
      ]
     },
     "execution_count": 66,
     "metadata": {},
     "output_type": "execute_result"
    }
   ],
   "source": [
    "# we will only retain ICD9_diagnosis that occurs more than 150 times.\n",
    "# There are only 15 ICD9_diagnosis that fulfill this criterion\n",
    "# these are the ones we will make dummies on\n",
    "len(ICD9_diagnosis_code_stats[ICD9_diagnosis_code_stats>150]) "
   ]
  },
  {
   "cell_type": "code",
   "execution_count": 67,
   "metadata": {},
   "outputs": [
    {
     "data": {
      "text/plain": [
       "1717"
      ]
     },
     "execution_count": 67,
     "metadata": {},
     "output_type": "execute_result"
    }
   ],
   "source": [
    "len(ICD9_diagnosis_code_stats[ICD9_diagnosis_code_stats<=150])"
   ]
  },
  {
   "cell_type": "code",
   "execution_count": 68,
   "metadata": {},
   "outputs": [],
   "source": [
    "ICD9_diagnosis_code_stats_less_than_150 = ICD9_diagnosis_code_stats[ICD9_diagnosis_code_stats<=150] #we store the neighborhoods will less than 100 obs"
   ]
  },
  {
   "cell_type": "code",
   "execution_count": 69,
   "metadata": {},
   "outputs": [
    {
     "data": {
      "text/plain": [
       "16"
      ]
     },
     "execution_count": 69,
     "metadata": {},
     "output_type": "execute_result"
    }
   ],
   "source": [
    "df.ICD9_diagnosis_code = df.ICD9_diagnosis_code.apply(lambda x: 'other' if x in ICD9_diagnosis_code_stats_less_than_150 else x) #we are replacing the values with 'other' for those soil types with less than 100 obs\n",
    "len(df.ICD9_diagnosis_code.unique()) #now, we only have 16 unique ICD9_diagnosis_code instead of 1,732"
   ]
  },
  {
   "cell_type": "code",
   "execution_count": 70,
   "metadata": {},
   "outputs": [
    {
     "data": {
      "text/plain": [
       "array([994, 'other', 573, 763, 550, 32, 612, 744, 543, 312, 210, 794, 596,\n",
       "       611, 1001, 600], dtype=object)"
      ]
     },
     "execution_count": 70,
     "metadata": {},
     "output_type": "execute_result"
    }
   ],
   "source": [
    "df.ICD9_diagnosis_code.unique()"
   ]
  },
  {
   "cell_type": "markdown",
   "metadata": {},
   "source": [
    "Now, doing the same for 'DIAGNOSIS_code'."
   ]
  },
  {
   "cell_type": "code",
   "execution_count": 71,
   "metadata": {},
   "outputs": [],
   "source": [
    "DIAGNOSIS_code_stats = df['DIAGNOSIS_code'].value_counts(ascending=False) #we count the number of unique values, sort them from highest to lowest, store the results to soil_stats"
   ]
  },
  {
   "cell_type": "code",
   "execution_count": 72,
   "metadata": {
    "scrolled": true
   },
   "outputs": [
    {
     "data": {
      "text/plain": [
       "16"
      ]
     },
     "execution_count": 72,
     "metadata": {},
     "output_type": "execute_result"
    }
   ],
   "source": [
    "len(DIAGNOSIS_code_stats[DIAGNOSIS_code_stats>150]) "
   ]
  },
  {
   "cell_type": "code",
   "execution_count": 73,
   "metadata": {},
   "outputs": [
    {
     "data": {
      "text/plain": [
       "5136"
      ]
     },
     "execution_count": 73,
     "metadata": {},
     "output_type": "execute_result"
    }
   ],
   "source": [
    "len(DIAGNOSIS_code_stats[DIAGNOSIS_code_stats<=150])"
   ]
  },
  {
   "cell_type": "code",
   "execution_count": 74,
   "metadata": {},
   "outputs": [],
   "source": [
    "DIAGNOSIS_code_stats_less_than_150 = DIAGNOSIS_code_stats[DIAGNOSIS_code_stats<=150] "
   ]
  },
  {
   "cell_type": "code",
   "execution_count": 75,
   "metadata": {},
   "outputs": [
    {
     "data": {
      "text/plain": [
       "5152"
      ]
     },
     "execution_count": 75,
     "metadata": {},
     "output_type": "execute_result"
    }
   ],
   "source": [
    "len(df.DIAGNOSIS_code.unique())"
   ]
  },
  {
   "cell_type": "code",
   "execution_count": 76,
   "metadata": {},
   "outputs": [
    {
     "data": {
      "text/plain": [
       "17"
      ]
     },
     "execution_count": 76,
     "metadata": {},
     "output_type": "execute_result"
    }
   ],
   "source": [
    "df.DIAGNOSIS_code = df.DIAGNOSIS_code.apply(lambda x: 'other' if x in DIAGNOSIS_code_stats_less_than_150 else x) #we are replacing the values with 'other' for those soil types with less than 100 obs\n",
    "len(df.DIAGNOSIS_code.unique()) #now, we only have 11 unique neighborhoodcodes instead of 39"
   ]
  },
  {
   "cell_type": "code",
   "execution_count": 77,
   "metadata": {},
   "outputs": [
    {
     "data": {
      "text/plain": [
       "array([2156, 'other', 4984, 75, 3664, 289, 2011, 4350, 1460, 2428, 1117,\n",
       "       2595, 1690, 2915, 1367, 1545, 4635], dtype=object)"
      ]
     },
     "execution_count": 77,
     "metadata": {},
     "output_type": "execute_result"
    }
   ],
   "source": [
    "df.DIAGNOSIS_code.unique()"
   ]
  },
  {
   "cell_type": "markdown",
   "metadata": {},
   "source": [
    "I will do the same to the three commorbidity columns"
   ]
  },
  {
   "cell_type": "code",
   "execution_count": 78,
   "metadata": {
    "scrolled": true
   },
   "outputs": [
    {
     "name": "stdout",
     "output_type": "stream",
     "text": [
      "11\n",
      "1715\n"
     ]
    },
    {
     "data": {
      "text/plain": [
       "12"
      ]
     },
     "execution_count": 78,
     "metadata": {},
     "output_type": "execute_result"
    }
   ],
   "source": [
    "A_code_stats = df['A_code'].value_counts(ascending=False) #we count the number of unique values, sort them from highest to lowest, store the results to A_code_stats\n",
    "\n",
    "print(len(A_code_stats[A_code_stats>150]))\n",
    "print(len(A_code_stats[A_code_stats<=150]))\n",
    "\n",
    "A_code_stats_less_than_150 = A_code_stats[A_code_stats<=150] \n",
    "\n",
    "df.A_code = df.A_code.apply(lambda x: 'other' if x in A_code_stats_less_than_150 else x) #we are replacing the values with 'other' for those A_code with less than 150 obs\n",
    "len(df.A_code.unique())"
   ]
  },
  {
   "cell_type": "code",
   "execution_count": 79,
   "metadata": {},
   "outputs": [
    {
     "name": "stdout",
     "output_type": "stream",
     "text": [
      "10\n",
      "1412\n"
     ]
    },
    {
     "data": {
      "text/plain": [
       "11"
      ]
     },
     "execution_count": 79,
     "metadata": {},
     "output_type": "execute_result"
    }
   ],
   "source": [
    "B_code_stats = df['B_code'].value_counts(ascending=False) #we count the number of unique values, sort them from highest to lowest, store the results to B_code_stats\n",
    "\n",
    "print(len(B_code_stats[B_code_stats>250]))\n",
    "print(len(B_code_stats[B_code_stats<=250]))\n",
    "\n",
    "B_code_stats_less_than_250 = B_code_stats[B_code_stats<=250] \n",
    "\n",
    "df.B_code = df.B_code.apply(lambda x: 'other' if x in B_code_stats_less_than_250 else x) #we are replacing the values with 'other' for those soil types with less than 100 obs\n",
    "len(df.B_code.unique())\n",
    "\n",
    "# we have increased the threshold from 150 to 250 as 250 generated too many unique values"
   ]
  },
  {
   "cell_type": "code",
   "execution_count": 80,
   "metadata": {},
   "outputs": [
    {
     "name": "stdout",
     "output_type": "stream",
     "text": [
      "6\n",
      "1701\n"
     ]
    },
    {
     "data": {
      "text/plain": [
       "7"
      ]
     },
     "execution_count": 80,
     "metadata": {},
     "output_type": "execute_result"
    }
   ],
   "source": [
    "C_code_stats = df['C_code'].value_counts(ascending=False) #we count the number of unique values, sort them from highest to lowest, store the results to soil_stats\n",
    "\n",
    "print(len(C_code_stats[C_code_stats>250]))\n",
    "print(len(C_code_stats[C_code_stats<=250]))\n",
    "\n",
    "C_code_stats_less_than_250 = C_code_stats[C_code_stats<=250] \n",
    "\n",
    "df.C_code = df.C_code.apply(lambda x: 'other' if x in C_code_stats_less_than_250 else x) #we are replacing the values with 'other' for those soil types with less than 100 obs\n",
    "len(df.C_code.unique())\n",
    "\n",
    "# we have increased the threshold from 150 to 250 as 250 generated too many unique values"
   ]
  },
  {
   "cell_type": "code",
   "execution_count": 81,
   "metadata": {},
   "outputs": [
    {
     "name": "stdout",
     "output_type": "stream",
     "text": [
      "41\n",
      "7\n",
      "5\n",
      "17\n"
     ]
    }
   ],
   "source": [
    "print(len(df.ETHNICITY_code.unique())) #we will only create dummmies on major ethnicity, lump minorities into others\n",
    "print(len(df.MARITAL_STATUS_code.unique()))\n",
    "print(len(df.INSURANCE_code.unique()))\n",
    "print(len(df.RELIGION_code.unique()))  #we will only create dummmies on major religions, lump minorities into others"
   ]
  },
  {
   "cell_type": "code",
   "execution_count": 82,
   "metadata": {},
   "outputs": [
    {
     "name": "stdout",
     "output_type": "stream",
     "text": [
      "36    12040\n",
      "13     1695\n",
      "17      485\n",
      "30      404\n",
      "34      335\n",
      "35      283\n",
      "2       202\n",
      "31      149\n",
      "25      133\n",
      "5       125\n",
      "14      107\n",
      "40       90\n",
      "15       62\n",
      "3        53\n",
      "21       48\n",
      "28       39\n",
      "39       38\n",
      "32       37\n",
      "37       28\n",
      "11       24\n",
      "27       22\n",
      "12       21\n",
      "22       19\n",
      "20       17\n",
      "38       16\n",
      "6        14\n",
      "4        14\n",
      "0        12\n",
      "26       10\n",
      "24        8\n",
      "18        7\n",
      "16        6\n",
      "8         5\n",
      "7         5\n",
      "29        5\n",
      "33        4\n",
      "10        3\n",
      "9         2\n",
      "23        2\n",
      "19        2\n",
      "1         2\n",
      "Name: ETHNICITY_code, dtype: int64\n",
      "6\n",
      "35\n"
     ]
    },
    {
     "data": {
      "text/plain": [
       "7"
      ]
     },
     "execution_count": 82,
     "metadata": {},
     "output_type": "execute_result"
    }
   ],
   "source": [
    "ETHNICITY_code_stats = df['ETHNICITY_code'].value_counts(ascending=False) #we count the number of unique values, sort them from highest to lowest, store the results to soil_stats\n",
    "print(ETHNICITY_code_stats)\n",
    "\n",
    "print(len(ETHNICITY_code_stats[ETHNICITY_code_stats>250]))\n",
    "print(len(ETHNICITY_code_stats[ETHNICITY_code_stats<=250]))\n",
    "\n",
    "ETHNICITY_code_stats_less_than_250 = ETHNICITY_code_stats[ETHNICITY_code_stats<=250] \n",
    "\n",
    "df.ETHNICITY_code = df.ETHNICITY_code.apply(lambda x: 'other' if x in ETHNICITY_code_stats_less_than_250 else x) #we are replacing the values with 'other' for those soil types with less than 100 obs\n",
    "len(df.ETHNICITY_code.unique())\n",
    "\n",
    "# we have increased the threshold from 150 to 250 as 250 generated too many unique values"
   ]
  },
  {
   "cell_type": "code",
   "execution_count": 83,
   "metadata": {},
   "outputs": [
    {
     "name": "stdout",
     "output_type": "stream",
     "text": [
      "36       12040\n",
      "13        1695\n",
      "other     1331\n",
      "17         485\n",
      "30         404\n",
      "34         335\n",
      "35         283\n",
      "Name: ETHNICITY_code, dtype: int64\n",
      "7\n",
      "0\n"
     ]
    },
    {
     "data": {
      "text/plain": [
       "7"
      ]
     },
     "execution_count": 83,
     "metadata": {},
     "output_type": "execute_result"
    }
   ],
   "source": [
    "ETHNICITY_code_stats = df['ETHNICITY_code'].value_counts(ascending=False) #we count the number of unique values, sort them from highest to lowest, store the results to soil_stats\n",
    "print(ETHNICITY_code_stats)\n",
    "\n",
    "print(len(ETHNICITY_code_stats[ETHNICITY_code_stats>250]))\n",
    "print(len(ETHNICITY_code_stats[ETHNICITY_code_stats<=250]))\n",
    "\n",
    "ETHNICITY_code_stats_less_than_250 = ETHNICITY_code_stats[ETHNICITY_code_stats<=250] \n",
    "\n",
    "df.ETHNICITY_code = df.ETHNICITY_code.apply(lambda x: 'other' if x in ETHNICITY_code_stats_less_than_250 else x) #we are replacing the values with 'other' for those soil types with less than 100 obs\n",
    "len(df.ETHNICITY_code.unique())\n",
    "\n",
    "# we have increased the threshold from 150 to 250 as 250 generated too many unique values"
   ]
  },
  {
   "cell_type": "code",
   "execution_count": 84,
   "metadata": {},
   "outputs": [
    {
     "name": "stdout",
     "output_type": "stream",
     "text": [
      "2     6314\n",
      "11    4453\n",
      "13    2208\n",
      "9     1262\n",
      "16     944\n",
      "12     550\n",
      "4      231\n",
      "5      142\n",
      "3      141\n",
      "1       91\n",
      "10      68\n",
      "15      40\n",
      "8       40\n",
      "7       32\n",
      "14      29\n",
      "0       27\n",
      "6        1\n",
      "Name: RELIGION_code, dtype: int64\n",
      "6\n",
      "11\n"
     ]
    },
    {
     "data": {
      "text/plain": [
       "7"
      ]
     },
     "execution_count": 84,
     "metadata": {},
     "output_type": "execute_result"
    }
   ],
   "source": [
    "RELIGION_code_stats = df['RELIGION_code'].value_counts(ascending=False) #we count the number of unique values, sort them from highest to lowest, store the results to soil_stats\n",
    "print(RELIGION_code_stats)\n",
    "\n",
    "print(len(RELIGION_code_stats[RELIGION_code_stats>250]))\n",
    "print(len(RELIGION_code_stats[RELIGION_code_stats<=250]))\n",
    "\n",
    "RELIGION_code_stats_less_than_250 = RELIGION_code_stats[RELIGION_code_stats<=250] \n",
    "\n",
    "df.RELIGION_code = df.RELIGION_code.apply(lambda x: 'other' if x in RELIGION_code_stats_less_than_250 else x) #we are replacing the values with 'other' for those soil types with less than 100 obs\n",
    "len(df.RELIGION_code.unique())\n",
    "\n",
    "# we have increased the threshold from 150 to 250 as 250 generated too many unique values"
   ]
  },
  {
   "cell_type": "markdown",
   "metadata": {},
   "source": [
    "Now, we create the dummy variables for gender, admision type and diagnoses columns. We live out other categorical variables such as religion, marital status, and ethnicity."
   ]
  },
  {
   "cell_type": "code",
   "execution_count": 85,
   "metadata": {},
   "outputs": [],
   "source": [
    "#dummy columns for gender\n",
    "\n",
    "#df = pd.get_dummies(df, columns=['GENDER_code', 'ADMISSION_TYPE_code','ICD9_diagnosis_code', 'DIAGNOSIS_code', 'A_code', 'B_code', 'C_code'],drop_first=True)\n",
    "        \n",
    "df = pd.get_dummies(df, columns=['ICD9_diagnosis_code', 'DIAGNOSIS_code', 'INSURANCE_code',\n",
    "       'RELIGION_code', 'MARITAL_STATUS_code', 'ETHNICITY_code',\n",
    "       'FIRST_CAREUNIT_code', 'ADMISSION_TYPE_code', 'A_code', 'B_code', 'C_code'],drop_first=True)"
   ]
  },
  {
   "cell_type": "code",
   "execution_count": 86,
   "metadata": {
    "scrolled": true
   },
   "outputs": [
    {
     "data": {
      "text/html": [
       "<div>\n",
       "<style scoped>\n",
       "    .dataframe tbody tr th:only-of-type {\n",
       "        vertical-align: middle;\n",
       "    }\n",
       "\n",
       "    .dataframe tbody tr th {\n",
       "        vertical-align: top;\n",
       "    }\n",
       "\n",
       "    .dataframe thead th {\n",
       "        text-align: right;\n",
       "    }\n",
       "</style>\n",
       "<table border=\"1\" class=\"dataframe\">\n",
       "  <thead>\n",
       "    <tr style=\"text-align: right;\">\n",
       "      <th></th>\n",
       "      <th>HeartRate_Min</th>\n",
       "      <th>HeartRate_Max</th>\n",
       "      <th>HeartRate_Mean</th>\n",
       "      <th>SysBP_Min</th>\n",
       "      <th>SysBP_Max</th>\n",
       "      <th>SysBP_Mean</th>\n",
       "      <th>DiasBP_Min</th>\n",
       "      <th>DiasBP_Max</th>\n",
       "      <th>DiasBP_Mean</th>\n",
       "      <th>MeanBP_Min</th>\n",
       "      <th>...</th>\n",
       "      <th>B_code_855</th>\n",
       "      <th>B_code_860</th>\n",
       "      <th>B_code_1020</th>\n",
       "      <th>B_code_other</th>\n",
       "      <th>C_code_523</th>\n",
       "      <th>C_code_753</th>\n",
       "      <th>C_code_805</th>\n",
       "      <th>C_code_972</th>\n",
       "      <th>C_code_1001</th>\n",
       "      <th>C_code_other</th>\n",
       "    </tr>\n",
       "  </thead>\n",
       "  <tbody>\n",
       "    <tr>\n",
       "      <th>0</th>\n",
       "      <td>89.0</td>\n",
       "      <td>145.0</td>\n",
       "      <td>121.043478</td>\n",
       "      <td>74.0</td>\n",
       "      <td>127.0</td>\n",
       "      <td>106.586957</td>\n",
       "      <td>42.0</td>\n",
       "      <td>90.0</td>\n",
       "      <td>61.173913</td>\n",
       "      <td>59.0</td>\n",
       "      <td>...</td>\n",
       "      <td>0</td>\n",
       "      <td>0</td>\n",
       "      <td>0</td>\n",
       "      <td>0</td>\n",
       "      <td>0</td>\n",
       "      <td>0</td>\n",
       "      <td>0</td>\n",
       "      <td>0</td>\n",
       "      <td>0</td>\n",
       "      <td>1</td>\n",
       "    </tr>\n",
       "    <tr>\n",
       "      <th>1</th>\n",
       "      <td>63.0</td>\n",
       "      <td>110.0</td>\n",
       "      <td>79.117647</td>\n",
       "      <td>89.0</td>\n",
       "      <td>121.0</td>\n",
       "      <td>106.733333</td>\n",
       "      <td>49.0</td>\n",
       "      <td>74.0</td>\n",
       "      <td>64.733333</td>\n",
       "      <td>58.0</td>\n",
       "      <td>...</td>\n",
       "      <td>0</td>\n",
       "      <td>0</td>\n",
       "      <td>0</td>\n",
       "      <td>1</td>\n",
       "      <td>0</td>\n",
       "      <td>0</td>\n",
       "      <td>0</td>\n",
       "      <td>0</td>\n",
       "      <td>0</td>\n",
       "      <td>1</td>\n",
       "    </tr>\n",
       "    <tr>\n",
       "      <th>2</th>\n",
       "      <td>81.0</td>\n",
       "      <td>98.0</td>\n",
       "      <td>91.689655</td>\n",
       "      <td>88.0</td>\n",
       "      <td>138.0</td>\n",
       "      <td>112.785714</td>\n",
       "      <td>45.0</td>\n",
       "      <td>67.0</td>\n",
       "      <td>56.821429</td>\n",
       "      <td>64.0</td>\n",
       "      <td>...</td>\n",
       "      <td>0</td>\n",
       "      <td>0</td>\n",
       "      <td>0</td>\n",
       "      <td>1</td>\n",
       "      <td>0</td>\n",
       "      <td>0</td>\n",
       "      <td>0</td>\n",
       "      <td>0</td>\n",
       "      <td>0</td>\n",
       "      <td>1</td>\n",
       "    </tr>\n",
       "    <tr>\n",
       "      <th>3</th>\n",
       "      <td>76.0</td>\n",
       "      <td>128.0</td>\n",
       "      <td>98.857143</td>\n",
       "      <td>84.0</td>\n",
       "      <td>135.0</td>\n",
       "      <td>106.972973</td>\n",
       "      <td>30.0</td>\n",
       "      <td>89.0</td>\n",
       "      <td>41.864865</td>\n",
       "      <td>48.0</td>\n",
       "      <td>...</td>\n",
       "      <td>0</td>\n",
       "      <td>0</td>\n",
       "      <td>0</td>\n",
       "      <td>1</td>\n",
       "      <td>0</td>\n",
       "      <td>0</td>\n",
       "      <td>0</td>\n",
       "      <td>0</td>\n",
       "      <td>0</td>\n",
       "      <td>1</td>\n",
       "    </tr>\n",
       "    <tr>\n",
       "      <th>4</th>\n",
       "      <td>70.0</td>\n",
       "      <td>130.0</td>\n",
       "      <td>97.951220</td>\n",
       "      <td>107.0</td>\n",
       "      <td>155.0</td>\n",
       "      <td>128.414634</td>\n",
       "      <td>60.0</td>\n",
       "      <td>88.0</td>\n",
       "      <td>74.780488</td>\n",
       "      <td>72.0</td>\n",
       "      <td>...</td>\n",
       "      <td>0</td>\n",
       "      <td>0</td>\n",
       "      <td>0</td>\n",
       "      <td>1</td>\n",
       "      <td>1</td>\n",
       "      <td>0</td>\n",
       "      <td>0</td>\n",
       "      <td>0</td>\n",
       "      <td>0</td>\n",
       "      <td>0</td>\n",
       "    </tr>\n",
       "  </tbody>\n",
       "</table>\n",
       "<p>5 rows × 112 columns</p>\n",
       "</div>"
      ],
      "text/plain": [
       "   HeartRate_Min  HeartRate_Max  HeartRate_Mean  SysBP_Min  SysBP_Max  \\\n",
       "0           89.0          145.0      121.043478       74.0      127.0   \n",
       "1           63.0          110.0       79.117647       89.0      121.0   \n",
       "2           81.0           98.0       91.689655       88.0      138.0   \n",
       "3           76.0          128.0       98.857143       84.0      135.0   \n",
       "4           70.0          130.0       97.951220      107.0      155.0   \n",
       "\n",
       "   SysBP_Mean  DiasBP_Min  DiasBP_Max  DiasBP_Mean  MeanBP_Min  ...  \\\n",
       "0  106.586957        42.0        90.0    61.173913        59.0  ...   \n",
       "1  106.733333        49.0        74.0    64.733333        58.0  ...   \n",
       "2  112.785714        45.0        67.0    56.821429        64.0  ...   \n",
       "3  106.972973        30.0        89.0    41.864865        48.0  ...   \n",
       "4  128.414634        60.0        88.0    74.780488        72.0  ...   \n",
       "\n",
       "   B_code_855  B_code_860  B_code_1020  B_code_other  C_code_523  C_code_753  \\\n",
       "0           0           0            0             0           0           0   \n",
       "1           0           0            0             1           0           0   \n",
       "2           0           0            0             1           0           0   \n",
       "3           0           0            0             1           0           0   \n",
       "4           0           0            0             1           1           0   \n",
       "\n",
       "   C_code_805  C_code_972  C_code_1001  C_code_other  \n",
       "0           0           0            0             1  \n",
       "1           0           0            0             1  \n",
       "2           0           0            0             1  \n",
       "3           0           0            0             1  \n",
       "4           0           0            0             0  \n",
       "\n",
       "[5 rows x 112 columns]"
      ]
     },
     "execution_count": 86,
     "metadata": {},
     "output_type": "execute_result"
    }
   ],
   "source": [
    "df.head()"
   ]
  },
  {
   "cell_type": "code",
   "execution_count": 87,
   "metadata": {},
   "outputs": [
    {
     "data": {
      "text/plain": [
       "Index(['HeartRate_Min', 'HeartRate_Max', 'HeartRate_Mean', 'SysBP_Min',\n",
       "       'SysBP_Max', 'SysBP_Mean', 'DiasBP_Min', 'DiasBP_Max', 'DiasBP_Mean',\n",
       "       'MeanBP_Min',\n",
       "       ...\n",
       "       'B_code_855', 'B_code_860', 'B_code_1020', 'B_code_other', 'C_code_523',\n",
       "       'C_code_753', 'C_code_805', 'C_code_972', 'C_code_1001',\n",
       "       'C_code_other'],\n",
       "      dtype='object', length=112)"
      ]
     },
     "execution_count": 87,
     "metadata": {},
     "output_type": "execute_result"
    }
   ],
   "source": [
    "df.columns"
   ]
  },
  {
   "cell_type": "code",
   "execution_count": 88,
   "metadata": {},
   "outputs": [],
   "source": [
    "small_df = df.copy()\n",
    "# I call it small df but it's not actually small"
   ]
  },
  {
   "cell_type": "code",
   "execution_count": 89,
   "metadata": {},
   "outputs": [
    {
     "data": {
      "text/html": [
       "<div>\n",
       "<style scoped>\n",
       "    .dataframe tbody tr th:only-of-type {\n",
       "        vertical-align: middle;\n",
       "    }\n",
       "\n",
       "    .dataframe tbody tr th {\n",
       "        vertical-align: top;\n",
       "    }\n",
       "\n",
       "    .dataframe thead th {\n",
       "        text-align: right;\n",
       "    }\n",
       "</style>\n",
       "<table border=\"1\" class=\"dataframe\">\n",
       "  <thead>\n",
       "    <tr style=\"text-align: right;\">\n",
       "      <th></th>\n",
       "      <th>HeartRate_Min</th>\n",
       "      <th>HeartRate_Max</th>\n",
       "      <th>HeartRate_Mean</th>\n",
       "      <th>SysBP_Min</th>\n",
       "      <th>SysBP_Max</th>\n",
       "      <th>SysBP_Mean</th>\n",
       "      <th>DiasBP_Min</th>\n",
       "      <th>DiasBP_Max</th>\n",
       "      <th>DiasBP_Mean</th>\n",
       "      <th>MeanBP_Min</th>\n",
       "      <th>...</th>\n",
       "      <th>B_code_855</th>\n",
       "      <th>B_code_860</th>\n",
       "      <th>B_code_1020</th>\n",
       "      <th>B_code_other</th>\n",
       "      <th>C_code_523</th>\n",
       "      <th>C_code_753</th>\n",
       "      <th>C_code_805</th>\n",
       "      <th>C_code_972</th>\n",
       "      <th>C_code_1001</th>\n",
       "      <th>C_code_other</th>\n",
       "    </tr>\n",
       "  </thead>\n",
       "  <tbody>\n",
       "    <tr>\n",
       "      <th>0</th>\n",
       "      <td>89.0</td>\n",
       "      <td>145.0</td>\n",
       "      <td>121.043478</td>\n",
       "      <td>74.0</td>\n",
       "      <td>127.0</td>\n",
       "      <td>106.586957</td>\n",
       "      <td>42.0</td>\n",
       "      <td>90.0</td>\n",
       "      <td>61.173913</td>\n",
       "      <td>59.0</td>\n",
       "      <td>...</td>\n",
       "      <td>0</td>\n",
       "      <td>0</td>\n",
       "      <td>0</td>\n",
       "      <td>0</td>\n",
       "      <td>0</td>\n",
       "      <td>0</td>\n",
       "      <td>0</td>\n",
       "      <td>0</td>\n",
       "      <td>0</td>\n",
       "      <td>1</td>\n",
       "    </tr>\n",
       "    <tr>\n",
       "      <th>1</th>\n",
       "      <td>63.0</td>\n",
       "      <td>110.0</td>\n",
       "      <td>79.117647</td>\n",
       "      <td>89.0</td>\n",
       "      <td>121.0</td>\n",
       "      <td>106.733333</td>\n",
       "      <td>49.0</td>\n",
       "      <td>74.0</td>\n",
       "      <td>64.733333</td>\n",
       "      <td>58.0</td>\n",
       "      <td>...</td>\n",
       "      <td>0</td>\n",
       "      <td>0</td>\n",
       "      <td>0</td>\n",
       "      <td>1</td>\n",
       "      <td>0</td>\n",
       "      <td>0</td>\n",
       "      <td>0</td>\n",
       "      <td>0</td>\n",
       "      <td>0</td>\n",
       "      <td>1</td>\n",
       "    </tr>\n",
       "    <tr>\n",
       "      <th>2</th>\n",
       "      <td>81.0</td>\n",
       "      <td>98.0</td>\n",
       "      <td>91.689655</td>\n",
       "      <td>88.0</td>\n",
       "      <td>138.0</td>\n",
       "      <td>112.785714</td>\n",
       "      <td>45.0</td>\n",
       "      <td>67.0</td>\n",
       "      <td>56.821429</td>\n",
       "      <td>64.0</td>\n",
       "      <td>...</td>\n",
       "      <td>0</td>\n",
       "      <td>0</td>\n",
       "      <td>0</td>\n",
       "      <td>1</td>\n",
       "      <td>0</td>\n",
       "      <td>0</td>\n",
       "      <td>0</td>\n",
       "      <td>0</td>\n",
       "      <td>0</td>\n",
       "      <td>1</td>\n",
       "    </tr>\n",
       "    <tr>\n",
       "      <th>3</th>\n",
       "      <td>76.0</td>\n",
       "      <td>128.0</td>\n",
       "      <td>98.857143</td>\n",
       "      <td>84.0</td>\n",
       "      <td>135.0</td>\n",
       "      <td>106.972973</td>\n",
       "      <td>30.0</td>\n",
       "      <td>89.0</td>\n",
       "      <td>41.864865</td>\n",
       "      <td>48.0</td>\n",
       "      <td>...</td>\n",
       "      <td>0</td>\n",
       "      <td>0</td>\n",
       "      <td>0</td>\n",
       "      <td>1</td>\n",
       "      <td>0</td>\n",
       "      <td>0</td>\n",
       "      <td>0</td>\n",
       "      <td>0</td>\n",
       "      <td>0</td>\n",
       "      <td>1</td>\n",
       "    </tr>\n",
       "    <tr>\n",
       "      <th>4</th>\n",
       "      <td>70.0</td>\n",
       "      <td>130.0</td>\n",
       "      <td>97.951220</td>\n",
       "      <td>107.0</td>\n",
       "      <td>155.0</td>\n",
       "      <td>128.414634</td>\n",
       "      <td>60.0</td>\n",
       "      <td>88.0</td>\n",
       "      <td>74.780488</td>\n",
       "      <td>72.0</td>\n",
       "      <td>...</td>\n",
       "      <td>0</td>\n",
       "      <td>0</td>\n",
       "      <td>0</td>\n",
       "      <td>1</td>\n",
       "      <td>1</td>\n",
       "      <td>0</td>\n",
       "      <td>0</td>\n",
       "      <td>0</td>\n",
       "      <td>0</td>\n",
       "      <td>0</td>\n",
       "    </tr>\n",
       "  </tbody>\n",
       "</table>\n",
       "<p>5 rows × 112 columns</p>\n",
       "</div>"
      ],
      "text/plain": [
       "   HeartRate_Min  HeartRate_Max  HeartRate_Mean  SysBP_Min  SysBP_Max  \\\n",
       "0           89.0          145.0      121.043478       74.0      127.0   \n",
       "1           63.0          110.0       79.117647       89.0      121.0   \n",
       "2           81.0           98.0       91.689655       88.0      138.0   \n",
       "3           76.0          128.0       98.857143       84.0      135.0   \n",
       "4           70.0          130.0       97.951220      107.0      155.0   \n",
       "\n",
       "   SysBP_Mean  DiasBP_Min  DiasBP_Max  DiasBP_Mean  MeanBP_Min  ...  \\\n",
       "0  106.586957        42.0        90.0    61.173913        59.0  ...   \n",
       "1  106.733333        49.0        74.0    64.733333        58.0  ...   \n",
       "2  112.785714        45.0        67.0    56.821429        64.0  ...   \n",
       "3  106.972973        30.0        89.0    41.864865        48.0  ...   \n",
       "4  128.414634        60.0        88.0    74.780488        72.0  ...   \n",
       "\n",
       "   B_code_855  B_code_860  B_code_1020  B_code_other  C_code_523  C_code_753  \\\n",
       "0           0           0            0             0           0           0   \n",
       "1           0           0            0             1           0           0   \n",
       "2           0           0            0             1           0           0   \n",
       "3           0           0            0             1           0           0   \n",
       "4           0           0            0             1           1           0   \n",
       "\n",
       "   C_code_805  C_code_972  C_code_1001  C_code_other  \n",
       "0           0           0            0             1  \n",
       "1           0           0            0             1  \n",
       "2           0           0            0             1  \n",
       "3           0           0            0             1  \n",
       "4           0           0            0             0  \n",
       "\n",
       "[5 rows x 112 columns]"
      ]
     },
     "execution_count": 89,
     "metadata": {},
     "output_type": "execute_result"
    }
   ],
   "source": [
    "small_df.head()"
   ]
  },
  {
   "cell_type": "code",
   "execution_count": 90,
   "metadata": {},
   "outputs": [
    {
     "data": {
      "text/html": [
       "<div>\n",
       "<style scoped>\n",
       "    .dataframe tbody tr th:only-of-type {\n",
       "        vertical-align: middle;\n",
       "    }\n",
       "\n",
       "    .dataframe tbody tr th {\n",
       "        vertical-align: top;\n",
       "    }\n",
       "\n",
       "    .dataframe thead th {\n",
       "        text-align: right;\n",
       "    }\n",
       "</style>\n",
       "<table border=\"1\" class=\"dataframe\">\n",
       "  <thead>\n",
       "    <tr style=\"text-align: right;\">\n",
       "      <th></th>\n",
       "      <th>HeartRate_Min</th>\n",
       "      <th>HeartRate_Max</th>\n",
       "      <th>HeartRate_Mean</th>\n",
       "      <th>SysBP_Min</th>\n",
       "      <th>SysBP_Max</th>\n",
       "      <th>SysBP_Mean</th>\n",
       "      <th>DiasBP_Min</th>\n",
       "      <th>DiasBP_Max</th>\n",
       "      <th>DiasBP_Mean</th>\n",
       "      <th>MeanBP_Min</th>\n",
       "      <th>...</th>\n",
       "      <th>B_code_855</th>\n",
       "      <th>B_code_860</th>\n",
       "      <th>B_code_1020</th>\n",
       "      <th>B_code_other</th>\n",
       "      <th>C_code_523</th>\n",
       "      <th>C_code_753</th>\n",
       "      <th>C_code_805</th>\n",
       "      <th>C_code_972</th>\n",
       "      <th>C_code_1001</th>\n",
       "      <th>C_code_other</th>\n",
       "    </tr>\n",
       "  </thead>\n",
       "  <tbody>\n",
       "    <tr>\n",
       "      <th>count</th>\n",
       "      <td>16573.000000</td>\n",
       "      <td>16573.000000</td>\n",
       "      <td>16573.000000</td>\n",
       "      <td>16573.000000</td>\n",
       "      <td>16573.000000</td>\n",
       "      <td>16573.000000</td>\n",
       "      <td>16573.000000</td>\n",
       "      <td>16573.000000</td>\n",
       "      <td>16573.000000</td>\n",
       "      <td>16573.000000</td>\n",
       "      <td>...</td>\n",
       "      <td>16573.000000</td>\n",
       "      <td>16573.000000</td>\n",
       "      <td>16573.000000</td>\n",
       "      <td>16573.000000</td>\n",
       "      <td>16573.000000</td>\n",
       "      <td>16573.000000</td>\n",
       "      <td>16573.000000</td>\n",
       "      <td>16573.000000</td>\n",
       "      <td>16573.000000</td>\n",
       "      <td>16573.000000</td>\n",
       "    </tr>\n",
       "    <tr>\n",
       "      <th>mean</th>\n",
       "      <td>70.080734</td>\n",
       "      <td>105.509974</td>\n",
       "      <td>85.454756</td>\n",
       "      <td>91.343148</td>\n",
       "      <td>150.653171</td>\n",
       "      <td>119.229903</td>\n",
       "      <td>44.652688</td>\n",
       "      <td>88.532191</td>\n",
       "      <td>62.874738</td>\n",
       "      <td>56.604236</td>\n",
       "      <td>...</td>\n",
       "      <td>0.065890</td>\n",
       "      <td>0.028480</td>\n",
       "      <td>0.017619</td>\n",
       "      <td>0.694201</td>\n",
       "      <td>0.024136</td>\n",
       "      <td>0.018705</td>\n",
       "      <td>0.030713</td>\n",
       "      <td>0.036807</td>\n",
       "      <td>0.020998</td>\n",
       "      <td>0.849756</td>\n",
       "    </tr>\n",
       "    <tr>\n",
       "      <th>std</th>\n",
       "      <td>14.727028</td>\n",
       "      <td>20.938911</td>\n",
       "      <td>15.310068</td>\n",
       "      <td>17.247138</td>\n",
       "      <td>23.612872</td>\n",
       "      <td>16.590970</td>\n",
       "      <td>11.820498</td>\n",
       "      <td>19.092269</td>\n",
       "      <td>10.928818</td>\n",
       "      <td>14.232826</td>\n",
       "      <td>...</td>\n",
       "      <td>0.248098</td>\n",
       "      <td>0.166345</td>\n",
       "      <td>0.131566</td>\n",
       "      <td>0.460759</td>\n",
       "      <td>0.153475</td>\n",
       "      <td>0.135486</td>\n",
       "      <td>0.172543</td>\n",
       "      <td>0.188293</td>\n",
       "      <td>0.143382</td>\n",
       "      <td>0.357322</td>\n",
       "    </tr>\n",
       "    <tr>\n",
       "      <th>min</th>\n",
       "      <td>2.000000</td>\n",
       "      <td>39.000000</td>\n",
       "      <td>34.714286</td>\n",
       "      <td>5.000000</td>\n",
       "      <td>70.000000</td>\n",
       "      <td>50.863636</td>\n",
       "      <td>4.000000</td>\n",
       "      <td>29.000000</td>\n",
       "      <td>24.625000</td>\n",
       "      <td>1.000000</td>\n",
       "      <td>...</td>\n",
       "      <td>0.000000</td>\n",
       "      <td>0.000000</td>\n",
       "      <td>0.000000</td>\n",
       "      <td>0.000000</td>\n",
       "      <td>0.000000</td>\n",
       "      <td>0.000000</td>\n",
       "      <td>0.000000</td>\n",
       "      <td>0.000000</td>\n",
       "      <td>0.000000</td>\n",
       "      <td>0.000000</td>\n",
       "    </tr>\n",
       "    <tr>\n",
       "      <th>25%</th>\n",
       "      <td>60.000000</td>\n",
       "      <td>91.000000</td>\n",
       "      <td>74.468750</td>\n",
       "      <td>81.000000</td>\n",
       "      <td>134.000000</td>\n",
       "      <td>107.192308</td>\n",
       "      <td>37.000000</td>\n",
       "      <td>75.000000</td>\n",
       "      <td>55.326087</td>\n",
       "      <td>50.000000</td>\n",
       "      <td>...</td>\n",
       "      <td>0.000000</td>\n",
       "      <td>0.000000</td>\n",
       "      <td>0.000000</td>\n",
       "      <td>0.000000</td>\n",
       "      <td>0.000000</td>\n",
       "      <td>0.000000</td>\n",
       "      <td>0.000000</td>\n",
       "      <td>0.000000</td>\n",
       "      <td>0.000000</td>\n",
       "      <td>1.000000</td>\n",
       "    </tr>\n",
       "    <tr>\n",
       "      <th>50%</th>\n",
       "      <td>69.000000</td>\n",
       "      <td>103.000000</td>\n",
       "      <td>84.392857</td>\n",
       "      <td>90.000000</td>\n",
       "      <td>148.000000</td>\n",
       "      <td>117.000000</td>\n",
       "      <td>44.000000</td>\n",
       "      <td>86.000000</td>\n",
       "      <td>61.757576</td>\n",
       "      <td>57.000000</td>\n",
       "      <td>...</td>\n",
       "      <td>0.000000</td>\n",
       "      <td>0.000000</td>\n",
       "      <td>0.000000</td>\n",
       "      <td>1.000000</td>\n",
       "      <td>0.000000</td>\n",
       "      <td>0.000000</td>\n",
       "      <td>0.000000</td>\n",
       "      <td>0.000000</td>\n",
       "      <td>0.000000</td>\n",
       "      <td>1.000000</td>\n",
       "    </tr>\n",
       "    <tr>\n",
       "      <th>75%</th>\n",
       "      <td>79.000000</td>\n",
       "      <td>118.000000</td>\n",
       "      <td>95.551020</td>\n",
       "      <td>101.000000</td>\n",
       "      <td>164.000000</td>\n",
       "      <td>129.454545</td>\n",
       "      <td>52.000000</td>\n",
       "      <td>98.000000</td>\n",
       "      <td>69.261905</td>\n",
       "      <td>65.000000</td>\n",
       "      <td>...</td>\n",
       "      <td>0.000000</td>\n",
       "      <td>0.000000</td>\n",
       "      <td>0.000000</td>\n",
       "      <td>1.000000</td>\n",
       "      <td>0.000000</td>\n",
       "      <td>0.000000</td>\n",
       "      <td>0.000000</td>\n",
       "      <td>0.000000</td>\n",
       "      <td>0.000000</td>\n",
       "      <td>1.000000</td>\n",
       "    </tr>\n",
       "    <tr>\n",
       "      <th>max</th>\n",
       "      <td>137.000000</td>\n",
       "      <td>280.000000</td>\n",
       "      <td>149.676471</td>\n",
       "      <td>168.000000</td>\n",
       "      <td>323.000000</td>\n",
       "      <td>202.172414</td>\n",
       "      <td>103.000000</td>\n",
       "      <td>275.000000</td>\n",
       "      <td>121.489362</td>\n",
       "      <td>112.000000</td>\n",
       "      <td>...</td>\n",
       "      <td>1.000000</td>\n",
       "      <td>1.000000</td>\n",
       "      <td>1.000000</td>\n",
       "      <td>1.000000</td>\n",
       "      <td>1.000000</td>\n",
       "      <td>1.000000</td>\n",
       "      <td>1.000000</td>\n",
       "      <td>1.000000</td>\n",
       "      <td>1.000000</td>\n",
       "      <td>1.000000</td>\n",
       "    </tr>\n",
       "  </tbody>\n",
       "</table>\n",
       "<p>8 rows × 112 columns</p>\n",
       "</div>"
      ],
      "text/plain": [
       "       HeartRate_Min  HeartRate_Max  HeartRate_Mean     SysBP_Min  \\\n",
       "count   16573.000000   16573.000000    16573.000000  16573.000000   \n",
       "mean       70.080734     105.509974       85.454756     91.343148   \n",
       "std        14.727028      20.938911       15.310068     17.247138   \n",
       "min         2.000000      39.000000       34.714286      5.000000   \n",
       "25%        60.000000      91.000000       74.468750     81.000000   \n",
       "50%        69.000000     103.000000       84.392857     90.000000   \n",
       "75%        79.000000     118.000000       95.551020    101.000000   \n",
       "max       137.000000     280.000000      149.676471    168.000000   \n",
       "\n",
       "          SysBP_Max    SysBP_Mean    DiasBP_Min    DiasBP_Max   DiasBP_Mean  \\\n",
       "count  16573.000000  16573.000000  16573.000000  16573.000000  16573.000000   \n",
       "mean     150.653171    119.229903     44.652688     88.532191     62.874738   \n",
       "std       23.612872     16.590970     11.820498     19.092269     10.928818   \n",
       "min       70.000000     50.863636      4.000000     29.000000     24.625000   \n",
       "25%      134.000000    107.192308     37.000000     75.000000     55.326087   \n",
       "50%      148.000000    117.000000     44.000000     86.000000     61.757576   \n",
       "75%      164.000000    129.454545     52.000000     98.000000     69.261905   \n",
       "max      323.000000    202.172414    103.000000    275.000000    121.489362   \n",
       "\n",
       "         MeanBP_Min  ...    B_code_855    B_code_860   B_code_1020  \\\n",
       "count  16573.000000  ...  16573.000000  16573.000000  16573.000000   \n",
       "mean      56.604236  ...      0.065890      0.028480      0.017619   \n",
       "std       14.232826  ...      0.248098      0.166345      0.131566   \n",
       "min        1.000000  ...      0.000000      0.000000      0.000000   \n",
       "25%       50.000000  ...      0.000000      0.000000      0.000000   \n",
       "50%       57.000000  ...      0.000000      0.000000      0.000000   \n",
       "75%       65.000000  ...      0.000000      0.000000      0.000000   \n",
       "max      112.000000  ...      1.000000      1.000000      1.000000   \n",
       "\n",
       "       B_code_other    C_code_523    C_code_753    C_code_805    C_code_972  \\\n",
       "count  16573.000000  16573.000000  16573.000000  16573.000000  16573.000000   \n",
       "mean       0.694201      0.024136      0.018705      0.030713      0.036807   \n",
       "std        0.460759      0.153475      0.135486      0.172543      0.188293   \n",
       "min        0.000000      0.000000      0.000000      0.000000      0.000000   \n",
       "25%        0.000000      0.000000      0.000000      0.000000      0.000000   \n",
       "50%        1.000000      0.000000      0.000000      0.000000      0.000000   \n",
       "75%        1.000000      0.000000      0.000000      0.000000      0.000000   \n",
       "max        1.000000      1.000000      1.000000      1.000000      1.000000   \n",
       "\n",
       "        C_code_1001  C_code_other  \n",
       "count  16573.000000  16573.000000  \n",
       "mean       0.020998      0.849756  \n",
       "std        0.143382      0.357322  \n",
       "min        0.000000      0.000000  \n",
       "25%        0.000000      1.000000  \n",
       "50%        0.000000      1.000000  \n",
       "75%        0.000000      1.000000  \n",
       "max        1.000000      1.000000  \n",
       "\n",
       "[8 rows x 112 columns]"
      ]
     },
     "execution_count": 90,
     "metadata": {},
     "output_type": "execute_result"
    }
   ],
   "source": [
    "small_df.describe()"
   ]
  },
  {
   "cell_type": "code",
   "execution_count": 91,
   "metadata": {},
   "outputs": [
    {
     "data": {
      "text/plain": [
       "HeartRate_Min                float64\n",
       "HeartRate_Max                float64\n",
       "HeartRate_Mean               float64\n",
       "SysBP_Min                    float64\n",
       "SysBP_Max                    float64\n",
       "SysBP_Mean                   float64\n",
       "DiasBP_Min                   float64\n",
       "DiasBP_Max                   float64\n",
       "DiasBP_Mean                  float64\n",
       "MeanBP_Min                   float64\n",
       "MeanBP_Max                   float64\n",
       "MeanBP_Mean                  float64\n",
       "RespRate_Min                 float64\n",
       "RespRate_Max                 float64\n",
       "RespRate_Mean                float64\n",
       "TempC_Min                    float64\n",
       "TempC_Max                    float64\n",
       "TempC_Mean                   float64\n",
       "SpO2_Min                     float64\n",
       "SpO2_Max                     float64\n",
       "SpO2_Mean                    float64\n",
       "Glucose_Min                  float64\n",
       "Glucose_Max                  float64\n",
       "Glucose_Mean                 float64\n",
       "age                            int64\n",
       "GENDER_code                     int8\n",
       "ICD9_diagnosis_code_210        uint8\n",
       "ICD9_diagnosis_code_312        uint8\n",
       "ICD9_diagnosis_code_543        uint8\n",
       "ICD9_diagnosis_code_550        uint8\n",
       "ICD9_diagnosis_code_573        uint8\n",
       "ICD9_diagnosis_code_596        uint8\n",
       "ICD9_diagnosis_code_600        uint8\n",
       "ICD9_diagnosis_code_611        uint8\n",
       "ICD9_diagnosis_code_612        uint8\n",
       "ICD9_diagnosis_code_744        uint8\n",
       "ICD9_diagnosis_code_763        uint8\n",
       "ICD9_diagnosis_code_794        uint8\n",
       "ICD9_diagnosis_code_994        uint8\n",
       "ICD9_diagnosis_code_1001       uint8\n",
       "ICD9_diagnosis_code_other      uint8\n",
       "DIAGNOSIS_code_289             uint8\n",
       "DIAGNOSIS_code_1117            uint8\n",
       "DIAGNOSIS_code_1367            uint8\n",
       "DIAGNOSIS_code_1460            uint8\n",
       "DIAGNOSIS_code_1545            uint8\n",
       "DIAGNOSIS_code_1690            uint8\n",
       "DIAGNOSIS_code_2011            uint8\n",
       "DIAGNOSIS_code_2156            uint8\n",
       "DIAGNOSIS_code_2428            uint8\n",
       "DIAGNOSIS_code_2595            uint8\n",
       "DIAGNOSIS_code_2915            uint8\n",
       "DIAGNOSIS_code_3664            uint8\n",
       "DIAGNOSIS_code_4350            uint8\n",
       "DIAGNOSIS_code_4635            uint8\n",
       "DIAGNOSIS_code_4984            uint8\n",
       "DIAGNOSIS_code_other           uint8\n",
       "INSURANCE_code_1               uint8\n",
       "INSURANCE_code_2               uint8\n",
       "INSURANCE_code_3               uint8\n",
       "INSURANCE_code_4               uint8\n",
       "RELIGION_code_9                uint8\n",
       "RELIGION_code_11               uint8\n",
       "RELIGION_code_12               uint8\n",
       "RELIGION_code_13               uint8\n",
       "RELIGION_code_16               uint8\n",
       "RELIGION_code_other            uint8\n",
       "MARITAL_STATUS_code_1          uint8\n",
       "MARITAL_STATUS_code_2          uint8\n",
       "MARITAL_STATUS_code_3          uint8\n",
       "MARITAL_STATUS_code_4          uint8\n",
       "MARITAL_STATUS_code_5          uint8\n",
       "MARITAL_STATUS_code_6          uint8\n",
       "ETHNICITY_code_17              uint8\n",
       "ETHNICITY_code_30              uint8\n",
       "ETHNICITY_code_34              uint8\n",
       "ETHNICITY_code_35              uint8\n",
       "ETHNICITY_code_36              uint8\n",
       "ETHNICITY_code_other           uint8\n",
       "FIRST_CAREUNIT_code_1          uint8\n",
       "FIRST_CAREUNIT_code_2          uint8\n",
       "FIRST_CAREUNIT_code_3          uint8\n",
       "FIRST_CAREUNIT_code_4          uint8\n",
       "ADMISSION_TYPE_code_1          uint8\n",
       "ADMISSION_TYPE_code_2          uint8\n",
       "A_code_199                     uint8\n",
       "A_code_527                     uint8\n",
       "A_code_537                     uint8\n",
       "A_code_560                     uint8\n",
       "A_code_597                     uint8\n",
       "A_code_598                     uint8\n",
       "A_code_725                     uint8\n",
       "A_code_743                     uint8\n",
       "A_code_772                     uint8\n",
       "A_code_967                     uint8\n",
       "A_code_other                   uint8\n",
       "B_code_401                     uint8\n",
       "B_code_521                     uint8\n",
       "B_code_660                     uint8\n",
       "B_code_676                     uint8\n",
       "B_code_705                     uint8\n",
       "B_code_853                     uint8\n",
       "B_code_855                     uint8\n",
       "B_code_860                     uint8\n",
       "B_code_1020                    uint8\n",
       "B_code_other                   uint8\n",
       "C_code_523                     uint8\n",
       "C_code_753                     uint8\n",
       "C_code_805                     uint8\n",
       "C_code_972                     uint8\n",
       "C_code_1001                    uint8\n",
       "C_code_other                   uint8\n",
       "dtype: object"
      ]
     },
     "execution_count": 91,
     "metadata": {},
     "output_type": "execute_result"
    }
   ],
   "source": [
    "small_df.dtypes"
   ]
  },
  {
   "cell_type": "code",
   "execution_count": 92,
   "metadata": {},
   "outputs": [
    {
     "data": {
      "text/plain": [
       "HeartRate_Min                0\n",
       "HeartRate_Max                0\n",
       "HeartRate_Mean               0\n",
       "SysBP_Min                    0\n",
       "SysBP_Max                    0\n",
       "SysBP_Mean                   0\n",
       "DiasBP_Min                   0\n",
       "DiasBP_Max                   0\n",
       "DiasBP_Mean                  0\n",
       "MeanBP_Min                   0\n",
       "MeanBP_Max                   0\n",
       "MeanBP_Mean                  0\n",
       "RespRate_Min                 0\n",
       "RespRate_Max                 0\n",
       "RespRate_Mean                0\n",
       "TempC_Min                    0\n",
       "TempC_Max                    0\n",
       "TempC_Mean                   0\n",
       "SpO2_Min                     0\n",
       "SpO2_Max                     0\n",
       "SpO2_Mean                    0\n",
       "Glucose_Min                  0\n",
       "Glucose_Max                  0\n",
       "Glucose_Mean                 0\n",
       "age                          0\n",
       "GENDER_code                  0\n",
       "ICD9_diagnosis_code_210      0\n",
       "ICD9_diagnosis_code_312      0\n",
       "ICD9_diagnosis_code_543      0\n",
       "ICD9_diagnosis_code_550      0\n",
       "ICD9_diagnosis_code_573      0\n",
       "ICD9_diagnosis_code_596      0\n",
       "ICD9_diagnosis_code_600      0\n",
       "ICD9_diagnosis_code_611      0\n",
       "ICD9_diagnosis_code_612      0\n",
       "ICD9_diagnosis_code_744      0\n",
       "ICD9_diagnosis_code_763      0\n",
       "ICD9_diagnosis_code_794      0\n",
       "ICD9_diagnosis_code_994      0\n",
       "ICD9_diagnosis_code_1001     0\n",
       "ICD9_diagnosis_code_other    0\n",
       "DIAGNOSIS_code_289           0\n",
       "DIAGNOSIS_code_1117          0\n",
       "DIAGNOSIS_code_1367          0\n",
       "DIAGNOSIS_code_1460          0\n",
       "DIAGNOSIS_code_1545          0\n",
       "DIAGNOSIS_code_1690          0\n",
       "DIAGNOSIS_code_2011          0\n",
       "DIAGNOSIS_code_2156          0\n",
       "DIAGNOSIS_code_2428          0\n",
       "DIAGNOSIS_code_2595          0\n",
       "DIAGNOSIS_code_2915          0\n",
       "DIAGNOSIS_code_3664          0\n",
       "DIAGNOSIS_code_4350          0\n",
       "DIAGNOSIS_code_4635          0\n",
       "DIAGNOSIS_code_4984          0\n",
       "DIAGNOSIS_code_other         0\n",
       "INSURANCE_code_1             0\n",
       "INSURANCE_code_2             0\n",
       "INSURANCE_code_3             0\n",
       "INSURANCE_code_4             0\n",
       "RELIGION_code_9              0\n",
       "RELIGION_code_11             0\n",
       "RELIGION_code_12             0\n",
       "RELIGION_code_13             0\n",
       "RELIGION_code_16             0\n",
       "RELIGION_code_other          0\n",
       "MARITAL_STATUS_code_1        0\n",
       "MARITAL_STATUS_code_2        0\n",
       "MARITAL_STATUS_code_3        0\n",
       "MARITAL_STATUS_code_4        0\n",
       "MARITAL_STATUS_code_5        0\n",
       "MARITAL_STATUS_code_6        0\n",
       "ETHNICITY_code_17            0\n",
       "ETHNICITY_code_30            0\n",
       "ETHNICITY_code_34            0\n",
       "ETHNICITY_code_35            0\n",
       "ETHNICITY_code_36            0\n",
       "ETHNICITY_code_other         0\n",
       "FIRST_CAREUNIT_code_1        0\n",
       "FIRST_CAREUNIT_code_2        0\n",
       "FIRST_CAREUNIT_code_3        0\n",
       "FIRST_CAREUNIT_code_4        0\n",
       "ADMISSION_TYPE_code_1        0\n",
       "ADMISSION_TYPE_code_2        0\n",
       "A_code_199                   0\n",
       "A_code_527                   0\n",
       "A_code_537                   0\n",
       "A_code_560                   0\n",
       "A_code_597                   0\n",
       "A_code_598                   0\n",
       "A_code_725                   0\n",
       "A_code_743                   0\n",
       "A_code_772                   0\n",
       "A_code_967                   0\n",
       "A_code_other                 0\n",
       "B_code_401                   0\n",
       "B_code_521                   0\n",
       "B_code_660                   0\n",
       "B_code_676                   0\n",
       "B_code_705                   0\n",
       "B_code_853                   0\n",
       "B_code_855                   0\n",
       "B_code_860                   0\n",
       "B_code_1020                  0\n",
       "B_code_other                 0\n",
       "C_code_523                   0\n",
       "C_code_753                   0\n",
       "C_code_805                   0\n",
       "C_code_972                   0\n",
       "C_code_1001                  0\n",
       "C_code_other                 0\n",
       "dtype: int64"
      ]
     },
     "execution_count": 92,
     "metadata": {},
     "output_type": "execute_result"
    }
   ],
   "source": [
    "pd.set_option('display.max_rows', 120)\n",
    "small_df.isnull().sum()\n",
    "\n",
    "#there are no null values"
   ]
  },
  {
   "cell_type": "markdown",
   "metadata": {},
   "source": [
    "## Standardization"
   ]
  },
  {
   "cell_type": "code",
   "execution_count": 93,
   "metadata": {},
   "outputs": [
    {
     "data": {
      "text/html": [
       "<div>\n",
       "<style scoped>\n",
       "    .dataframe tbody tr th:only-of-type {\n",
       "        vertical-align: middle;\n",
       "    }\n",
       "\n",
       "    .dataframe tbody tr th {\n",
       "        vertical-align: top;\n",
       "    }\n",
       "\n",
       "    .dataframe thead th {\n",
       "        text-align: right;\n",
       "    }\n",
       "</style>\n",
       "<table border=\"1\" class=\"dataframe\">\n",
       "  <thead>\n",
       "    <tr style=\"text-align: right;\">\n",
       "      <th></th>\n",
       "      <th>HeartRate_Min</th>\n",
       "      <th>HeartRate_Max</th>\n",
       "      <th>HeartRate_Mean</th>\n",
       "      <th>SysBP_Min</th>\n",
       "      <th>SysBP_Max</th>\n",
       "      <th>SysBP_Mean</th>\n",
       "      <th>DiasBP_Min</th>\n",
       "      <th>DiasBP_Max</th>\n",
       "      <th>DiasBP_Mean</th>\n",
       "      <th>MeanBP_Min</th>\n",
       "      <th>...</th>\n",
       "      <th>B_code_855</th>\n",
       "      <th>B_code_860</th>\n",
       "      <th>B_code_1020</th>\n",
       "      <th>B_code_other</th>\n",
       "      <th>C_code_523</th>\n",
       "      <th>C_code_753</th>\n",
       "      <th>C_code_805</th>\n",
       "      <th>C_code_972</th>\n",
       "      <th>C_code_1001</th>\n",
       "      <th>C_code_other</th>\n",
       "    </tr>\n",
       "  </thead>\n",
       "  <tbody>\n",
       "    <tr>\n",
       "      <th>0</th>\n",
       "      <td>1.284702</td>\n",
       "      <td>1.886021</td>\n",
       "      <td>2.324601</td>\n",
       "      <td>-1.005597</td>\n",
       "      <td>-1.001737</td>\n",
       "      <td>-0.762061</td>\n",
       "      <td>-0.224421</td>\n",
       "      <td>0.076882</td>\n",
       "      <td>-0.155632</td>\n",
       "      <td>0.168332</td>\n",
       "      <td>...</td>\n",
       "      <td>-0.26559</td>\n",
       "      <td>-0.171216</td>\n",
       "      <td>-0.133922</td>\n",
       "      <td>-1.506694</td>\n",
       "      <td>-0.157266</td>\n",
       "      <td>-0.138064</td>\n",
       "      <td>-0.178005</td>\n",
       "      <td>-0.195482</td>\n",
       "      <td>-0.146453</td>\n",
       "      <td>0.420487</td>\n",
       "    </tr>\n",
       "    <tr>\n",
       "      <th>1</th>\n",
       "      <td>-0.480813</td>\n",
       "      <td>0.214441</td>\n",
       "      <td>-0.413930</td>\n",
       "      <td>-0.135861</td>\n",
       "      <td>-1.255843</td>\n",
       "      <td>-0.753238</td>\n",
       "      <td>0.367788</td>\n",
       "      <td>-0.761179</td>\n",
       "      <td>0.170069</td>\n",
       "      <td>0.098070</td>\n",
       "      <td>...</td>\n",
       "      <td>-0.26559</td>\n",
       "      <td>-0.171216</td>\n",
       "      <td>-0.133922</td>\n",
       "      <td>0.663705</td>\n",
       "      <td>-0.157266</td>\n",
       "      <td>-0.138064</td>\n",
       "      <td>-0.178005</td>\n",
       "      <td>-0.195482</td>\n",
       "      <td>-0.146453</td>\n",
       "      <td>0.420487</td>\n",
       "    </tr>\n",
       "    <tr>\n",
       "      <th>2</th>\n",
       "      <td>0.741466</td>\n",
       "      <td>-0.358672</td>\n",
       "      <td>0.407254</td>\n",
       "      <td>-0.193844</td>\n",
       "      <td>-0.535875</td>\n",
       "      <td>-0.388427</td>\n",
       "      <td>0.029383</td>\n",
       "      <td>-1.127830</td>\n",
       "      <td>-0.553902</td>\n",
       "      <td>0.519643</td>\n",
       "      <td>...</td>\n",
       "      <td>-0.26559</td>\n",
       "      <td>-0.171216</td>\n",
       "      <td>-0.133922</td>\n",
       "      <td>0.663705</td>\n",
       "      <td>-0.157266</td>\n",
       "      <td>-0.138064</td>\n",
       "      <td>-0.178005</td>\n",
       "      <td>-0.195482</td>\n",
       "      <td>-0.146453</td>\n",
       "      <td>0.420487</td>\n",
       "    </tr>\n",
       "    <tr>\n",
       "      <th>3</th>\n",
       "      <td>0.401944</td>\n",
       "      <td>1.074111</td>\n",
       "      <td>0.875423</td>\n",
       "      <td>-0.425773</td>\n",
       "      <td>-0.662928</td>\n",
       "      <td>-0.738793</td>\n",
       "      <td>-1.239637</td>\n",
       "      <td>0.024503</td>\n",
       "      <td>-1.922487</td>\n",
       "      <td>-0.604553</td>\n",
       "      <td>...</td>\n",
       "      <td>-0.26559</td>\n",
       "      <td>-0.171216</td>\n",
       "      <td>-0.133922</td>\n",
       "      <td>0.663705</td>\n",
       "      <td>-0.157266</td>\n",
       "      <td>-0.138064</td>\n",
       "      <td>-0.178005</td>\n",
       "      <td>-0.195482</td>\n",
       "      <td>-0.146453</td>\n",
       "      <td>0.420487</td>\n",
       "    </tr>\n",
       "    <tr>\n",
       "      <th>4</th>\n",
       "      <td>-0.005482</td>\n",
       "      <td>1.169629</td>\n",
       "      <td>0.816250</td>\n",
       "      <td>0.907822</td>\n",
       "      <td>0.184093</td>\n",
       "      <td>0.553615</td>\n",
       "      <td>1.298403</td>\n",
       "      <td>-0.027876</td>\n",
       "      <td>1.089423</td>\n",
       "      <td>1.081741</td>\n",
       "      <td>...</td>\n",
       "      <td>-0.26559</td>\n",
       "      <td>-0.171216</td>\n",
       "      <td>-0.133922</td>\n",
       "      <td>0.663705</td>\n",
       "      <td>6.358656</td>\n",
       "      <td>-0.138064</td>\n",
       "      <td>-0.178005</td>\n",
       "      <td>-0.195482</td>\n",
       "      <td>-0.146453</td>\n",
       "      <td>-2.378197</td>\n",
       "    </tr>\n",
       "  </tbody>\n",
       "</table>\n",
       "<p>5 rows × 112 columns</p>\n",
       "</div>"
      ],
      "text/plain": [
       "   HeartRate_Min  HeartRate_Max  HeartRate_Mean  SysBP_Min  SysBP_Max  \\\n",
       "0       1.284702       1.886021        2.324601  -1.005597  -1.001737   \n",
       "1      -0.480813       0.214441       -0.413930  -0.135861  -1.255843   \n",
       "2       0.741466      -0.358672        0.407254  -0.193844  -0.535875   \n",
       "3       0.401944       1.074111        0.875423  -0.425773  -0.662928   \n",
       "4      -0.005482       1.169629        0.816250   0.907822   0.184093   \n",
       "\n",
       "   SysBP_Mean  DiasBP_Min  DiasBP_Max  DiasBP_Mean  MeanBP_Min  ...  \\\n",
       "0   -0.762061   -0.224421    0.076882    -0.155632    0.168332  ...   \n",
       "1   -0.753238    0.367788   -0.761179     0.170069    0.098070  ...   \n",
       "2   -0.388427    0.029383   -1.127830    -0.553902    0.519643  ...   \n",
       "3   -0.738793   -1.239637    0.024503    -1.922487   -0.604553  ...   \n",
       "4    0.553615    1.298403   -0.027876     1.089423    1.081741  ...   \n",
       "\n",
       "   B_code_855  B_code_860  B_code_1020  B_code_other  C_code_523  C_code_753  \\\n",
       "0    -0.26559   -0.171216    -0.133922     -1.506694   -0.157266   -0.138064   \n",
       "1    -0.26559   -0.171216    -0.133922      0.663705   -0.157266   -0.138064   \n",
       "2    -0.26559   -0.171216    -0.133922      0.663705   -0.157266   -0.138064   \n",
       "3    -0.26559   -0.171216    -0.133922      0.663705   -0.157266   -0.138064   \n",
       "4    -0.26559   -0.171216    -0.133922      0.663705    6.358656   -0.138064   \n",
       "\n",
       "   C_code_805  C_code_972  C_code_1001  C_code_other  \n",
       "0   -0.178005   -0.195482    -0.146453      0.420487  \n",
       "1   -0.178005   -0.195482    -0.146453      0.420487  \n",
       "2   -0.178005   -0.195482    -0.146453      0.420487  \n",
       "3   -0.178005   -0.195482    -0.146453      0.420487  \n",
       "4   -0.178005   -0.195482    -0.146453     -2.378197  \n",
       "\n",
       "[5 rows x 112 columns]"
      ]
     },
     "execution_count": 93,
     "metadata": {},
     "output_type": "execute_result"
    }
   ],
   "source": [
    "#standardization \n",
    "from sklearn import preprocessing\n",
    "# Get column names first\n",
    "names = small_df.columns\n",
    "# Create the Scaler object\n",
    "scaler = preprocessing.StandardScaler()\n",
    "# Fit your data on the scaler object\n",
    "small_df = scaler.fit_transform(small_df)\n",
    "small_df = pd.DataFrame(small_df, columns=names)\n",
    "small_df.head()"
   ]
  },
  {
   "cell_type": "markdown",
   "metadata": {},
   "source": [
    "## Polynomial Features"
   ]
  },
  {
   "cell_type": "code",
   "execution_count": 94,
   "metadata": {},
   "outputs": [
    {
     "name": "stdout",
     "output_type": "stream",
     "text": [
      "['HeartRate_Min', 'HeartRate_Max', 'HeartRate_Mean', 'SysBP_Min', 'SysBP_Max', 'SysBP_Mean', 'DiasBP_Min', 'DiasBP_Max', 'DiasBP_Mean', 'MeanBP_Min', 'MeanBP_Max', 'MeanBP_Mean', 'RespRate_Min', 'RespRate_Max', 'RespRate_Mean', 'TempC_Min', 'TempC_Max', 'TempC_Mean', 'SpO2_Min', 'SpO2_Max', 'SpO2_Mean', 'Glucose_Min', 'Glucose_Max', 'Glucose_Mean', 'age', 'GENDER_code', 'ICD9_diagnosis_code_210', 'ICD9_diagnosis_code_312', 'ICD9_diagnosis_code_543', 'ICD9_diagnosis_code_550', 'ICD9_diagnosis_code_573', 'ICD9_diagnosis_code_596', 'ICD9_diagnosis_code_600', 'ICD9_diagnosis_code_611', 'ICD9_diagnosis_code_612', 'ICD9_diagnosis_code_744', 'ICD9_diagnosis_code_763', 'ICD9_diagnosis_code_794', 'ICD9_diagnosis_code_994', 'ICD9_diagnosis_code_1001', 'ICD9_diagnosis_code_other', 'DIAGNOSIS_code_289', 'DIAGNOSIS_code_1117', 'DIAGNOSIS_code_1367', 'DIAGNOSIS_code_1460', 'DIAGNOSIS_code_1545', 'DIAGNOSIS_code_1690', 'DIAGNOSIS_code_2011', 'DIAGNOSIS_code_2156', 'DIAGNOSIS_code_2428', 'DIAGNOSIS_code_2595', 'DIAGNOSIS_code_2915', 'DIAGNOSIS_code_3664', 'DIAGNOSIS_code_4350', 'DIAGNOSIS_code_4635', 'DIAGNOSIS_code_4984', 'DIAGNOSIS_code_other', 'INSURANCE_code_1', 'INSURANCE_code_2', 'INSURANCE_code_3', 'INSURANCE_code_4', 'RELIGION_code_9', 'RELIGION_code_11', 'RELIGION_code_12', 'RELIGION_code_13', 'RELIGION_code_16', 'RELIGION_code_other', 'MARITAL_STATUS_code_1', 'MARITAL_STATUS_code_2', 'MARITAL_STATUS_code_3', 'MARITAL_STATUS_code_4', 'MARITAL_STATUS_code_5', 'MARITAL_STATUS_code_6', 'ETHNICITY_code_17', 'ETHNICITY_code_30', 'ETHNICITY_code_34', 'ETHNICITY_code_35', 'ETHNICITY_code_36', 'ETHNICITY_code_other', 'FIRST_CAREUNIT_code_1', 'FIRST_CAREUNIT_code_2', 'FIRST_CAREUNIT_code_3', 'FIRST_CAREUNIT_code_4', 'ADMISSION_TYPE_code_1', 'ADMISSION_TYPE_code_2', 'A_code_199', 'A_code_527', 'A_code_537', 'A_code_560', 'A_code_597', 'A_code_598', 'A_code_725', 'A_code_743', 'A_code_772', 'A_code_967', 'A_code_other', 'B_code_401', 'B_code_521', 'B_code_660', 'B_code_676', 'B_code_705', 'B_code_853', 'B_code_855', 'B_code_860', 'B_code_1020', 'B_code_other', 'C_code_523', 'C_code_753', 'C_code_805', 'C_code_972', 'C_code_1001', 'C_code_other']\n"
     ]
    }
   ],
   "source": [
    "small_df_columns = small_df.columns\n",
    "print(list(small_df_columns))"
   ]
  },
  {
   "cell_type": "code",
   "execution_count": 95,
   "metadata": {},
   "outputs": [
    {
     "data": {
      "text/html": [
       "<div>\n",
       "<style scoped>\n",
       "    .dataframe tbody tr th:only-of-type {\n",
       "        vertical-align: middle;\n",
       "    }\n",
       "\n",
       "    .dataframe tbody tr th {\n",
       "        vertical-align: top;\n",
       "    }\n",
       "\n",
       "    .dataframe thead th {\n",
       "        text-align: right;\n",
       "    }\n",
       "</style>\n",
       "<table border=\"1\" class=\"dataframe\">\n",
       "  <thead>\n",
       "    <tr style=\"text-align: right;\">\n",
       "      <th></th>\n",
       "      <th>HeartRate_Mean</th>\n",
       "      <th>SysBP_Mean</th>\n",
       "      <th>DiasBP_Mean</th>\n",
       "      <th>MeanBP_Mean</th>\n",
       "      <th>RespRate_Mean</th>\n",
       "      <th>TempC_Mean</th>\n",
       "      <th>SpO2_Mean</th>\n",
       "      <th>Glucose_Mean</th>\n",
       "      <th>age</th>\n",
       "      <th>GENDER_code</th>\n",
       "      <th>...</th>\n",
       "      <th>B_code_855</th>\n",
       "      <th>B_code_860</th>\n",
       "      <th>B_code_1020</th>\n",
       "      <th>B_code_other</th>\n",
       "      <th>C_code_523</th>\n",
       "      <th>C_code_753</th>\n",
       "      <th>C_code_805</th>\n",
       "      <th>C_code_972</th>\n",
       "      <th>C_code_1001</th>\n",
       "      <th>C_code_other</th>\n",
       "    </tr>\n",
       "  </thead>\n",
       "  <tbody>\n",
       "    <tr>\n",
       "      <th>0</th>\n",
       "      <td>2.324601</td>\n",
       "      <td>-0.762061</td>\n",
       "      <td>-0.155632</td>\n",
       "      <td>-0.301951</td>\n",
       "      <td>0.885147</td>\n",
       "      <td>-1.190604</td>\n",
       "      <td>-0.534277</td>\n",
       "      <td>0.487975</td>\n",
       "      <td>0.441955</td>\n",
       "      <td>-1.144476</td>\n",
       "      <td>...</td>\n",
       "      <td>-0.26559</td>\n",
       "      <td>-0.171216</td>\n",
       "      <td>-0.133922</td>\n",
       "      <td>-1.506694</td>\n",
       "      <td>-0.157266</td>\n",
       "      <td>-0.138064</td>\n",
       "      <td>-0.178005</td>\n",
       "      <td>-0.195482</td>\n",
       "      <td>-0.146453</td>\n",
       "      <td>0.420487</td>\n",
       "    </tr>\n",
       "    <tr>\n",
       "      <th>1</th>\n",
       "      <td>-0.413930</td>\n",
       "      <td>-0.753238</td>\n",
       "      <td>0.170069</td>\n",
       "      <td>-0.278739</td>\n",
       "      <td>-0.748350</td>\n",
       "      <td>-0.513415</td>\n",
       "      <td>1.002829</td>\n",
       "      <td>-0.812498</td>\n",
       "      <td>-1.276278</td>\n",
       "      <td>-1.144476</td>\n",
       "      <td>...</td>\n",
       "      <td>-0.26559</td>\n",
       "      <td>-0.171216</td>\n",
       "      <td>-0.133922</td>\n",
       "      <td>0.663705</td>\n",
       "      <td>-0.157266</td>\n",
       "      <td>-0.138064</td>\n",
       "      <td>-0.178005</td>\n",
       "      <td>-0.195482</td>\n",
       "      <td>-0.146453</td>\n",
       "      <td>0.420487</td>\n",
       "    </tr>\n",
       "    <tr>\n",
       "      <th>2</th>\n",
       "      <td>0.407254</td>\n",
       "      <td>-0.388427</td>\n",
       "      <td>-0.553902</td>\n",
       "      <td>-0.451670</td>\n",
       "      <td>-0.789603</td>\n",
       "      <td>-0.177486</td>\n",
       "      <td>1.438618</td>\n",
       "      <td>1.767757</td>\n",
       "      <td>0.319224</td>\n",
       "      <td>-1.144476</td>\n",
       "      <td>...</td>\n",
       "      <td>-0.26559</td>\n",
       "      <td>-0.171216</td>\n",
       "      <td>-0.133922</td>\n",
       "      <td>0.663705</td>\n",
       "      <td>-0.157266</td>\n",
       "      <td>-0.138064</td>\n",
       "      <td>-0.178005</td>\n",
       "      <td>-0.195482</td>\n",
       "      <td>-0.146453</td>\n",
       "      <td>0.420487</td>\n",
       "    </tr>\n",
       "    <tr>\n",
       "      <th>3</th>\n",
       "      <td>0.875423</td>\n",
       "      <td>-0.738793</td>\n",
       "      <td>-1.922487</td>\n",
       "      <td>-1.366055</td>\n",
       "      <td>2.034127</td>\n",
       "      <td>1.838085</td>\n",
       "      <td>-0.836826</td>\n",
       "      <td>-0.317318</td>\n",
       "      <td>0.748782</td>\n",
       "      <td>-1.144476</td>\n",
       "      <td>...</td>\n",
       "      <td>-0.26559</td>\n",
       "      <td>-0.171216</td>\n",
       "      <td>-0.133922</td>\n",
       "      <td>0.663705</td>\n",
       "      <td>-0.157266</td>\n",
       "      <td>-0.138064</td>\n",
       "      <td>-0.178005</td>\n",
       "      <td>-0.195482</td>\n",
       "      <td>-0.146453</td>\n",
       "      <td>0.420487</td>\n",
       "    </tr>\n",
       "    <tr>\n",
       "      <th>4</th>\n",
       "      <td>0.816250</td>\n",
       "      <td>0.553615</td>\n",
       "      <td>1.089423</td>\n",
       "      <td>0.808966</td>\n",
       "      <td>-0.839650</td>\n",
       "      <td>-0.307744</td>\n",
       "      <td>0.919125</td>\n",
       "      <td>-0.780986</td>\n",
       "      <td>-0.846720</td>\n",
       "      <td>0.873762</td>\n",
       "      <td>...</td>\n",
       "      <td>-0.26559</td>\n",
       "      <td>-0.171216</td>\n",
       "      <td>-0.133922</td>\n",
       "      <td>0.663705</td>\n",
       "      <td>6.358656</td>\n",
       "      <td>-0.138064</td>\n",
       "      <td>-0.178005</td>\n",
       "      <td>-0.195482</td>\n",
       "      <td>-0.146453</td>\n",
       "      <td>-2.378197</td>\n",
       "    </tr>\n",
       "    <tr>\n",
       "      <th>...</th>\n",
       "      <td>...</td>\n",
       "      <td>...</td>\n",
       "      <td>...</td>\n",
       "      <td>...</td>\n",
       "      <td>...</td>\n",
       "      <td>...</td>\n",
       "      <td>...</td>\n",
       "      <td>...</td>\n",
       "      <td>...</td>\n",
       "      <td>...</td>\n",
       "      <td>...</td>\n",
       "      <td>...</td>\n",
       "      <td>...</td>\n",
       "      <td>...</td>\n",
       "      <td>...</td>\n",
       "      <td>...</td>\n",
       "      <td>...</td>\n",
       "      <td>...</td>\n",
       "      <td>...</td>\n",
       "      <td>...</td>\n",
       "      <td>...</td>\n",
       "    </tr>\n",
       "    <tr>\n",
       "      <th>16568</th>\n",
       "      <td>-0.229097</td>\n",
       "      <td>-1.510110</td>\n",
       "      <td>-0.370702</td>\n",
       "      <td>-0.995186</td>\n",
       "      <td>-1.037797</td>\n",
       "      <td>-0.177486</td>\n",
       "      <td>0.805003</td>\n",
       "      <td>-0.835006</td>\n",
       "      <td>-0.110334</td>\n",
       "      <td>0.873762</td>\n",
       "      <td>...</td>\n",
       "      <td>-0.26559</td>\n",
       "      <td>-0.171216</td>\n",
       "      <td>7.467051</td>\n",
       "      <td>-1.506694</td>\n",
       "      <td>-0.157266</td>\n",
       "      <td>-0.138064</td>\n",
       "      <td>-0.178005</td>\n",
       "      <td>-0.195482</td>\n",
       "      <td>-0.146453</td>\n",
       "      <td>0.420487</td>\n",
       "    </tr>\n",
       "    <tr>\n",
       "      <th>16569</th>\n",
       "      <td>-0.454274</td>\n",
       "      <td>-0.497497</td>\n",
       "      <td>-0.574599</td>\n",
       "      <td>-0.777712</td>\n",
       "      <td>-0.914277</td>\n",
       "      <td>-1.060499</td>\n",
       "      <td>1.361447</td>\n",
       "      <td>-0.799636</td>\n",
       "      <td>1.546533</td>\n",
       "      <td>0.873762</td>\n",
       "      <td>...</td>\n",
       "      <td>-0.26559</td>\n",
       "      <td>-0.171216</td>\n",
       "      <td>-0.133922</td>\n",
       "      <td>0.663705</td>\n",
       "      <td>-0.157266</td>\n",
       "      <td>-0.138064</td>\n",
       "      <td>-0.178005</td>\n",
       "      <td>-0.195482</td>\n",
       "      <td>-0.146453</td>\n",
       "      <td>0.420487</td>\n",
       "    </tr>\n",
       "    <tr>\n",
       "      <th>16570</th>\n",
       "      <td>0.241776</td>\n",
       "      <td>0.243684</td>\n",
       "      <td>0.452345</td>\n",
       "      <td>0.405675</td>\n",
       "      <td>-1.080185</td>\n",
       "      <td>1.221074</td>\n",
       "      <td>0.295522</td>\n",
       "      <td>2.392666</td>\n",
       "      <td>0.196493</td>\n",
       "      <td>0.873762</td>\n",
       "      <td>...</td>\n",
       "      <td>-0.26559</td>\n",
       "      <td>-0.171216</td>\n",
       "      <td>-0.133922</td>\n",
       "      <td>-1.506694</td>\n",
       "      <td>-0.157266</td>\n",
       "      <td>-0.138064</td>\n",
       "      <td>-0.178005</td>\n",
       "      <td>-0.195482</td>\n",
       "      <td>-0.146453</td>\n",
       "      <td>0.420487</td>\n",
       "    </tr>\n",
       "    <tr>\n",
       "      <th>16571</th>\n",
       "      <td>-0.556606</td>\n",
       "      <td>-0.433554</td>\n",
       "      <td>0.411368</td>\n",
       "      <td>0.056064</td>\n",
       "      <td>-0.200862</td>\n",
       "      <td>0.412103</td>\n",
       "      <td>1.068197</td>\n",
       "      <td>1.145713</td>\n",
       "      <td>0.012397</td>\n",
       "      <td>-1.144476</td>\n",
       "      <td>...</td>\n",
       "      <td>-0.26559</td>\n",
       "      <td>-0.171216</td>\n",
       "      <td>-0.133922</td>\n",
       "      <td>0.663705</td>\n",
       "      <td>-0.157266</td>\n",
       "      <td>-0.138064</td>\n",
       "      <td>-0.178005</td>\n",
       "      <td>-0.195482</td>\n",
       "      <td>-0.146453</td>\n",
       "      <td>0.420487</td>\n",
       "    </tr>\n",
       "    <tr>\n",
       "      <th>16572</th>\n",
       "      <td>-0.517874</td>\n",
       "      <td>-0.780100</td>\n",
       "      <td>-0.714302</td>\n",
       "      <td>-0.870502</td>\n",
       "      <td>-1.040977</td>\n",
       "      <td>0.478374</td>\n",
       "      <td>1.284276</td>\n",
       "      <td>0.993783</td>\n",
       "      <td>-1.030816</td>\n",
       "      <td>-1.144476</td>\n",
       "      <td>...</td>\n",
       "      <td>-0.26559</td>\n",
       "      <td>-0.171216</td>\n",
       "      <td>-0.133922</td>\n",
       "      <td>0.663705</td>\n",
       "      <td>-0.157266</td>\n",
       "      <td>-0.138064</td>\n",
       "      <td>-0.178005</td>\n",
       "      <td>-0.195482</td>\n",
       "      <td>-0.146453</td>\n",
       "      <td>-2.378197</td>\n",
       "    </tr>\n",
       "  </tbody>\n",
       "</table>\n",
       "<p>16573 rows × 167 columns</p>\n",
       "</div>"
      ],
      "text/plain": [
       "       HeartRate_Mean  SysBP_Mean  DiasBP_Mean  MeanBP_Mean  RespRate_Mean  \\\n",
       "0            2.324601   -0.762061    -0.155632    -0.301951       0.885147   \n",
       "1           -0.413930   -0.753238     0.170069    -0.278739      -0.748350   \n",
       "2            0.407254   -0.388427    -0.553902    -0.451670      -0.789603   \n",
       "3            0.875423   -0.738793    -1.922487    -1.366055       2.034127   \n",
       "4            0.816250    0.553615     1.089423     0.808966      -0.839650   \n",
       "...               ...         ...          ...          ...            ...   \n",
       "16568       -0.229097   -1.510110    -0.370702    -0.995186      -1.037797   \n",
       "16569       -0.454274   -0.497497    -0.574599    -0.777712      -0.914277   \n",
       "16570        0.241776    0.243684     0.452345     0.405675      -1.080185   \n",
       "16571       -0.556606   -0.433554     0.411368     0.056064      -0.200862   \n",
       "16572       -0.517874   -0.780100    -0.714302    -0.870502      -1.040977   \n",
       "\n",
       "       TempC_Mean  SpO2_Mean  Glucose_Mean       age  GENDER_code  ...  \\\n",
       "0       -1.190604  -0.534277      0.487975  0.441955    -1.144476  ...   \n",
       "1       -0.513415   1.002829     -0.812498 -1.276278    -1.144476  ...   \n",
       "2       -0.177486   1.438618      1.767757  0.319224    -1.144476  ...   \n",
       "3        1.838085  -0.836826     -0.317318  0.748782    -1.144476  ...   \n",
       "4       -0.307744   0.919125     -0.780986 -0.846720     0.873762  ...   \n",
       "...           ...        ...           ...       ...          ...  ...   \n",
       "16568   -0.177486   0.805003     -0.835006 -0.110334     0.873762  ...   \n",
       "16569   -1.060499   1.361447     -0.799636  1.546533     0.873762  ...   \n",
       "16570    1.221074   0.295522      2.392666  0.196493     0.873762  ...   \n",
       "16571    0.412103   1.068197      1.145713  0.012397    -1.144476  ...   \n",
       "16572    0.478374   1.284276      0.993783 -1.030816    -1.144476  ...   \n",
       "\n",
       "       B_code_855  B_code_860  B_code_1020  B_code_other  C_code_523  \\\n",
       "0        -0.26559   -0.171216    -0.133922     -1.506694   -0.157266   \n",
       "1        -0.26559   -0.171216    -0.133922      0.663705   -0.157266   \n",
       "2        -0.26559   -0.171216    -0.133922      0.663705   -0.157266   \n",
       "3        -0.26559   -0.171216    -0.133922      0.663705   -0.157266   \n",
       "4        -0.26559   -0.171216    -0.133922      0.663705    6.358656   \n",
       "...           ...         ...          ...           ...         ...   \n",
       "16568    -0.26559   -0.171216     7.467051     -1.506694   -0.157266   \n",
       "16569    -0.26559   -0.171216    -0.133922      0.663705   -0.157266   \n",
       "16570    -0.26559   -0.171216    -0.133922     -1.506694   -0.157266   \n",
       "16571    -0.26559   -0.171216    -0.133922      0.663705   -0.157266   \n",
       "16572    -0.26559   -0.171216    -0.133922      0.663705   -0.157266   \n",
       "\n",
       "       C_code_753  C_code_805  C_code_972  C_code_1001  C_code_other  \n",
       "0       -0.138064   -0.178005   -0.195482    -0.146453      0.420487  \n",
       "1       -0.138064   -0.178005   -0.195482    -0.146453      0.420487  \n",
       "2       -0.138064   -0.178005   -0.195482    -0.146453      0.420487  \n",
       "3       -0.138064   -0.178005   -0.195482    -0.146453      0.420487  \n",
       "4       -0.138064   -0.178005   -0.195482    -0.146453     -2.378197  \n",
       "...           ...         ...         ...          ...           ...  \n",
       "16568   -0.138064   -0.178005   -0.195482    -0.146453      0.420487  \n",
       "16569   -0.138064   -0.178005   -0.195482    -0.146453      0.420487  \n",
       "16570   -0.138064   -0.178005   -0.195482    -0.146453      0.420487  \n",
       "16571   -0.138064   -0.178005   -0.195482    -0.146453      0.420487  \n",
       "16572   -0.138064   -0.178005   -0.195482    -0.146453     -2.378197  \n",
       "\n",
       "[16573 rows x 167 columns]"
      ]
     },
     "execution_count": 95,
     "metadata": {},
     "output_type": "execute_result"
    }
   ],
   "source": [
    "#we select some columns that we will do polynomial features on.\n",
    "poly = plf(2)\n",
    "small_df_f = small_df[['HeartRate_Mean','SysBP_Mean', 'DiasBP_Mean', 'MeanBP_Mean', 'RespRate_Mean', 'TempC_Mean', 'SpO2_Mean', 'Glucose_Mean', 'age', 'GENDER_code']]\n",
    "small_df_f_1 = poly.fit_transform(small_df_f)\n",
    "small_df_f_columns = np.array(poly.get_feature_names(small_df_f.columns))   \n",
    "\n",
    "\n",
    "#these are the remaining columns that we will not being doing polynomial features on\n",
    "small_df_f_no = small_df.drop(['HeartRate_Mean','SysBP_Mean', 'DiasBP_Mean', 'MeanBP_Mean', 'RespRate_Mean', 'TempC_Mean', 'SpO2_Mean', 'Glucose_Mean', 'age', 'GENDER_code'], axis=1)\n",
    "small_df_f_no_columns = small_df_f_no.columns \n",
    "\n",
    "# concatenating the two dataframes\n",
    "final_small_df_columns = np.concatenate([small_df_f_columns, small_df_f_no_columns])\n",
    "final_small_df = np.concatenate((small_df_f_1, small_df_f_no), axis=1)\n",
    "final_small_df = pd.DataFrame(final_small_df)\n",
    "final_small_df.columns = final_small_df_columns\n",
    "final_small_df = final_small_df.drop(['1'],axis=1)\n",
    "\n",
    "\n",
    "pd.set_option('display.max_rows', 20)\n",
    "final_small_df"
   ]
  },
  {
   "cell_type": "markdown",
   "metadata": {},
   "source": [
    "final_small_df contains the variables that we will be working on"
   ]
  },
  {
   "cell_type": "code",
   "execution_count": 96,
   "metadata": {},
   "outputs": [],
   "source": [
    "final_small_df_columns = final_small_df.columns"
   ]
  },
  {
   "cell_type": "code",
   "execution_count": 97,
   "metadata": {},
   "outputs": [
    {
     "name": "stdout",
     "output_type": "stream",
     "text": [
      "Index(['HeartRate_Mean', 'SysBP_Mean', 'DiasBP_Mean', 'MeanBP_Mean',\n",
      "       'RespRate_Mean', 'TempC_Mean', 'SpO2_Mean', 'Glucose_Mean', 'age',\n",
      "       'GENDER_code',\n",
      "       ...\n",
      "       'B_code_855', 'B_code_860', 'B_code_1020', 'B_code_other', 'C_code_523',\n",
      "       'C_code_753', 'C_code_805', 'C_code_972', 'C_code_1001',\n",
      "       'C_code_other'],\n",
      "      dtype='object', length=167)\n"
     ]
    }
   ],
   "source": [
    "print(final_small_df_columns)"
   ]
  },
  {
   "cell_type": "markdown",
   "metadata": {},
   "source": [
    "## Data exploration"
   ]
  },
  {
   "cell_type": "markdown",
   "metadata": {},
   "source": [
    "Now that we have cleaned and standardized the data, let's explore it some more."
   ]
  },
  {
   "cell_type": "code",
   "execution_count": 98,
   "metadata": {},
   "outputs": [
    {
     "name": "stderr",
     "output_type": "stream",
     "text": [
      "<ipython-input-98-e8db6c82a8ec>:6: SettingWithCopyWarning: \n",
      "A value is trying to be set on a copy of a slice from a DataFrame.\n",
      "Try using .loc[row_indexer,col_indexer] = value instead\n",
      "\n",
      "See the caveats in the documentation: https://pandas.pydata.org/pandas-docs/stable/user_guide/indexing.html#returning-a-view-versus-a-copy\n",
      "  df_de[\"HOSPITAL_EXPIRE_FLAG\"] = response[\"HOSPITAL_EXPIRE_FLAG\"]\n"
     ]
    }
   ],
   "source": [
    "#creating a smaller data set to be used for exploration/visualization\n",
    "\n",
    "df_de = final_small_df[['HeartRate_Mean', 'SysBP_Mean', 'DiasBP_Mean', 'MeanBP_Mean',\n",
    "       'RespRate_Mean', 'TempC_Mean', 'SpO2_Mean', 'Glucose_Mean', 'age', 'GENDER_code']]\n",
    "\n",
    "df_de[\"HOSPITAL_EXPIRE_FLAG\"] = response[\"HOSPITAL_EXPIRE_FLAG\"]"
   ]
  },
  {
   "cell_type": "code",
   "execution_count": 99,
   "metadata": {},
   "outputs": [
    {
     "data": {
      "text/plain": [
       "<AxesSubplot:>"
      ]
     },
     "execution_count": 99,
     "metadata": {},
     "output_type": "execute_result"
    },
    {
     "data": {
      "image/png": "[encoded data removed]",
      "text/plain": [
       "<Figure size 432x288 with 1 Axes>"
      ]
     },
     "metadata": {
      "needs_background": "light"
     },
     "output_type": "display_data"
    }
   ],
   "source": [
    "df_de.HOSPITAL_EXPIRE_FLAG.value_counts().plot(kind=\"bar\")\n",
    "#less than 2000 people are expired in the hospital in our dataset"
   ]
  },
  {
   "cell_type": "code",
   "execution_count": 100,
   "metadata": {},
   "outputs": [
    {
     "data": {
      "text/plain": [
       "0.0         AxesSubplot(0.1,0.15;0.363636x0.75)\n",
       "1.0    AxesSubplot(0.536364,0.15;0.363636x0.75)\n",
       "dtype: object"
      ]
     },
     "execution_count": 100,
     "metadata": {},
     "output_type": "execute_result"
    },
    {
     "data": {
      "image/png": "[encoded data removed]",
      "text/plain": [
       "<Figure size 432x288 with 2 Axes>"
      ]
     },
     "metadata": {
      "needs_background": "light"
     },
     "output_type": "display_data"
    }
   ],
   "source": [
    "df_de.groupby(\"HOSPITAL_EXPIRE_FLAG\").boxplot(rot=90)\n",
    "\n",
    "# we observe that the diagnostic values of those who lived are more varied\n",
    "# this is as expected since more than 90% of the observations lived (more observations, more varied)"
   ]
  },
  {
   "cell_type": "code",
   "execution_count": 101,
   "metadata": {},
   "outputs": [
    {
     "name": "stderr",
     "output_type": "stream",
     "text": [
      "<ipython-input-101-e0b983e1dad5>:1: SettingWithCopyWarning: \n",
      "A value is trying to be set on a copy of a slice from a DataFrame.\n",
      "Try using .loc[row_indexer,col_indexer] = value instead\n",
      "\n",
      "See the caveats in the documentation: https://pandas.pydata.org/pandas-docs/stable/user_guide/indexing.html#returning-a-view-versus-a-copy\n",
      "  df_de[\"LOS\"] = response[\"LOS\"]\n"
     ]
    }
   ],
   "source": [
    "df_de[\"LOS\"] = response[\"LOS\"]"
   ]
  },
  {
   "cell_type": "code",
   "execution_count": 102,
   "metadata": {
    "scrolled": true
   },
   "outputs": [
    {
     "data": {
      "text/html": [
       "<div>\n",
       "<style scoped>\n",
       "    .dataframe tbody tr th:only-of-type {\n",
       "        vertical-align: middle;\n",
       "    }\n",
       "\n",
       "    .dataframe tbody tr th {\n",
       "        vertical-align: top;\n",
       "    }\n",
       "\n",
       "    .dataframe thead th {\n",
       "        text-align: right;\n",
       "    }\n",
       "</style>\n",
       "<table border=\"1\" class=\"dataframe\">\n",
       "  <thead>\n",
       "    <tr style=\"text-align: right;\">\n",
       "      <th></th>\n",
       "      <th>LOS</th>\n",
       "    </tr>\n",
       "  </thead>\n",
       "  <tbody>\n",
       "    <tr>\n",
       "      <th>count</th>\n",
       "      <td>15721.00000</td>\n",
       "    </tr>\n",
       "    <tr>\n",
       "      <th>mean</th>\n",
       "      <td>3.67602</td>\n",
       "    </tr>\n",
       "    <tr>\n",
       "      <th>std</th>\n",
       "      <td>5.13433</td>\n",
       "    </tr>\n",
       "    <tr>\n",
       "      <th>min</th>\n",
       "      <td>0.11200</td>\n",
       "    </tr>\n",
       "    <tr>\n",
       "      <th>25%</th>\n",
       "      <td>1.17820</td>\n",
       "    </tr>\n",
       "    <tr>\n",
       "      <th>50%</th>\n",
       "      <td>2.01770</td>\n",
       "    </tr>\n",
       "    <tr>\n",
       "      <th>75%</th>\n",
       "      <td>3.87520</td>\n",
       "    </tr>\n",
       "    <tr>\n",
       "      <th>max</th>\n",
       "      <td>101.73900</td>\n",
       "    </tr>\n",
       "  </tbody>\n",
       "</table>\n",
       "</div>"
      ],
      "text/plain": [
       "               LOS\n",
       "count  15721.00000\n",
       "mean       3.67602\n",
       "std        5.13433\n",
       "min        0.11200\n",
       "25%        1.17820\n",
       "50%        2.01770\n",
       "75%        3.87520\n",
       "max      101.73900"
      ]
     },
     "execution_count": 102,
     "metadata": {},
     "output_type": "execute_result"
    }
   ],
   "source": [
    "df_de[[\"LOS\"]].describe()\n",
    "\n",
    "#the mean length of stay in the hospital is 3 days\n",
    "# the longest one is almost 102 days"
   ]
  },
  {
   "cell_type": "code",
   "execution_count": 103,
   "metadata": {},
   "outputs": [
    {
     "data": {
      "text/plain": [
       "<AxesSubplot:ylabel='Frequency'>"
      ]
     },
     "execution_count": 103,
     "metadata": {},
     "output_type": "execute_result"
    },
    {
     "data": {
      "image/png": "[encoded data removed]",
      "text/plain": [
       "<Figure size 432x288 with 1 Axes>"
      ]
     },
     "metadata": {
      "needs_background": "light"
     },
     "output_type": "display_data"
    }
   ],
   "source": [
    "import math\n",
    "\n",
    "w = 2\n",
    "n = math.ceil((df_de.LOS.max() - df_de.LOS.min())/w)\n",
    "\n",
    "df_de.LOS.plot(kind='hist', bins=n)\n",
    "\n",
    "# the length of stay is postively skewed, only very few stayed in the hospital for more than 20 days"
   ]
  },
  {
   "cell_type": "markdown",
   "metadata": {},
   "source": [
    "# Baseline"
   ]
  },
  {
   "cell_type": "markdown",
   "metadata": {},
   "source": [
    "## Baseline Linear Model"
   ]
  },
  {
   "cell_type": "markdown",
   "metadata": {},
   "source": [
    "We test the predicting power of the full/base dataset (without SVD/PCA and clustering).\n",
    "\n",
    "For linear predictions, we will use the 'LOS' or length of stay as the dependent variable."
   ]
  },
  {
   "cell_type": "code",
   "execution_count": 104,
   "metadata": {},
   "outputs": [
    {
     "name": "stdout",
     "output_type": "stream",
     "text": [
      "MSE: 26.646\n"
     ]
    }
   ],
   "source": [
    "#importing train test split\n",
    "from sklearn.model_selection import train_test_split\n",
    "\n",
    "# storing features and labels\n",
    "X = final_small_df\n",
    "y_los = response['LOS']\n",
    "\n",
    "#splitting dataset\n",
    "X_train, X_test, y_train, y_test = train_test_split(X, y_los, test_size=0.33, random_state=42)\n",
    "\n",
    "#importing the model we will use\n",
    "from sklearn.ensemble import RandomForestRegressor\n",
    "\n",
    "# fit the model\n",
    "model = RandomForestRegressor(random_state=1)\n",
    "model.fit(X_train, y_train)\n",
    "\n",
    "from sklearn.metrics import mean_squared_error\n",
    "\n",
    "# make predictions\n",
    "yhat = model.predict(X_test)\n",
    "# evaluate predictions\n",
    "mse = mean_squared_error(y_test, yhat)\n",
    "print('MSE: %.3f' % mse)"
   ]
  },
  {
   "cell_type": "markdown",
   "metadata": {},
   "source": [
    "## Baseline Classifier Model"
   ]
  },
  {
   "cell_type": "markdown",
   "metadata": {},
   "source": [
    "For classification, we will use the 'HOSPITAL_EXPIRE_FLAG' (whether the patient survived (0) or not(1))."
   ]
  },
  {
   "cell_type": "code",
   "execution_count": 105,
   "metadata": {},
   "outputs": [
    {
     "name": "stdout",
     "output_type": "stream",
     "text": [
      "0.910237659963437\n"
     ]
    }
   ],
   "source": [
    "from sklearn.ensemble import RandomForestClassifier\n",
    "from sklearn.metrics import accuracy_score\n",
    "\n",
    "# storing features and labels\n",
    "X = final_small_df\n",
    "y_flag = response['HOSPITAL_EXPIRE_FLAG']\n",
    "\n",
    "X_train, X_test, y_train, y_test = train_test_split(X, y_flag, test_size=0.33, random_state=42)\n",
    "\n",
    "# fit the model\n",
    "model = RandomForestClassifier(random_state=1)\n",
    "model.fit(X_train, y_train)\n",
    "# make predictions\n",
    "yhat = model.predict(X_test)\n",
    "# evaluate predictions\n",
    "acc = accuracy_score(y_test, yhat)\n",
    "print(acc)"
   ]
  },
  {
   "cell_type": "code",
   "execution_count": 106,
   "metadata": {},
   "outputs": [
    {
     "name": "stdout",
     "output_type": "stream",
     "text": [
      "[[9912   61]\n",
      " [ 972  158]]\n"
     ]
    },
    {
     "data": {
      "image/png": "[encoded data removed]",
      "text/plain": [
       "<Figure size 432x288 with 2 Axes>"
      ]
     },
     "metadata": {},
     "output_type": "display_data"
    }
   ],
   "source": [
    "#class predictions\n",
    "y_hat_cv = cvp(model, X_train, y_train, cv=10)\n",
    "\n",
    "#confusion matrix - cross validated\n",
    "cm =  confusion_matrix(y_pred=y_hat_cv, y_true=y_train, labels=[0,1])\n",
    "print (cm)\n",
    "# Plotting confusion matrix \n",
    "plot_confusion_matrix(cm, [0,1])"
   ]
  },
  {
   "cell_type": "code",
   "execution_count": 107,
   "metadata": {},
   "outputs": [
    {
     "name": "stdout",
     "output_type": "stream",
     "text": [
      "              precision    recall  f1-score   support\n",
      "\n",
      "           0       0.91      0.99      0.95      9973\n",
      "           1       0.72      0.14      0.23      1130\n",
      "\n",
      "    accuracy                           0.91     11103\n",
      "   macro avg       0.82      0.57      0.59     11103\n",
      "weighted avg       0.89      0.91      0.88     11103\n",
      "\n"
     ]
    }
   ],
   "source": [
    "####  Classification report\n",
    "print (classification_report(y_train, y_hat_cv))"
   ]
  },
  {
   "cell_type": "markdown",
   "metadata": {},
   "source": [
    "Since the dataset is unbalanced, it is more difficult for the model to predict which patients survived or not.\n",
    "However, we will not be using balancing methods as that is not our main concern. Our main concern is clustering and how it will help improve predictions after we add it as a column predictor."
   ]
  },
  {
   "cell_type": "markdown",
   "metadata": {},
   "source": [
    "## K-means on base data"
   ]
  },
  {
   "cell_type": "markdown",
   "metadata": {},
   "source": [
    "We first do clustering on non-compressed data (without using SVD/PCA)."
   ]
  },
  {
   "cell_type": "markdown",
   "metadata": {},
   "source": [
    "### Clustering and Classification"
   ]
  },
  {
   "cell_type": "markdown",
   "metadata": {},
   "source": [
    "We will explore more ways that help us determine optimal number of k later on."
   ]
  },
  {
   "cell_type": "code",
   "execution_count": 108,
   "metadata": {},
   "outputs": [
    {
     "data": {
      "text/plain": [
       "[<matplotlib.lines.Line2D at 0x1c383906220>]"
      ]
     },
     "execution_count": 108,
     "metadata": {},
     "output_type": "execute_result"
    },
    {
     "data": {
      "image/png": "[encoded data removed]",
      "text/plain": [
       "<Figure size 432x288 with 1 Axes>"
      ]
     },
     "metadata": {},
     "output_type": "display_data"
    }
   ],
   "source": [
    "#finding k\n",
    "#elbow\n",
    "from sklearn.cluster import KMeans\n",
    "\n",
    "sse = []\n",
    "k_rng = range(1,10)\n",
    "for k in k_rng:\n",
    "    km = KMeans(n_clusters=k)\n",
    "    km.fit(final_small_df)\n",
    "    sse.append(km.inertia_)\n",
    "\n",
    "plt.xlabel('K')\n",
    "plt.ylabel('Sum of squared error')\n",
    "plt.plot(k_rng,sse)\n",
    "\n",
    "#the elbow is clear at k=2"
   ]
  },
  {
   "cell_type": "code",
   "execution_count": 109,
   "metadata": {},
   "outputs": [
    {
     "data": {
      "text/plain": [
       "array([1, 1, 1, ..., 1, 1, 1])"
      ]
     },
     "execution_count": 109,
     "metadata": {},
     "output_type": "execute_result"
    }
   ],
   "source": [
    "# k=2\n",
    "\n",
    "#fitting the model\n",
    "SEED=2305\n",
    "km = KMeans(n_clusters=2, random_state=SEED)\n",
    "\n",
    "y_predicted = km.fit_predict(final_small_df)\n",
    "y_predicted"
   ]
  },
  {
   "cell_type": "code",
   "execution_count": 110,
   "metadata": {
    "id": "qSmlvZWjknNO"
   },
   "outputs": [],
   "source": [
    "y_predicted = pd.DataFrame(y_predicted)"
   ]
  },
  {
   "cell_type": "code",
   "execution_count": 111,
   "metadata": {
    "scrolled": true
   },
   "outputs": [
    {
     "data": {
      "text/plain": [
       "1    16563\n",
       "0       10\n",
       "dtype: int64"
      ]
     },
     "execution_count": 111,
     "metadata": {},
     "output_type": "execute_result"
    },
    {
     "data": {
      "image/png": "[encoded data removed]",
      "text/plain": [
       "<Figure size 432x288 with 1 Axes>"
      ]
     },
     "metadata": {},
     "output_type": "display_data"
    }
   ],
   "source": [
    "y_predicted.value_counts().plot(kind=\"bar\")\n",
    "#Almost all observations are clustered into one cluster (cluster 0)\n",
    "\n",
    "y_predicted.value_counts()"
   ]
  },
  {
   "cell_type": "markdown",
   "metadata": {},
   "source": [
    "Let's check how resulting clusters from doing k-means on the non-reduced data looks like.\n",
    "\n",
    "Note that the resulting graph will not be pretty since we are just plotting the clusters agains two arbitrarily selected variables (based on correlation)."
   ]
  },
  {
   "cell_type": "code",
   "execution_count": 112,
   "metadata": {},
   "outputs": [],
   "source": [
    "final_small_df_clus = pd.concat([final_small_df,y_predicted], axis=1)"
   ]
  },
  {
   "cell_type": "code",
   "execution_count": 113,
   "metadata": {},
   "outputs": [
    {
     "data": {
      "text/html": [
       "<div>\n",
       "<style scoped>\n",
       "    .dataframe tbody tr th:only-of-type {\n",
       "        vertical-align: middle;\n",
       "    }\n",
       "\n",
       "    .dataframe tbody tr th {\n",
       "        vertical-align: top;\n",
       "    }\n",
       "\n",
       "    .dataframe thead th {\n",
       "        text-align: right;\n",
       "    }\n",
       "</style>\n",
       "<table border=\"1\" class=\"dataframe\">\n",
       "  <thead>\n",
       "    <tr style=\"text-align: right;\">\n",
       "      <th></th>\n",
       "      <th>HeartRate_Mean</th>\n",
       "      <th>SysBP_Mean</th>\n",
       "      <th>DiasBP_Mean</th>\n",
       "      <th>MeanBP_Mean</th>\n",
       "      <th>RespRate_Mean</th>\n",
       "      <th>TempC_Mean</th>\n",
       "      <th>SpO2_Mean</th>\n",
       "      <th>Glucose_Mean</th>\n",
       "      <th>age</th>\n",
       "      <th>GENDER_code</th>\n",
       "      <th>...</th>\n",
       "      <th>B_code_860</th>\n",
       "      <th>B_code_1020</th>\n",
       "      <th>B_code_other</th>\n",
       "      <th>C_code_523</th>\n",
       "      <th>C_code_753</th>\n",
       "      <th>C_code_805</th>\n",
       "      <th>C_code_972</th>\n",
       "      <th>C_code_1001</th>\n",
       "      <th>C_code_other</th>\n",
       "      <th>0</th>\n",
       "    </tr>\n",
       "  </thead>\n",
       "  <tbody>\n",
       "    <tr>\n",
       "      <th>0</th>\n",
       "      <td>2.324601</td>\n",
       "      <td>-0.762061</td>\n",
       "      <td>-0.155632</td>\n",
       "      <td>-0.301951</td>\n",
       "      <td>0.885147</td>\n",
       "      <td>-1.190604</td>\n",
       "      <td>-0.534277</td>\n",
       "      <td>0.487975</td>\n",
       "      <td>0.441955</td>\n",
       "      <td>-1.144476</td>\n",
       "      <td>...</td>\n",
       "      <td>-0.171216</td>\n",
       "      <td>-0.133922</td>\n",
       "      <td>-1.506694</td>\n",
       "      <td>-0.157266</td>\n",
       "      <td>-0.138064</td>\n",
       "      <td>-0.178005</td>\n",
       "      <td>-0.195482</td>\n",
       "      <td>-0.146453</td>\n",
       "      <td>0.420487</td>\n",
       "      <td>1</td>\n",
       "    </tr>\n",
       "    <tr>\n",
       "      <th>1</th>\n",
       "      <td>-0.413930</td>\n",
       "      <td>-0.753238</td>\n",
       "      <td>0.170069</td>\n",
       "      <td>-0.278739</td>\n",
       "      <td>-0.748350</td>\n",
       "      <td>-0.513415</td>\n",
       "      <td>1.002829</td>\n",
       "      <td>-0.812498</td>\n",
       "      <td>-1.276278</td>\n",
       "      <td>-1.144476</td>\n",
       "      <td>...</td>\n",
       "      <td>-0.171216</td>\n",
       "      <td>-0.133922</td>\n",
       "      <td>0.663705</td>\n",
       "      <td>-0.157266</td>\n",
       "      <td>-0.138064</td>\n",
       "      <td>-0.178005</td>\n",
       "      <td>-0.195482</td>\n",
       "      <td>-0.146453</td>\n",
       "      <td>0.420487</td>\n",
       "      <td>1</td>\n",
       "    </tr>\n",
       "    <tr>\n",
       "      <th>2</th>\n",
       "      <td>0.407254</td>\n",
       "      <td>-0.388427</td>\n",
       "      <td>-0.553902</td>\n",
       "      <td>-0.451670</td>\n",
       "      <td>-0.789603</td>\n",
       "      <td>-0.177486</td>\n",
       "      <td>1.438618</td>\n",
       "      <td>1.767757</td>\n",
       "      <td>0.319224</td>\n",
       "      <td>-1.144476</td>\n",
       "      <td>...</td>\n",
       "      <td>-0.171216</td>\n",
       "      <td>-0.133922</td>\n",
       "      <td>0.663705</td>\n",
       "      <td>-0.157266</td>\n",
       "      <td>-0.138064</td>\n",
       "      <td>-0.178005</td>\n",
       "      <td>-0.195482</td>\n",
       "      <td>-0.146453</td>\n",
       "      <td>0.420487</td>\n",
       "      <td>1</td>\n",
       "    </tr>\n",
       "    <tr>\n",
       "      <th>3</th>\n",
       "      <td>0.875423</td>\n",
       "      <td>-0.738793</td>\n",
       "      <td>-1.922487</td>\n",
       "      <td>-1.366055</td>\n",
       "      <td>2.034127</td>\n",
       "      <td>1.838085</td>\n",
       "      <td>-0.836826</td>\n",
       "      <td>-0.317318</td>\n",
       "      <td>0.748782</td>\n",
       "      <td>-1.144476</td>\n",
       "      <td>...</td>\n",
       "      <td>-0.171216</td>\n",
       "      <td>-0.133922</td>\n",
       "      <td>0.663705</td>\n",
       "      <td>-0.157266</td>\n",
       "      <td>-0.138064</td>\n",
       "      <td>-0.178005</td>\n",
       "      <td>-0.195482</td>\n",
       "      <td>-0.146453</td>\n",
       "      <td>0.420487</td>\n",
       "      <td>1</td>\n",
       "    </tr>\n",
       "    <tr>\n",
       "      <th>4</th>\n",
       "      <td>0.816250</td>\n",
       "      <td>0.553615</td>\n",
       "      <td>1.089423</td>\n",
       "      <td>0.808966</td>\n",
       "      <td>-0.839650</td>\n",
       "      <td>-0.307744</td>\n",
       "      <td>0.919125</td>\n",
       "      <td>-0.780986</td>\n",
       "      <td>-0.846720</td>\n",
       "      <td>0.873762</td>\n",
       "      <td>...</td>\n",
       "      <td>-0.171216</td>\n",
       "      <td>-0.133922</td>\n",
       "      <td>0.663705</td>\n",
       "      <td>6.358656</td>\n",
       "      <td>-0.138064</td>\n",
       "      <td>-0.178005</td>\n",
       "      <td>-0.195482</td>\n",
       "      <td>-0.146453</td>\n",
       "      <td>-2.378197</td>\n",
       "      <td>1</td>\n",
       "    </tr>\n",
       "  </tbody>\n",
       "</table>\n",
       "<p>5 rows × 168 columns</p>\n",
       "</div>"
      ],
      "text/plain": [
       "   HeartRate_Mean  SysBP_Mean  DiasBP_Mean  MeanBP_Mean  RespRate_Mean  \\\n",
       "0        2.324601   -0.762061    -0.155632    -0.301951       0.885147   \n",
       "1       -0.413930   -0.753238     0.170069    -0.278739      -0.748350   \n",
       "2        0.407254   -0.388427    -0.553902    -0.451670      -0.789603   \n",
       "3        0.875423   -0.738793    -1.922487    -1.366055       2.034127   \n",
       "4        0.816250    0.553615     1.089423     0.808966      -0.839650   \n",
       "\n",
       "   TempC_Mean  SpO2_Mean  Glucose_Mean       age  GENDER_code  ...  \\\n",
       "0   -1.190604  -0.534277      0.487975  0.441955    -1.144476  ...   \n",
       "1   -0.513415   1.002829     -0.812498 -1.276278    -1.144476  ...   \n",
       "2   -0.177486   1.438618      1.767757  0.319224    -1.144476  ...   \n",
       "3    1.838085  -0.836826     -0.317318  0.748782    -1.144476  ...   \n",
       "4   -0.307744   0.919125     -0.780986 -0.846720     0.873762  ...   \n",
       "\n",
       "   B_code_860  B_code_1020  B_code_other  C_code_523  C_code_753  C_code_805  \\\n",
       "0   -0.171216    -0.133922     -1.506694   -0.157266   -0.138064   -0.178005   \n",
       "1   -0.171216    -0.133922      0.663705   -0.157266   -0.138064   -0.178005   \n",
       "2   -0.171216    -0.133922      0.663705   -0.157266   -0.138064   -0.178005   \n",
       "3   -0.171216    -0.133922      0.663705   -0.157266   -0.138064   -0.178005   \n",
       "4   -0.171216    -0.133922      0.663705    6.358656   -0.138064   -0.178005   \n",
       "\n",
       "   C_code_972  C_code_1001  C_code_other  0  \n",
       "0   -0.195482    -0.146453      0.420487  1  \n",
       "1   -0.195482    -0.146453      0.420487  1  \n",
       "2   -0.195482    -0.146453      0.420487  1  \n",
       "3   -0.195482    -0.146453      0.420487  1  \n",
       "4   -0.195482    -0.146453     -2.378197  1  \n",
       "\n",
       "[5 rows x 168 columns]"
      ]
     },
     "execution_count": 113,
     "metadata": {},
     "output_type": "execute_result"
    }
   ],
   "source": [
    "final_small_df_clus.head()"
   ]
  },
  {
   "cell_type": "code",
   "execution_count": 114,
   "metadata": {},
   "outputs": [
    {
     "name": "stdout",
     "output_type": "stream",
     "text": [
      "Index(['HeartRate_Mean', 'SysBP_Mean', 'DiasBP_Mean', 'MeanBP_Mean',\n",
      "       'RespRate_Mean', 'TempC_Mean', 'SpO2_Mean', 'Glucose_Mean', 'age',\n",
      "       'GENDER_code',\n",
      "       ...\n",
      "       'B_code_855', 'B_code_860', 'B_code_1020', 'B_code_other', 'C_code_523',\n",
      "       'C_code_753', 'C_code_805', 'C_code_972', 'C_code_1001',\n",
      "       'C_code_other'],\n",
      "      dtype='object', length=167)\n"
     ]
    }
   ],
   "source": [
    "final_small_df_columns = final_small_df.columns\n",
    "final_small_df_clus_columns = final_small_df_columns\n",
    "print(final_small_df_clus_columns)"
   ]
  },
  {
   "cell_type": "code",
   "execution_count": 115,
   "metadata": {},
   "outputs": [
    {
     "name": "stdout",
     "output_type": "stream",
     "text": [
      "Index(['HeartRate_Mean', 'SysBP_Mean', 'DiasBP_Mean', 'MeanBP_Mean',\n",
      "       'RespRate_Mean', 'TempC_Mean', 'SpO2_Mean', 'Glucose_Mean', 'age',\n",
      "       'GENDER_code',\n",
      "       ...\n",
      "       'B_code_860', 'B_code_1020', 'B_code_other', 'C_code_523', 'C_code_753',\n",
      "       'C_code_805', 'C_code_972', 'C_code_1001', 'C_code_other', 'cluster'],\n",
      "      dtype='object', length=168)\n"
     ]
    }
   ],
   "source": [
    "final_small_df_clus_columns= final_small_df_clus_columns.insert(168, \"cluster\")\n",
    "print(final_small_df_clus_columns)"
   ]
  },
  {
   "cell_type": "code",
   "execution_count": 116,
   "metadata": {
    "scrolled": true
   },
   "outputs": [
    {
     "data": {
      "text/html": [
       "<div>\n",
       "<style scoped>\n",
       "    .dataframe tbody tr th:only-of-type {\n",
       "        vertical-align: middle;\n",
       "    }\n",
       "\n",
       "    .dataframe tbody tr th {\n",
       "        vertical-align: top;\n",
       "    }\n",
       "\n",
       "    .dataframe thead th {\n",
       "        text-align: right;\n",
       "    }\n",
       "</style>\n",
       "<table border=\"1\" class=\"dataframe\">\n",
       "  <thead>\n",
       "    <tr style=\"text-align: right;\">\n",
       "      <th></th>\n",
       "      <th>HeartRate_Mean</th>\n",
       "      <th>SysBP_Mean</th>\n",
       "      <th>DiasBP_Mean</th>\n",
       "      <th>MeanBP_Mean</th>\n",
       "      <th>RespRate_Mean</th>\n",
       "      <th>TempC_Mean</th>\n",
       "      <th>SpO2_Mean</th>\n",
       "      <th>Glucose_Mean</th>\n",
       "      <th>age</th>\n",
       "      <th>GENDER_code</th>\n",
       "      <th>...</th>\n",
       "      <th>B_code_860</th>\n",
       "      <th>B_code_1020</th>\n",
       "      <th>B_code_other</th>\n",
       "      <th>C_code_523</th>\n",
       "      <th>C_code_753</th>\n",
       "      <th>C_code_805</th>\n",
       "      <th>C_code_972</th>\n",
       "      <th>C_code_1001</th>\n",
       "      <th>C_code_other</th>\n",
       "      <th>cluster</th>\n",
       "    </tr>\n",
       "  </thead>\n",
       "  <tbody>\n",
       "    <tr>\n",
       "      <th>0</th>\n",
       "      <td>2.324601</td>\n",
       "      <td>-0.762061</td>\n",
       "      <td>-0.155632</td>\n",
       "      <td>-0.301951</td>\n",
       "      <td>0.885147</td>\n",
       "      <td>-1.190604</td>\n",
       "      <td>-0.534277</td>\n",
       "      <td>0.487975</td>\n",
       "      <td>0.441955</td>\n",
       "      <td>-1.144476</td>\n",
       "      <td>...</td>\n",
       "      <td>-0.171216</td>\n",
       "      <td>-0.133922</td>\n",
       "      <td>-1.506694</td>\n",
       "      <td>-0.157266</td>\n",
       "      <td>-0.138064</td>\n",
       "      <td>-0.178005</td>\n",
       "      <td>-0.195482</td>\n",
       "      <td>-0.146453</td>\n",
       "      <td>0.420487</td>\n",
       "      <td>1</td>\n",
       "    </tr>\n",
       "    <tr>\n",
       "      <th>1</th>\n",
       "      <td>-0.413930</td>\n",
       "      <td>-0.753238</td>\n",
       "      <td>0.170069</td>\n",
       "      <td>-0.278739</td>\n",
       "      <td>-0.748350</td>\n",
       "      <td>-0.513415</td>\n",
       "      <td>1.002829</td>\n",
       "      <td>-0.812498</td>\n",
       "      <td>-1.276278</td>\n",
       "      <td>-1.144476</td>\n",
       "      <td>...</td>\n",
       "      <td>-0.171216</td>\n",
       "      <td>-0.133922</td>\n",
       "      <td>0.663705</td>\n",
       "      <td>-0.157266</td>\n",
       "      <td>-0.138064</td>\n",
       "      <td>-0.178005</td>\n",
       "      <td>-0.195482</td>\n",
       "      <td>-0.146453</td>\n",
       "      <td>0.420487</td>\n",
       "      <td>1</td>\n",
       "    </tr>\n",
       "    <tr>\n",
       "      <th>2</th>\n",
       "      <td>0.407254</td>\n",
       "      <td>-0.388427</td>\n",
       "      <td>-0.553902</td>\n",
       "      <td>-0.451670</td>\n",
       "      <td>-0.789603</td>\n",
       "      <td>-0.177486</td>\n",
       "      <td>1.438618</td>\n",
       "      <td>1.767757</td>\n",
       "      <td>0.319224</td>\n",
       "      <td>-1.144476</td>\n",
       "      <td>...</td>\n",
       "      <td>-0.171216</td>\n",
       "      <td>-0.133922</td>\n",
       "      <td>0.663705</td>\n",
       "      <td>-0.157266</td>\n",
       "      <td>-0.138064</td>\n",
       "      <td>-0.178005</td>\n",
       "      <td>-0.195482</td>\n",
       "      <td>-0.146453</td>\n",
       "      <td>0.420487</td>\n",
       "      <td>1</td>\n",
       "    </tr>\n",
       "    <tr>\n",
       "      <th>3</th>\n",
       "      <td>0.875423</td>\n",
       "      <td>-0.738793</td>\n",
       "      <td>-1.922487</td>\n",
       "      <td>-1.366055</td>\n",
       "      <td>2.034127</td>\n",
       "      <td>1.838085</td>\n",
       "      <td>-0.836826</td>\n",
       "      <td>-0.317318</td>\n",
       "      <td>0.748782</td>\n",
       "      <td>-1.144476</td>\n",
       "      <td>...</td>\n",
       "      <td>-0.171216</td>\n",
       "      <td>-0.133922</td>\n",
       "      <td>0.663705</td>\n",
       "      <td>-0.157266</td>\n",
       "      <td>-0.138064</td>\n",
       "      <td>-0.178005</td>\n",
       "      <td>-0.195482</td>\n",
       "      <td>-0.146453</td>\n",
       "      <td>0.420487</td>\n",
       "      <td>1</td>\n",
       "    </tr>\n",
       "    <tr>\n",
       "      <th>4</th>\n",
       "      <td>0.816250</td>\n",
       "      <td>0.553615</td>\n",
       "      <td>1.089423</td>\n",
       "      <td>0.808966</td>\n",
       "      <td>-0.839650</td>\n",
       "      <td>-0.307744</td>\n",
       "      <td>0.919125</td>\n",
       "      <td>-0.780986</td>\n",
       "      <td>-0.846720</td>\n",
       "      <td>0.873762</td>\n",
       "      <td>...</td>\n",
       "      <td>-0.171216</td>\n",
       "      <td>-0.133922</td>\n",
       "      <td>0.663705</td>\n",
       "      <td>6.358656</td>\n",
       "      <td>-0.138064</td>\n",
       "      <td>-0.178005</td>\n",
       "      <td>-0.195482</td>\n",
       "      <td>-0.146453</td>\n",
       "      <td>-2.378197</td>\n",
       "      <td>1</td>\n",
       "    </tr>\n",
       "  </tbody>\n",
       "</table>\n",
       "<p>5 rows × 168 columns</p>\n",
       "</div>"
      ],
      "text/plain": [
       "   HeartRate_Mean  SysBP_Mean  DiasBP_Mean  MeanBP_Mean  RespRate_Mean  \\\n",
       "0        2.324601   -0.762061    -0.155632    -0.301951       0.885147   \n",
       "1       -0.413930   -0.753238     0.170069    -0.278739      -0.748350   \n",
       "2        0.407254   -0.388427    -0.553902    -0.451670      -0.789603   \n",
       "3        0.875423   -0.738793    -1.922487    -1.366055       2.034127   \n",
       "4        0.816250    0.553615     1.089423     0.808966      -0.839650   \n",
       "\n",
       "   TempC_Mean  SpO2_Mean  Glucose_Mean       age  GENDER_code  ...  \\\n",
       "0   -1.190604  -0.534277      0.487975  0.441955    -1.144476  ...   \n",
       "1   -0.513415   1.002829     -0.812498 -1.276278    -1.144476  ...   \n",
       "2   -0.177486   1.438618      1.767757  0.319224    -1.144476  ...   \n",
       "3    1.838085  -0.836826     -0.317318  0.748782    -1.144476  ...   \n",
       "4   -0.307744   0.919125     -0.780986 -0.846720     0.873762  ...   \n",
       "\n",
       "   B_code_860  B_code_1020  B_code_other  C_code_523  C_code_753  C_code_805  \\\n",
       "0   -0.171216    -0.133922     -1.506694   -0.157266   -0.138064   -0.178005   \n",
       "1   -0.171216    -0.133922      0.663705   -0.157266   -0.138064   -0.178005   \n",
       "2   -0.171216    -0.133922      0.663705   -0.157266   -0.138064   -0.178005   \n",
       "3   -0.171216    -0.133922      0.663705   -0.157266   -0.138064   -0.178005   \n",
       "4   -0.171216    -0.133922      0.663705    6.358656   -0.138064   -0.178005   \n",
       "\n",
       "   C_code_972  C_code_1001  C_code_other  cluster  \n",
       "0   -0.195482    -0.146453      0.420487        1  \n",
       "1   -0.195482    -0.146453      0.420487        1  \n",
       "2   -0.195482    -0.146453      0.420487        1  \n",
       "3   -0.195482    -0.146453      0.420487        1  \n",
       "4   -0.195482    -0.146453     -2.378197        1  \n",
       "\n",
       "[5 rows x 168 columns]"
      ]
     },
     "execution_count": 116,
     "metadata": {},
     "output_type": "execute_result"
    }
   ],
   "source": [
    "final_small_df_clus.columns = final_small_df_clus_columns\n",
    "final_small_df_clus.head()"
   ]
  },
  {
   "cell_type": "code",
   "execution_count": 117,
   "metadata": {},
   "outputs": [
    {
     "name": "stdout",
     "output_type": "stream",
     "text": [
      "-0.014176710270429053\n",
      "-0.02748827427264322\n",
      "-0.02497532529284251\n"
     ]
    }
   ],
   "source": [
    "print(final_small_df_clus['cluster'].corr(final_small_df_clus['age']))\n",
    "print(final_small_df_clus['cluster'].corr(final_small_df_clus['RespRate_Mean']))\n",
    "print(final_small_df_clus['cluster'].corr(final_small_df_clus['HeartRate_Mean']))"
   ]
  },
  {
   "cell_type": "code",
   "execution_count": 118,
   "metadata": {},
   "outputs": [
    {
     "data": {
      "text/plain": [
       "<matplotlib.collections.PathCollection at 0x1c38200a460>"
      ]
     },
     "execution_count": 118,
     "metadata": {},
     "output_type": "execute_result"
    },
    {
     "data": {
      "image/png": "[encoded data removed]",
      "text/plain": [
       "<Figure size 432x288 with 1 Axes>"
      ]
     },
     "metadata": {},
     "output_type": "display_data"
    }
   ],
   "source": [
    "# we graph based on arbitrarily chosen columns and the clustering was based on 168 columns\n",
    "# hence we do not expect the graph to be pretty\n",
    "plt.scatter(final_small_df_clus['RespRate_Mean'], final_small_df_clus[\"HeartRate_Mean\"], c=y_predicted, cmap='rainbow', alpha = 0.3)"
   ]
  },
  {
   "cell_type": "markdown",
   "metadata": {},
   "source": [
    "Now, let's check whether it al least improved our predictions by training and testing based on the data with added clusters."
   ]
  },
  {
   "cell_type": "code",
   "execution_count": 119,
   "metadata": {},
   "outputs": [
    {
     "name": "stdout",
     "output_type": "stream",
     "text": [
      "0.9118829981718465\n"
     ]
    }
   ],
   "source": [
    "X = final_small_df_clus\n",
    "y_flag = response['HOSPITAL_EXPIRE_FLAG']\n",
    "\n",
    "X_train, X_test, y_train, y_test = train_test_split(X, y_flag, test_size=0.33, random_state=42)\n",
    "\n",
    "# fit the model\n",
    "model = RandomForestClassifier(random_state=1)\n",
    "model.fit(X_train, y_train)\n",
    "# make predictions\n",
    "yhat = model.predict(X_test)\n",
    "# evaluate predictions\n",
    "acc = accuracy_score(y_test, yhat)\n",
    "print(acc)"
   ]
  },
  {
   "cell_type": "markdown",
   "metadata": {},
   "source": [
    "Note that accuracy increased a bit from 0.910 to 0.912."
   ]
  },
  {
   "cell_type": "code",
   "execution_count": 120,
   "metadata": {},
   "outputs": [
    {
     "name": "stdout",
     "output_type": "stream",
     "text": [
      "[[9914   59]\n",
      " [ 982  148]]\n"
     ]
    },
    {
     "data": {
      "image/png": "[encoded data removed]",
      "text/plain": [
       "<Figure size 432x288 with 2 Axes>"
      ]
     },
     "metadata": {},
     "output_type": "display_data"
    }
   ],
   "source": [
    "#class predictions\n",
    "y_hat_cv = cvp(model, X_train, y_train, cv=10)\n",
    "\n",
    "#confusion matrix - cross validated\n",
    "cm =  confusion_matrix(y_pred=y_hat_cv, y_true=y_train, labels=[0,1])\n",
    "print (cm)\n",
    "# Plotting confusion matrix \n",
    "plot_confusion_matrix(cm, [0,1])"
   ]
  },
  {
   "cell_type": "code",
   "execution_count": 121,
   "metadata": {},
   "outputs": [
    {
     "name": "stdout",
     "output_type": "stream",
     "text": [
      "              precision    recall  f1-score   support\n",
      "\n",
      "           0       0.91      0.99      0.95      9973\n",
      "           1       0.71      0.13      0.22      1130\n",
      "\n",
      "    accuracy                           0.91     11103\n",
      "   macro avg       0.81      0.56      0.59     11103\n",
      "weighted avg       0.89      0.91      0.88     11103\n",
      "\n"
     ]
    }
   ],
   "source": [
    "####  Classification report\n",
    "print (classification_report(y_train, y_hat_cv))\n",
    "\n",
    "# the f-1 score for predicting whether the patient died or not increased from 0.23 to 0.24"
   ]
  },
  {
   "cell_type": "markdown",
   "metadata": {},
   "source": [
    "# SVD"
   ]
  },
  {
   "cell_type": "markdown",
   "metadata": {},
   "source": [
    "Now we will perform Singular Value Decomposition (SVD). This is to reduce the dimensionality of our data."
   ]
  },
  {
   "cell_type": "code",
   "execution_count": 122,
   "metadata": {},
   "outputs": [
    {
     "data": {
      "text/plain": [
       "[<matplotlib.lines.Line2D at 0x1c38184bd90>]"
      ]
     },
     "execution_count": 122,
     "metadata": {},
     "output_type": "execute_result"
    },
    {
     "data": {
      "image/png": "[encoded data removed]",
      "text/plain": [
       "<Figure size 432x288 with 1 Axes>"
      ]
     },
     "metadata": {},
     "output_type": "display_data"
    }
   ],
   "source": [
    "# SVD\n",
    "Ul, Dl, Vt = np.linalg.svd(final_small_df)\n",
    "Vl = Vt.transpose()\n",
    "# print the new coordinate vectors:\n",
    "#plt.xticks(np.arange(min(x), max(x)+1, 1.0))\n",
    "plt.plot(range(1, final_small_df.shape[1]+1), Dl, 'bx-')"
   ]
  },
  {
   "cell_type": "code",
   "execution_count": 123,
   "metadata": {},
   "outputs": [
    {
     "data": {
      "text/plain": [
       "array([951.13085295, 600.06308098, 475.90270612, 360.94228647,\n",
       "       306.02358043, 290.3428804 , 278.74242795, 264.14420728,\n",
       "       251.36102351, 247.5088128 ])"
      ]
     },
     "execution_count": 123,
     "metadata": {},
     "output_type": "execute_result"
    }
   ],
   "source": [
    "Dl[0:10]\n",
    "#we retain only the first five components since the rate of decrease declined from the 6th to 7th component"
   ]
  },
  {
   "cell_type": "code",
   "execution_count": 124,
   "metadata": {},
   "outputs": [],
   "source": [
    "r = 5\n",
    "Z = np.matmul(Ul[:, 0:r], np.diag(Dl[0:r]))"
   ]
  },
  {
   "cell_type": "code",
   "execution_count": 125,
   "metadata": {},
   "outputs": [
    {
     "data": {
      "text/plain": [
       "array([[-1.36800536,  2.07846248, -1.41868046, -3.37045519,  0.72582516],\n",
       "       [-1.05378491,  0.79466401, -0.22303983, -0.72551715,  0.15590137],\n",
       "       [-1.8977802 ,  1.70833413, -2.31390662,  0.6342082 ,  1.20410163],\n",
       "       ...,\n",
       "       [-0.6589256 ,  3.25815471, -3.70936111,  1.46788856,  2.39548897],\n",
       "       [-1.0785627 ,  0.76679213, -0.85556791,  0.4475362 ,  0.82219296],\n",
       "       [-1.69530314,  1.33143832, -0.2422836 , -0.56378273,  0.07743046]])"
      ]
     },
     "execution_count": 125,
     "metadata": {},
     "output_type": "execute_result"
    }
   ],
   "source": [
    "Z"
   ]
  },
  {
   "cell_type": "code",
   "execution_count": 126,
   "metadata": {},
   "outputs": [
    {
     "data": {
      "text/plain": [
       "(16573, 5)"
      ]
     },
     "execution_count": 126,
     "metadata": {},
     "output_type": "execute_result"
    }
   ],
   "source": [
    "Z.shape"
   ]
  },
  {
   "cell_type": "code",
   "execution_count": 127,
   "metadata": {},
   "outputs": [
    {
     "data": {
      "text/plain": [
       "(16573, 167)"
      ]
     },
     "execution_count": 127,
     "metadata": {},
     "output_type": "execute_result"
    }
   ],
   "source": [
    "final_small_df.shape"
   ]
  },
  {
   "cell_type": "markdown",
   "metadata": {},
   "source": [
    "Our Z matrix explains a significant part in the variation of our data. It only has 5 columns so it will be easier to work on this relative to the one with 168 columns before."
   ]
  },
  {
   "cell_type": "code",
   "execution_count": 128,
   "metadata": {},
   "outputs": [],
   "source": [
    "Z = np.matmul(final_small_df, Vt.transpose()[:, 0:r])"
   ]
  },
  {
   "cell_type": "code",
   "execution_count": 129,
   "metadata": {},
   "outputs": [
    {
     "data": {
      "text/html": [
       "<div>\n",
       "<style scoped>\n",
       "    .dataframe tbody tr th:only-of-type {\n",
       "        vertical-align: middle;\n",
       "    }\n",
       "\n",
       "    .dataframe tbody tr th {\n",
       "        vertical-align: top;\n",
       "    }\n",
       "\n",
       "    .dataframe thead th {\n",
       "        text-align: right;\n",
       "    }\n",
       "</style>\n",
       "<table border=\"1\" class=\"dataframe\">\n",
       "  <thead>\n",
       "    <tr style=\"text-align: right;\">\n",
       "      <th></th>\n",
       "      <th>0</th>\n",
       "      <th>1</th>\n",
       "      <th>2</th>\n",
       "      <th>3</th>\n",
       "      <th>4</th>\n",
       "    </tr>\n",
       "  </thead>\n",
       "  <tbody>\n",
       "    <tr>\n",
       "      <th>0</th>\n",
       "      <td>-1.368005</td>\n",
       "      <td>2.078462</td>\n",
       "      <td>-1.418680</td>\n",
       "      <td>-3.370455</td>\n",
       "      <td>0.725825</td>\n",
       "    </tr>\n",
       "    <tr>\n",
       "      <th>1</th>\n",
       "      <td>-1.053785</td>\n",
       "      <td>0.794664</td>\n",
       "      <td>-0.223040</td>\n",
       "      <td>-0.725517</td>\n",
       "      <td>0.155901</td>\n",
       "    </tr>\n",
       "    <tr>\n",
       "      <th>2</th>\n",
       "      <td>-1.897780</td>\n",
       "      <td>1.708334</td>\n",
       "      <td>-2.313907</td>\n",
       "      <td>0.634208</td>\n",
       "      <td>1.204102</td>\n",
       "    </tr>\n",
       "    <tr>\n",
       "      <th>3</th>\n",
       "      <td>-2.212128</td>\n",
       "      <td>5.245405</td>\n",
       "      <td>1.369185</td>\n",
       "      <td>-5.911640</td>\n",
       "      <td>0.904614</td>\n",
       "    </tr>\n",
       "    <tr>\n",
       "      <th>4</th>\n",
       "      <td>-1.287072</td>\n",
       "      <td>2.586002</td>\n",
       "      <td>1.135236</td>\n",
       "      <td>0.918652</td>\n",
       "      <td>0.212668</td>\n",
       "    </tr>\n",
       "  </tbody>\n",
       "</table>\n",
       "</div>"
      ],
      "text/plain": [
       "          0         1         2         3         4\n",
       "0 -1.368005  2.078462 -1.418680 -3.370455  0.725825\n",
       "1 -1.053785  0.794664 -0.223040 -0.725517  0.155901\n",
       "2 -1.897780  1.708334 -2.313907  0.634208  1.204102\n",
       "3 -2.212128  5.245405  1.369185 -5.911640  0.904614\n",
       "4 -1.287072  2.586002  1.135236  0.918652  0.212668"
      ]
     },
     "execution_count": 129,
     "metadata": {},
     "output_type": "execute_result"
    }
   ],
   "source": [
    "Z.head()"
   ]
  },
  {
   "cell_type": "code",
   "execution_count": 130,
   "metadata": {},
   "outputs": [
    {
     "data": {
      "text/plain": [
       "<matplotlib.collections.PathCollection at 0x1c3818ac6d0>"
      ]
     },
     "execution_count": 130,
     "metadata": {},
     "output_type": "execute_result"
    },
    {
     "data": {
      "image/png": "[encoded data removed]",
      "text/plain": [
       "<Figure size 432x288 with 1 Axes>"
      ]
     },
     "metadata": {},
     "output_type": "display_data"
    }
   ],
   "source": [
    "colors = {0:'green', 1:'red'}\n",
    "plt.scatter(Z[0], Z[1], c=response['HOSPITAL_EXPIRE_FLAG'].map(colors), alpha=0.3)"
   ]
  },
  {
   "cell_type": "markdown",
   "metadata": {},
   "source": [
    "We observe that those with Z[0] values (x-axis) nearer to 0 are more likely to live than those who have negative values on the same component. Those who lived are more likely to have positive Z[1] values (y-axis)."
   ]
  },
  {
   "cell_type": "markdown",
   "metadata": {},
   "source": [
    "## Linear Model (Z)"
   ]
  },
  {
   "cell_type": "code",
   "execution_count": 131,
   "metadata": {},
   "outputs": [
    {
     "name": "stdout",
     "output_type": "stream",
     "text": [
      "MSE: 29.172\n"
     ]
    }
   ],
   "source": [
    "X = Z\n",
    "y_los = response['LOS']\n",
    "\n",
    "X_train, X_test, y_train, y_test = train_test_split(X, y_los, test_size=0.33, random_state=42)\n",
    "\n",
    "# fit the model\n",
    "model = RandomForestRegressor(random_state=1)\n",
    "model.fit(X_train, y_train)\n",
    "\n",
    "# make predictions\n",
    "yhat = model.predict(X_test)\n",
    "# evaluate predictions\n",
    "mse = mean_squared_error(y_test, yhat)\n",
    "print('MSE: %.3f' % mse)"
   ]
  },
  {
   "cell_type": "markdown",
   "metadata": {},
   "source": [
    "The MSE increased from 26.646 to 29.172. This is expected since we have reduced the dimensinality of the data so the MSE will increase a bit. But whether this increase is large or not is difficult to say. I am inclined to say that it is not since from 168 columns, we are using the 5 columns. The MSE we got from Z is still not that far from the one with full dimensions."
   ]
  },
  {
   "cell_type": "markdown",
   "metadata": {},
   "source": [
    "## Classifier Model (Z)"
   ]
  },
  {
   "cell_type": "code",
   "execution_count": 132,
   "metadata": {},
   "outputs": [
    {
     "name": "stdout",
     "output_type": "stream",
     "text": [
      "0.9058500914076782\n"
     ]
    }
   ],
   "source": [
    "X = Z\n",
    "y_flag = response['HOSPITAL_EXPIRE_FLAG']\n",
    "\n",
    "X_train, X_test, y_train, y_test = train_test_split(X, y_flag, test_size=0.33, random_state=42)\n",
    "\n",
    "# fit the model\n",
    "model = RandomForestClassifier(random_state=1)\n",
    "model.fit(X_train, y_train)\n",
    "# make predictions\n",
    "yhat = model.predict(X_test)\n",
    "# evaluate predictions\n",
    "acc = accuracy_score(y_test, yhat)\n",
    "print(acc)"
   ]
  },
  {
   "cell_type": "markdown",
   "metadata": {},
   "source": [
    "The accruacy from using the reduced form of the data decreased marginally from 0.910 to 0.905. But that is okay since we are trading some accuracy for significantly faster fitting/training."
   ]
  },
  {
   "cell_type": "markdown",
   "metadata": {},
   "source": [
    "## Linear Model (Z + clusters)"
   ]
  },
  {
   "cell_type": "code",
   "execution_count": 133,
   "metadata": {},
   "outputs": [],
   "source": [
    "#creating a new data frame containing both the Z matrix and clusters\n",
    "\n",
    "cluster = final_small_df_clus[\"cluster\"]\n",
    "\n",
    "Z_clus = Z.copy()\n",
    "Z_clus[\"cluster\"] = cluster"
   ]
  },
  {
   "cell_type": "code",
   "execution_count": 134,
   "metadata": {},
   "outputs": [
    {
     "data": {
      "text/html": [
       "<div>\n",
       "<style scoped>\n",
       "    .dataframe tbody tr th:only-of-type {\n",
       "        vertical-align: middle;\n",
       "    }\n",
       "\n",
       "    .dataframe tbody tr th {\n",
       "        vertical-align: top;\n",
       "    }\n",
       "\n",
       "    .dataframe thead th {\n",
       "        text-align: right;\n",
       "    }\n",
       "</style>\n",
       "<table border=\"1\" class=\"dataframe\">\n",
       "  <thead>\n",
       "    <tr style=\"text-align: right;\">\n",
       "      <th></th>\n",
       "      <th>0</th>\n",
       "      <th>1</th>\n",
       "      <th>2</th>\n",
       "      <th>3</th>\n",
       "      <th>4</th>\n",
       "    </tr>\n",
       "  </thead>\n",
       "  <tbody>\n",
       "    <tr>\n",
       "      <th>0</th>\n",
       "      <td>-1.368005</td>\n",
       "      <td>2.078462</td>\n",
       "      <td>-1.418680</td>\n",
       "      <td>-3.370455</td>\n",
       "      <td>0.725825</td>\n",
       "    </tr>\n",
       "    <tr>\n",
       "      <th>1</th>\n",
       "      <td>-1.053785</td>\n",
       "      <td>0.794664</td>\n",
       "      <td>-0.223040</td>\n",
       "      <td>-0.725517</td>\n",
       "      <td>0.155901</td>\n",
       "    </tr>\n",
       "    <tr>\n",
       "      <th>2</th>\n",
       "      <td>-1.897780</td>\n",
       "      <td>1.708334</td>\n",
       "      <td>-2.313907</td>\n",
       "      <td>0.634208</td>\n",
       "      <td>1.204102</td>\n",
       "    </tr>\n",
       "    <tr>\n",
       "      <th>3</th>\n",
       "      <td>-2.212128</td>\n",
       "      <td>5.245405</td>\n",
       "      <td>1.369185</td>\n",
       "      <td>-5.911640</td>\n",
       "      <td>0.904614</td>\n",
       "    </tr>\n",
       "    <tr>\n",
       "      <th>4</th>\n",
       "      <td>-1.287072</td>\n",
       "      <td>2.586002</td>\n",
       "      <td>1.135236</td>\n",
       "      <td>0.918652</td>\n",
       "      <td>0.212668</td>\n",
       "    </tr>\n",
       "  </tbody>\n",
       "</table>\n",
       "</div>"
      ],
      "text/plain": [
       "          0         1         2         3         4\n",
       "0 -1.368005  2.078462 -1.418680 -3.370455  0.725825\n",
       "1 -1.053785  0.794664 -0.223040 -0.725517  0.155901\n",
       "2 -1.897780  1.708334 -2.313907  0.634208  1.204102\n",
       "3 -2.212128  5.245405  1.369185 -5.911640  0.904614\n",
       "4 -1.287072  2.586002  1.135236  0.918652  0.212668"
      ]
     },
     "execution_count": 134,
     "metadata": {},
     "output_type": "execute_result"
    }
   ],
   "source": [
    "Z.head()"
   ]
  },
  {
   "cell_type": "code",
   "execution_count": 135,
   "metadata": {},
   "outputs": [
    {
     "data": {
      "text/html": [
       "<div>\n",
       "<style scoped>\n",
       "    .dataframe tbody tr th:only-of-type {\n",
       "        vertical-align: middle;\n",
       "    }\n",
       "\n",
       "    .dataframe tbody tr th {\n",
       "        vertical-align: top;\n",
       "    }\n",
       "\n",
       "    .dataframe thead th {\n",
       "        text-align: right;\n",
       "    }\n",
       "</style>\n",
       "<table border=\"1\" class=\"dataframe\">\n",
       "  <thead>\n",
       "    <tr style=\"text-align: right;\">\n",
       "      <th></th>\n",
       "      <th>0</th>\n",
       "      <th>1</th>\n",
       "      <th>2</th>\n",
       "      <th>3</th>\n",
       "      <th>4</th>\n",
       "      <th>cluster</th>\n",
       "    </tr>\n",
       "  </thead>\n",
       "  <tbody>\n",
       "    <tr>\n",
       "      <th>0</th>\n",
       "      <td>-1.368005</td>\n",
       "      <td>2.078462</td>\n",
       "      <td>-1.418680</td>\n",
       "      <td>-3.370455</td>\n",
       "      <td>0.725825</td>\n",
       "      <td>1</td>\n",
       "    </tr>\n",
       "    <tr>\n",
       "      <th>1</th>\n",
       "      <td>-1.053785</td>\n",
       "      <td>0.794664</td>\n",
       "      <td>-0.223040</td>\n",
       "      <td>-0.725517</td>\n",
       "      <td>0.155901</td>\n",
       "      <td>1</td>\n",
       "    </tr>\n",
       "    <tr>\n",
       "      <th>2</th>\n",
       "      <td>-1.897780</td>\n",
       "      <td>1.708334</td>\n",
       "      <td>-2.313907</td>\n",
       "      <td>0.634208</td>\n",
       "      <td>1.204102</td>\n",
       "      <td>1</td>\n",
       "    </tr>\n",
       "    <tr>\n",
       "      <th>3</th>\n",
       "      <td>-2.212128</td>\n",
       "      <td>5.245405</td>\n",
       "      <td>1.369185</td>\n",
       "      <td>-5.911640</td>\n",
       "      <td>0.904614</td>\n",
       "      <td>1</td>\n",
       "    </tr>\n",
       "    <tr>\n",
       "      <th>4</th>\n",
       "      <td>-1.287072</td>\n",
       "      <td>2.586002</td>\n",
       "      <td>1.135236</td>\n",
       "      <td>0.918652</td>\n",
       "      <td>0.212668</td>\n",
       "      <td>1</td>\n",
       "    </tr>\n",
       "  </tbody>\n",
       "</table>\n",
       "</div>"
      ],
      "text/plain": [
       "          0         1         2         3         4  cluster\n",
       "0 -1.368005  2.078462 -1.418680 -3.370455  0.725825        1\n",
       "1 -1.053785  0.794664 -0.223040 -0.725517  0.155901        1\n",
       "2 -1.897780  1.708334 -2.313907  0.634208  1.204102        1\n",
       "3 -2.212128  5.245405  1.369185 -5.911640  0.904614        1\n",
       "4 -1.287072  2.586002  1.135236  0.918652  0.212668        1"
      ]
     },
     "execution_count": 135,
     "metadata": {},
     "output_type": "execute_result"
    }
   ],
   "source": [
    "Z_clus.head()"
   ]
  },
  {
   "cell_type": "code",
   "execution_count": 136,
   "metadata": {},
   "outputs": [
    {
     "name": "stdout",
     "output_type": "stream",
     "text": [
      "MSE: 29.214\n"
     ]
    }
   ],
   "source": [
    "X = Z_clus\n",
    "y_los = response['LOS']\n",
    "\n",
    "X_train, X_test, y_train, y_test = train_test_split(X, y_los, test_size=0.33, random_state=42)\n",
    "\n",
    "# fit the model\n",
    "model = RandomForestRegressor(random_state=1)\n",
    "model.fit(X_train, y_train)\n",
    "\n",
    "# make predictions\n",
    "yhat = model.predict(X_test)\n",
    "# evaluate predictions\n",
    "mse = mean_squared_error(y_test, yhat)\n",
    "print('MSE: %.3f' % mse)"
   ]
  },
  {
   "cell_type": "markdown",
   "metadata": {},
   "source": [
    "The MSE increased a bit from 29.172 to 29.214."
   ]
  },
  {
   "cell_type": "markdown",
   "metadata": {},
   "source": [
    "## Classifier Model (Z + cluster)"
   ]
  },
  {
   "cell_type": "code",
   "execution_count": 137,
   "metadata": {},
   "outputs": [
    {
     "name": "stdout",
     "output_type": "stream",
     "text": [
      "0.9054844606946983\n"
     ]
    }
   ],
   "source": [
    "X = Z_clus\n",
    "y_flag = response['HOSPITAL_EXPIRE_FLAG']\n",
    "\n",
    "X_train, X_test, y_train, y_test = train_test_split(X, y_flag, test_size=0.33, random_state=42)\n",
    "\n",
    "# fit the model\n",
    "model = RandomForestClassifier(random_state=1)\n",
    "model.fit(X_train, y_train)\n",
    "# make predictions\n",
    "yhat = model.predict(X_test)\n",
    "# evaluate predictions\n",
    "acc = accuracy_score(y_test, yhat)\n",
    "print(acc)"
   ]
  },
  {
   "cell_type": "markdown",
   "metadata": {},
   "source": [
    "Adding the clusters to the te Z matrix did not improve accuracy, it stayed at around 0.905."
   ]
  },
  {
   "cell_type": "markdown",
   "metadata": {},
   "source": [
    "# PCA"
   ]
  },
  {
   "cell_type": "markdown",
   "metadata": {},
   "source": [
    "Now we do Principal Component Analysis (PCA). From how I understood it, PCA is very similar to SVD. But it is easier to implement in Python. Further, while in SVD, we could choose how many columns we would like to retain for our Z matrix, in PCA (while we could do that as well, I think), it is more usual to just retain the first principal component and the second principal component."
   ]
  },
  {
   "cell_type": "code",
   "execution_count": 138,
   "metadata": {},
   "outputs": [
    {
     "data": {
      "image/png": "[encoded data removed]",
      "text/plain": [
       "<Figure size 432x288 with 1 Axes>"
      ]
     },
     "metadata": {},
     "output_type": "display_data"
    }
   ],
   "source": [
    "from sklearn.decomposition import PCA\n",
    "\n",
    "from sklearn.pipeline import make_pipeline\n",
    "\n",
    "# Create a PCA instance: pca\n",
    "pca = PCA()\n",
    "\n",
    "# Fit the pipeline to 'samples'\n",
    "pca.fit(final_small_df)\n",
    "\n",
    "# Plot the explained variances\n",
    "features = range(pca.n_components_)\n",
    "plt.bar(features, pca.explained_variance_)\n",
    "plt.xlabel('PCA feature')\n",
    "plt.ylabel('variance')\n",
    "plt.xticks(features)\n",
    "plt.show()"
   ]
  },
  {
   "cell_type": "markdown",
   "metadata": {},
   "source": [
    "Most of the variations are explained by the first component. But I will keep the second one as well."
   ]
  },
  {
   "cell_type": "code",
   "execution_count": 139,
   "metadata": {},
   "outputs": [
    {
     "name": "stdout",
     "output_type": "stream",
     "text": [
      "(16573, 2)\n"
     ]
    }
   ],
   "source": [
    "pca = PCA(n_components=2)\n",
    "pca.fit(final_small_df)\n",
    "\n",
    "transformed = pca.transform(final_small_df)\n",
    "print(transformed.shape)"
   ]
  },
  {
   "cell_type": "code",
   "execution_count": 140,
   "metadata": {},
   "outputs": [
    {
     "data": {
      "image/png": "[encoded data removed]",
      "text/plain": [
       "<Figure size 432x288 with 1 Axes>"
      ]
     },
     "metadata": {},
     "output_type": "display_data"
    }
   ],
   "source": [
    "# hospital flag and the main dataset in 2 dimensions (using PCA)\n",
    "\n",
    "xs = transformed[:,0]\n",
    "ys = transformed[:,1]\n",
    "\n",
    "colors = {0:'green', 1:'red'}\n",
    "plt.scatter(xs, ys, c=response['HOSPITAL_EXPIRE_FLAG'].map(colors), alpha=0.5, s=10)\n",
    "plt.show()"
   ]
  },
  {
   "cell_type": "code",
   "execution_count": 141,
   "metadata": {},
   "outputs": [
    {
     "data": {
      "image/png": "[encoded data removed]",
      "text/plain": [
       "<Figure size 432x288 with 1 Axes>"
      ]
     },
     "metadata": {},
     "output_type": "display_data"
    }
   ],
   "source": [
    "pca.fit(final_small_df)\n",
    "\n",
    "# Plot the explained variances\n",
    "features = range(pca.n_components_)\n",
    "plt.bar(features, pca.explained_variance_)\n",
    "plt.xlabel('PCA feature')\n",
    "plt.ylabel('variance')\n",
    "plt.xticks(features)\n",
    "plt.show()"
   ]
  },
  {
   "cell_type": "markdown",
   "metadata": {},
   "source": [
    "The first component for the PCA explains more than half in the variance of the data while the second one is explained by the second component."
   ]
  },
  {
   "cell_type": "markdown",
   "metadata": {},
   "source": [
    "Note: When a dataframe name contains \"Z\", it's from SVD. If it contains 'PC' or 'transformed', its from PCA. I use both since for some clustering methods, it may take too long to cluster based on >2 columns, while some son't want too few columns (from my experience, Affinity Propagation)."
   ]
  },
  {
   "cell_type": "markdown",
   "metadata": {},
   "source": [
    "# Clustering"
   ]
  },
  {
   "cell_type": "markdown",
   "metadata": {},
   "source": [
    "# K-means"
   ]
  },
  {
   "cell_type": "markdown",
   "metadata": {},
   "source": [
    "First, we do K-means (a.k.a. Lloyd’s algorithm). KMeans clusters data by \"trying to separate samples in n groups of equal variance, minimizing a criterion known as the inertia or within-cluster sum-of-squares\".\n",
    "Source: https://scikit-learn.org/stable/modules/clustering.html#k-means\n",
    "\n",
    "From how I understood it, it minimized specifies clusters by moving the centroids until it has minimized the distances between points."
   ]
  },
  {
   "cell_type": "markdown",
   "metadata": {},
   "source": [
    "## Elbow"
   ]
  },
  {
   "cell_type": "markdown",
   "metadata": {},
   "source": [
    "While we already did K-means with elbow as method for determining the number of clusters, we revisit it in this section so we could easily compare our outputs from other methods do determine number of clusters such as Silhouette method and Optimal Gap."
   ]
  },
  {
   "cell_type": "code",
   "execution_count": 142,
   "metadata": {},
   "outputs": [
    {
     "data": {
      "text/plain": [
       "[<matplotlib.lines.Line2D at 0x1c381d57940>]"
      ]
     },
     "execution_count": 142,
     "metadata": {},
     "output_type": "execute_result"
    },
    {
     "data": {
      "image/png": "[encoded data removed]",
      "text/plain": [
       "<Figure size 432x288 with 1 Axes>"
      ]
     },
     "metadata": {},
     "output_type": "display_data"
    }
   ],
   "source": [
    "#finding k\n",
    "#elbow\n",
    "from sklearn.cluster import KMeans\n",
    "\n",
    "sse = []\n",
    "k_rng = range(1,10)\n",
    "for k in k_rng:\n",
    "    km = KMeans(n_clusters=k)\n",
    "    km.fit(Z)\n",
    "    sse.append(km.inertia_)\n",
    "\n",
    "plt.xlabel('K')\n",
    "plt.ylabel('Sum of squared error')\n",
    "plt.plot(k_rng,sse)"
   ]
  },
  {
   "cell_type": "code",
   "execution_count": 143,
   "metadata": {},
   "outputs": [
    {
     "data": {
      "text/plain": [
       "array([0, 0, 0, ..., 0, 0, 0])"
      ]
     },
     "execution_count": 143,
     "metadata": {},
     "output_type": "execute_result"
    }
   ],
   "source": [
    "# k=2\n",
    "\n",
    "#fitting the model\n",
    "SEED=2305\n",
    "km = KMeans(n_clusters=2)\n",
    "y_predicted = km.fit_predict(Z)\n",
    "y_predicted"
   ]
  },
  {
   "cell_type": "code",
   "execution_count": 144,
   "metadata": {
    "id": "qSmlvZWjknNO"
   },
   "outputs": [],
   "source": [
    "type(y_predicted)\n",
    "y_predicted = pd.DataFrame(y_predicted)"
   ]
  },
  {
   "cell_type": "code",
   "execution_count": 145,
   "metadata": {
    "id": "58PsXZhqkx58"
   },
   "outputs": [],
   "source": [
    "type(Z)\n",
    "Z = pd.DataFrame(Z)"
   ]
  },
  {
   "cell_type": "code",
   "execution_count": 146,
   "metadata": {},
   "outputs": [],
   "source": [
    "Z_df = pd.concat([Z, y_predicted], axis=1)"
   ]
  },
  {
   "cell_type": "code",
   "execution_count": 147,
   "metadata": {},
   "outputs": [],
   "source": [
    "Z_df.columns = [0,1,2,3,4,'cluster']"
   ]
  },
  {
   "cell_type": "code",
   "execution_count": 148,
   "metadata": {},
   "outputs": [
    {
     "data": {
      "text/html": [
       "<div>\n",
       "<style scoped>\n",
       "    .dataframe tbody tr th:only-of-type {\n",
       "        vertical-align: middle;\n",
       "    }\n",
       "\n",
       "    .dataframe tbody tr th {\n",
       "        vertical-align: top;\n",
       "    }\n",
       "\n",
       "    .dataframe thead th {\n",
       "        text-align: right;\n",
       "    }\n",
       "</style>\n",
       "<table border=\"1\" class=\"dataframe\">\n",
       "  <thead>\n",
       "    <tr style=\"text-align: right;\">\n",
       "      <th></th>\n",
       "      <th>0</th>\n",
       "      <th>1</th>\n",
       "      <th>2</th>\n",
       "      <th>3</th>\n",
       "      <th>4</th>\n",
       "      <th>cluster</th>\n",
       "    </tr>\n",
       "  </thead>\n",
       "  <tbody>\n",
       "    <tr>\n",
       "      <th>0</th>\n",
       "      <td>-1.368005</td>\n",
       "      <td>2.078462</td>\n",
       "      <td>-1.418680</td>\n",
       "      <td>-3.370455</td>\n",
       "      <td>0.725825</td>\n",
       "      <td>0</td>\n",
       "    </tr>\n",
       "    <tr>\n",
       "      <th>1</th>\n",
       "      <td>-1.053785</td>\n",
       "      <td>0.794664</td>\n",
       "      <td>-0.223040</td>\n",
       "      <td>-0.725517</td>\n",
       "      <td>0.155901</td>\n",
       "      <td>0</td>\n",
       "    </tr>\n",
       "    <tr>\n",
       "      <th>2</th>\n",
       "      <td>-1.897780</td>\n",
       "      <td>1.708334</td>\n",
       "      <td>-2.313907</td>\n",
       "      <td>0.634208</td>\n",
       "      <td>1.204102</td>\n",
       "      <td>0</td>\n",
       "    </tr>\n",
       "    <tr>\n",
       "      <th>3</th>\n",
       "      <td>-2.212128</td>\n",
       "      <td>5.245405</td>\n",
       "      <td>1.369185</td>\n",
       "      <td>-5.911640</td>\n",
       "      <td>0.904614</td>\n",
       "      <td>0</td>\n",
       "    </tr>\n",
       "    <tr>\n",
       "      <th>4</th>\n",
       "      <td>-1.287072</td>\n",
       "      <td>2.586002</td>\n",
       "      <td>1.135236</td>\n",
       "      <td>0.918652</td>\n",
       "      <td>0.212668</td>\n",
       "      <td>0</td>\n",
       "    </tr>\n",
       "  </tbody>\n",
       "</table>\n",
       "</div>"
      ],
      "text/plain": [
       "          0         1         2         3         4  cluster\n",
       "0 -1.368005  2.078462 -1.418680 -3.370455  0.725825        0\n",
       "1 -1.053785  0.794664 -0.223040 -0.725517  0.155901        0\n",
       "2 -1.897780  1.708334 -2.313907  0.634208  1.204102        0\n",
       "3 -2.212128  5.245405  1.369185 -5.911640  0.904614        0\n",
       "4 -1.287072  2.586002  1.135236  0.918652  0.212668        0"
      ]
     },
     "execution_count": 148,
     "metadata": {},
     "output_type": "execute_result"
    }
   ],
   "source": [
    "Z_df.head()"
   ]
  },
  {
   "cell_type": "code",
   "execution_count": 149,
   "metadata": {},
   "outputs": [
    {
     "data": {
      "text/plain": [
       "(16573, 6)"
      ]
     },
     "execution_count": 149,
     "metadata": {},
     "output_type": "execute_result"
    }
   ],
   "source": [
    "Z_df.shape"
   ]
  },
  {
   "cell_type": "code",
   "execution_count": 150,
   "metadata": {
    "scrolled": true
   },
   "outputs": [
    {
     "data": {
      "text/plain": [
       "<matplotlib.collections.PathCollection at 0x1c381db4d60>"
      ]
     },
     "execution_count": 150,
     "metadata": {},
     "output_type": "execute_result"
    },
    {
     "data": {
      "image/png": "[encoded data removed]",
      "text/plain": [
       "<Figure size 432x288 with 1 Axes>"
      ]
     },
     "metadata": {},
     "output_type": "display_data"
    }
   ],
   "source": [
    "plt.scatter(Z[0], Z[1], c=Z_df['cluster'],cmap='rainbow', alpha=0.5)"
   ]
  },
  {
   "cell_type": "markdown",
   "metadata": {},
   "source": [
    "We observe than using the Z matrix, those with x and y values farther from the origin are more likely to be included in the Cluster 1 (red).\n",
    "\n",
    "We will also check later if our results would differ if we used the reduced dimension from PCA instead. Just to be sure, 'cause we expect them to be very similar, if not almost the same."
   ]
  },
  {
   "cell_type": "markdown",
   "metadata": {},
   "source": [
    "### [k = 2] Linear Model (SVD+ K-means (elbow)) "
   ]
  },
  {
   "cell_type": "code",
   "execution_count": 151,
   "metadata": {},
   "outputs": [
    {
     "name": "stdout",
     "output_type": "stream",
     "text": [
      "MSE: 29.214\n"
     ]
    }
   ],
   "source": [
    "X = Z_df\n",
    "y_los = response['LOS']\n",
    "\n",
    "X_train, X_test, y_train, y_test = train_test_split(X, y_los, test_size=0.33, random_state=42)\n",
    "\n",
    "from sklearn.ensemble import RandomForestRegressor\n",
    "\n",
    "# fit the model\n",
    "model = RandomForestRegressor(random_state=1)\n",
    "model.fit(X_train, y_train)\n",
    "\n",
    "from sklearn.metrics import mean_squared_error\n",
    "\n",
    "# make predictions\n",
    "yhat = model.predict(X_test)\n",
    "# evaluate predictions\n",
    "mse = mean_squared_error(y_test, yhat)\n",
    "print('MSE: %.3f' % mse)"
   ]
  },
  {
   "cell_type": "code",
   "execution_count": null,
   "metadata": {},
   "outputs": [],
   "source": []
  },
  {
   "cell_type": "markdown",
   "metadata": {},
   "source": [
    "### [k = 2] Classifier Model (SVD + K-means (elbow))"
   ]
  },
  {
   "cell_type": "code",
   "execution_count": 152,
   "metadata": {},
   "outputs": [
    {
     "name": "stdout",
     "output_type": "stream",
     "text": [
      "0.9056672760511884\n"
     ]
    }
   ],
   "source": [
    "X = Z_df\n",
    "y_flag = response['HOSPITAL_EXPIRE_FLAG']\n",
    "\n",
    "X_train, X_test, y_train, y_test = train_test_split(X, y_flag, test_size=0.33, random_state=42)\n",
    "\n",
    "# fit the model\n",
    "model = RandomForestClassifier(random_state=1)\n",
    "model.fit(X_train, y_train)\n",
    "# make predictions\n",
    "yhat = model.predict(X_test)\n",
    "# evaluate predictions\n",
    "acc = accuracy_score(y_test, yhat)\n",
    "print(acc)"
   ]
  },
  {
   "cell_type": "markdown",
   "metadata": {},
   "source": [
    "Now we will check if our results would look different if we used the ones from PCA instead as input data."
   ]
  },
  {
   "cell_type": "code",
   "execution_count": 153,
   "metadata": {},
   "outputs": [
    {
     "data": {
      "text/plain": [
       "[<matplotlib.lines.Line2D at 0x1c3821a3e50>]"
      ]
     },
     "execution_count": 153,
     "metadata": {},
     "output_type": "execute_result"
    },
    {
     "data": {
      "image/png": "[encoded data removed]",
      "text/plain": [
       "<Figure size 432x288 with 1 Axes>"
      ]
     },
     "metadata": {},
     "output_type": "display_data"
    }
   ],
   "source": [
    "#finding k\n",
    "#elbow\n",
    "sse = []\n",
    "k_rng = range(1,10)\n",
    "for k in k_rng:\n",
    "    km = KMeans(n_clusters=k)\n",
    "    km.fit(transformed)\n",
    "    sse.append(km.inertia_)\n",
    "\n",
    "plt.xlabel('K')\n",
    "plt.ylabel('Sum of squared error')\n",
    "plt.plot(k_rng,sse)\n",
    "\n",
    "# elbow also showed k=2"
   ]
  },
  {
   "cell_type": "code",
   "execution_count": 154,
   "metadata": {},
   "outputs": [
    {
     "data": {
      "text/plain": [
       "array([0, 0, 0, ..., 0, 0, 0])"
      ]
     },
     "execution_count": 154,
     "metadata": {},
     "output_type": "execute_result"
    }
   ],
   "source": [
    "# k=2\n",
    "\n",
    "#fitting the model\n",
    "SEED=2305\n",
    "km = KMeans(n_clusters=2)\n",
    "y_predicted = km.fit_predict(transformed)\n",
    "y_predicted"
   ]
  },
  {
   "cell_type": "code",
   "execution_count": 155,
   "metadata": {
    "id": "qSmlvZWjknNO"
   },
   "outputs": [],
   "source": [
    "type(y_predicted)\n",
    "y_predicted = pd.DataFrame(y_predicted)"
   ]
  },
  {
   "cell_type": "code",
   "execution_count": 156,
   "metadata": {},
   "outputs": [
    {
     "data": {
      "text/plain": [
       "(16573, 2)"
      ]
     },
     "execution_count": 156,
     "metadata": {},
     "output_type": "execute_result"
    }
   ],
   "source": [
    "transformed.shape"
   ]
  },
  {
   "cell_type": "code",
   "execution_count": 157,
   "metadata": {
    "scrolled": true
   },
   "outputs": [
    {
     "data": {
      "text/plain": [
       "<matplotlib.collections.PathCollection at 0x1c3821f8ac0>"
      ]
     },
     "execution_count": 157,
     "metadata": {},
     "output_type": "execute_result"
    },
    {
     "data": {
      "image/png": "[encoded data removed]",
      "text/plain": [
       "<Figure size 432x288 with 1 Axes>"
      ]
     },
     "metadata": {},
     "output_type": "display_data"
    }
   ],
   "source": [
    "plt.scatter(transformed[:,0], transformed[:,1], c=y_predicted, cmap='rainbow', alpha=0.5)"
   ]
  },
  {
   "cell_type": "markdown",
   "metadata": {},
   "source": [
    "The results from using SVD and PCA are really similar, it looks like the points are just flipped on the axis. "
   ]
  },
  {
   "cell_type": "markdown",
   "metadata": {},
   "source": [
    "### [k = 2] Linear Model (PCA+ K-means (elbow)) "
   ]
  },
  {
   "cell_type": "markdown",
   "metadata": {},
   "source": [
    "Now we check whether our predictions have improved relative to our baseline (no clusters)"
   ]
  },
  {
   "cell_type": "code",
   "execution_count": 158,
   "metadata": {
    "id": "qSmlvZWjknNO"
   },
   "outputs": [
    {
     "name": "stdout",
     "output_type": "stream",
     "text": [
      "<class 'pandas.core.frame.DataFrame'>\n"
     ]
    }
   ],
   "source": [
    "print(type(y_predicted))\n",
    "y_predicted = pd.DataFrame(y_predicted)"
   ]
  },
  {
   "cell_type": "code",
   "execution_count": 159,
   "metadata": {
    "id": "58PsXZhqkx58"
   },
   "outputs": [
    {
     "name": "stdout",
     "output_type": "stream",
     "text": [
      "<class 'numpy.ndarray'>\n"
     ]
    }
   ],
   "source": [
    "print(type(transformed))\n",
    "transformed = pd.DataFrame(transformed)"
   ]
  },
  {
   "cell_type": "code",
   "execution_count": 160,
   "metadata": {},
   "outputs": [],
   "source": [
    "transformed_df = pd.concat([transformed, y_predicted], axis=1)"
   ]
  },
  {
   "cell_type": "code",
   "execution_count": 161,
   "metadata": {},
   "outputs": [],
   "source": [
    "transformed_df.columns = [0,1,'cluster']"
   ]
  },
  {
   "cell_type": "code",
   "execution_count": 162,
   "metadata": {},
   "outputs": [
    {
     "data": {
      "text/html": [
       "<div>\n",
       "<style scoped>\n",
       "    .dataframe tbody tr th:only-of-type {\n",
       "        vertical-align: middle;\n",
       "    }\n",
       "\n",
       "    .dataframe tbody tr th {\n",
       "        vertical-align: top;\n",
       "    }\n",
       "\n",
       "    .dataframe thead th {\n",
       "        text-align: right;\n",
       "    }\n",
       "</style>\n",
       "<table border=\"1\" class=\"dataframe\">\n",
       "  <thead>\n",
       "    <tr style=\"text-align: right;\">\n",
       "      <th></th>\n",
       "      <th>0</th>\n",
       "      <th>1</th>\n",
       "      <th>cluster</th>\n",
       "    </tr>\n",
       "  </thead>\n",
       "  <tbody>\n",
       "    <tr>\n",
       "      <th>0</th>\n",
       "      <td>-0.167359</td>\n",
       "      <td>-0.782956</td>\n",
       "      <td>0</td>\n",
       "    </tr>\n",
       "    <tr>\n",
       "      <th>1</th>\n",
       "      <td>-0.320852</td>\n",
       "      <td>-1.952058</td>\n",
       "      <td>0</td>\n",
       "    </tr>\n",
       "    <tr>\n",
       "      <th>2</th>\n",
       "      <td>0.472167</td>\n",
       "      <td>0.186024</td>\n",
       "      <td>0</td>\n",
       "    </tr>\n",
       "    <tr>\n",
       "      <th>3</th>\n",
       "      <td>0.260693</td>\n",
       "      <td>0.408858</td>\n",
       "      <td>0</td>\n",
       "    </tr>\n",
       "    <tr>\n",
       "      <th>4</th>\n",
       "      <td>-0.211070</td>\n",
       "      <td>0.021515</td>\n",
       "      <td>0</td>\n",
       "    </tr>\n",
       "  </tbody>\n",
       "</table>\n",
       "</div>"
      ],
      "text/plain": [
       "          0         1  cluster\n",
       "0 -0.167359 -0.782956        0\n",
       "1 -0.320852 -1.952058        0\n",
       "2  0.472167  0.186024        0\n",
       "3  0.260693  0.408858        0\n",
       "4 -0.211070  0.021515        0"
      ]
     },
     "execution_count": 162,
     "metadata": {},
     "output_type": "execute_result"
    }
   ],
   "source": [
    "transformed_df.head()"
   ]
  },
  {
   "cell_type": "code",
   "execution_count": 163,
   "metadata": {},
   "outputs": [
    {
     "data": {
      "text/plain": [
       "(16573, 3)"
      ]
     },
     "execution_count": 163,
     "metadata": {},
     "output_type": "execute_result"
    }
   ],
   "source": [
    "transformed_df.shape"
   ]
  },
  {
   "cell_type": "code",
   "execution_count": 164,
   "metadata": {},
   "outputs": [
    {
     "name": "stdout",
     "output_type": "stream",
     "text": [
      "MSE: 32.296\n"
     ]
    }
   ],
   "source": [
    "X = transformed_df\n",
    "y_los = response['LOS']\n",
    "\n",
    "X_train, X_test, y_train, y_test = train_test_split(X, y_los, test_size=0.33, random_state=42)\n",
    "\n",
    "# fit the model\n",
    "model = RandomForestRegressor(random_state=1)\n",
    "model.fit(X_train, y_train)\n",
    "\n",
    "from sklearn.metrics import mean_squared_error\n",
    "\n",
    "# make predictions\n",
    "yhat = model.predict(X_test)\n",
    "# evaluate predictions\n",
    "mse = mean_squared_error(y_test, yhat)\n",
    "print('MSE: %.3f' % mse)"
   ]
  },
  {
   "cell_type": "markdown",
   "metadata": {},
   "source": [
    "The MSE from using the PCA with clusters is a bit higher from using the Z with clusters (32.278 vs. 29.214)"
   ]
  },
  {
   "cell_type": "markdown",
   "metadata": {},
   "source": [
    "### [k = 2] Classifier Model (PCA + K-means (elbow))"
   ]
  },
  {
   "cell_type": "code",
   "execution_count": 165,
   "metadata": {},
   "outputs": [
    {
     "name": "stdout",
     "output_type": "stream",
     "text": [
      "0.9005484460694698\n"
     ]
    }
   ],
   "source": [
    "X = transformed_df\n",
    "y_flag = response['HOSPITAL_EXPIRE_FLAG']\n",
    "\n",
    "X_train, X_test, y_train, y_test = train_test_split(X, y_flag, test_size=0.33, random_state=42)\n",
    "\n",
    "# fit the model\n",
    "model = RandomForestClassifier(random_state=1)\n",
    "model.fit(X_train, y_train)\n",
    "# make predictions\n",
    "yhat = model.predict(X_test)\n",
    "# evaluate predictions\n",
    "acc = accuracy_score(y_test, yhat)\n",
    "print(acc)"
   ]
  },
  {
   "cell_type": "markdown",
   "metadata": {},
   "source": [
    "The accuracy from using the PCA+clusters were marginally lower compared to the one from SVD+clusters (0.8998 vs 0.9057)"
   ]
  },
  {
   "cell_type": "markdown",
   "metadata": {},
   "source": [
    "## Silhouette"
   ]
  },
  {
   "cell_type": "markdown",
   "metadata": {},
   "source": [
    "Now, we try another way to determine number of clusters to supply the k-means algorithm.\n",
    "\n",
    "The silhouette score measures of how similar an object is to its own cluster compared to other clusters."
   ]
  },
  {
   "cell_type": "code",
   "execution_count": 166,
   "metadata": {},
   "outputs": [
    {
     "data": {
      "image/png": "[encoded data removed]",
      "text/plain": [
       "<Figure size 432x288 with 1 Axes>"
      ]
     },
     "metadata": {},
     "output_type": "display_data"
    },
    {
     "name": "stdout",
     "output_type": "stream",
     "text": [
      "Max average silhouette score is : 0.97465  for n_clusters = 2\n"
     ]
    }
   ],
   "source": [
    "K = range(2,10) \n",
    "SEED = 135\n",
    "\n",
    "from sklearn.metrics import silhouette_samples, silhouette_score\n",
    "\n",
    "silhouette_by_k=[]\n",
    "\n",
    "for n_clusters in K:\n",
    "\n",
    "    # Initialize the clusterer with n_clusters value and a random generator\n",
    "    # seed of 10 for reproducibility.\n",
    "    clusterer = KMeans(n_clusters=n_clusters, random_state=SEED)\n",
    "    cluster_labels = clusterer.fit_predict(Z)\n",
    "\n",
    "    # The silhouette_score gives the average value for all the samples.\n",
    "    # This gives a perspective into the density and separation of the formed\n",
    "    # clusters\n",
    "    silhouette_avg = silhouette_score(Z, cluster_labels)\n",
    "    \n",
    "    silhouette_by_k.append(silhouette_avg)\n",
    "\n",
    "plt.plot(K, silhouette_by_k, 'bx-') \n",
    "plt.xlabel('Values of K') \n",
    "plt.ylabel('Silhouette') \n",
    "plt.title('Silhouette method') \n",
    "plt.show() \n",
    "    \n",
    "print(\"Max average silhouette score is :\", round(max(silhouette_by_k),5), \n",
    "      \" for n_clusters =\", K[silhouette_by_k.index(max(silhouette_by_k))])"
   ]
  },
  {
   "cell_type": "markdown",
   "metadata": {},
   "source": [
    "From k=3 decrease in inertia (WCSS) becomes linear, so we select k=3."
   ]
  },
  {
   "cell_type": "markdown",
   "metadata": {},
   "source": [
    "Another way to visualize sillohouette score is as follows."
   ]
  },
  {
   "cell_type": "code",
   "execution_count": 167,
   "metadata": {},
   "outputs": [],
   "source": [
    "import matplotlib.cm as cm\n",
    "from sklearn.metrics import silhouette_samples, silhouette_score\n",
    "def silhouette_plot(X, y, n_clusters, ax=None):\n",
    "\tif ax is None:\n",
    "\t\tax = plt.gca()\n",
    "\t\t# Compute the silhouette scores for each sample\n",
    "\t\tsilhouette_avg = silhouette_score(X, y)\n",
    "\t\tsample_silhouette_values = silhouette_samples(X, y)\n",
    "\t\ty_lower = padding = 2\n",
    "\t\tfor i in range(n_clusters):\n",
    "\t# Aggregate the silhouette scores for samples belonging to\n",
    "\t\t\tith_cluster_silhouette_values = sample_silhouette_values[y == i]\n",
    "\t\t\tith_cluster_silhouette_values.sort()\n",
    "\t\t\tsize_cluster_i = ith_cluster_silhouette_values.shape[0]\n",
    "\t\t\ty_upper = y_lower + size_cluster_i\n",
    "\t\t\tcolor = cm.nipy_spectral(float(i) / n_clusters)\n",
    "\t\t\tax.fill_betweenx(np.arange(y_lower, y_upper),\n",
    "\t\t\t\t\t\t\t0,ith_cluster_silhouette_values,\n",
    "\t\t\t\t\t\t\tfacecolor=color,\n",
    "\t\t\t\t\t\t\tedgecolor=color,\n",
    "\t\t\t\t\t\t\talpha=0.7)\n",
    "\t\t\t# Label the silhouette plots with their cluster numbers at the middle\n",
    "\t\t\tax.text(-0.05, y_lower + 0.5 * size_cluster_i, str(i + 1))\n",
    "\t\t\t# Compute the new y_lower for next plot\n",
    "\t\t\ty_lower = y_upper + padding\n",
    "\t\tax.set_xlabel(\"The silhouette coefficient values\")\n",
    "\t\tax.set_ylabel(\"Cluster label\")\n",
    "\t\t# The vertical line for average silhoutte score of all the values\n",
    "\t\tax.axvline(x=silhouette_avg, c='r', alpha=0.8, lw=0.8, ls='-')\n",
    "\t\tax.annotate('Average',\n",
    "\t\t\t\t\txytext=(silhouette_avg, y_lower * 1.025),\n",
    "\t\t\t\t\txy=(0, 0),\n",
    "\t\t\t\t\tha='center',\n",
    "\t\t\t\t\talpha=0.8,\n",
    "\t\t\t\t\tc='r')\n",
    "\t\tax.set_yticks([]) # Clear the yaxis labels / ticks\n",
    "\t\tax.set_xticks([0, 0.2, 0.4, 0.6, 0.8, 1])\n",
    "\t\tax.set_ylim(0, y_upper + 1)\n",
    "\t\tax.set_xlim(-0.075, 1.0)\n",
    "\t\treturn ax"
   ]
  },
  {
   "cell_type": "code",
   "execution_count": 168,
   "metadata": {
    "scrolled": true
   },
   "outputs": [
    {
     "data": {
      "text/plain": [
       "<AxesSubplot:xlabel='The silhouette coefficient values', ylabel='Cluster label'>"
      ]
     },
     "execution_count": 168,
     "metadata": {},
     "output_type": "execute_result"
    },
    {
     "data": {
      "image/png": "[encoded data removed]",
      "text/plain": [
       "<Figure size 432x288 with 1 Axes>"
      ]
     },
     "metadata": {},
     "output_type": "display_data"
    }
   ],
   "source": [
    "### Silhoutte Plot\n",
    "silhouette_plot(Z,cluster_labels,3,ax=None)"
   ]
  },
  {
   "cell_type": "markdown",
   "metadata": {},
   "source": [
    "The thickness of each silhouette below shows how much data points belong to a particular class. We observe that most observations belong to cluster 3. Further, each cluster passes the average sillohoutte score, so our clustering is good, even though the size of clusters are very uneven."
   ]
  },
  {
   "cell_type": "code",
   "execution_count": 169,
   "metadata": {
    "scrolled": false
   },
   "outputs": [
    {
     "data": {
      "text/plain": [
       "<matplotlib.collections.PathCollection at 0x1c382267670>"
      ]
     },
     "execution_count": 169,
     "metadata": {},
     "output_type": "execute_result"
    },
    {
     "data": {
      "image/png": "[encoded data removed]",
      "text/plain": [
       "<Figure size 432x288 with 1 Axes>"
      ]
     },
     "metadata": {},
     "output_type": "display_data"
    }
   ],
   "source": [
    "# Results of selecting k=3\n",
    "kmeanModel = KMeans(n_clusters=3, random_state=SEED).fit(Z) \n",
    "kmeanModel.fit(Z)\n",
    "predicted=kmeanModel.predict(Z)\n",
    "\n",
    "# Plot dataset with clusters\n",
    "plt.scatter(Z[0],Z[1],c=predicted,cmap='rainbow', alpha=0.8)"
   ]
  },
  {
   "cell_type": "markdown",
   "metadata": {},
   "source": [
    "We observe above that data points far from the origin are identfied as one cluster (green), those near to origin but with negative y-values as another cluster (purple), and those near the origin but have positive y-values (red) as another."
   ]
  },
  {
   "cell_type": "markdown",
   "metadata": {},
   "source": [
    "Now, we check whether the perfomance of model from using k=3 (from silohouette) will improve relative to that of k=2 (from elbow)."
   ]
  },
  {
   "cell_type": "code",
   "execution_count": 170,
   "metadata": {},
   "outputs": [],
   "source": [
    "cluster_labels = pd.DataFrame(predicted)\n",
    "Z_si = pd.concat([Z, cluster_labels], axis=1)\n",
    "Z_si.columns = [0,1,2,3,4,\"clusters\"]"
   ]
  },
  {
   "cell_type": "code",
   "execution_count": 171,
   "metadata": {},
   "outputs": [],
   "source": [
    "#we have to introduce clusters as dummies if k>2\n",
    "\n",
    "Z_si = pd.get_dummies(Z_si, columns=['clusters'],drop_first=True)"
   ]
  },
  {
   "cell_type": "code",
   "execution_count": 172,
   "metadata": {},
   "outputs": [
    {
     "data": {
      "text/html": [
       "<div>\n",
       "<style scoped>\n",
       "    .dataframe tbody tr th:only-of-type {\n",
       "        vertical-align: middle;\n",
       "    }\n",
       "\n",
       "    .dataframe tbody tr th {\n",
       "        vertical-align: top;\n",
       "    }\n",
       "\n",
       "    .dataframe thead th {\n",
       "        text-align: right;\n",
       "    }\n",
       "</style>\n",
       "<table border=\"1\" class=\"dataframe\">\n",
       "  <thead>\n",
       "    <tr style=\"text-align: right;\">\n",
       "      <th></th>\n",
       "      <th>0</th>\n",
       "      <th>1</th>\n",
       "      <th>2</th>\n",
       "      <th>3</th>\n",
       "      <th>4</th>\n",
       "      <th>clusters_1</th>\n",
       "      <th>clusters_2</th>\n",
       "    </tr>\n",
       "  </thead>\n",
       "  <tbody>\n",
       "    <tr>\n",
       "      <th>count</th>\n",
       "      <td>16573.000000</td>\n",
       "      <td>16573.000000</td>\n",
       "      <td>16573.000000</td>\n",
       "      <td>16573.000000</td>\n",
       "      <td>16573.000000</td>\n",
       "      <td>16573.000000</td>\n",
       "      <td>16573.000000</td>\n",
       "    </tr>\n",
       "    <tr>\n",
       "      <th>mean</th>\n",
       "      <td>-1.587946</td>\n",
       "      <td>2.891894</td>\n",
       "      <td>0.125088</td>\n",
       "      <td>-0.867991</td>\n",
       "      <td>-0.055319</td>\n",
       "      <td>0.000603</td>\n",
       "      <td>0.066313</td>\n",
       "    </tr>\n",
       "    <tr>\n",
       "      <th>std</th>\n",
       "      <td>7.215770</td>\n",
       "      <td>3.655735</td>\n",
       "      <td>3.694723</td>\n",
       "      <td>2.666076</td>\n",
       "      <td>2.376566</td>\n",
       "      <td>0.024557</td>\n",
       "      <td>0.248835</td>\n",
       "    </tr>\n",
       "    <tr>\n",
       "      <th>min</th>\n",
       "      <td>-388.400571</td>\n",
       "      <td>-60.242234</td>\n",
       "      <td>-204.726545</td>\n",
       "      <td>-35.547470</td>\n",
       "      <td>-85.759040</td>\n",
       "      <td>0.000000</td>\n",
       "      <td>0.000000</td>\n",
       "    </tr>\n",
       "    <tr>\n",
       "      <th>25%</th>\n",
       "      <td>-1.595153</td>\n",
       "      <td>1.036890</td>\n",
       "      <td>-0.346776</td>\n",
       "      <td>-1.597579</td>\n",
       "      <td>-1.015818</td>\n",
       "      <td>0.000000</td>\n",
       "      <td>0.000000</td>\n",
       "    </tr>\n",
       "    <tr>\n",
       "      <th>50%</th>\n",
       "      <td>-0.898196</td>\n",
       "      <td>1.937691</td>\n",
       "      <td>0.133069</td>\n",
       "      <td>-0.678622</td>\n",
       "      <td>-0.094476</td>\n",
       "      <td>0.000000</td>\n",
       "      <td>0.000000</td>\n",
       "    </tr>\n",
       "    <tr>\n",
       "      <th>75%</th>\n",
       "      <td>-0.481138</td>\n",
       "      <td>3.553117</td>\n",
       "      <td>0.801850</td>\n",
       "      <td>0.039647</td>\n",
       "      <td>0.689688</td>\n",
       "      <td>0.000000</td>\n",
       "      <td>0.000000</td>\n",
       "    </tr>\n",
       "    <tr>\n",
       "      <th>max</th>\n",
       "      <td>0.096273</td>\n",
       "      <td>110.418038</td>\n",
       "      <td>33.455192</td>\n",
       "      <td>39.325991</td>\n",
       "      <td>29.886452</td>\n",
       "      <td>1.000000</td>\n",
       "      <td>1.000000</td>\n",
       "    </tr>\n",
       "  </tbody>\n",
       "</table>\n",
       "</div>"
      ],
      "text/plain": [
       "                  0             1             2             3             4  \\\n",
       "count  16573.000000  16573.000000  16573.000000  16573.000000  16573.000000   \n",
       "mean      -1.587946      2.891894      0.125088     -0.867991     -0.055319   \n",
       "std        7.215770      3.655735      3.694723      2.666076      2.376566   \n",
       "min     -388.400571    -60.242234   -204.726545    -35.547470    -85.759040   \n",
       "25%       -1.595153      1.036890     -0.346776     -1.597579     -1.015818   \n",
       "50%       -0.898196      1.937691      0.133069     -0.678622     -0.094476   \n",
       "75%       -0.481138      3.553117      0.801850      0.039647      0.689688   \n",
       "max        0.096273    110.418038     33.455192     39.325991     29.886452   \n",
       "\n",
       "         clusters_1    clusters_2  \n",
       "count  16573.000000  16573.000000  \n",
       "mean       0.000603      0.066313  \n",
       "std        0.024557      0.248835  \n",
       "min        0.000000      0.000000  \n",
       "25%        0.000000      0.000000  \n",
       "50%        0.000000      0.000000  \n",
       "75%        0.000000      0.000000  \n",
       "max        1.000000      1.000000  "
      ]
     },
     "execution_count": 172,
     "metadata": {},
     "output_type": "execute_result"
    }
   ],
   "source": [
    "Z_si.describe()"
   ]
  },
  {
   "cell_type": "markdown",
   "metadata": {},
   "source": [
    "### [k=3] Linear Model (SVD+ K-means (silhouette))"
   ]
  },
  {
   "cell_type": "code",
   "execution_count": 173,
   "metadata": {},
   "outputs": [
    {
     "name": "stdout",
     "output_type": "stream",
     "text": [
      "MSE: 29.252\n"
     ]
    }
   ],
   "source": [
    "X = Z_si\n",
    "y_los = response['LOS']\n",
    "\n",
    "X_train, X_test, y_train, y_test = train_test_split(X, y_los, test_size=0.33, random_state=42)\n",
    "\n",
    "# fit the model\n",
    "model = RandomForestRegressor(random_state=1)\n",
    "model.fit(X_train, y_train)\n",
    "\n",
    "from sklearn.metrics import mean_squared_error\n",
    "\n",
    "# make predictions\n",
    "yhat = model.predict(X_test)\n",
    "# evaluate predictions\n",
    "mse = mean_squared_error(y_test, yhat)\n",
    "print('MSE: %.3f' % mse)"
   ]
  },
  {
   "cell_type": "markdown",
   "metadata": {},
   "source": [
    "The MSE increased from 29.214 to 29.00 the MSE we got from using k=2. They're not that different."
   ]
  },
  {
   "cell_type": "markdown",
   "metadata": {},
   "source": [
    "### [k=3] Classifier Model (SVD + K-means (silhouette))"
   ]
  },
  {
   "cell_type": "code",
   "execution_count": 174,
   "metadata": {},
   "outputs": [
    {
     "name": "stdout",
     "output_type": "stream",
     "text": [
      "0.9060329067641681\n"
     ]
    }
   ],
   "source": [
    "X = Z_si\n",
    "y_flag = response['HOSPITAL_EXPIRE_FLAG']\n",
    "\n",
    "X_train, X_test, y_train, y_test = train_test_split(X, y_flag, test_size=0.33, random_state=42)\n",
    "\n",
    "# fit the model\n",
    "model = RandomForestClassifier(random_state=1)\n",
    "model.fit(X_train, y_train)\n",
    "# make predictions\n",
    "yhat = model.predict(X_test)\n",
    "# evaluate predictions\n",
    "acc = accuracy_score(y_test, yhat)\n",
    "print(acc)\n"
   ]
  },
  {
   "cell_type": "markdown",
   "metadata": {},
   "source": [
    "Performance of classification improved a bit from 0.9057 to 0.9060 (from k=2 and k=3, respectively)."
   ]
  },
  {
   "cell_type": "markdown",
   "metadata": {},
   "source": [
    "## Optimal Gap"
   ]
  },
  {
   "cell_type": "code",
   "execution_count": 175,
   "metadata": {},
   "outputs": [
    {
     "name": "stdout",
     "output_type": "stream",
     "text": [
      "Optimal clusters:  9\n"
     ]
    }
   ],
   "source": [
    "from gap_statistic import OptimalK\n",
    "\n",
    "optimalK = OptimalK()\n",
    "\n",
    "n_clusters = optimalK(Z, cluster_array=np.arange(2, 10))\n",
    "print('Optimal clusters: ', n_clusters)"
   ]
  },
  {
   "cell_type": "code",
   "execution_count": 176,
   "metadata": {
    "scrolled": true
   },
   "outputs": [
    {
     "data": {
      "image/png": "[encoded data removed]",
      "text/plain": [
       "<Figure size 432x288 with 1 Axes>"
      ]
     },
     "metadata": {},
     "output_type": "display_data"
    }
   ],
   "source": [
    "plt.plot(optimalK.gap_df.n_clusters, optimalK.gap_df.gap_value, linewidth=3)\n",
    "plt.scatter(optimalK.gap_df[optimalK.gap_df.n_clusters == n_clusters].n_clusters,\n",
    "            optimalK.gap_df[optimalK.gap_df.n_clusters == n_clusters].gap_value, s=250, c='r')\n",
    "plt.grid(True)\n",
    "plt.xlabel('Cluster Count')\n",
    "plt.ylabel('Gap Value')\n",
    "plt.title('Gap Values by Cluster Count')\n",
    "plt.show()"
   ]
  },
  {
   "cell_type": "code",
   "execution_count": 177,
   "metadata": {},
   "outputs": [
    {
     "name": "stdout",
     "output_type": "stream",
     "text": [
      "9\n"
     ]
    }
   ],
   "source": [
    "print(n_clusters)"
   ]
  },
  {
   "cell_type": "markdown",
   "metadata": {},
   "source": [
    "Since from optimal gap, the number of clusters is also k=3, we don't have to repeat the k-means for k=3."
   ]
  },
  {
   "cell_type": "markdown",
   "metadata": {},
   "source": [
    "## Minibatch K-Means"
   ]
  },
  {
   "cell_type": "markdown",
   "metadata": {},
   "source": [
    "Although computing using K-means didn't take very long, let's also try using Minibatch K-means. Minibatch K-means \"uses mini-batches to reduce the computation time, while still attempting to optimise the same objective function.\" Source: https://scikit-learn.org/stable/modules/clustering.html#k-means"
   ]
  },
  {
   "cell_type": "code",
   "execution_count": 178,
   "metadata": {},
   "outputs": [],
   "source": [
    "from sklearn.cluster import MiniBatchKMeans\n",
    "\n",
    "kmeans = MiniBatchKMeans(n_clusters=3,\n",
    "                          random_state=0,\n",
    "                          batch_size=2072,\n",
    "                          max_iter=10).fit(Z)\n",
    "\n",
    "labels = kmeans.predict(Z)"
   ]
  },
  {
   "cell_type": "code",
   "execution_count": 179,
   "metadata": {},
   "outputs": [
    {
     "data": {
      "text/plain": [
       "<matplotlib.collections.PathCollection at 0x1c3819ae430>"
      ]
     },
     "execution_count": 179,
     "metadata": {},
     "output_type": "execute_result"
    },
    {
     "data": {
      "image/png": "[encoded data removed]",
      "text/plain": [
       "<Figure size 432x288 with 1 Axes>"
      ]
     },
     "metadata": {},
     "output_type": "display_data"
    }
   ],
   "source": [
    "# Plot dataset with clusters\n",
    "plt.scatter(Z[0],Z[1],c=labels,cmap='rainbow', alpha=0.8)"
   ]
  },
  {
   "cell_type": "markdown",
   "metadata": {},
   "source": [
    "The results from the minibatch k-means were very similar to the k-means implemented on the full dataset."
   ]
  },
  {
   "cell_type": "markdown",
   "metadata": {},
   "source": [
    "# Agglomerative Clustering "
   ]
  },
  {
   "cell_type": "markdown",
   "metadata": {},
   "source": [
    "In Agglomerative Clustering, we are comparing pairwise distances between observations. From how I understood it, it merges observations based on degree of similarity. To be exact, the agglomerative clustering object \"performs a hierarchical clustering using a bottom up approach: each observation starts in its own cluster, and clusters are successively merged together.\" Source: https://scikit-learn.org/stable/modules/clustering.html#hierarchical-clustering\n",
    "\n",
    "In contrast to K-means, we do not have to define the number of clusters in the beginning but instead we identify it after observing the dendrogram."
   ]
  },
  {
   "cell_type": "markdown",
   "metadata": {},
   "source": [
    "For heirarchical/agglomerative clustering, I will use the 2-column dataset with 2000 samples we got from PCA so it will be faster."
   ]
  },
  {
   "cell_type": "code",
   "execution_count": 180,
   "metadata": {},
   "outputs": [],
   "source": [
    "transformed_flag = transformed.copy() #creating deap copy to avoid alteration of original pca matrix\n",
    "transformed_flag[\"HOSPITAL_EXPIRE_FLAG\"] = response[\"HOSPITAL_EXPIRE_FLAG\"]\n",
    "transformed_flag = transformed.sample(2000, random_state=123)"
   ]
  },
  {
   "cell_type": "code",
   "execution_count": 181,
   "metadata": {},
   "outputs": [],
   "source": [
    "#merging the pca matrix and the response df\n",
    "transformed_flag = pd.merge(transformed, response, left_index=True, right_index=True)"
   ]
  },
  {
   "cell_type": "code",
   "execution_count": 182,
   "metadata": {},
   "outputs": [
    {
     "data": {
      "text/plain": [
       "(15721, 9)"
      ]
     },
     "execution_count": 182,
     "metadata": {},
     "output_type": "execute_result"
    }
   ],
   "source": [
    "transformed_flag.shape"
   ]
  },
  {
   "cell_type": "code",
   "execution_count": 183,
   "metadata": {},
   "outputs": [
    {
     "data": {
      "text/html": [
       "<div>\n",
       "<style scoped>\n",
       "    .dataframe tbody tr th:only-of-type {\n",
       "        vertical-align: middle;\n",
       "    }\n",
       "\n",
       "    .dataframe tbody tr th {\n",
       "        vertical-align: top;\n",
       "    }\n",
       "\n",
       "    .dataframe thead th {\n",
       "        text-align: right;\n",
       "    }\n",
       "</style>\n",
       "<table border=\"1\" class=\"dataframe\">\n",
       "  <thead>\n",
       "    <tr style=\"text-align: right;\">\n",
       "      <th></th>\n",
       "      <th>0</th>\n",
       "      <th>1</th>\n",
       "      <th>Unnamed: 0</th>\n",
       "      <th>subject_id</th>\n",
       "      <th>hadm_id</th>\n",
       "      <th>icustay_id</th>\n",
       "      <th>HOSPITAL_EXPIRE_FLAG</th>\n",
       "      <th>LOS</th>\n",
       "      <th>age</th>\n",
       "    </tr>\n",
       "  </thead>\n",
       "  <tbody>\n",
       "    <tr>\n",
       "      <th>0</th>\n",
       "      <td>-0.167359</td>\n",
       "      <td>-0.782956</td>\n",
       "      <td>0</td>\n",
       "      <td>55440</td>\n",
       "      <td>195768</td>\n",
       "      <td>228357</td>\n",
       "      <td>0</td>\n",
       "      <td>4.5761</td>\n",
       "      <td>70</td>\n",
       "    </tr>\n",
       "    <tr>\n",
       "      <th>1</th>\n",
       "      <td>-0.320852</td>\n",
       "      <td>-1.952058</td>\n",
       "      <td>1</td>\n",
       "      <td>76908</td>\n",
       "      <td>126136</td>\n",
       "      <td>221004</td>\n",
       "      <td>0</td>\n",
       "      <td>0.7582</td>\n",
       "      <td>42</td>\n",
       "    </tr>\n",
       "    <tr>\n",
       "      <th>2</th>\n",
       "      <td>0.472167</td>\n",
       "      <td>0.186024</td>\n",
       "      <td>2</td>\n",
       "      <td>95798</td>\n",
       "      <td>136645</td>\n",
       "      <td>296315</td>\n",
       "      <td>0</td>\n",
       "      <td>3.7626</td>\n",
       "      <td>68</td>\n",
       "    </tr>\n",
       "    <tr>\n",
       "      <th>3</th>\n",
       "      <td>0.260693</td>\n",
       "      <td>0.408858</td>\n",
       "      <td>3</td>\n",
       "      <td>40708</td>\n",
       "      <td>102505</td>\n",
       "      <td>245557</td>\n",
       "      <td>0</td>\n",
       "      <td>3.8734</td>\n",
       "      <td>75</td>\n",
       "    </tr>\n",
       "    <tr>\n",
       "      <th>4</th>\n",
       "      <td>-0.211070</td>\n",
       "      <td>0.021515</td>\n",
       "      <td>5</td>\n",
       "      <td>63311</td>\n",
       "      <td>180102</td>\n",
       "      <td>287519</td>\n",
       "      <td>0</td>\n",
       "      <td>1.8490</td>\n",
       "      <td>49</td>\n",
       "    </tr>\n",
       "  </tbody>\n",
       "</table>\n",
       "</div>"
      ],
      "text/plain": [
       "          0         1  Unnamed: 0  subject_id  hadm_id  icustay_id  \\\n",
       "0 -0.167359 -0.782956           0       55440   195768      228357   \n",
       "1 -0.320852 -1.952058           1       76908   126136      221004   \n",
       "2  0.472167  0.186024           2       95798   136645      296315   \n",
       "3  0.260693  0.408858           3       40708   102505      245557   \n",
       "4 -0.211070  0.021515           5       63311   180102      287519   \n",
       "\n",
       "   HOSPITAL_EXPIRE_FLAG     LOS  age  \n",
       "0                     0  4.5761   70  \n",
       "1                     0  0.7582   42  \n",
       "2                     0  3.7626   68  \n",
       "3                     0  3.8734   75  \n",
       "4                     0  1.8490   49  "
      ]
     },
     "execution_count": 183,
     "metadata": {},
     "output_type": "execute_result"
    }
   ],
   "source": [
    "transformed_flag.head()"
   ]
  },
  {
   "cell_type": "code",
   "execution_count": 184,
   "metadata": {},
   "outputs": [],
   "source": [
    "#retaining only the pca matrix and the hospital expired flag\n",
    "transformed_flag = transformed_flag.drop(['Unnamed: 0', 'subject_id', 'hadm_id', 'icustay_id', 'age', 'LOS'], axis=1)"
   ]
  },
  {
   "cell_type": "code",
   "execution_count": 185,
   "metadata": {},
   "outputs": [
    {
     "data": {
      "text/html": [
       "<div>\n",
       "<style scoped>\n",
       "    .dataframe tbody tr th:only-of-type {\n",
       "        vertical-align: middle;\n",
       "    }\n",
       "\n",
       "    .dataframe tbody tr th {\n",
       "        vertical-align: top;\n",
       "    }\n",
       "\n",
       "    .dataframe thead th {\n",
       "        text-align: right;\n",
       "    }\n",
       "</style>\n",
       "<table border=\"1\" class=\"dataframe\">\n",
       "  <thead>\n",
       "    <tr style=\"text-align: right;\">\n",
       "      <th></th>\n",
       "      <th>0</th>\n",
       "      <th>1</th>\n",
       "      <th>HOSPITAL_EXPIRE_FLAG</th>\n",
       "    </tr>\n",
       "  </thead>\n",
       "  <tbody>\n",
       "    <tr>\n",
       "      <th>0</th>\n",
       "      <td>-0.167359</td>\n",
       "      <td>-0.782956</td>\n",
       "      <td>0</td>\n",
       "    </tr>\n",
       "    <tr>\n",
       "      <th>1</th>\n",
       "      <td>-0.320852</td>\n",
       "      <td>-1.952058</td>\n",
       "      <td>0</td>\n",
       "    </tr>\n",
       "    <tr>\n",
       "      <th>2</th>\n",
       "      <td>0.472167</td>\n",
       "      <td>0.186024</td>\n",
       "      <td>0</td>\n",
       "    </tr>\n",
       "    <tr>\n",
       "      <th>3</th>\n",
       "      <td>0.260693</td>\n",
       "      <td>0.408858</td>\n",
       "      <td>0</td>\n",
       "    </tr>\n",
       "    <tr>\n",
       "      <th>4</th>\n",
       "      <td>-0.211070</td>\n",
       "      <td>0.021515</td>\n",
       "      <td>0</td>\n",
       "    </tr>\n",
       "  </tbody>\n",
       "</table>\n",
       "</div>"
      ],
      "text/plain": [
       "          0         1  HOSPITAL_EXPIRE_FLAG\n",
       "0 -0.167359 -0.782956                     0\n",
       "1 -0.320852 -1.952058                     0\n",
       "2  0.472167  0.186024                     0\n",
       "3  0.260693  0.408858                     0\n",
       "4 -0.211070  0.021515                     0"
      ]
     },
     "execution_count": 185,
     "metadata": {},
     "output_type": "execute_result"
    }
   ],
   "source": [
    "transformed_flag.head()"
   ]
  },
  {
   "cell_type": "code",
   "execution_count": 186,
   "metadata": {},
   "outputs": [
    {
     "data": {
      "text/plain": [
       "(15721, 3)"
      ]
     },
     "execution_count": 186,
     "metadata": {},
     "output_type": "execute_result"
    }
   ],
   "source": [
    "transformed_flag.shape"
   ]
  },
  {
   "cell_type": "code",
   "execution_count": 187,
   "metadata": {},
   "outputs": [],
   "source": [
    "# getting 2000 samples\n",
    "transformed_flag = transformed_flag.sample(2000, random_state=123)"
   ]
  },
  {
   "cell_type": "code",
   "execution_count": 188,
   "metadata": {},
   "outputs": [],
   "source": [
    "transformed_flag_no_flag = transformed_flag.drop(['HOSPITAL_EXPIRE_FLAG'], axis=1)"
   ]
  },
  {
   "cell_type": "code",
   "execution_count": 189,
   "metadata": {},
   "outputs": [],
   "source": [
    "import scipy.cluster.hierarchy as sch\n",
    "\n",
    "#Lets create a dendrogram \n",
    "# variable linkage is actually the algorithm  itself of hierarchical clustering\n",
    "links=sch.linkage(transformed_flag_no_flag, method  = \"ward\")\n",
    "# Ward method is a method that tries to minimize the variance within each cluster"
   ]
  },
  {
   "cell_type": "code",
   "execution_count": 190,
   "metadata": {},
   "outputs": [
    {
     "data": {
      "image/png": "[encoded data removed]",
      "text/plain": [
       "<Figure size 432x288 with 1 Axes>"
      ]
     },
     "metadata": {},
     "output_type": "display_data"
    }
   ],
   "source": [
    "datasetdendrogram = sch.dendrogram(links)\n",
    "plt.title('Dendrogram')\n",
    "plt.xlabel('Data Points')\n",
    "plt.ylabel('Euclidean distances')\n",
    "plt.axhline(y=70, color='r', linestyle='--') #cutoff point after observing the dendrogram\n",
    "plt.show()"
   ]
  },
  {
   "cell_type": "code",
   "execution_count": 191,
   "metadata": {
    "scrolled": true
   },
   "outputs": [
    {
     "data": {
      "text/plain": [
       "<matplotlib.collections.PathCollection at 0x1c382d09a60>"
      ]
     },
     "execution_count": 191,
     "metadata": {},
     "output_type": "execute_result"
    },
    {
     "data": {
      "image/png": "[encoded data removed]",
      "text/plain": [
       "<Figure size 432x288 with 1 Axes>"
      ]
     },
     "metadata": {},
     "output_type": "display_data"
    }
   ],
   "source": [
    "from sklearn.cluster import AgglomerativeClustering \n",
    "\n",
    "hc = AgglomerativeClustering( affinity = 'euclidean', linkage ='ward', distance_threshold=70, n_clusters=None)\n",
    "\n",
    "predicted=hc.fit_predict(transformed_flag_no_flag)\n",
    "\n",
    "# Plot dataset with clusters\n",
    "plt.scatter(transformed_flag_no_flag[0],transformed_flag_no_flag[1],c=predicted, cmap='rainbow')"
   ]
  },
  {
   "cell_type": "code",
   "execution_count": 192,
   "metadata": {},
   "outputs": [
    {
     "data": {
      "text/plain": [
       "6"
      ]
     },
     "execution_count": 192,
     "metadata": {},
     "output_type": "execute_result"
    }
   ],
   "source": [
    "len(pd.Series(predicted).unique())"
   ]
  },
  {
   "cell_type": "markdown",
   "metadata": {},
   "source": [
    "As with the previous plots, the points farther from the origin are identified as one cluster, and points nearer the origin are indentified as another."
   ]
  },
  {
   "cell_type": "markdown",
   "metadata": {},
   "source": [
    "## Random Forest"
   ]
  },
  {
   "cell_type": "markdown",
   "metadata": {},
   "source": [
    "### Baseline"
   ]
  },
  {
   "cell_type": "code",
   "execution_count": 193,
   "metadata": {},
   "outputs": [
    {
     "name": "stdout",
     "output_type": "stream",
     "text": [
      "0.9\n"
     ]
    }
   ],
   "source": [
    "X = transformed_flag_no_flag\n",
    "y_flag =  transformed_flag['HOSPITAL_EXPIRE_FLAG']\n",
    "\n",
    "X_train, X_test, y_train, y_test = train_test_split(X, y_flag, test_size=0.33, random_state=42)\n",
    "\n",
    "# fit the model\n",
    "model = RandomForestClassifier(random_state=1)\n",
    "model.fit(X_train, y_train)\n",
    "# make predictions\n",
    "yhat = model.predict(X_test)\n",
    "# evaluate predictions\n",
    "acc = accuracy_score(y_test, yhat)\n",
    "print(acc)"
   ]
  },
  {
   "cell_type": "code",
   "execution_count": 194,
   "metadata": {},
   "outputs": [
    {
     "data": {
      "text/plain": [
       "(2000, 1)"
      ]
     },
     "execution_count": 194,
     "metadata": {},
     "output_type": "execute_result"
    }
   ],
   "source": [
    "cluster_labels = pd.DataFrame(predicted)\n",
    "cluster_labels.shape"
   ]
  },
  {
   "cell_type": "code",
   "execution_count": 195,
   "metadata": {},
   "outputs": [
    {
     "data": {
      "text/html": [
       "<div>\n",
       "<style scoped>\n",
       "    .dataframe tbody tr th:only-of-type {\n",
       "        vertical-align: middle;\n",
       "    }\n",
       "\n",
       "    .dataframe tbody tr th {\n",
       "        vertical-align: top;\n",
       "    }\n",
       "\n",
       "    .dataframe thead th {\n",
       "        text-align: right;\n",
       "    }\n",
       "</style>\n",
       "<table border=\"1\" class=\"dataframe\">\n",
       "  <thead>\n",
       "    <tr style=\"text-align: right;\">\n",
       "      <th></th>\n",
       "      <th>0</th>\n",
       "    </tr>\n",
       "  </thead>\n",
       "  <tbody>\n",
       "    <tr>\n",
       "      <th>0</th>\n",
       "      <td>0</td>\n",
       "    </tr>\n",
       "    <tr>\n",
       "      <th>1</th>\n",
       "      <td>0</td>\n",
       "    </tr>\n",
       "    <tr>\n",
       "      <th>2</th>\n",
       "      <td>0</td>\n",
       "    </tr>\n",
       "    <tr>\n",
       "      <th>3</th>\n",
       "      <td>0</td>\n",
       "    </tr>\n",
       "    <tr>\n",
       "      <th>4</th>\n",
       "      <td>0</td>\n",
       "    </tr>\n",
       "  </tbody>\n",
       "</table>\n",
       "</div>"
      ],
      "text/plain": [
       "   0\n",
       "0  0\n",
       "1  0\n",
       "2  0\n",
       "3  0\n",
       "4  0"
      ]
     },
     "execution_count": 195,
     "metadata": {},
     "output_type": "execute_result"
    }
   ],
   "source": [
    "cluster_labels.head()"
   ]
  },
  {
   "cell_type": "code",
   "execution_count": 196,
   "metadata": {},
   "outputs": [],
   "source": [
    "transformed_flag_index = transformed_flag.index"
   ]
  },
  {
   "cell_type": "code",
   "execution_count": 197,
   "metadata": {},
   "outputs": [],
   "source": [
    "cluster_labels.index = transformed_flag_index"
   ]
  },
  {
   "cell_type": "markdown",
   "metadata": {},
   "source": [
    "### With clusters"
   ]
  },
  {
   "cell_type": "code",
   "execution_count": 198,
   "metadata": {},
   "outputs": [],
   "source": [
    "transformed_sample_df = pd.concat([transformed_flag_no_flag, cluster_labels], axis=1,ignore_index=True)\n",
    "transformed_sample_df.columns = [0,1,\"clusters\"]"
   ]
  },
  {
   "cell_type": "code",
   "execution_count": 199,
   "metadata": {},
   "outputs": [
    {
     "data": {
      "text/html": [
       "<div>\n",
       "<style scoped>\n",
       "    .dataframe tbody tr th:only-of-type {\n",
       "        vertical-align: middle;\n",
       "    }\n",
       "\n",
       "    .dataframe tbody tr th {\n",
       "        vertical-align: top;\n",
       "    }\n",
       "\n",
       "    .dataframe thead th {\n",
       "        text-align: right;\n",
       "    }\n",
       "</style>\n",
       "<table border=\"1\" class=\"dataframe\">\n",
       "  <thead>\n",
       "    <tr style=\"text-align: right;\">\n",
       "      <th></th>\n",
       "      <th>0</th>\n",
       "      <th>1</th>\n",
       "      <th>clusters</th>\n",
       "    </tr>\n",
       "  </thead>\n",
       "  <tbody>\n",
       "    <tr>\n",
       "      <th>5800</th>\n",
       "      <td>-1.000127</td>\n",
       "      <td>-1.641363</td>\n",
       "      <td>0</td>\n",
       "    </tr>\n",
       "    <tr>\n",
       "      <th>4830</th>\n",
       "      <td>-0.015585</td>\n",
       "      <td>2.004892</td>\n",
       "      <td>0</td>\n",
       "    </tr>\n",
       "    <tr>\n",
       "      <th>7654</th>\n",
       "      <td>-1.061591</td>\n",
       "      <td>-1.203699</td>\n",
       "      <td>0</td>\n",
       "    </tr>\n",
       "    <tr>\n",
       "      <th>4052</th>\n",
       "      <td>-0.515905</td>\n",
       "      <td>0.905614</td>\n",
       "      <td>0</td>\n",
       "    </tr>\n",
       "    <tr>\n",
       "      <th>4746</th>\n",
       "      <td>0.326006</td>\n",
       "      <td>1.068219</td>\n",
       "      <td>0</td>\n",
       "    </tr>\n",
       "  </tbody>\n",
       "</table>\n",
       "</div>"
      ],
      "text/plain": [
       "             0         1  clusters\n",
       "5800 -1.000127 -1.641363         0\n",
       "4830 -0.015585  2.004892         0\n",
       "7654 -1.061591 -1.203699         0\n",
       "4052 -0.515905  0.905614         0\n",
       "4746  0.326006  1.068219         0"
      ]
     },
     "execution_count": 199,
     "metadata": {},
     "output_type": "execute_result"
    }
   ],
   "source": [
    "transformed_sample_df.head()"
   ]
  },
  {
   "cell_type": "code",
   "execution_count": 200,
   "metadata": {},
   "outputs": [
    {
     "data": {
      "text/plain": [
       "(2000, 3)"
      ]
     },
     "execution_count": 200,
     "metadata": {},
     "output_type": "execute_result"
    }
   ],
   "source": [
    "transformed_sample_df.shape"
   ]
  },
  {
   "cell_type": "code",
   "execution_count": 201,
   "metadata": {},
   "outputs": [],
   "source": [
    "#let's introduce the clusters as dummies\n",
    "\n",
    "transformed_sample_df_dum = pd.get_dummies(transformed_sample_df, columns=['clusters'],drop_first=True)"
   ]
  },
  {
   "cell_type": "code",
   "execution_count": 202,
   "metadata": {},
   "outputs": [
    {
     "name": "stdout",
     "output_type": "stream",
     "text": [
      "0.8984848484848484\n"
     ]
    }
   ],
   "source": [
    "X = transformed_sample_df_dum\n",
    "y_flag = transformed_flag['HOSPITAL_EXPIRE_FLAG']\n",
    "\n",
    "X_train, X_test, y_train, y_test = train_test_split(X, y_flag, test_size=0.33, random_state=42)\n",
    "\n",
    "# fit the model\n",
    "model = RandomForestClassifier(random_state=1)\n",
    "model.fit(X_train, y_train)\n",
    "# make predictions\n",
    "yhat = model.predict(X_test)\n",
    "# evaluate predictions\n",
    "acc = accuracy_score(y_test, yhat)\n",
    "print(acc)"
   ]
  },
  {
   "cell_type": "markdown",
   "metadata": {},
   "source": [
    "Accuracy did not improve from without clusters to with clusters."
   ]
  },
  {
   "cell_type": "markdown",
   "metadata": {},
   "source": [
    "## Logistic Regression"
   ]
  },
  {
   "cell_type": "markdown",
   "metadata": {},
   "source": [
    "Let's try using a different model, logitstic regression instead of random forest."
   ]
  },
  {
   "cell_type": "markdown",
   "metadata": {},
   "source": [
    "### Baseline"
   ]
  },
  {
   "cell_type": "code",
   "execution_count": 203,
   "metadata": {},
   "outputs": [
    {
     "name": "stdout",
     "output_type": "stream",
     "text": [
      "0.9106060606060606\n"
     ]
    }
   ],
   "source": [
    "X = transformed_flag_no_flag\n",
    "y_flag =  transformed_flag['HOSPITAL_EXPIRE_FLAG']\n",
    "\n",
    "X_train, X_test, y_train, y_test = train_test_split(X, y_flag, test_size=0.33, random_state=42)\n",
    "\n",
    "# fit the model\n",
    "model = LogisticRegression(random_state=1)\n",
    "model.fit(X_train, y_train)\n",
    "# make predictions\n",
    "yhat = model.predict(X_test)\n",
    "# evaluate predictions\n",
    "acc = accuracy_score(y_test, yhat)\n",
    "print(acc)"
   ]
  },
  {
   "cell_type": "markdown",
   "metadata": {},
   "source": [
    "### With clusters"
   ]
  },
  {
   "cell_type": "code",
   "execution_count": 204,
   "metadata": {},
   "outputs": [
    {
     "name": "stdout",
     "output_type": "stream",
     "text": [
      "0.9106060606060606\n"
     ]
    }
   ],
   "source": [
    "X = transformed_sample_df_dum\n",
    "y_flag = transformed_flag['HOSPITAL_EXPIRE_FLAG']\n",
    "\n",
    "X_train, X_test, y_train, y_test = train_test_split(X, y_flag, test_size=0.33, random_state=42)\n",
    "\n",
    "# fit the model\n",
    "model = LogisticRegression(random_state=1)\n",
    "model.fit(X_train, y_train)\n",
    "# make predictions\n",
    "yhat = model.predict(X_test)\n",
    "# evaluate predictions\n",
    "acc = accuracy_score(y_test, yhat)\n",
    "print(acc)"
   ]
  },
  {
   "cell_type": "markdown",
   "metadata": {},
   "source": [
    "Accuracy stayed the same for logistic regression."
   ]
  },
  {
   "cell_type": "markdown",
   "metadata": {},
   "source": [
    "# Affinity Propagation"
   ]
  },
  {
   "cell_type": "markdown",
   "metadata": {},
   "source": [
    "Affinity clustering is another heirarchical clustering method wherein each node is initially a cluster  but in each round, it is merged to the cluster nearest to it, until the desired number of clusters is reached."
   ]
  },
  {
   "cell_type": "code",
   "execution_count": 205,
   "metadata": {},
   "outputs": [],
   "source": [
    "#Z_5000 = Z.append(response, ignore_index=False)\n",
    "Z_5000 = pd.concat([Z, response[\"HOSPITAL_EXPIRE_FLAG\"]], axis=1)"
   ]
  },
  {
   "cell_type": "code",
   "execution_count": 206,
   "metadata": {},
   "outputs": [
    {
     "data": {
      "text/plain": [
       "(5000, 6)"
      ]
     },
     "execution_count": 206,
     "metadata": {},
     "output_type": "execute_result"
    }
   ],
   "source": [
    "Z_5000 = Z_5000.sample(5000, random_state=988)\n",
    "Z_5000.shape"
   ]
  },
  {
   "cell_type": "code",
   "execution_count": 207,
   "metadata": {},
   "outputs": [
    {
     "data": {
      "text/html": [
       "<div>\n",
       "<style scoped>\n",
       "    .dataframe tbody tr th:only-of-type {\n",
       "        vertical-align: middle;\n",
       "    }\n",
       "\n",
       "    .dataframe tbody tr th {\n",
       "        vertical-align: top;\n",
       "    }\n",
       "\n",
       "    .dataframe thead th {\n",
       "        text-align: right;\n",
       "    }\n",
       "</style>\n",
       "<table border=\"1\" class=\"dataframe\">\n",
       "  <thead>\n",
       "    <tr style=\"text-align: right;\">\n",
       "      <th></th>\n",
       "      <th>0</th>\n",
       "      <th>1</th>\n",
       "      <th>2</th>\n",
       "      <th>3</th>\n",
       "      <th>4</th>\n",
       "      <th>HOSPITAL_EXPIRE_FLAG</th>\n",
       "    </tr>\n",
       "  </thead>\n",
       "  <tbody>\n",
       "    <tr>\n",
       "      <th>5914</th>\n",
       "      <td>-0.509024</td>\n",
       "      <td>1.400578</td>\n",
       "      <td>-0.429175</td>\n",
       "      <td>-1.146044</td>\n",
       "      <td>0.595334</td>\n",
       "      <td>0.0</td>\n",
       "    </tr>\n",
       "    <tr>\n",
       "      <th>15300</th>\n",
       "      <td>-1.335669</td>\n",
       "      <td>9.059504</td>\n",
       "      <td>4.796508</td>\n",
       "      <td>2.372974</td>\n",
       "      <td>-1.071691</td>\n",
       "      <td>0.0</td>\n",
       "    </tr>\n",
       "    <tr>\n",
       "      <th>14619</th>\n",
       "      <td>-1.815785</td>\n",
       "      <td>1.786674</td>\n",
       "      <td>-1.019646</td>\n",
       "      <td>0.419561</td>\n",
       "      <td>1.792177</td>\n",
       "      <td>0.0</td>\n",
       "    </tr>\n",
       "    <tr>\n",
       "      <th>15138</th>\n",
       "      <td>-3.696765</td>\n",
       "      <td>26.618635</td>\n",
       "      <td>15.695990</td>\n",
       "      <td>7.166551</td>\n",
       "      <td>0.913325</td>\n",
       "      <td>0.0</td>\n",
       "    </tr>\n",
       "    <tr>\n",
       "      <th>13819</th>\n",
       "      <td>-0.694486</td>\n",
       "      <td>2.839786</td>\n",
       "      <td>0.334169</td>\n",
       "      <td>-0.612068</td>\n",
       "      <td>-1.576407</td>\n",
       "      <td>0.0</td>\n",
       "    </tr>\n",
       "  </tbody>\n",
       "</table>\n",
       "</div>"
      ],
      "text/plain": [
       "              0          1          2         3         4  \\\n",
       "5914  -0.509024   1.400578  -0.429175 -1.146044  0.595334   \n",
       "15300 -1.335669   9.059504   4.796508  2.372974 -1.071691   \n",
       "14619 -1.815785   1.786674  -1.019646  0.419561  1.792177   \n",
       "15138 -3.696765  26.618635  15.695990  7.166551  0.913325   \n",
       "13819 -0.694486   2.839786   0.334169 -0.612068 -1.576407   \n",
       "\n",
       "       HOSPITAL_EXPIRE_FLAG  \n",
       "5914                    0.0  \n",
       "15300                   0.0  \n",
       "14619                   0.0  \n",
       "15138                   0.0  \n",
       "13819                   0.0  "
      ]
     },
     "execution_count": 207,
     "metadata": {},
     "output_type": "execute_result"
    }
   ],
   "source": [
    "Z_5000.head()"
   ]
  },
  {
   "cell_type": "code",
   "execution_count": 208,
   "metadata": {},
   "outputs": [],
   "source": [
    "#changing column names\n",
    "Z_5000.columns = ['A', 'B', 'C', 'D', 'E', 'HOSPITAL_EXPIRE_FLAG']"
   ]
  },
  {
   "cell_type": "code",
   "execution_count": 209,
   "metadata": {},
   "outputs": [
    {
     "data": {
      "text/plain": [
       "A                       float64\n",
       "B                       float64\n",
       "C                       float64\n",
       "D                       float64\n",
       "E                       float64\n",
       "HOSPITAL_EXPIRE_FLAG    float64\n",
       "dtype: object"
      ]
     },
     "execution_count": 209,
     "metadata": {},
     "output_type": "execute_result"
    }
   ],
   "source": [
    "Z_5000.dtypes"
   ]
  },
  {
   "cell_type": "code",
   "execution_count": 210,
   "metadata": {},
   "outputs": [
    {
     "data": {
      "text/plain": [
       "A                       231\n",
       "B                       231\n",
       "C                       231\n",
       "D                       231\n",
       "E                       231\n",
       "HOSPITAL_EXPIRE_FLAG    247\n",
       "dtype: int64"
      ]
     },
     "execution_count": 210,
     "metadata": {},
     "output_type": "execute_result"
    }
   ],
   "source": [
    "Z_5000.isnull().sum()"
   ]
  },
  {
   "cell_type": "code",
   "execution_count": 211,
   "metadata": {},
   "outputs": [],
   "source": [
    "Z_5000 = Z_5000.dropna()"
   ]
  },
  {
   "cell_type": "code",
   "execution_count": 212,
   "metadata": {},
   "outputs": [
    {
     "data": {
      "text/plain": [
       "A                       0\n",
       "B                       0\n",
       "C                       0\n",
       "D                       0\n",
       "E                       0\n",
       "HOSPITAL_EXPIRE_FLAG    0\n",
       "dtype: int64"
      ]
     },
     "execution_count": 212,
     "metadata": {},
     "output_type": "execute_result"
    }
   ],
   "source": [
    "Z_5000.isnull().sum()"
   ]
  },
  {
   "cell_type": "code",
   "execution_count": 213,
   "metadata": {},
   "outputs": [],
   "source": [
    "from sklearn.cluster import AffinityPropagation\n",
    "\n",
    "af = AffinityPropagation(random_state=123)\n",
    "clustering = af.fit(Z_5000[['A', 'B', 'C', 'D', 'E']])"
   ]
  },
  {
   "cell_type": "code",
   "execution_count": 214,
   "metadata": {},
   "outputs": [
    {
     "data": {
      "text/plain": [
       "array([  0,   1,   2,   3,   4,   5,   6,   7,   8,   9,  10,  11,  12,\n",
       "        13,  14,  15,  16,  17,  18,  19,  20,  21,  22,  23,  24,  25,\n",
       "        26,  27,  28,  29,  30,  31,  32,  33,  34,  35,  36,  37,  38,\n",
       "        39,  40,  41,  42,  43,  44,  45,  46,  47,  48,  49,  50,  51,\n",
       "        52,  53,  54,  55,  56,  57,  58,  59,  60,  61,  62,  63,  64,\n",
       "        65,  66,  67,  68,  69,  70,  71,  72,  73,  74,  75,  76,  77,\n",
       "        78,  79,  80,  81,  82,  83,  84,  85,  86,  87,  88,  89,  90,\n",
       "        91,  92,  93,  94,  95,  96,  97,  98,  99, 100, 101, 102, 103,\n",
       "       104, 105, 106, 107, 108, 109, 110, 111, 112, 113, 114, 115, 116,\n",
       "       117, 118, 119, 120, 121, 122, 123, 124, 125, 126, 127, 128, 129,\n",
       "       130, 131, 132, 133, 134, 135, 136, 137, 138, 139, 140, 141, 142,\n",
       "       143, 144, 145, 146, 147, 148, 149, 150, 151, 152, 153, 154, 155,\n",
       "       156, 157, 158, 159, 160, 161, 162, 163, 164, 165, 166, 167, 168,\n",
       "       169, 170, 171, 172, 173, 174, 175, 176, 177, 178, 179, 180, 181,\n",
       "       182, 183, 184, 185, 186, 187, 188, 189, 190, 191, 192, 193, 194,\n",
       "       195, 196, 197, 198, 199, 200, 201, 202, 203, 204, 205, 206, 207,\n",
       "       208, 209, 210, 211, 212, 213, 214, 215, 216, 217, 218, 219, 220,\n",
       "       221, 222, 223, 224, 225, 226, 227, 228, 229, 230, 231, 232, 233,\n",
       "       234, 235, 236, 237, 238, 239, 240, 241, 242, 243, 244, 245, 246,\n",
       "       247, 248, 249, 250, 251, 252, 253], dtype=int64)"
      ]
     },
     "execution_count": 214,
     "metadata": {},
     "output_type": "execute_result"
    }
   ],
   "source": [
    "np.unique(clustering.labels_)"
   ]
  },
  {
   "cell_type": "code",
   "execution_count": 215,
   "metadata": {},
   "outputs": [
    {
     "data": {
      "text/plain": [
       "<matplotlib.collections.PathCollection at 0x1c3822091c0>"
      ]
     },
     "execution_count": 215,
     "metadata": {},
     "output_type": "execute_result"
    },
    {
     "data": {
      "image/png": "[encoded data removed]",
      "text/plain": [
       "<Figure size 432x288 with 1 Axes>"
      ]
     },
     "metadata": {},
     "output_type": "display_data"
    }
   ],
   "source": [
    "# Plot dataset with clusters\n",
    "plt.scatter(Z_5000['A'],Z_5000['B'],c=clustering.labels_)"
   ]
  },
  {
   "cell_type": "code",
   "execution_count": 216,
   "metadata": {},
   "outputs": [
    {
     "data": {
      "text/plain": [
       "254"
      ]
     },
     "execution_count": 216,
     "metadata": {},
     "output_type": "execute_result"
    }
   ],
   "source": [
    "len(pd.Series(clustering.labels_).unique())"
   ]
  },
  {
   "cell_type": "code",
   "execution_count": 217,
   "metadata": {},
   "outputs": [],
   "source": [
    "#storing clusters\n",
    "cluster_labels = clustering.labels_"
   ]
  },
  {
   "cell_type": "markdown",
   "metadata": {},
   "source": [
    "The number of clusters identified by affinity propagation is k=254."
   ]
  },
  {
   "cell_type": "markdown",
   "metadata": {},
   "source": [
    "### Baseline"
   ]
  },
  {
   "cell_type": "code",
   "execution_count": 218,
   "metadata": {},
   "outputs": [
    {
     "name": "stdout",
     "output_type": "stream",
     "text": [
      "0.9002009377093101\n"
     ]
    }
   ],
   "source": [
    "#assigning featurs and labels\n",
    "X = Z_5000[['A', 'B', 'C', 'D', 'E']]\n",
    "y_flag =  Z_5000[['HOSPITAL_EXPIRE_FLAG']]\n",
    "\n",
    "X_train, X_test, y_train, y_test = train_test_split(X, np.ravel(y_flag), test_size=0.33, random_state=42)\n",
    "\n",
    "# fit the model\n",
    "model = RandomForestClassifier(random_state=1)\n",
    "model.fit(X_train, y_train)\n",
    "# make predictions\n",
    "yhat = model.predict(X_test)\n",
    "# evaluate predictions\n",
    "acc = accuracy_score(y_test, yhat)\n",
    "print(acc)"
   ]
  },
  {
   "cell_type": "code",
   "execution_count": 219,
   "metadata": {},
   "outputs": [
    {
     "data": {
      "text/plain": [
       "(4522,)"
      ]
     },
     "execution_count": 219,
     "metadata": {},
     "output_type": "execute_result"
    }
   ],
   "source": [
    "cluster_labels.shape"
   ]
  },
  {
   "cell_type": "code",
   "execution_count": 220,
   "metadata": {},
   "outputs": [
    {
     "data": {
      "text/plain": [
       "(4522, 6)"
      ]
     },
     "execution_count": 220,
     "metadata": {},
     "output_type": "execute_result"
    }
   ],
   "source": [
    "Z_5000.shape"
   ]
  },
  {
   "cell_type": "markdown",
   "metadata": {},
   "source": [
    "### With clusters"
   ]
  },
  {
   "cell_type": "code",
   "execution_count": 221,
   "metadata": {},
   "outputs": [
    {
     "data": {
      "text/html": [
       "<div>\n",
       "<style scoped>\n",
       "    .dataframe tbody tr th:only-of-type {\n",
       "        vertical-align: middle;\n",
       "    }\n",
       "\n",
       "    .dataframe tbody tr th {\n",
       "        vertical-align: top;\n",
       "    }\n",
       "\n",
       "    .dataframe thead th {\n",
       "        text-align: right;\n",
       "    }\n",
       "</style>\n",
       "<table border=\"1\" class=\"dataframe\">\n",
       "  <thead>\n",
       "    <tr style=\"text-align: right;\">\n",
       "      <th></th>\n",
       "      <th>A</th>\n",
       "      <th>B</th>\n",
       "      <th>C</th>\n",
       "      <th>D</th>\n",
       "      <th>E</th>\n",
       "      <th>HOSPITAL_EXPIRE_FLAG</th>\n",
       "    </tr>\n",
       "  </thead>\n",
       "  <tbody>\n",
       "    <tr>\n",
       "      <th>5914</th>\n",
       "      <td>-0.509024</td>\n",
       "      <td>1.400578</td>\n",
       "      <td>-0.429175</td>\n",
       "      <td>-1.146044</td>\n",
       "      <td>0.595334</td>\n",
       "      <td>0.0</td>\n",
       "    </tr>\n",
       "    <tr>\n",
       "      <th>15300</th>\n",
       "      <td>-1.335669</td>\n",
       "      <td>9.059504</td>\n",
       "      <td>4.796508</td>\n",
       "      <td>2.372974</td>\n",
       "      <td>-1.071691</td>\n",
       "      <td>0.0</td>\n",
       "    </tr>\n",
       "    <tr>\n",
       "      <th>14619</th>\n",
       "      <td>-1.815785</td>\n",
       "      <td>1.786674</td>\n",
       "      <td>-1.019646</td>\n",
       "      <td>0.419561</td>\n",
       "      <td>1.792177</td>\n",
       "      <td>0.0</td>\n",
       "    </tr>\n",
       "    <tr>\n",
       "      <th>15138</th>\n",
       "      <td>-3.696765</td>\n",
       "      <td>26.618635</td>\n",
       "      <td>15.695990</td>\n",
       "      <td>7.166551</td>\n",
       "      <td>0.913325</td>\n",
       "      <td>0.0</td>\n",
       "    </tr>\n",
       "    <tr>\n",
       "      <th>13819</th>\n",
       "      <td>-0.694486</td>\n",
       "      <td>2.839786</td>\n",
       "      <td>0.334169</td>\n",
       "      <td>-0.612068</td>\n",
       "      <td>-1.576407</td>\n",
       "      <td>0.0</td>\n",
       "    </tr>\n",
       "  </tbody>\n",
       "</table>\n",
       "</div>"
      ],
      "text/plain": [
       "              A          B          C         D         E  \\\n",
       "5914  -0.509024   1.400578  -0.429175 -1.146044  0.595334   \n",
       "15300 -1.335669   9.059504   4.796508  2.372974 -1.071691   \n",
       "14619 -1.815785   1.786674  -1.019646  0.419561  1.792177   \n",
       "15138 -3.696765  26.618635  15.695990  7.166551  0.913325   \n",
       "13819 -0.694486   2.839786   0.334169 -0.612068 -1.576407   \n",
       "\n",
       "       HOSPITAL_EXPIRE_FLAG  \n",
       "5914                    0.0  \n",
       "15300                   0.0  \n",
       "14619                   0.0  \n",
       "15138                   0.0  \n",
       "13819                   0.0  "
      ]
     },
     "execution_count": 221,
     "metadata": {},
     "output_type": "execute_result"
    }
   ],
   "source": [
    "Z_5000.head()"
   ]
  },
  {
   "cell_type": "code",
   "execution_count": 222,
   "metadata": {},
   "outputs": [
    {
     "data": {
      "text/html": [
       "<div>\n",
       "<style scoped>\n",
       "    .dataframe tbody tr th:only-of-type {\n",
       "        vertical-align: middle;\n",
       "    }\n",
       "\n",
       "    .dataframe tbody tr th {\n",
       "        vertical-align: top;\n",
       "    }\n",
       "\n",
       "    .dataframe thead th {\n",
       "        text-align: right;\n",
       "    }\n",
       "</style>\n",
       "<table border=\"1\" class=\"dataframe\">\n",
       "  <thead>\n",
       "    <tr style=\"text-align: right;\">\n",
       "      <th></th>\n",
       "      <th>0</th>\n",
       "    </tr>\n",
       "  </thead>\n",
       "  <tbody>\n",
       "    <tr>\n",
       "      <th>0</th>\n",
       "      <td>218</td>\n",
       "    </tr>\n",
       "    <tr>\n",
       "      <th>1</th>\n",
       "      <td>9</td>\n",
       "    </tr>\n",
       "    <tr>\n",
       "      <th>2</th>\n",
       "      <td>86</td>\n",
       "    </tr>\n",
       "    <tr>\n",
       "      <th>3</th>\n",
       "      <td>247</td>\n",
       "    </tr>\n",
       "    <tr>\n",
       "      <th>4</th>\n",
       "      <td>30</td>\n",
       "    </tr>\n",
       "  </tbody>\n",
       "</table>\n",
       "</div>"
      ],
      "text/plain": [
       "     0\n",
       "0  218\n",
       "1    9\n",
       "2   86\n",
       "3  247\n",
       "4   30"
      ]
     },
     "execution_count": 222,
     "metadata": {},
     "output_type": "execute_result"
    }
   ],
   "source": [
    "pd.DataFrame(cluster_labels).head()"
   ]
  },
  {
   "cell_type": "code",
   "execution_count": 223,
   "metadata": {},
   "outputs": [],
   "source": [
    "Z_5000_index = Z_5000.index\n",
    "cluster_labels = pd.DataFrame(cluster_labels)\n",
    "cluster_labels.index = Z_5000_index"
   ]
  },
  {
   "cell_type": "code",
   "execution_count": 225,
   "metadata": {},
   "outputs": [],
   "source": [
    "df3_merged = pd.merge(Z_5000, cluster_labels, left_index=True, right_index=True)"
   ]
  },
  {
   "cell_type": "code",
   "execution_count": 226,
   "metadata": {},
   "outputs": [
    {
     "data": {
      "text/html": [
       "<div>\n",
       "<style scoped>\n",
       "    .dataframe tbody tr th:only-of-type {\n",
       "        vertical-align: middle;\n",
       "    }\n",
       "\n",
       "    .dataframe tbody tr th {\n",
       "        vertical-align: top;\n",
       "    }\n",
       "\n",
       "    .dataframe thead th {\n",
       "        text-align: right;\n",
       "    }\n",
       "</style>\n",
       "<table border=\"1\" class=\"dataframe\">\n",
       "  <thead>\n",
       "    <tr style=\"text-align: right;\">\n",
       "      <th></th>\n",
       "      <th>A</th>\n",
       "      <th>B</th>\n",
       "      <th>C</th>\n",
       "      <th>D</th>\n",
       "      <th>E</th>\n",
       "      <th>HOSPITAL_EXPIRE_FLAG</th>\n",
       "      <th>0</th>\n",
       "    </tr>\n",
       "  </thead>\n",
       "  <tbody>\n",
       "    <tr>\n",
       "      <th>5914</th>\n",
       "      <td>-0.509024</td>\n",
       "      <td>1.400578</td>\n",
       "      <td>-0.429175</td>\n",
       "      <td>-1.146044</td>\n",
       "      <td>0.595334</td>\n",
       "      <td>0.0</td>\n",
       "      <td>218</td>\n",
       "    </tr>\n",
       "    <tr>\n",
       "      <th>15300</th>\n",
       "      <td>-1.335669</td>\n",
       "      <td>9.059504</td>\n",
       "      <td>4.796508</td>\n",
       "      <td>2.372974</td>\n",
       "      <td>-1.071691</td>\n",
       "      <td>0.0</td>\n",
       "      <td>9</td>\n",
       "    </tr>\n",
       "    <tr>\n",
       "      <th>14619</th>\n",
       "      <td>-1.815785</td>\n",
       "      <td>1.786674</td>\n",
       "      <td>-1.019646</td>\n",
       "      <td>0.419561</td>\n",
       "      <td>1.792177</td>\n",
       "      <td>0.0</td>\n",
       "      <td>86</td>\n",
       "    </tr>\n",
       "    <tr>\n",
       "      <th>15138</th>\n",
       "      <td>-3.696765</td>\n",
       "      <td>26.618635</td>\n",
       "      <td>15.695990</td>\n",
       "      <td>7.166551</td>\n",
       "      <td>0.913325</td>\n",
       "      <td>0.0</td>\n",
       "      <td>247</td>\n",
       "    </tr>\n",
       "    <tr>\n",
       "      <th>13819</th>\n",
       "      <td>-0.694486</td>\n",
       "      <td>2.839786</td>\n",
       "      <td>0.334169</td>\n",
       "      <td>-0.612068</td>\n",
       "      <td>-1.576407</td>\n",
       "      <td>0.0</td>\n",
       "      <td>30</td>\n",
       "    </tr>\n",
       "  </tbody>\n",
       "</table>\n",
       "</div>"
      ],
      "text/plain": [
       "              A          B          C         D         E  \\\n",
       "5914  -0.509024   1.400578  -0.429175 -1.146044  0.595334   \n",
       "15300 -1.335669   9.059504   4.796508  2.372974 -1.071691   \n",
       "14619 -1.815785   1.786674  -1.019646  0.419561  1.792177   \n",
       "15138 -3.696765  26.618635  15.695990  7.166551  0.913325   \n",
       "13819 -0.694486   2.839786   0.334169 -0.612068 -1.576407   \n",
       "\n",
       "       HOSPITAL_EXPIRE_FLAG    0  \n",
       "5914                    0.0  218  \n",
       "15300                   0.0    9  \n",
       "14619                   0.0   86  \n",
       "15138                   0.0  247  \n",
       "13819                   0.0   30  "
      ]
     },
     "execution_count": 226,
     "metadata": {},
     "output_type": "execute_result"
    }
   ],
   "source": [
    "df3_merged.head()"
   ]
  },
  {
   "cell_type": "code",
   "execution_count": 227,
   "metadata": {},
   "outputs": [],
   "source": [
    "df3_merged.columns = ['A', 'B', 'C', 'D', 'E', 'HOSPITAL_EXPIRE_FLAG', 'cluster']"
   ]
  },
  {
   "cell_type": "code",
   "execution_count": 228,
   "metadata": {},
   "outputs": [],
   "source": [
    "# we introduce clusters as dummies\n",
    "df3_merged = pd.get_dummies(df3_merged, columns=['cluster'],drop_first=True)"
   ]
  },
  {
   "cell_type": "code",
   "execution_count": 229,
   "metadata": {},
   "outputs": [
    {
     "data": {
      "text/plain": [
       "(4522, 259)"
      ]
     },
     "execution_count": 229,
     "metadata": {},
     "output_type": "execute_result"
    }
   ],
   "source": [
    "# we check the shape to see if the dummies were properly introduced\n",
    "df3_merged.shape"
   ]
  },
  {
   "cell_type": "code",
   "execution_count": 230,
   "metadata": {},
   "outputs": [
    {
     "name": "stdout",
     "output_type": "stream",
     "text": [
      "0.898191560616209\n"
     ]
    }
   ],
   "source": [
    "#assigning featurs and labels\n",
    "\n",
    "X = df3_merged.drop(['HOSPITAL_EXPIRE_FLAG'], axis=1)\n",
    "y_flag =  Z_5000[['HOSPITAL_EXPIRE_FLAG']]\n",
    "\n",
    "X_train, X_test, y_train, y_test = train_test_split(X, np.ravel(y_flag), test_size=0.33, random_state=42)\n",
    "\n",
    "# fit the model\n",
    "model = RandomForestClassifier(random_state=1)\n",
    "model.fit(X_train, y_train)\n",
    "# make predictions\n",
    "yhat = model.predict(X_test)\n",
    "# evaluate predictions\n",
    "acc = accuracy_score(y_test, yhat)\n",
    "print(acc)"
   ]
  },
  {
   "cell_type": "markdown",
   "metadata": {},
   "source": [
    "Accuracy dropped a bit when we included clustering from 0.900 to 0.898."
   ]
  },
  {
   "cell_type": "markdown",
   "metadata": {},
   "source": [
    "*I think that adding clusters does not help improve the accuracy of my models. So I won't be doing them in the next part. Instead, I will just explore the different clustering methods.*"
   ]
  },
  {
   "cell_type": "markdown",
   "metadata": {},
   "source": [
    "# Mean-shift"
   ]
  },
  {
   "cell_type": "markdown",
   "metadata": {},
   "source": [
    "Mean-shift clustering \"aims to discover blobs in a smooth density of samples. It is a centroid based algorithm, which works by updating candidates for centroids to be the mean of the points within a given region.\" Source: https://scikit-learn.org/stable/modules/clustering.html#mean-shift\n",
    "\n",
    "In this way, I think it's very similar to K-Means but we do not have to define k beforehand."
   ]
  },
  {
   "cell_type": "code",
   "execution_count": 231,
   "metadata": {},
   "outputs": [
    {
     "name": "stdout",
     "output_type": "stream",
     "text": [
      "number of estimated clusters : 146\n"
     ]
    }
   ],
   "source": [
    "# Compute clustering with MeanShift\n",
    "from sklearn.cluster import MeanShift\n",
    "from sklearn.cluster import estimate_bandwidth\n",
    "\n",
    "# The following bandwidth can be automatically detected using\n",
    "#bandwidth = estimate_bandwidth(Z, quantile=0.2, n_samples=500)\n",
    "\n",
    "#ms = MeanShift(bandwidth=bandwidth, bin_seeding=True)\n",
    "ms = MeanShift(bin_seeding=True)\n",
    "ms.fit(Z)\n",
    "labels = ms.labels_\n",
    "cluster_centers = ms.cluster_centers_\n",
    "\n",
    "labels_unique = np.unique(labels)\n",
    "n_clusters_ = len(labels_unique)\n",
    "\n",
    "print(\"number of estimated clusters : %d\" % n_clusters_)"
   ]
  },
  {
   "cell_type": "code",
   "execution_count": 232,
   "metadata": {},
   "outputs": [
    {
     "data": {
      "image/png": "[encoded data removed]",
      "text/plain": [
       "<Figure size 432x288 with 1 Axes>"
      ]
     },
     "metadata": {},
     "output_type": "display_data"
    }
   ],
   "source": [
    "from itertools import cycle\n",
    "\n",
    "plt.figure(1)\n",
    "plt.clf()\n",
    "\n",
    "colors = cycle(\"bgrcmykbgrcmykbgrcmykbgrcmyk\")\n",
    "for k, col in zip(range(n_clusters_), colors):\n",
    "    my_members = labels == k\n",
    "    cluster_center = cluster_centers[k]\n",
    "    plt.plot(Z[0], Z[1], col + \".\")\n",
    "    plt.plot(\n",
    "        cluster_center[0],\n",
    "        cluster_center[1],\n",
    "        \"o\",\n",
    "        markerfacecolor=col,\n",
    "        markeredgecolor=\"k\",\n",
    "        markersize=14,\n",
    "    )\n",
    "plt.title(\"Estimated number of clusters: %d\" % n_clusters_)\n",
    "plt.show()"
   ]
  },
  {
   "cell_type": "markdown",
   "metadata": {},
   "source": [
    "As expected, it did form blobs. But the blobs are not too obvious since there are a lot of them. "
   ]
  },
  {
   "cell_type": "markdown",
   "metadata": {},
   "source": [
    "# Spectral Clustering"
   ]
  },
  {
   "cell_type": "markdown",
   "metadata": {},
   "source": [
    "I used a smaller dataset (Z with 2000 observation) so the computation time would be faster.\n",
    "\n",
    "Currently, this method also requires the number of clusters to be specified in advance but by not specifying n_cluster, it tries to automatically infer the optimal number of k."
   ]
  },
  {
   "cell_type": "code",
   "execution_count": 233,
   "metadata": {},
   "outputs": [
    {
     "name": "stderr",
     "output_type": "stream",
     "text": [
      "C:\\ProgramData\\Anaconda3\\lib\\site-packages\\sklearn\\manifold\\_spectral_embedding.py:245: UserWarning: Graph is not fully connected, spectral embedding may not work as expected.\n",
      "  warnings.warn(\"Graph is not fully connected, spectral embedding\"\n"
     ]
    },
    {
     "data": {
      "text/plain": [
       "<matplotlib.collections.PathCollection at 0x1c3874b0b50>"
      ]
     },
     "execution_count": 233,
     "metadata": {},
     "output_type": "execute_result"
    },
    {
     "data": {
      "image/png": "[encoded data removed]",
      "text/plain": [
       "<Figure size 432x288 with 1 Axes>"
      ]
     },
     "metadata": {},
     "output_type": "display_data"
    }
   ],
   "source": [
    "from sklearn.cluster import SpectralClustering\n",
    "\n",
    "dbc = SpectralClustering(# if removing n_cluster, it will try to automatically infer best number\n",
    "        assign_labels=\"discretize\",\n",
    "        random_state=SEED)\n",
    "# \"discretize\" strategy is 100% reproducible, but tends to create parcels of fairly even and geometrical shape\n",
    "\n",
    "predicted=dbc.fit_predict(transformed_flag_no_flag)\n",
    "\n",
    "# Plot dataset with clusters\n",
    "plt.scatter(transformed_flag_no_flag[0],transformed_flag_no_flag[1],c=predicted, cmap='rainbow')"
   ]
  },
  {
   "cell_type": "code",
   "execution_count": 234,
   "metadata": {},
   "outputs": [
    {
     "data": {
      "text/plain": [
       "7"
      ]
     },
     "execution_count": 234,
     "metadata": {},
     "output_type": "execute_result"
    }
   ],
   "source": [
    "len(pd.Series(predicted).unique())"
   ]
  },
  {
   "cell_type": "markdown",
   "metadata": {},
   "source": [
    "# DBSCAN"
   ]
  },
  {
   "cell_type": "code",
   "execution_count": 235,
   "metadata": {},
   "outputs": [
    {
     "data": {
      "text/plain": [
       "<matplotlib.collections.PathCollection at 0x1c387501910>"
      ]
     },
     "execution_count": 235,
     "metadata": {},
     "output_type": "execute_result"
    },
    {
     "data": {
      "image/png": "[encoded data removed]",
      "text/plain": [
       "<Figure size 432x288 with 1 Axes>"
      ]
     },
     "metadata": {},
     "output_type": "display_data"
    }
   ],
   "source": [
    "from sklearn.cluster import DBSCAN\n",
    "\n",
    "# define the model\n",
    "#model = DBSCAN() # using default values eps=0.5, min_samples=5...\n",
    "model= DBSCAN(eps=0.90, min_samples=10)# alternative\n",
    "\n",
    "predicted=model.fit_predict(Z)\n",
    "\n",
    "# Plot dataset with clusters\n",
    "plt.scatter(Z[0],Z[1],c=predicted, cmap='rainbow')"
   ]
  },
  {
   "cell_type": "code",
   "execution_count": 236,
   "metadata": {},
   "outputs": [
    {
     "name": "stdout",
     "output_type": "stream",
     "text": [
      "[0 0 0 ... 0 0 0]\n"
     ]
    }
   ],
   "source": [
    "print(predicted)\n",
    "predicted = pd.DataFrame(predicted)"
   ]
  },
  {
   "cell_type": "code",
   "execution_count": 237,
   "metadata": {},
   "outputs": [],
   "source": [
    "Z_db = np.concatenate([Z, predicted], axis=1)\n",
    "Z_db = pd.DataFrame(Z_db)\n",
    "Z_db.columns = [0,1,2,3,4,'cluster']"
   ]
  },
  {
   "cell_type": "code",
   "execution_count": 238,
   "metadata": {},
   "outputs": [],
   "source": [
    "Z_db = Z_db[Z_db.cluster != -1] # we drop observations that are noise"
   ]
  },
  {
   "cell_type": "code",
   "execution_count": 239,
   "metadata": {},
   "outputs": [
    {
     "data": {
      "text/html": [
       "<div>\n",
       "<style scoped>\n",
       "    .dataframe tbody tr th:only-of-type {\n",
       "        vertical-align: middle;\n",
       "    }\n",
       "\n",
       "    .dataframe tbody tr th {\n",
       "        vertical-align: top;\n",
       "    }\n",
       "\n",
       "    .dataframe thead th {\n",
       "        text-align: right;\n",
       "    }\n",
       "</style>\n",
       "<table border=\"1\" class=\"dataframe\">\n",
       "  <thead>\n",
       "    <tr style=\"text-align: right;\">\n",
       "      <th></th>\n",
       "      <th>0</th>\n",
       "      <th>1</th>\n",
       "      <th>2</th>\n",
       "      <th>3</th>\n",
       "      <th>4</th>\n",
       "      <th>cluster</th>\n",
       "    </tr>\n",
       "  </thead>\n",
       "  <tbody>\n",
       "    <tr>\n",
       "      <th>0</th>\n",
       "      <td>-1.368005</td>\n",
       "      <td>2.078462</td>\n",
       "      <td>-1.418680</td>\n",
       "      <td>-3.370455</td>\n",
       "      <td>0.725825</td>\n",
       "      <td>0.0</td>\n",
       "    </tr>\n",
       "    <tr>\n",
       "      <th>1</th>\n",
       "      <td>-1.053785</td>\n",
       "      <td>0.794664</td>\n",
       "      <td>-0.223040</td>\n",
       "      <td>-0.725517</td>\n",
       "      <td>0.155901</td>\n",
       "      <td>0.0</td>\n",
       "    </tr>\n",
       "    <tr>\n",
       "      <th>2</th>\n",
       "      <td>-1.897780</td>\n",
       "      <td>1.708334</td>\n",
       "      <td>-2.313907</td>\n",
       "      <td>0.634208</td>\n",
       "      <td>1.204102</td>\n",
       "      <td>0.0</td>\n",
       "    </tr>\n",
       "    <tr>\n",
       "      <th>4</th>\n",
       "      <td>-1.287072</td>\n",
       "      <td>2.586002</td>\n",
       "      <td>1.135236</td>\n",
       "      <td>0.918652</td>\n",
       "      <td>0.212668</td>\n",
       "      <td>0.0</td>\n",
       "    </tr>\n",
       "    <tr>\n",
       "      <th>5</th>\n",
       "      <td>-0.436768</td>\n",
       "      <td>0.321578</td>\n",
       "      <td>-0.089806</td>\n",
       "      <td>-0.078949</td>\n",
       "      <td>0.129232</td>\n",
       "      <td>0.0</td>\n",
       "    </tr>\n",
       "  </tbody>\n",
       "</table>\n",
       "</div>"
      ],
      "text/plain": [
       "          0         1         2         3         4  cluster\n",
       "0 -1.368005  2.078462 -1.418680 -3.370455  0.725825      0.0\n",
       "1 -1.053785  0.794664 -0.223040 -0.725517  0.155901      0.0\n",
       "2 -1.897780  1.708334 -2.313907  0.634208  1.204102      0.0\n",
       "4 -1.287072  2.586002  1.135236  0.918652  0.212668      0.0\n",
       "5 -0.436768  0.321578 -0.089806 -0.078949  0.129232      0.0"
      ]
     },
     "execution_count": 239,
     "metadata": {},
     "output_type": "execute_result"
    }
   ],
   "source": [
    "Z_db.head()"
   ]
  },
  {
   "cell_type": "code",
   "execution_count": 240,
   "metadata": {},
   "outputs": [
    {
     "data": {
      "text/plain": [
       "(13101, 6)"
      ]
     },
     "execution_count": 240,
     "metadata": {},
     "output_type": "execute_result"
    }
   ],
   "source": [
    "Z_db.shape # we removed 16573-11089 = 5,484 noise observations"
   ]
  },
  {
   "cell_type": "code",
   "execution_count": 241,
   "metadata": {},
   "outputs": [
    {
     "name": "stdout",
     "output_type": "stream",
     "text": [
      "6\n"
     ]
    }
   ],
   "source": [
    "print(len(pd.unique(Z_db['cluster'])))"
   ]
  },
  {
   "cell_type": "code",
   "execution_count": 242,
   "metadata": {},
   "outputs": [
    {
     "name": "stdout",
     "output_type": "stream",
     "text": [
      "0.0    12990\n",
      "2.0       63\n",
      "1.0       25\n",
      "4.0       10\n",
      "5.0        7\n",
      "3.0        6\n",
      "Name: cluster, dtype: int64\n"
     ]
    },
    {
     "data": {
      "text/plain": [
       "<AxesSubplot:>"
      ]
     },
     "execution_count": 242,
     "metadata": {},
     "output_type": "execute_result"
    },
    {
     "data": {
      "image/png": "[encoded data removed]",
      "text/plain": [
       "<Figure size 432x288 with 1 Axes>"
      ]
     },
     "metadata": {},
     "output_type": "display_data"
    }
   ],
   "source": [
    "print(Z_db.cluster.value_counts())\n",
    "Z_db.cluster.value_counts().plot(kind=\"bar\")"
   ]
  },
  {
   "cell_type": "markdown",
   "metadata": {},
   "source": [
    "As we can observe, most observations are lumped into one cluster."
   ]
  },
  {
   "cell_type": "markdown",
   "metadata": {},
   "source": [
    "# OPTICS"
   ]
  },
  {
   "cell_type": "markdown",
   "metadata": {},
   "source": [
    "According to the sklearn documentation, \"OPTICS (Ordering Points To Identify the Clustering Structure), closely related to DBSCAN, finds core sample of high density and expands clusters from them. Unlike DBSCAN, keeps cluster hierarchy for a variable neighborhood radius. Better suited for usage on large datasets than the current sklearn implementation of DBSCAN.\""
   ]
  },
  {
   "cell_type": "code",
   "execution_count": 243,
   "metadata": {},
   "outputs": [],
   "source": [
    "from sklearn.cluster import OPTICS\n",
    "\n",
    "clustering = OPTICS(min_samples=2).fit(Z)\n",
    "cluster_optics = clustering.labels_"
   ]
  },
  {
   "cell_type": "code",
   "execution_count": 244,
   "metadata": {},
   "outputs": [
    {
     "data": {
      "text/plain": [
       "<matplotlib.collections.PathCollection at 0x1c3875bbc10>"
      ]
     },
     "execution_count": 244,
     "metadata": {},
     "output_type": "execute_result"
    },
    {
     "data": {
      "image/png": "[encoded data removed]",
      "text/plain": [
       "<Figure size 432x288 with 1 Axes>"
      ]
     },
     "metadata": {},
     "output_type": "display_data"
    }
   ],
   "source": [
    "plt.scatter(Z[0],Z[1],c=cluster_optics ,cmap='rainbow')"
   ]
  },
  {
   "cell_type": "code",
   "execution_count": 245,
   "metadata": {},
   "outputs": [
    {
     "data": {
      "text/plain": [
       "3725"
      ]
     },
     "execution_count": 245,
     "metadata": {},
     "output_type": "execute_result"
    }
   ],
   "source": [
    "len(pd.Series(cluster_optics).unique())"
   ]
  },
  {
   "cell_type": "markdown",
   "metadata": {},
   "source": [
    "# BIRCH"
   ]
  },
  {
   "cell_type": "markdown",
   "metadata": {},
   "source": [
    "Balanced Iterative Reducing and Clustering using Hierarchies\n",
    "\n",
    "According to the sklearn website, \"BIRCH does not scale very well to high dimensional data. As a rule of thumb if n_features is greater than twenty, it is generally better to use MiniBatchKMeans.\"\n",
    "\n",
    "\"If the number of instances of data needs to be reduced, or if one wants a large number of subclusters either as a preprocessing step or otherwise, BIRCH is more useful than MiniBatchKMeans.\""
   ]
  },
  {
   "cell_type": "code",
   "execution_count": 246,
   "metadata": {},
   "outputs": [
    {
     "data": {
      "text/plain": [
       "<matplotlib.collections.PathCollection at 0x1c38d31d940>"
      ]
     },
     "execution_count": 246,
     "metadata": {},
     "output_type": "execute_result"
    },
    {
     "data": {
      "image/png": "[encoded data removed]",
      "text/plain": [
       "<Figure size 432x288 with 1 Axes>"
      ]
     },
     "metadata": {},
     "output_type": "display_data"
    }
   ],
   "source": [
    "from sklearn.cluster import Birch\n",
    "\n",
    "birch_model = Birch(branching_factor=100,threshold=0.5,n_clusters=4)\n",
    "birch_model.fit(Z)\n",
    "\n",
    "Birch(branching_factor=100, compute_labels=True, copy=True, n_clusters=4,\n",
    "      threshold=0.5)\n",
    "y_clus_bch = birch_model.predict(Z)\n",
    "plt.scatter(Z[0],Z[1],c=birch_model.labels_,cmap='rainbow')"
   ]
  },
  {
   "cell_type": "code",
   "execution_count": 247,
   "metadata": {},
   "outputs": [
    {
     "data": {
      "text/plain": [
       "4"
      ]
     },
     "execution_count": 247,
     "metadata": {},
     "output_type": "execute_result"
    }
   ],
   "source": [
    "len(pd.Series(y_clus_bch).unique())"
   ]
  },
  {
   "cell_type": "markdown",
   "metadata": {},
   "source": [
    "# Final thoughts"
   ]
  },
  {
   "cell_type": "markdown",
   "metadata": {},
   "source": [
    "In conclusion, which clustering method we are to use depends on many factors such as the geometry metric to be used one prefers, the dimensionality of the data, computation time concerns, whether one wants high number of clusters or not whether one want to filter out noise or not, etc. The number of cluters may differ siginificantly based on different clustering methods. \n",
    "\n",
    "Further, SVD and PCA are truly helpful in lessening computational time and improving data visualization. However, since the values are not directly interpretable, it is difficult for me to interpret the clusters I've made. Adding clusters to the dataframe do not improve the performance of my classification models."
   ]
  },
  {
   "cell_type": "markdown",
   "metadata": {},
   "source": [
    "From our clustering from K-means ealier, we calculate the proprotion of who died per cluster."
   ]
  },
  {
   "cell_type": "code",
   "execution_count": 267,
   "metadata": {},
   "outputs": [
    {
     "data": {
      "text/plain": [
       "array([0, 0, 0, ..., 0, 0, 0])"
      ]
     },
     "execution_count": 267,
     "metadata": {},
     "output_type": "execute_result"
    }
   ],
   "source": [
    "# k=2\n",
    "\n",
    "#fitting the model\n",
    "SEED=2305\n",
    "km = KMeans(n_clusters=2)\n",
    "y_predicted = km.fit_predict(transformed)\n",
    "y_predicted"
   ]
  },
  {
   "cell_type": "code",
   "execution_count": 268,
   "metadata": {},
   "outputs": [],
   "source": [
    "prob_death_df_1 = pd.concat([response['HOSPITAL_EXPIRE_FLAG'], pd.DataFrame(y_predicted)], axis=1)"
   ]
  },
  {
   "cell_type": "code",
   "execution_count": 269,
   "metadata": {},
   "outputs": [],
   "source": [
    "prob_death_df_1.columns = ['HOSPITAL_EXPIRE_FLAG', 'cluster']"
   ]
  },
  {
   "cell_type": "code",
   "execution_count": 270,
   "metadata": {},
   "outputs": [
    {
     "data": {
      "text/html": [
       "<div>\n",
       "<style scoped>\n",
       "    .dataframe tbody tr th:only-of-type {\n",
       "        vertical-align: middle;\n",
       "    }\n",
       "\n",
       "    .dataframe tbody tr th {\n",
       "        vertical-align: top;\n",
       "    }\n",
       "\n",
       "    .dataframe thead th {\n",
       "        text-align: right;\n",
       "    }\n",
       "</style>\n",
       "<table border=\"1\" class=\"dataframe\">\n",
       "  <thead>\n",
       "    <tr style=\"text-align: right;\">\n",
       "      <th></th>\n",
       "      <th>HOSPITAL_EXPIRE_FLAG</th>\n",
       "      <th>cluster</th>\n",
       "    </tr>\n",
       "  </thead>\n",
       "  <tbody>\n",
       "    <tr>\n",
       "      <th>0</th>\n",
       "      <td>0.0</td>\n",
       "      <td>0.0</td>\n",
       "    </tr>\n",
       "    <tr>\n",
       "      <th>1</th>\n",
       "      <td>0.0</td>\n",
       "      <td>0.0</td>\n",
       "    </tr>\n",
       "    <tr>\n",
       "      <th>2</th>\n",
       "      <td>0.0</td>\n",
       "      <td>0.0</td>\n",
       "    </tr>\n",
       "    <tr>\n",
       "      <th>3</th>\n",
       "      <td>0.0</td>\n",
       "      <td>0.0</td>\n",
       "    </tr>\n",
       "    <tr>\n",
       "      <th>4</th>\n",
       "      <td>0.0</td>\n",
       "      <td>0.0</td>\n",
       "    </tr>\n",
       "  </tbody>\n",
       "</table>\n",
       "</div>"
      ],
      "text/plain": [
       "   HOSPITAL_EXPIRE_FLAG  cluster\n",
       "0                   0.0      0.0\n",
       "1                   0.0      0.0\n",
       "2                   0.0      0.0\n",
       "3                   0.0      0.0\n",
       "4                   0.0      0.0"
      ]
     },
     "execution_count": 270,
     "metadata": {},
     "output_type": "execute_result"
    }
   ],
   "source": [
    "prob_death_df_1.head()"
   ]
  },
  {
   "cell_type": "code",
   "execution_count": 275,
   "metadata": {},
   "outputs": [
    {
     "data": {
      "text/plain": [
       "<AxesSubplot:xlabel='cluster', ylabel='HOSPITAL_EXPIRE_FLAG'>"
      ]
     },
     "execution_count": 275,
     "metadata": {},
     "output_type": "execute_result"
    },
    {
     "data": {
      "image/png": "[encoded data removed]",
      "text/plain": [
       "<Figure size 432x288 with 1 Axes>"
      ]
     },
     "metadata": {},
     "output_type": "display_data"
    }
   ],
   "source": [
    "sns.barplot(x='cluster', y='HOSPITAL_EXPIRE_FLAG', data=prob_death_df_1, estimator=lambda x: sum(x==1)*100.0/len(x))"
   ]
  },
  {
   "cell_type": "markdown",
   "metadata": {},
   "source": [
    "Same chances of dying whether one belongs to cluster 0 or 1."
   ]
  },
  {
   "cell_type": "markdown",
   "metadata": {},
   "source": [
    "Let's try one more time from the clusters we got from agglomerative clustering."
   ]
  },
  {
   "cell_type": "code",
   "execution_count": 272,
   "metadata": {},
   "outputs": [],
   "source": [
    "hc = AgglomerativeClustering( affinity = 'euclidean', linkage ='ward', distance_threshold=70, n_clusters=None)\n",
    "\n",
    "predicted=hc.fit_predict(transformed_flag_no_flag)\n",
    "\n",
    "prob_death_df_2 = pd.concat([transformed_flag['HOSPITAL_EXPIRE_FLAG'], pd.DataFrame(y_predicted)], axis=1)"
   ]
  },
  {
   "cell_type": "code",
   "execution_count": 273,
   "metadata": {},
   "outputs": [],
   "source": [
    "prob_death_df_2.columns = ['HOSPITAL_EXPIRE_FLAG', 'cluster']"
   ]
  },
  {
   "cell_type": "code",
   "execution_count": 276,
   "metadata": {},
   "outputs": [
    {
     "data": {
      "text/plain": [
       "<AxesSubplot:xlabel='cluster', ylabel='HOSPITAL_EXPIRE_FLAG'>"
      ]
     },
     "execution_count": 276,
     "metadata": {},
     "output_type": "execute_result"
    },
    {
     "data": {
      "image/png": "[encoded data removed]",
      "text/plain": [
       "<Figure size 432x288 with 1 Axes>"
      ]
     },
     "metadata": {},
     "output_type": "display_data"
    }
   ],
   "source": [
    "sns.barplot(x='cluster', y='HOSPITAL_EXPIRE_FLAG', data=prob_death_df_2, estimator=lambda x: sum(x==1)*100.0/len(x))"
   ]
  },
  {
   "cell_type": "markdown",
   "metadata": {},
   "source": [
    "For what we got from agglomerative clustering, if one belonged to cluster 1, it is very likely that he/she did not die."
   ]
  }
 ],
 "metadata": {
  "colab": {
   "name": "Copy of Final In-class_Unsupervised_template.ipynb",
   "provenance": []
  },
  "kernelspec": {
   "display_name": "Python 3",
   "language": "python",
   "name": "python3"
  },
  "language_info": {
   "codemirror_mode": {
    "name": "ipython",
    "version": 3
   },
   "file_extension": ".py",
   "mimetype": "text/x-python",
   "name": "python",
   "nbconvert_exporter": "python",
   "pygments_lexer": "ipython3",
   "version": "3.8.8"
  },
  "toc": {
   "base_numbering": 1,
   "nav_menu": {},
   "number_sections": false,
   "sideBar": true,
   "skip_h1_title": false,
   "title_cell": "Table of Contents",
   "title_sidebar": "Contents",
   "toc_cell": false,
   "toc_position": {
    "height": "calc(100% - 180px)",
    "left": "10px",
    "top": "150px",
    "width": "284.438px"
   },
   "toc_section_display": true,
   "toc_window_display": true
  }
 },
 "nbformat": 4,
 "nbformat_minor": 1
}
